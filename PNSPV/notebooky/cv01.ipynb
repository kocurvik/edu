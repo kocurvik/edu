{
  "nbformat": 4,
  "nbformat_minor": 0,
  "metadata": {
    "colab": {
      "name": "cv01.ipynb",
      "provenance": [],
      "collapsed_sections": [
        "62IrWXs2tLPF",
        "Da3UbtAGFKeh",
        "f1AAdndHDexq",
        "2vxxRs6XHOQC",
        "Wym2gAwtKkwv"
      ],
      "toc_visible": true,
      "include_colab_link": true
    },
    "kernelspec": {
      "name": "python3",
      "display_name": "Python 3"
    }
  },
  "cells": [
    {
      "cell_type": "markdown",
      "metadata": {
        "id": "view-in-github",
        "colab_type": "text"
      },
      "source": [
        "<a href=\"https://colab.research.google.com/github/kocurvik/edu/blob/master/PNNPPV/notebooky/cv01.ipynb\" target=\"_parent\"><img src=\"https://colab.research.google.com/assets/colab-badge.svg\" alt=\"Open In Colab\"/></a>"
      ]
    },
    {
      "cell_type": "markdown",
      "metadata": {
        "id": "NtnZ03uJJ7I7",
        "colab_type": "text"
      },
      "source": [
        "# **1. cvičenie** - Google Colab, Základy NumPy, Základná manipulácia s obrazom v OpenCV\n",
        "\n",
        "V tomto notebooku si ukážeme ako pracovať v Google Colab, s tenzormi v NumPy a základnú manipuláciu s obrazom pomocou OpenCV."
      ]
    },
    {
      "cell_type": "markdown",
      "metadata": {
        "id": "liIqeL0nKsvN",
        "colab_type": "text"
      },
      "source": [
        "## Google Colab\n",
        "\n",
        "Google Colab (http://colab.research.google.com) je nespoplatnená služba na ktorej je možné spúštať tzv. ipython noteboky. Služba poskytuje k dispozícii aj výpočty na GPU a CPU. Pre využitie tejto služby je nutné mať Google účet. Tieto notebooky môžeme spúšťať aj lokálne pomocou príkazu `jupyter notebook` v zložke kde máme uložené ipynb súbory.\n",
        "\n",
        "V notebookoch máme dva druhy buniek. Textové, ako napr. tento a kód. Bunky s kódom môžeme spúštať tlačidlom play naľavo od bunky, alebo v prostredí Colab naraz od prvej až po poslednú výberom Runtime -> Run All. Defaultne notebook nemá pripojené GPU, to môžeme zmeniť zavolaním Runtime -> Change runtime type. Bunky majú spoločný scope ale je treba dávať pozor na poradie spúštania jednotlivých buniek. Preto je často vhodné použiť Runtime -> Restart and run all.\n",
        "\n",
        "V nasledujúcej bunke si môžete otestovať spustenie python kódu."
      ]
    },
    {
      "cell_type": "code",
      "metadata": {
        "id": "424nbIp_J0Z3",
        "colab_type": "code",
        "colab": {}
      },
      "source": [
        "a = [5,'Hello']\n",
        "s = '{} World!'\n",
        "print(s.format(a[1]))\n",
        "\n",
        "def najlepsia_funkcia(arg):\n",
        "  return arg + 5\n",
        "\n",
        "print(najlepsia_funkcia(8))"
      ],
      "execution_count": 0,
      "outputs": []
    },
    {
      "cell_type": "markdown",
      "metadata": {
        "id": "yCMavlzMNpOL",
        "colab_type": "text"
      },
      "source": [
        "Keď sme v Google Colab chceli by sme mať prístup k súborom. To je najjednoduchšie pomocou pripojenia Google Drive k našej inštancii. To sa robí následovne:\n",
        "(V Google Drive si vyrobte zložku Colab, alebo upravte na drive)"
      ]
    },
    {
      "cell_type": "code",
      "metadata": {
        "id": "xh_BmJNtPBU6",
        "colab_type": "code",
        "colab": {}
      },
      "source": [
        "from google.colab import drive\n",
        "drive.mount('/content/gdrive')\n",
        "root_path = 'gdrive/My Drive/Colab/'"
      ],
      "execution_count": 0,
      "outputs": []
    },
    {
      "cell_type": "markdown",
      "metadata": {
        "id": "K__Gehv1QGY6",
        "colab_type": "text"
      },
      "source": [
        "Môžeme potom k zložke pristupovať."
      ]
    },
    {
      "cell_type": "code",
      "metadata": {
        "id": "6W-0ycWOQmTo",
        "colab_type": "code",
        "colab": {}
      },
      "source": [
        "import os\n",
        "os.listdir(root_path)"
      ],
      "execution_count": 0,
      "outputs": []
    },
    {
      "cell_type": "markdown",
      "metadata": {
        "id": "sDNeHwtTQvji",
        "colab_type": "text"
      },
      "source": [
        "Takisto môžeme volať unixové príkazy pomocou výkričníka."
      ]
    },
    {
      "cell_type": "code",
      "metadata": {
        "id": "G7S_k5yqQz0o",
        "colab_type": "code",
        "colab": {}
      },
      "source": [
        "!pwd\n",
        "!ls\n",
        "!mkdir random_dir\n",
        "!ls\n",
        "!wget https://www.google.com/images/branding/googlelogo/1x/googlelogo_color_272x92dp.png\n",
        "!ls"
      ],
      "execution_count": 0,
      "outputs": []
    },
    {
      "cell_type": "markdown",
      "metadata": {
        "id": "5KFKjuQZNY0S",
        "colab_type": "text"
      },
      "source": [
        "Najpohodlnejšia možnosť je použiť inferface naľovo a pozrieť si záložku Files\n",
        "\n",
        "**<----**"
      ]
    },
    {
      "cell_type": "markdown",
      "metadata": {
        "id": "IyiVk1I0Sq0_",
        "colab_type": "text"
      },
      "source": [
        "## NumPy\n",
        "Pri práci s neurónovými sieťami je základnou štruktúrou tzv. tenzor. Tenzor je zobecnenie vektorov a matíc. Vektor je tenzor prvého rádu, matica je tenzor druhého rádu. Tenzor tretieho rádu vieme indexovať navyše ešte jedným indexom. Niekedy sa za rád tensoru označuje aj dimenzia, to je ale mätúce, ale väčšinou je to z kontextu zrejmé. Správne napríklad tenzor rádu 3 má dimenzie 20 x 24 x 6.\n",
        "\n",
        "Podľa konvencie numpy väčšinou importuje ako np. Vektor, teda tenzor prvého rádu, vieme vyrobiť z jednuchého listu. Pomocou np.array. Často je dôležité použiť správny dátový typ to urobíme pomocou argumentu dtype. **Vynechanie tejto časti môže viesť na rôzne komplikácie!**"
      ]
    },
    {
      "cell_type": "code",
      "metadata": {
        "id": "3JU8eIp0T5qs",
        "colab_type": "code",
        "colab": {}
      },
      "source": [
        "import numpy as np\n",
        "\n",
        "a = np.array([3, 2, 3, 4])\n",
        "print(a)\n",
        "b = np.array([1,5,7], dtype=np.float32)\n",
        "print(b)"
      ],
      "execution_count": 0,
      "outputs": []
    },
    {
      "cell_type": "markdown",
      "metadata": {
        "id": "X0Ldg2LCUyyz",
        "colab_type": "text"
      },
      "source": [
        "Maticu vieme vyrobiť z listu listov, ale treba dať pozor aby nám sedeli dĺžky vnútorných listov. Inak sa vytvorí tenzor prvého rádu, ktorý obsahuje listy."
      ]
    },
    {
      "cell_type": "code",
      "metadata": {
        "id": "69MATLghVAhb",
        "colab_type": "code",
        "colab": {}
      },
      "source": [
        "A = np.array([[1,5,8],[50,60,84]])\n",
        "print(A)\n",
        "B = np.array([[7,8],[6,7],[0,9,4]])\n",
        "print(B)"
      ],
      "execution_count": 0,
      "outputs": []
    },
    {
      "cell_type": "markdown",
      "metadata": {
        "id": "YD8CtWcQWGFv",
        "colab_type": "text"
      },
      "source": [
        "Objekt array má metódu shape, ktorá nám umožňuje zistiť jej tvar (teda dimenzie), metódu dtype ktorá vracia typ vnútorných objektov a metódu astype, ktorá vráti tenzor v podľa špecifikovaného typu."
      ]
    },
    {
      "cell_type": "code",
      "metadata": {
        "id": "hC7EtfXBWmIB",
        "colab_type": "code",
        "colab": {}
      },
      "source": [
        "print(a.shape)\n",
        "print(A.shape)\n",
        "print(A.dtype)\n",
        "C = A.astype(np.float32)\n",
        "print(C.dtype)\n"
      ],
      "execution_count": 0,
      "outputs": []
    },
    {
      "cell_type": "markdown",
      "metadata": {
        "id": "XlKW3-r_9s1E",
        "colab_type": "text"
      },
      "source": [
        "Numpy má aj funkcie na tvorenie základných matíc. Tieto príkazy sú np.zeros, np.ones a np.empty."
      ]
    },
    {
      "cell_type": "code",
      "metadata": {
        "id": "n0bdDGaQjuYP",
        "colab_type": "code",
        "colab": {}
      },
      "source": [
        "z = np.zeros([5,10])\n",
        "print(z)\n",
        "o = np.ones([3,4,5])\n",
        "print(o)\n",
        "e = np.empty([6])\n",
        "print(e)"
      ],
      "execution_count": 0,
      "outputs": []
    },
    {
      "cell_type": "markdown",
      "metadata": {
        "id": "FQbG74jFkewe",
        "colab_type": "text"
      },
      "source": [
        "Je možné tvoriť aj náhodné čísla pomocou np.random.random"
      ]
    },
    {
      "cell_type": "code",
      "metadata": {
        "id": "LrMsw30Gk234",
        "colab_type": "code",
        "colab": {}
      },
      "source": [
        "r = np.random.random([6,10,3])\n",
        "print(r)"
      ],
      "execution_count": 0,
      "outputs": []
    },
    {
      "cell_type": "markdown",
      "metadata": {
        "id": "U1vO9XhhlAXg",
        "colab_type": "text"
      },
      "source": [
        "Tieto náhodné čísla použijeme na prácu s indexmi. Indexácia je podobná ako v matlabe, ale platia tu pythonovské konvencie. Indexuje sa viacerými indexmi. Ak sa indexuje menej indexmi, tak sa tie ostatné berú ako :, čo znamená zobartie všetkých prvkov pozdĺž dimenzie."
      ]
    },
    {
      "cell_type": "code",
      "metadata": {
        "id": "oTMiqcZPlwtl",
        "colab_type": "code",
        "colab": {}
      },
      "source": [
        "print(r[3,4,1])\n",
        "print(r[:,:,-1])\n",
        "print(r[:,:,1].shape)\n",
        "print(r[0:4,5:6,:])\n",
        "print(r[0:4,5:6,:].shape)"
      ],
      "execution_count": 0,
      "outputs": []
    },
    {
      "cell_type": "markdown",
      "metadata": {
        "id": "ybA-W90VmNhG",
        "colab_type": "text"
      },
      "source": [
        "Indexovať môžeme aj s preskakovaním jednotlivých prvkov, tzv. slicing. To sa robí pomocou ďalšej dvojbodky. Formát je potom \\[začiatok:koniec:skok\\]. Ak niečo z toho vynecháme, tak žačiatok bude defaultne 0, koniec -1 a skok 1."
      ]
    },
    {
      "cell_type": "code",
      "metadata": {
        "id": "1kmxFdtUmTRE",
        "colab_type": "code",
        "colab": {}
      },
      "source": [
        "p = np.arange(25)\n",
        "print(p)\n",
        "print(p[4:16:2])\n",
        "print(p[2:-4:6])\n",
        "print(p[:10:])\n",
        "print(p[::3])\n",
        "print(p[1::6])\n",
        "print(p[-6:])\n",
        "print(r[1::2,0::3,:])"
      ],
      "execution_count": 0,
      "outputs": []
    },
    {
      "cell_type": "markdown",
      "metadata": {
        "id": "478cxvQtmk9t",
        "colab_type": "text"
      },
      "source": [
        "Pri deep learningu často potrebujeme vytvoriť tzv. singleton dimenziu. To sa dá urobiť pomocou pridania None indexu, alebo viac pythonic spôsobom pomocou np.newaxis."
      ]
    },
    {
      "cell_type": "code",
      "metadata": {
        "id": "IXKkfdNpmy0h",
        "colab_type": "code",
        "colab": {}
      },
      "source": [
        "print(r[None,:,:,:].shape)\n",
        "print(r[None].shape)\n",
        "print(r[np.newaxis,:,:,:].shape)\n",
        "print(r[:,:,:,np.newaxis].shape)\n",
        "print(r[np.newaxis,:,0,:].shape)"
      ],
      "execution_count": 0,
      "outputs": []
    },
    {
      "cell_type": "markdown",
      "metadata": {
        "id": "LK7K0RginLDB",
        "colab_type": "text"
      },
      "source": [
        "Podobne ako v matlabe existuje broadcasting."
      ]
    },
    {
      "cell_type": "code",
      "metadata": {
        "id": "110A-dLgnRaU",
        "colab_type": "code",
        "colab": {}
      },
      "source": [
        "r += 10\n",
        "print(r)\n",
        "r[0,:,:] = np.random.random([10,3])\n",
        "print(r.shape)\n",
        "r[0] = np.random.random([10,3])\n",
        "print(r.shape)\n",
        "r[0] = np.zeros([10,1])\n",
        "print(r.shape)\n",
        "r/=500\n",
        "print(r)"
      ],
      "execution_count": 0,
      "outputs": []
    },
    {
      "cell_type": "markdown",
      "metadata": {
        "id": "-cUMWPBNoFj2",
        "colab_type": "text"
      },
      "source": [
        "Je možné polia pretvarovať pomocou np.reshape(arr, shape)"
      ]
    },
    {
      "cell_type": "code",
      "metadata": {
        "id": "Mn62_4cToQs4",
        "colab_type": "code",
        "colab": {}
      },
      "source": [
        "q = np.reshape(r, [6,30])\n",
        "print(q.shape)"
      ],
      "execution_count": 0,
      "outputs": []
    },
    {
      "cell_type": "markdown",
      "metadata": {
        "id": "uBQ6JlDbo7s2",
        "colab_type": "text"
      },
      "source": [
        "Polia môžeme spájať. Jeden spôsob je pomocou np.concatenate([arr1, arr2, ...], axis = i) t=a spojí arr1, arr2 atď. vedľa seba pozdĺž dimenzie i."
      ]
    },
    {
      "cell_type": "code",
      "metadata": {
        "id": "RFI3H7dbpXse",
        "colab_type": "code",
        "colab": {}
      },
      "source": [
        "a = np.ones([3,4])\n",
        "b = np.zeros([6,4])\n",
        "c = np.concatenate([a,b], axis = 0)\n",
        "print(c)                   "
      ],
      "execution_count": 0,
      "outputs": []
    },
    {
      "cell_type": "markdown",
      "metadata": {
        "id": "xLC59P7fp8iC",
        "colab_type": "text"
      },
      "source": [
        "Iný spôsob je použitie np.stack([arr1, arr2, ...], axis = i) narozdiel od cocatenate sa pri tomto príkaze vytvorí nová dimenzia poďľa hodnoty i."
      ]
    },
    {
      "cell_type": "code",
      "metadata": {
        "id": "Vj6T89BSq4g_",
        "colab_type": "code",
        "colab": {}
      },
      "source": [
        "a = np.ones([6,4,3])\n",
        "b = np.zeros([6,4,3])\n",
        "d = np.stack([a,b], axis = 0)\n",
        "print(d.shape)\n",
        "f = np.stack([a,b], axis = -1)\n",
        "print(f.shape)\n",
        "g = np.stack([a,b], axis = 1)\n",
        "print(g.shape)"
      ],
      "execution_count": 0,
      "outputs": []
    },
    {
      "cell_type": "markdown",
      "metadata": {
        "id": "PH3_y_ThuEwJ",
        "colab_type": "text"
      },
      "source": [
        "Indexovať môžeme aj pomocou podmienok."
      ]
    },
    {
      "cell_type": "code",
      "metadata": {
        "id": "O3j-u9yRuVFk",
        "colab_type": "code",
        "colab": {}
      },
      "source": [
        "r = np.random.random([5,5])\n",
        "print(r)\n",
        "r[r < 0.5] = -500\n",
        "print(r)"
      ],
      "execution_count": 0,
      "outputs": []
    },
    {
      "cell_type": "markdown",
      "metadata": {
        "id": "G9Zqp4-PrLG3",
        "colab_type": "text"
      },
      "source": [
        "Podmienky môžeme použiť aj np.where(cond, a1, a2), ktorá vráti pole ktoré ma na miestach kde je cond splnená hodnoty z a1 a inde hodnoty z a2. Použijeme tu príkaz np.arange(i), ktorý vráti pole podobne ako range z pythonu."
      ]
    },
    {
      "cell_type": "code",
      "metadata": {
        "id": "SBKZaiIttoXs",
        "colab_type": "code",
        "colab": {}
      },
      "source": [
        "a = np.arange(10)\n",
        "print(a)\n",
        "b = np.where(a < 5, a, a**2)\n",
        "print(b)"
      ],
      "execution_count": 0,
      "outputs": []
    },
    {
      "cell_type": "markdown",
      "metadata": {
        "id": "6mEbjH89sAXH",
        "colab_type": "text"
      },
      "source": [
        "### Úloha 1\n",
        "Vytvorte funkciu chessboard(rows, cols), ktorá vráti numpy pole s riadkami rows a stĺpcami cols ktorá bude mať hodnoty 0 a 1 na takých miestach ako sú farby na šachovnici. Môžete použiť slicing, podmienky (zíde sa vám np.mgrid), alebo opakovanie matíc (np.tile)"
      ]
    },
    {
      "cell_type": "code",
      "metadata": {
        "id": "qJGmsNBxstBZ",
        "colab_type": "code",
        "colab": {}
      },
      "source": [
        "def chessboard(rows, cols):\n",
        "  ..."
      ],
      "execution_count": 0,
      "outputs": []
    },
    {
      "cell_type": "code",
      "metadata": {
        "id": "tnMLmXeYM-pz",
        "colab_type": "code",
        "colab": {}
      },
      "source": [
        "print(chessboard(8,8))\n",
        "print(chessboard(5,12))"
      ],
      "execution_count": 0,
      "outputs": []
    },
    {
      "cell_type": "markdown",
      "metadata": {
        "id": "62IrWXs2tLPF",
        "colab_type": "text"
      },
      "source": [
        "### Dokumentácia NumPy\n",
        "Na nasledujúcom cvičení si prejdeme základné operácie lineárnej algebry a štatistiky na tenzoroch z NumPy. Ak by ste si chceli pozrieť viacero príkázov a možností manipulácie, tak si môžete pozrieť dokuemntáciu: https://docs.scipy.org/doc/numpy/"
      ]
    },
    {
      "cell_type": "markdown",
      "metadata": {
        "id": "Ma67w0Sn4fj9",
        "colab_type": "text"
      },
      "source": [
        "## OpenCV\n",
        "\n",
        "OpenCV je knižnica na manipuláciu obrazu. Na predmetoch spracovania obrazu a počítačového videnia používame Matlab na prácu s obrazom. V pythone môžeme použiť na väčšinu týchto operácií OpenCV. Ak by ste chceli použiť OpenCV inde ako v Google Colab môžete si ho nainštalovať cez pip ako balík opencv-python."
      ]
    },
    {
      "cell_type": "code",
      "metadata": {
        "id": "69J98ZrA47Nj",
        "colab_type": "code",
        "colab": {}
      },
      "source": [
        "import cv2"
      ],
      "execution_count": 0,
      "outputs": []
    },
    {
      "cell_type": "markdown",
      "metadata": {
        "id": "p1VIsIaW5JMc",
        "colab_type": "text"
      },
      "source": [
        "Načítanie obrazu je v OpenCV jednoduché. Načítame si obrázok, ktorý sme stiahli cez v úvodnej časti cvičenia. Vidíme, že tento obrázok je NumPy pole. S rozmermi šírka x výška x 3. Posledný kanál reprezentuje tri RGB zložky. Máme teda tri matice a z nich každá intenzitu jednej z troch zložiek. Je treba si uvedomiť, že **OpenCV defaultne pracuje s obrazom v poradí BGR!**"
      ]
    },
    {
      "cell_type": "code",
      "metadata": {
        "id": "xD05yAvA5UzL",
        "colab_type": "code",
        "colab": {}
      },
      "source": [
        "img = cv2.imread('googlelogo_color_272x92dp.png')\n",
        "print(type(img))\n",
        "print(img.shape)\n",
        "print(img.dtype)"
      ],
      "execution_count": 0,
      "outputs": []
    },
    {
      "cell_type": "markdown",
      "metadata": {
        "id": "aCfW87aq57H7",
        "colab_type": "text"
      },
      "source": [
        "Zobrazovať obrázok v OpenCV je trocha komplikované. Keďže sme v notebooku potrebujeme na to inú knižnicu. Konkrétne matplotlib. Pri zobrazovaní obrazu je nutné prekonvertovať obraz z BGR na RGB.\n",
        "\n",
        "\n",
        "Zakomentovaná časť kódu ukazuje ako sa to robí pri spúštaní mimo notebooku. cv2.waitKey zastaví beh programu napočet milisekúnd v jej argumente, alebo dokedy je stlačená klávesa. V prípade, že argument je 0, tak čaká na klávesu donekončna."
      ]
    },
    {
      "cell_type": "code",
      "metadata": {
        "id": "a9JbQ0vR6jrD",
        "colab_type": "code",
        "colab": {}
      },
      "source": [
        "import matplotlib.pyplot as plt\n",
        "plt.imshow(img[:,:,::-1])\n",
        "plt.show()\n",
        "\n",
        "# cv2.imshow('Obrazok', img)\n",
        "# if cv2.waitKey(0) & 0xFF == ord('q'):\n",
        "#     return"
      ],
      "execution_count": 0,
      "outputs": []
    },
    {
      "cell_type": "markdown",
      "metadata": {
        "id": "HKR2_i399nhD",
        "colab_type": "text"
      },
      "source": [
        "Môžeme zobraziť aj jednotlivé kanály."
      ]
    },
    {
      "cell_type": "code",
      "metadata": {
        "id": "zWImakv5-FIw",
        "colab_type": "code",
        "colab": {}
      },
      "source": [
        "plt.imshow(img[:,:,0],cmap='gray')\n",
        "plt.show()\n",
        "plt.imshow(img[:,:,1],cmap='gray')\n",
        "plt.show()\n",
        "plt.imshow(img[:,:,2],cmap='gray')\n",
        "plt.show()"
      ],
      "execution_count": 0,
      "outputs": []
    },
    {
      "cell_type": "markdown",
      "metadata": {
        "id": "2YqbEbCt_E5x",
        "colab_type": "text"
      },
      "source": [
        "Obrázky sú defualtne v uint8, teda prirodzené čísla od 0 do 255. Niekedy chceme dostať tieto hodnoty do floatov a vtedy sa štandardne očakávajú hodnoty medzi 0 a 1."
      ]
    },
    {
      "cell_type": "code",
      "metadata": {
        "id": "PyiZHgUP-u_x",
        "colab_type": "code",
        "colab": {}
      },
      "source": [
        "img_f = img / 255\n",
        "print(img_f.dtype)\n",
        "plt.imshow(img_f[:,:,::-1])\n",
        "plt.show()"
      ],
      "execution_count": 0,
      "outputs": []
    },
    {
      "cell_type": "markdown",
      "metadata": {
        "id": "RO_BLn37AI38",
        "colab_type": "text"
      },
      "source": [
        "S obrazom môžeme jednoducho manipulovať. Napríklad zosíliť jeden kanál."
      ]
    },
    {
      "cell_type": "code",
      "metadata": {
        "id": "o4C7iJmDAcP2",
        "colab_type": "code",
        "colab": {}
      },
      "source": [
        "img[:,:,0] += 20\n",
        "plt.imshow(img[:,:,::-1])\n",
        "plt.show()"
      ],
      "execution_count": 0,
      "outputs": []
    },
    {
      "cell_type": "markdown",
      "metadata": {
        "id": "-fJ1dZRrAwdM",
        "colab_type": "text"
      },
      "source": [
        "Často je vhodné obraz prekonvertovať na šedotónový. Stiahneme si teda obrázok a prekonvertujeme ho pomocou cv2.cvtColor"
      ]
    },
    {
      "cell_type": "code",
      "metadata": {
        "id": "U8C5uktYDSF8",
        "colab_type": "code",
        "colab": {}
      },
      "source": [
        "!wget 'https://upload.wikimedia.org/wikipedia/commons/0/0a/Malachite_kingfisher_(Corythornis_cristatus_stuartkeithi).jpg'\n",
        "!mv 'Malachite_kingfisher_(Corythornis_cristatus_stuartkeithi).jpg' bird.jpg\n",
        "!ls -l"
      ],
      "execution_count": 0,
      "outputs": []
    },
    {
      "cell_type": "code",
      "metadata": {
        "id": "k1rgwciHBOIV",
        "colab_type": "code",
        "colab": {}
      },
      "source": [
        "img_b = cv2.imread('bird.jpg')\n",
        "plt.imshow(img_b[:,:,::-1])\n",
        "plt.show()\n",
        "img_g = cv2.cvtColor(img_b, cv2.COLOR_BGR2GRAY)\n",
        "plt.imshow(img_g, cmap='gray')\n",
        "plt.show()"
      ],
      "execution_count": 0,
      "outputs": []
    },
    {
      "cell_type": "markdown",
      "metadata": {
        "id": "Da3UbtAGFKeh",
        "colab_type": "text"
      },
      "source": [
        "### Úloha 2\n",
        "Skúste z obrázku približne vyrezať hlavu a zobraziť ju."
      ]
    },
    {
      "cell_type": "code",
      "metadata": {
        "id": "dQ39KNXQFh1c",
        "colab_type": "code",
        "colab": {}
      },
      "source": [
        "# kód pre úlohu 2"
      ],
      "execution_count": 0,
      "outputs": []
    },
    {
      "cell_type": "markdown",
      "metadata": {
        "id": "f1AAdndHDexq",
        "colab_type": "text"
      },
      "source": [
        "### Úloha 3\n",
        "Stiahnite si farebný obrázok z internetu pomocou wget-u, alebo cez Google Drive. Prekonvertujte ho na šedotónový a aplikujte na neho gamma korekciu v tvare :\n",
        "$$ O = I^{\\frac{1}{G}}, $$ kde I je pôvodný obraz, O je nový orbaz a G je gamma faktor. Na to aby to dávalo nejaký zmysel, tak budete musieť prekonvertovať obraz z uint8 na floaty. Obrázok nakoniec zobrazte. Gamma korekciu implemntujte ako funkciu s dvoma parametrami."
      ]
    },
    {
      "cell_type": "code",
      "metadata": {
        "id": "5wEl1dP3Elss",
        "colab_type": "code",
        "colab": {}
      },
      "source": [
        "# kód pre úlohu 3"
      ],
      "execution_count": 0,
      "outputs": []
    },
    {
      "cell_type": "markdown",
      "metadata": {
        "id": "5Zu7FrFuGVyX",
        "colab_type": "text"
      },
      "source": [
        "Často je dôležité obrázky zväčsovať a zmenšovať. V kurzoch spracovania obrazu sa preberajú rôzne metódy interpolácie. Nám bude stačiť použiť defualtné nastavenie. Zmena veľkosti sa volá pomocou cv2.resize(img, (width, height))"
      ]
    },
    {
      "cell_type": "code",
      "metadata": {
        "id": "QWbZFe6fG0xv",
        "colab_type": "code",
        "colab": {}
      },
      "source": [
        "img_r = cv2.resize(img_b, (400,200))\n",
        "print(img_r.shape)\n",
        "plt.imshow(img_r[:,:,::-1])\n",
        "plt.show()"
      ],
      "execution_count": 0,
      "outputs": []
    },
    {
      "cell_type": "markdown",
      "metadata": {
        "id": "2vxxRs6XHOQC",
        "colab_type": "text"
      },
      "source": [
        "### Úloha 4\n",
        "Jedna z najbežnejších vecí, čo budeme musieť robiť pri príprave obrázkov pre neurónovú sieť je zmeniť ich veľkosť na veľkosť vstup na sieti a ponakladať ich na seba, tak aby výsledný tenzor mal tvar (n_img, height, width, 3), kde n_img je počet obrázkov. Nasledujúci kód stiahne zip s obrázkami, napíšte funkciu ktorá vytvorí žiadaný tenzor z obrázkov. Arguemnt tejto funkcie bude názov zložky, šírka a výška obrázkov."
      ]
    },
    {
      "cell_type": "code",
      "metadata": {
        "id": "jhNbm6NoIQqn",
        "colab_type": "code",
        "colab": {}
      },
      "source": [
        "!wget https://github.com/kocurvik/edu/raw/master/PNNPPV/supplementary/cv01_images.zip"
      ],
      "execution_count": 0,
      "outputs": []
    },
    {
      "cell_type": "code",
      "metadata": {
        "id": "y3fAHh87IHdz",
        "colab_type": "code",
        "colab": {}
      },
      "source": [
        "def load_img_tensor(path, width, heigth):\n",
        "  ..."
      ],
      "execution_count": 0,
      "outputs": []
    },
    {
      "cell_type": "markdown",
      "metadata": {
        "id": "OunDLW1lIU7F",
        "colab_type": "text"
      },
      "source": [
        "Nasledujúci kód by mal zbehnúť a zobraziť obrázky jeden po druhom."
      ]
    },
    {
      "cell_type": "code",
      "metadata": {
        "id": "DoALE6w-IfBR",
        "colab_type": "code",
        "colab": {}
      },
      "source": [
        "t = load_img_tensor('imgs', 227, 227)\n",
        "for i in range(t.shape[0]):\n",
        "  pls.imshow(t[i,:,:,::-1])\n",
        "  plt.show()"
      ],
      "execution_count": 0,
      "outputs": []
    },
    {
      "cell_type": "markdown",
      "metadata": {
        "id": "Wym2gAwtKkwv",
        "colab_type": "text"
      },
      "source": [
        "### Dokumentácia OpenCV\n",
        "Pri hľadaní dokumentácie je často možné naraziť na rôzne verzie OpenCV. Tu je zoznam pre všetky:\n",
        "https://docs.opencv.org/\n",
        "\n",
        "Verziu si ľahko zistíme pomocou kódu:"
      ]
    },
    {
      "cell_type": "code",
      "metadata": {
        "id": "BQd4OY9LLXCp",
        "colab_type": "code",
        "colab": {}
      },
      "source": [
        "print(cv2.__version__)"
      ],
      "execution_count": 0,
      "outputs": []
    }
  ]
}
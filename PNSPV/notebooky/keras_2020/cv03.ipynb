{
  "nbformat": 4,
  "nbformat_minor": 0,
  "metadata": {
    "colab": {
      "name": "cv03.ipynb",
      "provenance": [],
      "collapsed_sections": [],
      "toc_visible": true,
      "include_colab_link": true
    },
    "kernelspec": {
      "name": "python3",
      "display_name": "Python 3"
    },
    "accelerator": "GPU"
  },
  "cells": [
    {
      "cell_type": "markdown",
      "metadata": {
        "id": "view-in-github",
        "colab_type": "text"
      },
      "source": [
        "<a href=\"https://colab.research.google.com/github/kocurvik/edu/blob/master/PNSPV/notebooky/keras_2020/cv03.ipynb\" target=\"_parent\"><img src=\"https://colab.research.google.com/assets/colab-badge.svg\" alt=\"Open In Colab\"/></a>"
      ]
    },
    {
      "cell_type": "markdown",
      "metadata": {
        "id": "iIVREN6GLQI1"
      },
      "source": [
        "# 3. cvičenie - trénovanie sietí\n",
        "\n",
        "V tomto notebooku si vyskúšame trénovanie v kerase. Prejdeme si základ delenia dát na trénovacie, validačné a testovacie. Skontrolujeme účinky over a underfittingu. Otestujeme rôzne aktivačné funkcie a cenové funkcie. Otestujeme možnosti regularizácie.\n",
        "\n",
        "Behom cvičenia budeme používať framework keras. Jeho dokumentáciu nájdete na [keras.io](https://keras.io/)"
      ]
    },
    {
      "cell_type": "markdown",
      "metadata": {
        "id": "9Gi6M79scklj"
      },
      "source": [
        "## Plne prepojená sieť v kerase\n",
        "\n",
        "V tomto aj v ďalších cvičeniach budeme používať keras. Keras pôvodne vznikol ako nadstavba tensorflow a theana aby poskytol jednoduché API pre deep learning. Dnes je keras dokonca súčasťou distribúcie tensorflowu. My si ho však budeme importovať samostatne."
      ]
    },
    {
      "cell_type": "code",
      "metadata": {
        "id": "U9sp3P_wZsM0"
      },
      "source": [
        "import numpy as np\n",
        "import matplotlib.pyplot as plt\n",
        "\n",
        "import keras\n",
        "from keras.datasets import mnist"
      ],
      "execution_count": null,
      "outputs": []
    },
    {
      "cell_type": "markdown",
      "metadata": {
        "id": "S4_RRqTNaN0S"
      },
      "source": [
        "Načítame dáta. "
      ]
    },
    {
      "cell_type": "code",
      "metadata": {
        "id": "69afZV8RbHpR",
        "outputId": "1278ede7-2219-48d2-f404-53602ac60e2e",
        "colab": {
          "base_uri": "https://localhost:8080/",
          "height": 320
        }
      },
      "source": [
        "(x, y), (x_test, y_test) = mnist.load_data()\n",
        "x = np.reshape(x,(-1,784)).astype(np.float32) / 255\n",
        "x_test = np.reshape(x_test,(-1,784)).astype(np.float32) / 255\n",
        "y = keras.utils.to_categorical(y)\n",
        "y_test = keras.utils.to_categorical(y_test)\n",
        "\n",
        "plt.imshow(np.reshape(x[0,:],(28,28)), cmap='gray')\n",
        "plt.show()\n",
        "print(y[0])"
      ],
      "execution_count": null,
      "outputs": [
        {
          "output_type": "stream",
          "text": [
            "Downloading data from https://s3.amazonaws.com/img-datasets/mnist.npz\n",
            "11493376/11490434 [==============================] - 1s 0us/step\n"
          ],
          "name": "stdout"
        },
        {
          "output_type": "display_data",
          "data": {
            "image/png": "[encoded data removed]",
            "text/plain": [
              "<Figure size 432x288 with 1 Axes>"
            ]
          },
          "metadata": {
            "tags": []
          }
        },
        {
          "output_type": "stream",
          "text": [
            "[0. 0. 0. 0. 0. 1. 0. 0. 0. 0.]\n"
          ],
          "name": "stdout"
        }
      ]
    },
    {
      "cell_type": "markdown",
      "metadata": {
        "id": "udwpZyG-dlff"
      },
      "source": [
        "### Konštrukcia modelu\n",
        "\n",
        "Keras má triedu Sequential, ktorá predstavuje model neurónovej siete, kde každá vrstva posúva svoje výstupy do práve jednej nasledujúcej. To modelu tak vieme jednoznačne pridávať ďalšie vrstvy. Teraz si spravíme model ako z minulého cvičenia."
      ]
    },
    {
      "cell_type": "code",
      "metadata": {
        "id": "aY8yguc9W_CM"
      },
      "source": [
        "from keras.models import Sequential\n",
        "from keras.layers import Dense"
      ],
      "execution_count": null,
      "outputs": []
    },
    {
      "cell_type": "code",
      "metadata": {
        "id": "92bprjyTeKuV",
        "outputId": "83f43959-d27a-4ca7-f107-065ae66c1fc0",
        "colab": {
          "base_uri": "https://localhost:8080/",
          "height": 71
        }
      },
      "source": [
        "model = Sequential()\n",
        "model.add(Dense(30, activation='sigmoid', input_shape=(784,)))\n",
        "model.add(Dense(20, activation='sigmoid'))\n",
        "model.add(Dense(10, activation='softmax'))"
      ],
      "execution_count": null,
      "outputs": [
        {
          "output_type": "stream",
          "text": [
            "WARNING:tensorflow:From /usr/local/lib/python3.6/dist-packages/keras/backend/tensorflow_backend.py:66: The name tf.get_default_graph is deprecated. Please use tf.compat.v1.get_default_graph instead.\n",
            "\n"
          ],
          "name": "stdout"
        }
      ]
    },
    {
      "cell_type": "markdown",
      "metadata": {
        "id": "8nR1mHhXfQdF"
      },
      "source": [
        "Modelu musíme pridať cenovú funkciu a vybrať optimalizačný algoritmus. Tento krok za nazýva tzv. kompilácia. Po kompilácii si môžeme model pozrieť pomocou metódy summary.\n",
        "\n",
        "*Pozn.:* Summary môžeme zavolať až keď je model kompletný. Teda vieme aké v ňom budú veľkosti vrstiev. Ak prvej vrstve nepridáme parameter input_shape, tak summary môžeme zavolať až po trénovaní (to už sieť bude vedieť aký je vstup)."
      ]
    },
    {
      "cell_type": "code",
      "metadata": {
        "id": "siJkGdtLffBd",
        "outputId": "875b817a-337b-47be-cf10-e50787fe387c",
        "colab": {
          "base_uri": "https://localhost:8080/",
          "height": 326
        }
      },
      "source": [
        "loss = keras.losses.categorical_crossentropy\n",
        "model.compile(loss=loss,\n",
        "              optimizer='sgd',\n",
        "              metrics=['accuracy'])\n",
        "print(model.summary())"
      ],
      "execution_count": null,
      "outputs": [
        {
          "output_type": "stream",
          "text": [
            "WARNING:tensorflow:From /usr/local/lib/python3.6/dist-packages/keras/optimizers.py:793: The name tf.train.Optimizer is deprecated. Please use tf.compat.v1.train.Optimizer instead.\n",
            "\n",
            "Model: \"sequential_1\"\n",
            "_________________________________________________________________\n",
            "Layer (type)                 Output Shape              Param #   \n",
            "=================================================================\n",
            "dense_1 (Dense)              (None, 30)                23550     \n",
            "_________________________________________________________________\n",
            "dense_2 (Dense)              (None, 20)                620       \n",
            "_________________________________________________________________\n",
            "dense_3 (Dense)              (None, 10)                210       \n",
            "=================================================================\n",
            "Total params: 24,380\n",
            "Trainable params: 24,380\n",
            "Non-trainable params: 0\n",
            "_________________________________________________________________\n",
            "None\n"
          ],
          "name": "stdout"
        }
      ]
    },
    {
      "cell_type": "markdown",
      "metadata": {
        "id": "a_q9uHbKemE9"
      },
      "source": [
        "Model trénujeme volaním metódy fit ktorej poskytneme trénovacie dáta. Tentokrát si tréning spustíme len na chvílu. Neriešime ani validačné dáta."
      ]
    },
    {
      "cell_type": "code",
      "metadata": {
        "id": "t2iulP5oe3lA",
        "outputId": "e8327d60-d61c-496b-b96e-37603de44675",
        "colab": {
          "base_uri": "https://localhost:8080/",
          "height": 275
        }
      },
      "source": [
        "model.fit(x, y, batch_size=32, epochs=5)"
      ],
      "execution_count": null,
      "outputs": [
        {
          "output_type": "stream",
          "text": [
            "WARNING:tensorflow:From /usr/local/lib/python3.6/dist-packages/tensorflow_core/python/ops/math_grad.py:1424: where (from tensorflow.python.ops.array_ops) is deprecated and will be removed in a future version.\n",
            "Instructions for updating:\n",
            "Use tf.where in 2.0, which has the same broadcast rule as np.where\n",
            "Epoch 1/5\n",
            "60000/60000 [==============================] - 13s 208us/step - loss: 2.2649 - acc: 0.2412\n",
            "Epoch 2/5\n",
            "60000/60000 [==============================] - 7s 120us/step - loss: 2.0641 - acc: 0.4835\n",
            "Epoch 3/5\n",
            "60000/60000 [==============================] - 7s 117us/step - loss: 1.6911 - acc: 0.5885\n",
            "Epoch 4/5\n",
            "60000/60000 [==============================] - 7s 116us/step - loss: 1.3123 - acc: 0.6935\n",
            "Epoch 5/5\n",
            "60000/60000 [==============================] - 7s 117us/step - loss: 1.0098 - acc: 0.7700\n"
          ],
          "name": "stdout"
        },
        {
          "output_type": "execute_result",
          "data": {
            "text/plain": [
              "<keras.callbacks.History at 0x7fd16667e278>"
            ]
          },
          "metadata": {
            "tags": []
          },
          "execution_count": 8
        }
      ]
    },
    {
      "cell_type": "markdown",
      "metadata": {
        "id": "qP7dlrc3TZbR"
      },
      "source": [
        "## Predbežné testovanie modelu\n",
        "\n",
        "Pri trénovaní modelu je nutné overiť si, že má dostatočnú kapacitu pre daný problém. Kapacita modelu je v tomto prípade vyjadrenie toho akú veľkú (resp. ako zložitú) množinu funkcií je možné modelovať. Ak náš model ani teoreticky nedokáže modelovať žiadanú funkciu (napr. klasifikátor), tak nieje vhodné ho použiť. Napr. používať lineárny klasifikátor na dáta o ktorých vieme, že sú lineárne neseparovateľné je príklad nedostatočnej kapacity modelu.\n",
        "\n",
        "Najjednoduchšie ako toto budeme testovať je tak, že vyberieme veľmi malú časť (napr. 1 minibatch) dát na ktorých chceme trénovať a overíme, či sa nám podarí model natrénovať na 100 percent na takejto malej vzorke.\n",
        "\n",
        "Týmto testovaním tiež overíme, že trénovanie funguje a nieje problém s dátami. Tento postup je vhodný prvý krok pri troubleshootingu sietí.\n",
        "\n",
        "*Pozn.:* Pri takomto testovaní je dôležité nemať všetky príklady z rovnakej kategórie, lebo v takom prípade ani netreba uvažovať o kapacite modelu."
      ]
    },
    {
      "cell_type": "markdown",
      "metadata": {
        "id": "9rtiKiV5cRHC"
      },
      "source": [
        "Vyberieme malú vzorku dát a skúsime natrénovať model."
      ]
    },
    {
      "cell_type": "code",
      "metadata": {
        "id": "Rq3dGAMwcWBp",
        "outputId": "4fe3c871-89c5-4558-e273-07c31751d096",
        "colab": {
          "base_uri": "https://localhost:8080/",
          "height": 374
        }
      },
      "source": [
        "x_mini = x[:32]\n",
        "y_mini = y[:32]\n",
        "\n",
        "x_mini = np.repeat(x_mini, 1000, axis=0)\n",
        "y_mini = np.repeat(y_mini, 1000, axis=0)\n",
        "\n",
        "model = Sequential()\n",
        "model.add(Dense(30, activation='sigmoid'))\n",
        "model.add(Dense(20, activation='sigmoid'))\n",
        "model.add(Dense(10, activation='softmax'))\n",
        "\n",
        "loss = keras.losses.categorical_crossentropy\n",
        "model.compile(loss=loss,\n",
        "              optimizer='sgd',\n",
        "              metrics=['accuracy'])\n",
        "\n",
        "model.fit(x_mini, y_mini, steps_per_epoch=1000, epochs=10)"
      ],
      "execution_count": null,
      "outputs": [
        {
          "output_type": "stream",
          "text": [
            "Epoch 1/10\n",
            "1000/1000 [==============================] - 4s 4ms/step - loss: 2.1673 - acc: 0.2220\n",
            "Epoch 2/10\n",
            "1000/1000 [==============================] - 4s 4ms/step - loss: 1.9409 - acc: 0.3965\n",
            "Epoch 3/10\n",
            "1000/1000 [==============================] - 4s 4ms/step - loss: 1.5564 - acc: 0.6616\n",
            "Epoch 4/10\n",
            "1000/1000 [==============================] - 4s 4ms/step - loss: 1.1277 - acc: 0.7500\n",
            "Epoch 5/10\n",
            "1000/1000 [==============================] - 4s 4ms/step - loss: 0.8092 - acc: 0.7754\n",
            "Epoch 6/10\n",
            "1000/1000 [==============================] - 4s 4ms/step - loss: 0.5994 - acc: 0.9025\n",
            "Epoch 7/10\n",
            "1000/1000 [==============================] - 4s 4ms/step - loss: 0.4555 - acc: 0.9367\n",
            "Epoch 8/10\n",
            "1000/1000 [==============================] - 4s 4ms/step - loss: 0.3499 - acc: 1.0000\n",
            "Epoch 9/10\n",
            "1000/1000 [==============================] - 4s 4ms/step - loss: 0.2705 - acc: 1.0000\n",
            "Epoch 10/10\n",
            "1000/1000 [==============================] - 4s 4ms/step - loss: 0.2112 - acc: 1.0000\n"
          ],
          "name": "stdout"
        },
        {
          "output_type": "execute_result",
          "data": {
            "text/plain": [
              "<keras.callbacks.History at 0x7fd17cbee630>"
            ]
          },
          "metadata": {
            "tags": []
          },
          "execution_count": 9
        }
      ]
    },
    {
      "cell_type": "markdown",
      "metadata": {
        "id": "mYbfK_V7g4Xk"
      },
      "source": [
        "Ako je možné vidieť tak náš model dosahuje 100 percentnú presnosť na našich dátach. To ukazuje, že náš model má aspoň takú kapacitu aby fungoval. Teraz si ukážeme príklad keď to nefunguje. Napríklad vynechaním nelinearity."
      ]
    },
    {
      "cell_type": "code",
      "metadata": {
        "id": "W1RB9ec5hY2s",
        "outputId": "e06df60c-378e-47b3-a88b-ed26351f078e",
        "colab": {
          "base_uri": "https://localhost:8080/",
          "height": 374
        }
      },
      "source": [
        "model = Sequential()\n",
        "model.add(Dense(30))\n",
        "model.add(Dense(20))\n",
        "model.add(Dense(10))\n",
        "\n",
        "loss = keras.losses.categorical_crossentropy\n",
        "model.compile(loss=loss,\n",
        "              optimizer='sgd',\n",
        "              metrics=['accuracy'])\n",
        "\n",
        "model.fit(x_mini, y_mini, steps_per_epoch=1000, epochs=10)"
      ],
      "execution_count": null,
      "outputs": [
        {
          "output_type": "stream",
          "text": [
            "Epoch 1/10\n",
            "1000/1000 [==============================] - 4s 4ms/step - loss: 8.0450 - acc: 0.1261\n",
            "Epoch 2/10\n",
            "1000/1000 [==============================] - 4s 4ms/step - loss: 8.0590 - acc: 0.1250\n",
            "Epoch 3/10\n",
            "1000/1000 [==============================] - 4s 4ms/step - loss: 8.0590 - acc: 0.1250\n",
            "Epoch 4/10\n",
            "1000/1000 [==============================] - 4s 4ms/step - loss: 8.0590 - acc: 0.1250\n",
            "Epoch 5/10\n",
            "1000/1000 [==============================] - 4s 4ms/step - loss: 8.0590 - acc: 0.1250\n",
            "Epoch 6/10\n",
            "1000/1000 [==============================] - 4s 4ms/step - loss: 8.0590 - acc: 0.1250\n",
            "Epoch 7/10\n",
            "1000/1000 [==============================] - 4s 4ms/step - loss: 8.0590 - acc: 0.1250\n",
            "Epoch 8/10\n",
            "1000/1000 [==============================] - 4s 4ms/step - loss: 8.0590 - acc: 0.1250\n",
            "Epoch 9/10\n",
            "1000/1000 [==============================] - 4s 4ms/step - loss: 8.0590 - acc: 0.1250\n",
            "Epoch 10/10\n",
            "1000/1000 [==============================] - 4s 4ms/step - loss: 8.0590 - acc: 0.1250\n"
          ],
          "name": "stdout"
        },
        {
          "output_type": "execute_result",
          "data": {
            "text/plain": [
              "<keras.callbacks.History at 0x7fd110b40dd8>"
            ]
          },
          "metadata": {
            "tags": []
          },
          "execution_count": 10
        }
      ]
    },
    {
      "cell_type": "markdown",
      "metadata": {
        "id": "Mgeqb7qempvY"
      },
      "source": [
        "Podobne to bude pre príliš malý model."
      ]
    },
    {
      "cell_type": "code",
      "metadata": {
        "id": "EzbAFTjyk2MT",
        "outputId": "9864c1b3-7078-47fb-9339-b8c953b7c451",
        "colab": {
          "base_uri": "https://localhost:8080/",
          "height": 374
        }
      },
      "source": [
        "model = Sequential()\n",
        "model.add(Dense(2, activation='sigmoid'))\n",
        "model.add(Dense(10, activation='softmax'))\n",
        "\n",
        "loss = keras.losses.categorical_crossentropy\n",
        "model.compile(loss=loss,\n",
        "              optimizer='sgd',\n",
        "              metrics=['accuracy'])\n",
        "\n",
        "model.fit(x_mini, y_mini, steps_per_epoch=10000, epochs=10)"
      ],
      "execution_count": null,
      "outputs": [
        {
          "output_type": "stream",
          "text": [
            "Epoch 1/10\n",
            "10000/10000 [==============================] - 36s 4ms/step - loss: 1.4876 - acc: 0.5332\n",
            "Epoch 2/10\n",
            "10000/10000 [==============================] - 36s 4ms/step - loss: 0.9744 - acc: 0.6607\n",
            "Epoch 3/10\n",
            "10000/10000 [==============================] - 36s 4ms/step - loss: 0.8134 - acc: 0.7125\n",
            "Epoch 4/10\n",
            "10000/10000 [==============================] - 36s 4ms/step - loss: 0.7024 - acc: 0.8380\n",
            "Epoch 5/10\n",
            "10000/10000 [==============================] - 35s 4ms/step - loss: 0.6147 - acc: 0.8910\n",
            "Epoch 6/10\n",
            "10000/10000 [==============================] - 36s 4ms/step - loss: 0.5451 - acc: 1.0000\n",
            "Epoch 7/10\n",
            "10000/10000 [==============================] - 35s 4ms/step - loss: 0.4889 - acc: 1.0000\n",
            "Epoch 8/10\n",
            "10000/10000 [==============================] - 36s 4ms/step - loss: 0.4428 - acc: 1.0000\n",
            "Epoch 9/10\n",
            "10000/10000 [==============================] - 35s 4ms/step - loss: 0.4046 - acc: 1.0000\n",
            "Epoch 10/10\n",
            "10000/10000 [==============================] - 36s 4ms/step - loss: 0.3728 - acc: 1.0000\n"
          ],
          "name": "stdout"
        },
        {
          "output_type": "execute_result",
          "data": {
            "text/plain": [
              "<keras.callbacks.History at 0x7fd110abe358>"
            ]
          },
          "metadata": {
            "tags": []
          },
          "execution_count": 11
        }
      ]
    },
    {
      "cell_type": "markdown",
      "metadata": {
        "id": "BVberJIGhLjU"
      },
      "source": [
        "Takisto ak nastavíme príliš veľký krok SGD."
      ]
    },
    {
      "cell_type": "code",
      "metadata": {
        "id": "qRAb04O7hTT8",
        "outputId": "75343d3e-999e-4ad2-c9f8-a2a8b4732315",
        "colab": {
          "base_uri": "https://localhost:8080/",
          "height": 204
        }
      },
      "source": [
        "model = Sequential()\n",
        "model.add(Dense(20, activation='sigmoid'))\n",
        "model.add(Dense(10, activation='softmax'))\n",
        "\n",
        "loss = keras.losses.categorical_crossentropy\n",
        "sgd = keras.optimizers.SGD(lr = 100.0) # toto sme označili minule ako eta - defaultne je 0.01\n",
        "model.compile(loss=loss,\n",
        "              optimizer=sgd,\n",
        "              metrics=['accuracy'])\n",
        "\n",
        "model.fit(x_mini, y_mini, steps_per_epoch=10000, epochs=5)\n"
      ],
      "execution_count": null,
      "outputs": [
        {
          "output_type": "stream",
          "text": [
            "Epoch 1/5\n",
            "10000/10000 [==============================] - 36s 4ms/step - loss: 14.1020 - acc: 0.1250\n",
            "Epoch 2/5\n",
            "10000/10000 [==============================] - 36s 4ms/step - loss: 14.1033 - acc: 0.1250\n",
            "Epoch 3/5\n",
            "10000/10000 [==============================] - 35s 4ms/step - loss: 14.1033 - acc: 0.1250\n",
            "Epoch 4/5\n",
            "10000/10000 [==============================] - 36s 4ms/step - loss: 14.1033 - acc: 0.1250\n",
            "Epoch 5/5\n",
            "10000/10000 [==============================] - 36s 4ms/step - loss: 14.1033 - acc: 0.1250\n"
          ],
          "name": "stdout"
        },
        {
          "output_type": "execute_result",
          "data": {
            "text/plain": [
              "<keras.callbacks.History at 0x7fd1109aeac8>"
            ]
          },
          "metadata": {
            "tags": []
          },
          "execution_count": 12
        }
      ]
    },
    {
      "cell_type": "markdown",
      "metadata": {
        "id": "Xh_NGCZjnT2x"
      },
      "source": [
        "Toto testovanie nám len dokáže overiť či trénovanie môže prebehnúť. Dokážeme totiž natrénovať model aj pre úplne náhodné dáta, keďže príkladov je málo. Ak by sme však trénovali na náhodných dátach pre väčšiu vzorku, tak by to nemalo zmysel."
      ]
    },
    {
      "cell_type": "code",
      "metadata": {
        "id": "YabwlzZ2nYAu",
        "outputId": "aabd6e79-e355-471a-9d3a-48f27a369af1",
        "colab": {
          "base_uri": "https://localhost:8080/",
          "height": 374
        }
      },
      "source": [
        "x_mini = np.random.rand(32,784)\n",
        "x_mini = np.repeat(x_mini, 1000, axis=0)\n",
        "\n",
        "model = Sequential()\n",
        "model.add(Dense(30, activation='sigmoid'))\n",
        "model.add(Dense(20, activation='sigmoid'))\n",
        "model.add(Dense(10, activation='softmax'))\n",
        "\n",
        "loss = keras.losses.categorical_crossentropy\n",
        "model.compile(loss=loss,\n",
        "              optimizer='sgd',\n",
        "              metrics=['accuracy'])\n",
        "\n",
        "model.fit(x_mini, y_mini, steps_per_epoch=1000, epochs=10)"
      ],
      "execution_count": null,
      "outputs": [
        {
          "output_type": "stream",
          "text": [
            "Epoch 1/10\n",
            "1000/1000 [==============================] - 4s 4ms/step - loss: 2.1725 - acc: 0.1840\n",
            "Epoch 2/10\n",
            "1000/1000 [==============================] - 4s 4ms/step - loss: 2.0154 - acc: 0.3594\n",
            "Epoch 3/10\n",
            "1000/1000 [==============================] - 4s 4ms/step - loss: 1.7049 - acc: 0.5873\n",
            "Epoch 4/10\n",
            "1000/1000 [==============================] - 4s 4ms/step - loss: 1.2593 - acc: 0.6757\n",
            "Epoch 5/10\n",
            "1000/1000 [==============================] - 4s 4ms/step - loss: 0.8763 - acc: 0.7593\n",
            "Epoch 6/10\n",
            "1000/1000 [==============================] - 4s 4ms/step - loss: 0.6036 - acc: 0.9915\n",
            "Epoch 7/10\n",
            "1000/1000 [==============================] - 4s 4ms/step - loss: 0.4161 - acc: 1.0000\n",
            "Epoch 8/10\n",
            "1000/1000 [==============================] - 4s 4ms/step - loss: 0.2898 - acc: 1.0000\n",
            "Epoch 9/10\n",
            "1000/1000 [==============================] - 4s 4ms/step - loss: 0.2072 - acc: 1.0000\n",
            "Epoch 10/10\n",
            "1000/1000 [==============================] - 4s 4ms/step - loss: 0.1538 - acc: 1.0000\n"
          ],
          "name": "stdout"
        },
        {
          "output_type": "execute_result",
          "data": {
            "text/plain": [
              "<keras.callbacks.History at 0x7fd110946438>"
            ]
          },
          "metadata": {
            "tags": []
          },
          "execution_count": 13
        }
      ]
    },
    {
      "cell_type": "markdown",
      "metadata": {
        "id": "6gyMtvn-sQq4"
      },
      "source": [
        "## train/val/test\n",
        "\n",
        "Pri ďalšej práci s kapacitou modelu budeme potrebovať vymedziť tzv. split našich dát. Tento split robíme preto aby sme vedeli verifikovať, či náš model naozaj dokáže dosahovať dobré výsledky na dátach ktoré neboli použíté na trénovanie. \n",
        "\n",
        "Dáta ktoré model nevidel budeme označovať ako testovacie. Tieto dáta používame len na overenie výsledkov.\n",
        "\n",
        "Ostali nám teda dáta na trénovanie. Problém ale je, že máme dva druhy optimalizácie. Jednou optimalizáciou (napr. SGD) vyberáme samotné parametre modelu. Druhú optimalizáciu robíme ako uživatelia a to tým, že vyberáme optimalizačný algoritmus pre prvý druh optimalizácie. Takisto vyberáme aj parametre tejto optimalizácie a iné veci ako napríklad samotný výber architektúry modelu, inicializačný algoritmus, veľkosť minibatch, dĺžku trénovania atď. Tieto veci častokrát označujeme za tzv. hyperparametre.\n",
        "\n",
        "Aby sme mohli takto vyberať, tak vždy najprv trénujeme (prvý druh optimalizácie)na tzv. trénovacej množine a takto natrénované parametre potom overíme na tzv. validačnej množine. Tieto výsledky nám potom umožnia realizovať druhý druh optimalizácie a porovnávať tak výsledky pre rôzne druhy optimalizácie.\n",
        "\n",
        "Dôvod prečo to nerobíme na testovacej množine je ten, že sa môže stať že výber hyperparametrov je tiež taký, že sme ich vybrali zrovna tak, že sa presne hodí na validačnú množinu.\n",
        "\n",
        "Typicky delíme dáta pomerom 80/10/10, alebo 60/20/20 atď, ale záleží na danej úlohe a množstve dát. Podobne si rozdelíme dataset MNIST.\n"
      ]
    },
    {
      "cell_type": "code",
      "metadata": {
        "id": "EP9BroCkzb9_"
      },
      "source": [
        "x_train = x[:50000]\n",
        "y_train = y[:50000]\n",
        "x_val = x[50000:]\n",
        "y_val = y[50000:]"
      ],
      "execution_count": null,
      "outputs": []
    },
    {
      "cell_type": "markdown",
      "metadata": {
        "id": "XUbiSu3-zq4H"
      },
      "source": [
        "Vyrobíme si trocha špeciálny prípad, kde budeme používať len veľmi málo príkladov z trénovacej množiny, aby sme videli efekt validačných dát."
      ]
    },
    {
      "cell_type": "code",
      "metadata": {
        "id": "_nyCkyF6z2CX",
        "outputId": "2f786625-c4c1-49d2-e1a3-592a8f01d039",
        "colab": {
          "base_uri": "https://localhost:8080/",
          "height": 1000
        }
      },
      "source": [
        "model1 = Sequential()\n",
        "model1.add(Dense(20, activation='sigmoid'))\n",
        "model1.add(Dense(10, activation='softmax'))\n",
        "\n",
        "loss = keras.losses.categorical_crossentropy\n",
        "model1.compile(loss=loss,\n",
        "              optimizer='sgd',\n",
        "              metrics=['accuracy'])\n",
        "\n",
        "history1 = model1.fit(x_train[:20], y_train[:20], validation_data = (x_val, y_val), steps_per_epoch = 1000, validation_steps = 100, epochs=30)"
      ],
      "execution_count": null,
      "outputs": [
        {
          "output_type": "stream",
          "text": [
            "Train on 20 samples, validate on 10000 samples\n",
            "Epoch 1/30\n",
            "1000/1000 [==============================] - 5s 5ms/step - loss: 1.4677 - acc: 0.7114 - val_loss: 1.8439 - val_acc: 0.4374\n",
            "Epoch 2/30\n",
            "1000/1000 [==============================] - 4s 4ms/step - loss: 0.5960 - acc: 0.9517 - val_loss: 1.6064 - val_acc: 0.5097\n",
            "Epoch 3/30\n",
            "1000/1000 [==============================] - 4s 4ms/step - loss: 0.3011 - acc: 1.0000 - val_loss: 1.5096 - val_acc: 0.5332\n",
            "Epoch 4/30\n",
            "1000/1000 [==============================] - 4s 4ms/step - loss: 0.1833 - acc: 1.0000 - val_loss: 1.4672 - val_acc: 0.5428\n",
            "Epoch 5/30\n",
            "1000/1000 [==============================] - 4s 4ms/step - loss: 0.1253 - acc: 1.0000 - val_loss: 1.4484 - val_acc: 0.5492\n",
            "Epoch 6/30\n",
            "1000/1000 [==============================] - 4s 4ms/step - loss: 0.0926 - acc: 1.0000 - val_loss: 1.4406 - val_acc: 0.5536\n",
            "Epoch 7/30\n",
            "1000/1000 [==============================] - 4s 4ms/step - loss: 0.0724 - acc: 1.0000 - val_loss: 1.4381 - val_acc: 0.5553\n",
            "Epoch 8/30\n",
            "1000/1000 [==============================] - 4s 4ms/step - loss: 0.0589 - acc: 1.0000 - val_loss: 1.4384 - val_acc: 0.5570\n",
            "Epoch 9/30\n",
            "1000/1000 [==============================] - 4s 4ms/step - loss: 0.0493 - acc: 1.0000 - val_loss: 1.4403 - val_acc: 0.5587\n",
            "Epoch 10/30\n",
            "1000/1000 [==============================] - 4s 4ms/step - loss: 0.0423 - acc: 1.0000 - val_loss: 1.4430 - val_acc: 0.5592\n",
            "Epoch 11/30\n",
            "1000/1000 [==============================] - 4s 4ms/step - loss: 0.0369 - acc: 1.0000 - val_loss: 1.4461 - val_acc: 0.5600\n",
            "Epoch 12/30\n",
            "1000/1000 [==============================] - 4s 4ms/step - loss: 0.0327 - acc: 1.0000 - val_loss: 1.4495 - val_acc: 0.5603\n",
            "Epoch 13/30\n",
            "1000/1000 [==============================] - 4s 4ms/step - loss: 0.0293 - acc: 1.0000 - val_loss: 1.4531 - val_acc: 0.5610\n",
            "Epoch 14/30\n",
            "1000/1000 [==============================] - 4s 4ms/step - loss: 0.0265 - acc: 1.0000 - val_loss: 1.4566 - val_acc: 0.5611\n",
            "Epoch 15/30\n",
            "1000/1000 [==============================] - 4s 4ms/step - loss: 0.0242 - acc: 1.0000 - val_loss: 1.4602 - val_acc: 0.5618\n",
            "Epoch 16/30\n",
            "1000/1000 [==============================] - 4s 4ms/step - loss: 0.0222 - acc: 1.0000 - val_loss: 1.4637 - val_acc: 0.5625\n",
            "Epoch 17/30\n",
            "1000/1000 [==============================] - 4s 4ms/step - loss: 0.0205 - acc: 1.0000 - val_loss: 1.4672 - val_acc: 0.5634\n",
            "Epoch 18/30\n",
            "1000/1000 [==============================] - 4s 4ms/step - loss: 0.0191 - acc: 1.0000 - val_loss: 1.4706 - val_acc: 0.5642\n",
            "Epoch 19/30\n",
            "1000/1000 [==============================] - 4s 4ms/step - loss: 0.0178 - acc: 1.0000 - val_loss: 1.4739 - val_acc: 0.5647\n",
            "Epoch 20/30\n",
            "1000/1000 [==============================] - 4s 4ms/step - loss: 0.0167 - acc: 1.0000 - val_loss: 1.4772 - val_acc: 0.5647\n",
            "Epoch 21/30\n",
            "1000/1000 [==============================] - 4s 4ms/step - loss: 0.0157 - acc: 1.0000 - val_loss: 1.4804 - val_acc: 0.5652\n",
            "Epoch 22/30\n",
            "1000/1000 [==============================] - 4s 4ms/step - loss: 0.0148 - acc: 1.0000 - val_loss: 1.4835 - val_acc: 0.5657\n",
            "Epoch 23/30\n",
            "1000/1000 [==============================] - 4s 4ms/step - loss: 0.0140 - acc: 1.0000 - val_loss: 1.4865 - val_acc: 0.5664\n",
            "Epoch 24/30\n",
            "1000/1000 [==============================] - 4s 4ms/step - loss: 0.0133 - acc: 1.0000 - val_loss: 1.4895 - val_acc: 0.5664\n",
            "Epoch 25/30\n",
            "1000/1000 [==============================] - 4s 4ms/step - loss: 0.0127 - acc: 1.0000 - val_loss: 1.4923 - val_acc: 0.5671\n",
            "Epoch 26/30\n",
            "1000/1000 [==============================] - 4s 4ms/step - loss: 0.0121 - acc: 1.0000 - val_loss: 1.4952 - val_acc: 0.5675\n",
            "Epoch 27/30\n",
            "1000/1000 [==============================] - 4s 4ms/step - loss: 0.0115 - acc: 1.0000 - val_loss: 1.4979 - val_acc: 0.5679\n",
            "Epoch 28/30\n",
            "1000/1000 [==============================] - 4s 4ms/step - loss: 0.0110 - acc: 1.0000 - val_loss: 1.5006 - val_acc: 0.5682\n",
            "Epoch 29/30\n",
            "1000/1000 [==============================] - 4s 4ms/step - loss: 0.0106 - acc: 1.0000 - val_loss: 1.5032 - val_acc: 0.5685\n",
            "Epoch 30/30\n",
            "1000/1000 [==============================] - 4s 4ms/step - loss: 0.0102 - acc: 1.0000 - val_loss: 1.5058 - val_acc: 0.5686\n"
          ],
          "name": "stdout"
        }
      ]
    },
    {
      "cell_type": "code",
      "metadata": {
        "id": "RsxydmJQd1zx",
        "outputId": "897b1194-ec28-4361-b29d-1f8b05e18efb",
        "colab": {
          "base_uri": "https://localhost:8080/",
          "height": 538
        }
      },
      "source": [
        "print(history1.history.keys())\n",
        "plt.plot(np.arange(30), history1.history['val_loss'])\n",
        "plt.plot(np.arange(30), history1.history['loss'])\n",
        "plt.show()\n",
        "plt.plot(np.arange(30), history1.history['val_accuracy'])\n",
        "plt.plot(np.arange(30), history1.history['accuracy'])\n",
        "plt.show()"
      ],
      "execution_count": null,
      "outputs": [
        {
          "output_type": "stream",
          "text": [
            "dict_keys(['val_loss', 'val_acc', 'loss', 'acc'])\n"
          ],
          "name": "stdout"
        },
        {
          "output_type": "display_data",
          "data": {
            "image/png": "[encoded data removed]",
            "text/plain": [
              "<Figure size 432x288 with 1 Axes>"
            ]
          },
          "metadata": {
            "tags": []
          }
        },
        {
          "output_type": "display_data",
          "data": {
            "image/png": "[encoded data removed]",
            "text/plain": [
              "<Figure size 432x288 with 1 Axes>"
            ]
          },
          "metadata": {
            "tags": []
          }
        }
      ]
    },
    {
      "cell_type": "code",
      "metadata": {
        "id": "CGkwJ47A0kN9",
        "outputId": "097c328d-391c-47c5-f342-f87221e31d6a",
        "colab": {
          "base_uri": "https://localhost:8080/",
          "height": 1000
        }
      },
      "source": [
        "model2 = Sequential()\n",
        "model2.add(Dense(30, activation='sigmoid'))\n",
        "model2.add(Dense(20, activation='sigmoid'))\n",
        "model2.add(Dense(10, activation='softmax'))\n",
        "\n",
        "loss = keras.losses.categorical_crossentropy\n",
        "model2.compile(loss=loss,\n",
        "              optimizer='sgd',\n",
        "              metrics=['accuracy'])\n",
        "\n",
        "history2 = model2.fit(x_train, y_train, validation_data = (x_val, y_val), batch_size=32, epochs=50)"
      ],
      "execution_count": null,
      "outputs": [
        {
          "output_type": "stream",
          "text": [
            "Train on 50000 samples, validate on 10000 samples\n",
            "Epoch 1/50\n",
            "50000/50000 [==============================] - 7s 136us/step - loss: 2.2608 - acc: 0.2387 - val_loss: 2.1953 - val_acc: 0.4226\n",
            "Epoch 2/50\n",
            "50000/50000 [==============================] - 6s 128us/step - loss: 2.0916 - acc: 0.4772 - val_loss: 1.9520 - val_acc: 0.5417\n",
            "Epoch 3/50\n",
            "50000/50000 [==============================] - 7s 130us/step - loss: 1.7821 - acc: 0.5577 - val_loss: 1.5868 - val_acc: 0.6331\n",
            "Epoch 4/50\n",
            "50000/50000 [==============================] - 6s 129us/step - loss: 1.4321 - acc: 0.6373 - val_loss: 1.2565 - val_acc: 0.7023\n",
            "Epoch 5/50\n",
            "50000/50000 [==============================] - 7s 133us/step - loss: 1.1606 - acc: 0.7016 - val_loss: 1.0233 - val_acc: 0.7531\n",
            "Epoch 6/50\n",
            "50000/50000 [==============================] - 7s 130us/step - loss: 0.9713 - acc: 0.7523 - val_loss: 0.8617 - val_acc: 0.7880\n",
            "Epoch 7/50\n",
            "50000/50000 [==============================] - 7s 132us/step - loss: 0.8373 - acc: 0.7882 - val_loss: 0.7462 - val_acc: 0.8220\n",
            "Epoch 8/50\n",
            "50000/50000 [==============================] - 7s 134us/step - loss: 0.7391 - acc: 0.8172 - val_loss: 0.6611 - val_acc: 0.8409\n",
            "Epoch 9/50\n",
            "50000/50000 [==============================] - 7s 133us/step - loss: 0.6643 - acc: 0.8370 - val_loss: 0.5962 - val_acc: 0.8568\n",
            "Epoch 10/50\n",
            "50000/50000 [==============================] - 7s 131us/step - loss: 0.6055 - acc: 0.8522 - val_loss: 0.5446 - val_acc: 0.8692\n",
            "Epoch 11/50\n",
            "50000/50000 [==============================] - 7s 133us/step - loss: 0.5582 - acc: 0.8629 - val_loss: 0.5028 - val_acc: 0.8778\n",
            "Epoch 12/50\n",
            "50000/50000 [==============================] - 7s 132us/step - loss: 0.5197 - acc: 0.8709 - val_loss: 0.4693 - val_acc: 0.8828\n",
            "Epoch 13/50\n",
            "50000/50000 [==============================] - 7s 134us/step - loss: 0.4880 - acc: 0.8759 - val_loss: 0.4412 - val_acc: 0.8891\n",
            "Epoch 14/50\n",
            "50000/50000 [==============================] - 7s 134us/step - loss: 0.4616 - acc: 0.8815 - val_loss: 0.4178 - val_acc: 0.8939\n",
            "Epoch 15/50\n",
            "50000/50000 [==============================] - 7s 132us/step - loss: 0.4392 - acc: 0.8859 - val_loss: 0.3989 - val_acc: 0.8970\n",
            "Epoch 16/50\n",
            "50000/50000 [==============================] - 7s 133us/step - loss: 0.4202 - acc: 0.8902 - val_loss: 0.3817 - val_acc: 0.9003\n",
            "Epoch 17/50\n",
            "50000/50000 [==============================] - 6s 130us/step - loss: 0.4037 - acc: 0.8937 - val_loss: 0.3673 - val_acc: 0.9039\n",
            "Epoch 18/50\n",
            "50000/50000 [==============================] - 7s 134us/step - loss: 0.3893 - acc: 0.8966 - val_loss: 0.3547 - val_acc: 0.9062\n",
            "Epoch 19/50\n",
            "50000/50000 [==============================] - 7s 140us/step - loss: 0.3765 - acc: 0.8993 - val_loss: 0.3434 - val_acc: 0.9089\n",
            "Epoch 20/50\n",
            "50000/50000 [==============================] - 7s 133us/step - loss: 0.3651 - acc: 0.9016 - val_loss: 0.3333 - val_acc: 0.9110\n",
            "Epoch 21/50\n",
            "50000/50000 [==============================] - 7s 132us/step - loss: 0.3547 - acc: 0.9042 - val_loss: 0.3244 - val_acc: 0.9117\n",
            "Epoch 22/50\n",
            "50000/50000 [==============================] - 7s 131us/step - loss: 0.3453 - acc: 0.9061 - val_loss: 0.3164 - val_acc: 0.9132\n",
            "Epoch 23/50\n",
            "50000/50000 [==============================] - 7s 132us/step - loss: 0.3368 - acc: 0.9079 - val_loss: 0.3088 - val_acc: 0.9150\n",
            "Epoch 24/50\n",
            "50000/50000 [==============================] - 7s 132us/step - loss: 0.3288 - acc: 0.9100 - val_loss: 0.3018 - val_acc: 0.9161\n",
            "Epoch 25/50\n",
            "50000/50000 [==============================] - 7s 132us/step - loss: 0.3213 - acc: 0.9124 - val_loss: 0.2956 - val_acc: 0.9184\n",
            "Epoch 26/50\n",
            "50000/50000 [==============================] - 6s 129us/step - loss: 0.3146 - acc: 0.9134 - val_loss: 0.2895 - val_acc: 0.9196\n",
            "Epoch 27/50\n",
            "50000/50000 [==============================] - 7s 131us/step - loss: 0.3082 - acc: 0.9153 - val_loss: 0.2841 - val_acc: 0.9208\n",
            "Epoch 28/50\n",
            "50000/50000 [==============================] - 7s 135us/step - loss: 0.3022 - acc: 0.9169 - val_loss: 0.2789 - val_acc: 0.9225\n",
            "Epoch 29/50\n",
            "50000/50000 [==============================] - 7s 131us/step - loss: 0.2965 - acc: 0.9177 - val_loss: 0.2737 - val_acc: 0.9245\n",
            "Epoch 30/50\n",
            "50000/50000 [==============================] - 7s 132us/step - loss: 0.2910 - acc: 0.9193 - val_loss: 0.2689 - val_acc: 0.9252\n",
            "Epoch 31/50\n",
            "50000/50000 [==============================] - 7s 131us/step - loss: 0.2859 - acc: 0.9205 - val_loss: 0.2650 - val_acc: 0.9260\n",
            "Epoch 32/50\n",
            "50000/50000 [==============================] - 7s 135us/step - loss: 0.2810 - acc: 0.9220 - val_loss: 0.2604 - val_acc: 0.9273\n",
            "Epoch 33/50\n",
            "50000/50000 [==============================] - 7s 132us/step - loss: 0.2762 - acc: 0.9229 - val_loss: 0.2563 - val_acc: 0.9278\n",
            "Epoch 34/50\n",
            "50000/50000 [==============================] - 7s 131us/step - loss: 0.2718 - acc: 0.9247 - val_loss: 0.2526 - val_acc: 0.9293\n",
            "Epoch 35/50\n",
            "50000/50000 [==============================] - 7s 132us/step - loss: 0.2675 - acc: 0.9255 - val_loss: 0.2487 - val_acc: 0.9303\n",
            "Epoch 36/50\n",
            "50000/50000 [==============================] - 7s 133us/step - loss: 0.2633 - acc: 0.9264 - val_loss: 0.2456 - val_acc: 0.9311\n",
            "Epoch 37/50\n",
            "50000/50000 [==============================] - 7s 133us/step - loss: 0.2594 - acc: 0.9275 - val_loss: 0.2422 - val_acc: 0.9325\n",
            "Epoch 38/50\n",
            "50000/50000 [==============================] - 7s 132us/step - loss: 0.2555 - acc: 0.9288 - val_loss: 0.2385 - val_acc: 0.9338\n",
            "Epoch 39/50\n",
            "50000/50000 [==============================] - 7s 131us/step - loss: 0.2519 - acc: 0.9296 - val_loss: 0.2357 - val_acc: 0.9336\n",
            "Epoch 40/50\n",
            "50000/50000 [==============================] - 7s 134us/step - loss: 0.2483 - acc: 0.9310 - val_loss: 0.2325 - val_acc: 0.9350\n",
            "Epoch 41/50\n",
            "50000/50000 [==============================] - 7s 131us/step - loss: 0.2448 - acc: 0.9315 - val_loss: 0.2296 - val_acc: 0.9357\n",
            "Epoch 42/50\n",
            "50000/50000 [==============================] - 7s 131us/step - loss: 0.2415 - acc: 0.9324 - val_loss: 0.2266 - val_acc: 0.9370\n",
            "Epoch 43/50\n",
            "50000/50000 [==============================] - 7s 132us/step - loss: 0.2383 - acc: 0.9335 - val_loss: 0.2240 - val_acc: 0.9378\n",
            "Epoch 44/50\n",
            "50000/50000 [==============================] - 7s 132us/step - loss: 0.2351 - acc: 0.9340 - val_loss: 0.2211 - val_acc: 0.9390\n",
            "Epoch 45/50\n",
            "50000/50000 [==============================] - 6s 129us/step - loss: 0.2320 - acc: 0.9352 - val_loss: 0.2187 - val_acc: 0.9399\n",
            "Epoch 46/50\n",
            "50000/50000 [==============================] - 7s 131us/step - loss: 0.2291 - acc: 0.9358 - val_loss: 0.2166 - val_acc: 0.9397\n",
            "Epoch 47/50\n",
            "50000/50000 [==============================] - 7s 130us/step - loss: 0.2262 - acc: 0.9364 - val_loss: 0.2141 - val_acc: 0.9412\n",
            "Epoch 48/50\n",
            "50000/50000 [==============================] - 7s 132us/step - loss: 0.2233 - acc: 0.9371 - val_loss: 0.2115 - val_acc: 0.9423\n",
            "Epoch 49/50\n",
            "50000/50000 [==============================] - 7s 132us/step - loss: 0.2207 - acc: 0.9376 - val_loss: 0.2094 - val_acc: 0.9424\n",
            "Epoch 50/50\n",
            "50000/50000 [==============================] - 7s 131us/step - loss: 0.2180 - acc: 0.9387 - val_loss: 0.2072 - val_acc: 0.9432\n"
          ],
          "name": "stdout"
        }
      ]
    },
    {
      "cell_type": "code",
      "metadata": {
        "id": "RzbY74mhq0wH",
        "outputId": "be561be5-e426-4e66-9a6d-530e0e303e2f",
        "colab": {
          "base_uri": "https://localhost:8080/",
          "height": 521
        }
      },
      "source": [
        "plt.plot(np.arange(50), history2.history['val_loss'])\n",
        "plt.plot(np.arange(50), history2.history['loss'])\n",
        "plt.show()\n",
        "plt.plot(np.arange(50), history2.history['val_accuracy'])\n",
        "plt.plot(np.arange(50), history2.history['accuracy'])\n",
        "plt.show()"
      ],
      "execution_count": null,
      "outputs": [
        {
          "output_type": "display_data",
          "data": {
            "image/png": "[encoded data removed]",
            "text/plain": [
              "<Figure size 432x288 with 1 Axes>"
            ]
          },
          "metadata": {
            "tags": []
          }
        },
        {
          "output_type": "display_data",
          "data": {
            "image/png": "[encoded data removed]",
            "text/plain": [
              "<Figure size 432x288 with 1 Axes>"
            ]
          },
          "metadata": {
            "tags": []
          }
        }
      ]
    },
    {
      "cell_type": "markdown",
      "metadata": {
        "id": "A-zfic8f35dI"
      },
      "source": [
        "Na testovanie potom použijeme metódu eval"
      ]
    },
    {
      "cell_type": "code",
      "metadata": {
        "id": "2_jWIYC38l1f",
        "outputId": "9791c6d2-16eb-48cd-8d14-d97bee9aa6d9",
        "colab": {
          "base_uri": "https://localhost:8080/",
          "height": 68
        }
      },
      "source": [
        "loss, accuracy = model2.evaluate(x_test,y_test)\n",
        "print(\"Loss: {}\".format(loss))\n",
        "print(\"Accuracy: {}\".format(accuracy))"
      ],
      "execution_count": null,
      "outputs": [
        {
          "output_type": "stream",
          "text": [
            "10000/10000 [==============================] - 1s 52us/step\n",
            "Loss: 0.21701645460128785\n",
            "Accuracy: 0.9394\n"
          ],
          "name": "stdout"
        }
      ]
    },
    {
      "cell_type": "markdown",
      "metadata": {
        "id": "ndiLL_zyCU-U"
      },
      "source": [
        "## Nastavenie trénovacieho kroku\n",
        "\n",
        "Už sme si ukázali ako zobraziť vývoj trénovania. Teraz si pozrieme ako nastaviť krok aby sa nám podarilo nájsť ideálny startovací bod."
      ]
    },
    {
      "cell_type": "code",
      "metadata": {
        "id": "w62iWhxNG0Zs",
        "outputId": "a18a9e74-45d0-43db-ebd4-2d977c26c20d",
        "colab": {
          "base_uri": "https://localhost:8080/",
          "height": 1000
        }
      },
      "source": [
        "lr_list = [0.3, 0.1, 0.03, 0.01, 0.003, 0.001]\n",
        "\n",
        "\n",
        "for lr in lr_list:\n",
        "  model = Sequential()\n",
        "  model.add(Dense(30, activation='sigmoid'))\n",
        "  model.add(Dense(20, activation='sigmoid'))\n",
        "  model.add(Dense(10, activation='softmax'))\n",
        "  sgd = keras.optimizers.SGD(lr)\n",
        "  loss = keras.losses.categorical_crossentropy\n",
        "  model.compile(loss=loss,\n",
        "                optimizer=sgd,\n",
        "                metrics=['accuracy'])\n",
        "  h = model.fit(x_train, y_train, validation_data=(x_val, y_val), batch_size=32, epochs=5)\n",
        "  plt.plot(np.arange(5), h.history['val_loss'])\n",
        "  \n",
        "plt.show()"
      ],
      "execution_count": null,
      "outputs": [
        {
          "output_type": "stream",
          "text": [
            "Train on 50000 samples, validate on 10000 samples\n",
            "Epoch 1/5\n",
            "50000/50000 [==============================] - 7s 146us/step - loss: 0.7223 - acc: 0.7903 - val_loss: 0.2984 - val_acc: 0.9143\n",
            "Epoch 2/5\n",
            "50000/50000 [==============================] - 7s 134us/step - loss: 0.2714 - acc: 0.9221 - val_loss: 0.2246 - val_acc: 0.9368\n",
            "Epoch 3/5\n",
            "50000/50000 [==============================] - 7s 139us/step - loss: 0.2017 - acc: 0.9407 - val_loss: 0.1937 - val_acc: 0.9430\n",
            "Epoch 4/5\n",
            "50000/50000 [==============================] - 7s 139us/step - loss: 0.1669 - acc: 0.9504 - val_loss: 0.1535 - val_acc: 0.9570\n",
            "Epoch 5/5\n",
            "50000/50000 [==============================] - 7s 131us/step - loss: 0.1437 - acc: 0.9569 - val_loss: 0.1570 - val_acc: 0.9556\n",
            "Train on 50000 samples, validate on 10000 samples\n",
            "Epoch 1/5\n",
            "50000/50000 [==============================] - 7s 141us/step - loss: 1.2208 - acc: 0.6707 - val_loss: 0.5138 - val_acc: 0.8695\n",
            "Epoch 2/5\n",
            "50000/50000 [==============================] - 6s 126us/step - loss: 0.4409 - acc: 0.8792 - val_loss: 0.3419 - val_acc: 0.9085\n",
            "Epoch 3/5\n",
            "50000/50000 [==============================] - 6s 130us/step - loss: 0.3321 - acc: 0.9079 - val_loss: 0.2867 - val_acc: 0.9199\n",
            "Epoch 4/5\n",
            "50000/50000 [==============================] - 6s 129us/step - loss: 0.2769 - acc: 0.9213 - val_loss: 0.2398 - val_acc: 0.9338\n",
            "Epoch 5/5\n",
            "50000/50000 [==============================] - 6s 128us/step - loss: 0.2409 - acc: 0.9313 - val_loss: 0.2158 - val_acc: 0.9380\n",
            "Train on 50000 samples, validate on 10000 samples\n",
            "Epoch 1/5\n",
            "50000/50000 [==============================] - 7s 141us/step - loss: 1.9690 - acc: 0.4432 - val_loss: 1.4430 - val_acc: 0.6546\n",
            "Epoch 2/5\n",
            "50000/50000 [==============================] - 6s 129us/step - loss: 1.1028 - acc: 0.7280 - val_loss: 0.8269 - val_acc: 0.8051\n",
            "Epoch 3/5\n",
            "50000/50000 [==============================] - 7s 134us/step - loss: 0.7357 - acc: 0.8130 - val_loss: 0.6011 - val_acc: 0.8550\n",
            "Epoch 4/5\n",
            "50000/50000 [==============================] - 7s 133us/step - loss: 0.5681 - acc: 0.8558 - val_loss: 0.4775 - val_acc: 0.8820\n",
            "Epoch 5/5\n",
            "50000/50000 [==============================] - 7s 138us/step - loss: 0.4683 - acc: 0.8794 - val_loss: 0.4048 - val_acc: 0.8939\n",
            "Train on 50000 samples, validate on 10000 samples\n",
            "Epoch 1/5\n",
            "50000/50000 [==============================] - 8s 150us/step - loss: 2.2538 - acc: 0.2558 - val_loss: 2.1612 - val_acc: 0.4152\n",
            "Epoch 2/5\n",
            "50000/50000 [==============================] - 7s 133us/step - loss: 2.0281 - acc: 0.4454 - val_loss: 1.8473 - val_acc: 0.5321\n",
            "Epoch 3/5\n",
            "50000/50000 [==============================] - 7s 134us/step - loss: 1.6781 - acc: 0.5332 - val_loss: 1.4992 - val_acc: 0.6047\n",
            "Epoch 4/5\n",
            "50000/50000 [==============================] - 6s 129us/step - loss: 1.3903 - acc: 0.6238 - val_loss: 1.2527 - val_acc: 0.6899\n",
            "Epoch 5/5\n",
            "50000/50000 [==============================] - 7s 138us/step - loss: 1.1773 - acc: 0.6970 - val_loss: 1.0557 - val_acc: 0.7607\n",
            "Train on 50000 samples, validate on 10000 samples\n",
            "Epoch 1/5\n",
            "50000/50000 [==============================] - 7s 146us/step - loss: 2.3048 - acc: 0.2044 - val_loss: 2.2680 - val_acc: 0.3335\n",
            "Epoch 2/5\n",
            "50000/50000 [==============================] - 7s 132us/step - loss: 2.2546 - acc: 0.2636 - val_loss: 2.2380 - val_acc: 0.2745\n",
            "Epoch 3/5\n",
            "50000/50000 [==============================] - 7s 130us/step - loss: 2.2215 - acc: 0.3442 - val_loss: 2.1992 - val_acc: 0.4004\n",
            "Epoch 4/5\n",
            "50000/50000 [==============================] - 7s 131us/step - loss: 2.1776 - acc: 0.4349 - val_loss: 2.1467 - val_acc: 0.4957\n",
            "Epoch 5/5\n",
            "50000/50000 [==============================] - 7s 130us/step - loss: 2.1175 - acc: 0.4953 - val_loss: 2.0747 - val_acc: 0.5356\n",
            "Train on 50000 samples, validate on 10000 samples\n",
            "Epoch 1/5\n",
            "50000/50000 [==============================] - 7s 145us/step - loss: 2.3386 - acc: 0.1036 - val_loss: 2.3005 - val_acc: 0.1265\n",
            "Epoch 2/5\n",
            "50000/50000 [==============================] - 7s 131us/step - loss: 2.2886 - acc: 0.1367 - val_loss: 2.2822 - val_acc: 0.1166\n",
            "Epoch 3/5\n",
            "50000/50000 [==============================] - 7s 132us/step - loss: 2.2756 - acc: 0.1305 - val_loss: 2.2714 - val_acc: 0.1338\n",
            "Epoch 4/5\n",
            "50000/50000 [==============================] - 6s 129us/step - loss: 2.2654 - acc: 0.1728 - val_loss: 2.2610 - val_acc: 0.1926\n",
            "Epoch 5/5\n",
            "50000/50000 [==============================] - 7s 132us/step - loss: 2.2551 - acc: 0.2115 - val_loss: 2.2503 - val_acc: 0.2543\n"
          ],
          "name": "stdout"
        },
        {
          "output_type": "display_data",
          "data": {
            "image/png": "[encoded data removed]",
            "text/plain": [
              "<Figure size 432x288 with 1 Axes>"
            ]
          },
          "metadata": {
            "tags": []
          }
        }
      ]
    },
    {
      "cell_type": "markdown",
      "metadata": {
        "id": "McUfO2B7ISVE"
      },
      "source": [
        "Je vidno, že na začiatku trénovania je vhodné využiť väčší krok. Problém však môže nastať neskôr keď bude krok príliš veľký."
      ]
    },
    {
      "cell_type": "markdown",
      "metadata": {
        "id": "apn2zQHIJjg5"
      },
      "source": [
        "## Uloženie a nahratie modelu\n",
        "\n",
        "Teraz si ukážeme ako uložiť a nahrať model"
      ]
    },
    {
      "cell_type": "code",
      "metadata": {
        "id": "do0otgF5KhQ8",
        "outputId": "cc761a87-fbd2-48ce-fbf2-67e04a875d1a",
        "colab": {
          "base_uri": "https://localhost:8080/",
          "height": 224
        }
      },
      "source": [
        "model = Sequential()\n",
        "model.add(Dense(30, activation='sigmoid'))\n",
        "model.add(Dense(20, activation='sigmoid'))\n",
        "model.add(Dense(10, activation='softmax'))\n",
        "sgd = keras.optimizers.SGD(0.3)\n",
        "loss = keras.losses.categorical_crossentropy\n",
        "model.compile(loss=loss,\n",
        "              optimizer=sgd,\n",
        "              metrics=['accuracy'])\n",
        "h = model.fit(x_train, y_train, validation_data=(x_val, y_val), batch_size=32, epochs=5)\n",
        "model.save(\"model_5_epoch.h5\")"
      ],
      "execution_count": null,
      "outputs": [
        {
          "output_type": "stream",
          "text": [
            "Train on 50000 samples, validate on 10000 samples\n",
            "Epoch 1/5\n",
            "50000/50000 [==============================] - 7s 149us/step - loss: 0.6828 - acc: 0.7977 - val_loss: 0.2989 - val_acc: 0.9156\n",
            "Epoch 2/5\n",
            "50000/50000 [==============================] - 7s 135us/step - loss: 0.2596 - acc: 0.9240 - val_loss: 0.2056 - val_acc: 0.9429\n",
            "Epoch 3/5\n",
            "50000/50000 [==============================] - 7s 139us/step - loss: 0.1967 - acc: 0.9426 - val_loss: 0.1715 - val_acc: 0.9536\n",
            "Epoch 4/5\n",
            "50000/50000 [==============================] - 7s 136us/step - loss: 0.1600 - acc: 0.9533 - val_loss: 0.1548 - val_acc: 0.9575\n",
            "Epoch 5/5\n",
            "50000/50000 [==============================] - 7s 136us/step - loss: 0.1378 - acc: 0.9594 - val_loss: 0.1527 - val_acc: 0.9573\n"
          ],
          "name": "stdout"
        }
      ]
    },
    {
      "cell_type": "code",
      "metadata": {
        "id": "hN0mqOZpL1JI",
        "outputId": "eeab9e2c-ea04-4428-f611-3811842b562f",
        "colab": {
          "base_uri": "https://localhost:8080/",
          "height": 411
        }
      },
      "source": [
        "from keras.models import load_model\n",
        "\n",
        "model_loaded = load_model(\"model_5_epoch.h5\")\n",
        "\n",
        "h_l = model_loaded.fit(x_train, y_train, validation_data=(x_val, y_val), batch_size=32, epochs=10, initial_epoch=5)\n",
        "\n",
        "sgd = keras.optimizers.SGD(0.1)\n",
        "loss = keras.losses.categorical_crossentropy\n",
        "model_loaded.compile(loss=loss,\n",
        "                     optimizer=sgd,\n",
        "                     metrics=['accuracy'])\n",
        "h_l = model_loaded.fit(x_train, y_train, validation_data=(x_val, y_val), batch_size=32, epochs=15, initial_epoch=10)"
      ],
      "execution_count": null,
      "outputs": [
        {
          "output_type": "stream",
          "text": [
            "Train on 50000 samples, validate on 10000 samples\n",
            "Epoch 6/10\n",
            "50000/50000 [==============================] - 7s 138us/step - loss: 0.1220 - acc: 0.9642 - val_loss: 0.1381 - val_acc: 0.9611\n",
            "Epoch 7/10\n",
            "50000/50000 [==============================] - 7s 133us/step - loss: 0.1104 - acc: 0.9675 - val_loss: 0.1443 - val_acc: 0.9586\n",
            "Epoch 8/10\n",
            "50000/50000 [==============================] - 7s 134us/step - loss: 0.1015 - acc: 0.9697 - val_loss: 0.1285 - val_acc: 0.9646\n",
            "Epoch 9/10\n",
            "50000/50000 [==============================] - 6s 130us/step - loss: 0.0943 - acc: 0.9726 - val_loss: 0.1333 - val_acc: 0.9634\n",
            "Epoch 10/10\n",
            "50000/50000 [==============================] - 7s 133us/step - loss: 0.0866 - acc: 0.9746 - val_loss: 0.1332 - val_acc: 0.9614\n",
            "Train on 50000 samples, validate on 10000 samples\n",
            "Epoch 11/15\n",
            "50000/50000 [==============================] - 8s 150us/step - loss: 0.0708 - acc: 0.9801 - val_loss: 0.1219 - val_acc: 0.9654\n",
            "Epoch 12/15\n",
            "50000/50000 [==============================] - 7s 134us/step - loss: 0.0673 - acc: 0.9815 - val_loss: 0.1245 - val_acc: 0.9648\n",
            "Epoch 13/15\n",
            "50000/50000 [==============================] - 7s 134us/step - loss: 0.0654 - acc: 0.9827 - val_loss: 0.1244 - val_acc: 0.9643\n",
            "Epoch 14/15\n",
            "50000/50000 [==============================] - 7s 134us/step - loss: 0.0635 - acc: 0.9822 - val_loss: 0.1208 - val_acc: 0.9648\n",
            "Epoch 15/15\n",
            "50000/50000 [==============================] - 7s 132us/step - loss: 0.0620 - acc: 0.9837 - val_loss: 0.1225 - val_acc: 0.9659\n"
          ],
          "name": "stdout"
        }
      ]
    },
    {
      "cell_type": "markdown",
      "metadata": {
        "id": "Lduh4aqlM_pU"
      },
      "source": [
        "## Callbacky\n",
        "\n",
        "V predchádzajúcom príklade sme robili nejaké veci vždy po nejakej epoche (zmenšovanie kroku, ukladanie). Na to môžeme použiť aj tzv. callbacky. Tie použijeme pri volaní metódy fit. To si teraz otestujeme."
      ]
    },
    {
      "cell_type": "code",
      "metadata": {
        "id": "dI3Y2hSBU3_Z"
      },
      "source": [
        "model = Sequential()\n",
        "model.add(Dense(30, activation='sigmoid'))\n",
        "model.add(Dense(20, activation='sigmoid'))\n",
        "model.add(Dense(10, activation='softmax'))\n",
        "sgd = keras.optimizers.SGD(0.3)\n",
        "loss = keras.losses.categorical_crossentropy\n",
        "model.compile(loss=loss,\n",
        "              optimizer=sgd,\n",
        "              metrics=['accuracy'])\n"
      ],
      "execution_count": null,
      "outputs": []
    },
    {
      "cell_type": "code",
      "metadata": {
        "id": "LSTIdoDkVXCk"
      },
      "source": [
        "from keras.callbacks import *\n",
        "callbacks = []"
      ],
      "execution_count": null,
      "outputs": []
    },
    {
      "cell_type": "markdown",
      "metadata": {
        "id": "o9WtCDCmVKb2"
      },
      "source": [
        "Pomerne užitočný callback je ModelCheckpoint. V jeho konštruktore je možné definovať formu názvu uloženého súboru. Takisto je možné udržať si uložený len checkpoint napr. s najlepšou validačnou presnosťou."
      ]
    },
    {
      "cell_type": "code",
      "metadata": {
        "id": "ckVw3fChVsNU"
      },
      "source": [
        "callbacks.append(ModelCheckpoint('mnist_{epoch:02d}-{val_loss:.8f}-{val_accuracy:.4f}.h5', verbose=1, period=1))"
      ],
      "execution_count": null,
      "outputs": []
    },
    {
      "cell_type": "markdown",
      "metadata": {
        "id": "4dLp57_BWVDL"
      },
      "source": [
        "Tensorboard callback nám umožňuje sledovať vývoj tréningu pomocou utility TensorBoard"
      ]
    },
    {
      "cell_type": "code",
      "metadata": {
        "id": "DkQHJPxPWrZv"
      },
      "source": [
        "callbacks.append(TensorBoard(log_dir='./logs'))"
      ],
      "execution_count": null,
      "outputs": []
    },
    {
      "cell_type": "markdown",
      "metadata": {
        "id": "TKoWjrcqcBjF"
      },
      "source": [
        "Early Stopping nám umožní skončiť trénovanie ak sa dostaneme do situácie ak sa nejaká metrika (validačná presnosť, alebo loss) nezlepšuje počas nejakého množstva epôch."
      ]
    },
    {
      "cell_type": "code",
      "metadata": {
        "id": "JWrNEUOicEc6"
      },
      "source": [
        "callbacks.append(EarlyStopping(monitor='val_loss', patience=5, verbose=1))"
      ],
      "execution_count": null,
      "outputs": []
    },
    {
      "cell_type": "markdown",
      "metadata": {
        "id": "k9gnapdVXyLd"
      },
      "source": [
        "Podobne použijeme callback, ktorý v prípade, že sa dostaneme do situácie ak sa nejaká metrika nezlepšuje, tak zníži krok optimalizačného algoritmu."
      ]
    },
    {
      "cell_type": "code",
      "metadata": {
        "id": "cT3CFvoeY7Pd"
      },
      "source": [
        "callbacks.append(ReduceLROnPlateau(monitor='val_loss', factor=0.2, patience=2, min_lr=0.0001, verbose=1))"
      ],
      "execution_count": null,
      "outputs": []
    },
    {
      "cell_type": "markdown",
      "metadata": {
        "id": "AXcmO3nNZhuT"
      },
      "source": [
        "Nakoniec môžeme trénovať."
      ]
    },
    {
      "cell_type": "code",
      "metadata": {
        "id": "oiUHRA0HZjkO",
        "outputId": "5f3fc383-ff70-46f1-d6c4-5afa2350b14d",
        "colab": {
          "base_uri": "https://localhost:8080/",
          "height": 1000
        }
      },
      "source": [
        "model.fit(x_train, y_train, validation_data=(x_val, y_val), epochs=30, callbacks=callbacks, batch_size=32)"
      ],
      "execution_count": null,
      "outputs": [
        {
          "output_type": "stream",
          "text": [
            "Train on 50000 samples, validate on 10000 samples\n",
            "WARNING:tensorflow:From /usr/local/lib/python3.6/dist-packages/keras/callbacks.py:1122: The name tf.summary.merge_all is deprecated. Please use tf.compat.v1.summary.merge_all instead.\n",
            "\n",
            "Epoch 1/30\n",
            "50000/50000 [==============================] - 7s 145us/step - loss: 0.7009 - acc: 0.7957 - val_loss: 0.2791 - val_acc: 0.9232\n",
            "\n",
            "Epoch 00001: saving model to mnist_01-0.27911393-0.9232.h5\n",
            "Epoch 2/30\n",
            "50000/50000 [==============================] - 7s 137us/step - loss: 0.2563 - acc: 0.9263 - val_loss: 0.2287 - val_acc: 0.9314\n",
            "\n",
            "Epoch 00002: saving model to mnist_02-0.22871561-0.9314.h5\n",
            "Epoch 3/30\n",
            "50000/50000 [==============================] - 7s 136us/step - loss: 0.1939 - acc: 0.9436 - val_loss: 0.1589 - val_acc: 0.9531\n",
            "\n",
            "Epoch 00003: saving model to mnist_03-0.15892626-0.9531.h5\n",
            "Epoch 4/30\n",
            "50000/50000 [==============================] - 7s 136us/step - loss: 0.1611 - acc: 0.9525 - val_loss: 0.1442 - val_acc: 0.9581\n",
            "\n",
            "Epoch 00004: saving model to mnist_04-0.14421442-0.9581.h5\n",
            "Epoch 5/30\n",
            "50000/50000 [==============================] - 7s 133us/step - loss: 0.1387 - acc: 0.9582 - val_loss: 0.1321 - val_acc: 0.9599\n",
            "\n",
            "Epoch 00005: saving model to mnist_05-0.13213147-0.9599.h5\n",
            "Epoch 6/30\n",
            "50000/50000 [==============================] - 7s 135us/step - loss: 0.1239 - acc: 0.9631 - val_loss: 0.1442 - val_acc: 0.9573\n",
            "\n",
            "Epoch 00006: saving model to mnist_06-0.14423344-0.9573.h5\n",
            "Epoch 7/30\n",
            "50000/50000 [==============================] - 7s 138us/step - loss: 0.1130 - acc: 0.9661 - val_loss: 0.1287 - val_acc: 0.9606\n",
            "\n",
            "Epoch 00007: saving model to mnist_07-0.12866882-0.9606.h5\n",
            "Epoch 8/30\n",
            "50000/50000 [==============================] - 7s 136us/step - loss: 0.1026 - acc: 0.9697 - val_loss: 0.1200 - val_acc: 0.9647\n",
            "\n",
            "Epoch 00008: saving model to mnist_08-0.11997853-0.9647.h5\n",
            "Epoch 9/30\n",
            "50000/50000 [==============================] - 7s 135us/step - loss: 0.0954 - acc: 0.9717 - val_loss: 0.1218 - val_acc: 0.9638\n",
            "\n",
            "Epoch 00009: saving model to mnist_09-0.12179321-0.9638.h5\n",
            "Epoch 10/30\n",
            "50000/50000 [==============================] - 7s 137us/step - loss: 0.0902 - acc: 0.9731 - val_loss: 0.1165 - val_acc: 0.9629\n",
            "\n",
            "Epoch 00010: saving model to mnist_10-0.11647940-0.9629.h5\n",
            "Epoch 11/30\n",
            "50000/50000 [==============================] - 7s 135us/step - loss: 0.0835 - acc: 0.9750 - val_loss: 0.1217 - val_acc: 0.9618\n",
            "\n",
            "Epoch 00011: saving model to mnist_11-0.12166740-0.9618.h5\n",
            "Epoch 12/30\n",
            "50000/50000 [==============================] - 7s 133us/step - loss: 0.0780 - acc: 0.9760 - val_loss: 0.1183 - val_acc: 0.9636\n",
            "\n",
            "Epoch 00012: saving model to mnist_12-0.11828887-0.9636.h5\n",
            "\n",
            "Epoch 00012: ReduceLROnPlateau reducing learning rate to 0.06000000238418579.\n",
            "Epoch 13/30\n",
            "50000/50000 [==============================] - 7s 137us/step - loss: 0.0608 - acc: 0.9830 - val_loss: 0.1088 - val_acc: 0.9666\n",
            "\n",
            "Epoch 00013: saving model to mnist_13-0.10883601-0.9666.h5\n",
            "Epoch 14/30\n",
            "50000/50000 [==============================] - 7s 138us/step - loss: 0.0581 - acc: 0.9842 - val_loss: 0.1093 - val_acc: 0.9659\n",
            "\n",
            "Epoch 00014: saving model to mnist_14-0.10926614-0.9659.h5\n",
            "Epoch 15/30\n",
            "50000/50000 [==============================] - 7s 140us/step - loss: 0.0571 - acc: 0.9846 - val_loss: 0.1089 - val_acc: 0.9658\n",
            "\n",
            "Epoch 00015: saving model to mnist_15-0.10885221-0.9658.h5\n",
            "\n",
            "Epoch 00015: ReduceLROnPlateau reducing learning rate to 0.012000000476837159.\n",
            "Epoch 16/30\n",
            "50000/50000 [==============================] - 7s 139us/step - loss: 0.0539 - acc: 0.9862 - val_loss: 0.1079 - val_acc: 0.9663\n",
            "\n",
            "Epoch 00016: saving model to mnist_16-0.10792685-0.9663.h5\n",
            "Epoch 17/30\n",
            "50000/50000 [==============================] - 7s 137us/step - loss: 0.0535 - acc: 0.9863 - val_loss: 0.1078 - val_acc: 0.9664\n",
            "\n",
            "Epoch 00017: saving model to mnist_17-0.10778689-0.9664.h5\n",
            "Epoch 18/30\n",
            "50000/50000 [==============================] - 7s 136us/step - loss: 0.0533 - acc: 0.9863 - val_loss: 0.1074 - val_acc: 0.9666\n",
            "\n",
            "Epoch 00018: saving model to mnist_18-0.10736712-0.9666.h5\n",
            "Epoch 19/30\n",
            "50000/50000 [==============================] - 7s 137us/step - loss: 0.0531 - acc: 0.9864 - val_loss: 0.1078 - val_acc: 0.9664\n",
            "\n",
            "Epoch 00019: saving model to mnist_19-0.10781668-0.9664.h5\n",
            "Epoch 20/30\n",
            "50000/50000 [==============================] - 7s 136us/step - loss: 0.0529 - acc: 0.9865 - val_loss: 0.1077 - val_acc: 0.9662\n",
            "\n",
            "Epoch 00020: saving model to mnist_20-0.10773215-0.9662.h5\n",
            "\n",
            "Epoch 00020: ReduceLROnPlateau reducing learning rate to 0.002400000020861626.\n",
            "Epoch 21/30\n",
            "50000/50000 [==============================] - 7s 137us/step - loss: 0.0522 - acc: 0.9868 - val_loss: 0.1076 - val_acc: 0.9665\n",
            "\n",
            "Epoch 00021: saving model to mnist_21-0.10757455-0.9665.h5\n",
            "Epoch 22/30\n",
            "50000/50000 [==============================] - 7s 135us/step - loss: 0.0522 - acc: 0.9868 - val_loss: 0.1076 - val_acc: 0.9664\n",
            "\n",
            "Epoch 00022: saving model to mnist_22-0.10760463-0.9664.h5\n",
            "\n",
            "Epoch 00022: ReduceLROnPlateau reducing learning rate to 0.00048000002279877666.\n",
            "Epoch 23/30\n",
            "50000/50000 [==============================] - 7s 135us/step - loss: 0.0520 - acc: 0.9867 - val_loss: 0.1076 - val_acc: 0.9664\n",
            "\n",
            "Epoch 00023: saving model to mnist_23-0.10760081-0.9664.h5\n",
            "Epoch 00023: early stopping\n"
          ],
          "name": "stdout"
        },
        {
          "output_type": "execute_result",
          "data": {
            "text/plain": [
              "<keras.callbacks.History at 0x7fd1107b7dd8>"
            ]
          },
          "metadata": {
            "tags": []
          },
          "execution_count": 29
        }
      ]
    },
    {
      "cell_type": "markdown",
      "metadata": {
        "id": "_LZHfjjjcpEx"
      },
      "source": [
        "Výsledkom tohto postupu je postupné znižovanie kroku a ukladanie modelov popri trénovaní. Modely môžeme načítať ako sme si už ukázali. Takisto sa nám uložila zložka logs s dátami pre TensorBoard."
      ]
    },
    {
      "cell_type": "code",
      "metadata": {
        "id": "crpVeDj3dA_C",
        "outputId": "1941648e-7027-45b5-e690-38580ffbcd9e",
        "colab": {
          "base_uri": "https://localhost:8080/",
          "height": 17
        }
      },
      "source": [
        "%load_ext tensorboard\n",
        "%tensorboard --logdir logs"
      ],
      "execution_count": null,
      "outputs": [
        {
          "output_type": "display_data",
          "data": {
            "text/html": [
              "\n",
              "    <div id=\"root\"></div>\n",
              "    <script>\n",
              "      (function() {\n",
              "        window.TENSORBOARD_ENV = window.TENSORBOARD_ENV || {};\n",
              "        window.TENSORBOARD_ENV[\"IN_COLAB\"] = true;\n",
              "        document.querySelector(\"base\").href = \"https://localhost:6006\";\n",
              "        function fixUpTensorboard(root) {\n",
              "          const tftb = root.querySelector(\"tf-tensorboard\");\n",
              "          // Disable the fragment manipulation behavior in Colab. Not\n",
              "          // only is the behavior not useful (as the iframe's location\n",
              "          // is not visible to the user), it causes TensorBoard's usage\n",
              "          // of `window.replace` to navigate away from the page and to\n",
              "          // the `localhost:<port>` URL specified by the base URI, which\n",
              "          // in turn causes the frame to (likely) crash.\n",
              "          tftb.removeAttribute(\"use-hash\");\n",
              "        }\n",
              "        function executeAllScripts(root) {\n",
              "          // When `script` elements are inserted into the DOM by\n",
              "          // assigning to an element's `innerHTML`, the scripts are not\n",
              "          // executed. Thus, we manually re-insert these scripts so that\n",
              "          // TensorBoard can initialize itself.\n",
              "          for (const script of root.querySelectorAll(\"script\")) {\n",
              "            const newScript = document.createElement(\"script\");\n",
              "            newScript.type = script.type;\n",
              "            newScript.textContent = script.textContent;\n",
              "            root.appendChild(newScript);\n",
              "            script.remove();\n",
              "          }\n",
              "        }\n",
              "        function setHeight(root, height) {\n",
              "          // We set the height dynamically after the TensorBoard UI has\n",
              "          // been initialized. This avoids an intermediate state in\n",
              "          // which the container plus the UI become taller than the\n",
              "          // final width and cause the Colab output frame to be\n",
              "          // permanently resized, eventually leading to an empty\n",
              "          // vertical gap below the TensorBoard UI. It's not clear\n",
              "          // exactly what causes this problematic intermediate state,\n",
              "          // but setting the height late seems to fix it.\n",
              "          root.style.height = `${height}px`;\n",
              "        }\n",
              "        const root = document.getElementById(\"root\");\n",
              "        fetch(\".\")\n",
              "          .then((x) => x.text())\n",
              "          .then((html) => void (root.innerHTML = html))\n",
              "          .then(() => fixUpTensorboard(root))\n",
              "          .then(() => executeAllScripts(root))\n",
              "          .then(() => setHeight(root, 800));\n",
              "      })();\n",
              "    </script>\n",
              "  "
            ],
            "text/plain": [
              "<IPython.core.display.HTML object>"
            ]
          },
          "metadata": {
            "tags": []
          }
        }
      ]
    },
    {
      "cell_type": "code",
      "metadata": {
        "id": "HgukallNmCVZ",
        "outputId": "a04d6947-9e3d-43d6-8417-e89cae1cb650",
        "colab": {
          "base_uri": "https://localhost:8080/",
          "height": 34
        }
      },
      "source": [
        "!kill 1672"
      ],
      "execution_count": null,
      "outputs": [
        {
          "output_type": "stream",
          "text": [
            "/bin/bash: line 0: kill: (1672) - No such process\n"
          ],
          "name": "stdout"
        }
      ]
    },
    {
      "cell_type": "markdown",
      "metadata": {
        "id": "urhL7BF2zaoy"
      },
      "source": [
        "### Úloha 1\n",
        "\n",
        "Existuje aj callback LearningRateScheduler. Nájdite si ho v dokumentácií kerasu a spustite si tréning s týmto callbackom, tak aby sa zmenšovanie kroku dialo podobne ako keď sme použili ReduceLROnPlateau."
      ]
    },
    {
      "cell_type": "markdown",
      "metadata": {
        "id": "Jl7J5Xu2fES9"
      },
      "source": [
        "## Regularizácia\n",
        "\n",
        "Pri splite sme si ukazovali ako nastáva tzv. overfitting kedy sa model sa zlepšuje na trénovacej množine, ale voči validačnej stagnuje, alebo sa dokonca zhoršuje. Prístupy riešenia tohto problému je viacero. Teraz si ukážeme jeden prístup. Ten je založený na pozmenení výrazu cenovej funkcie. Tá bude mať tvar:\n",
        "\n",
        "$$ C_r = C + \\lambda R,$$\n",
        "\n",
        "kde $C$ je naša pôvodná cenová funkcia a $R$ je regularizačná cenová funkcia. Rozdiel medzi nimi je hlavne v tom, že $R$ je funkciou parametrov siete a vôbec nezávisí na trénovacích dátach. $\\lambda$ je hyperparameter ktorý určuje \"silu\" regularizácie. Najpoužívanejšie regularizačné cenové funkcie sú tzv. L1 a L2 regularizácia.\n",
        "\n",
        "$$ R_{L1} = \\sum_{w \\in W} |w|$$\n",
        "$$ R_{L2} = \\sum_{w \\in W} w^2$$\n",
        "\n",
        "kde $W$ je množina parametrov na ktoré aplikujeme regularizáciu. Ako je značením naznačené, tak túto regularizáciu budeme aplikovať iba na váhové vektory. Regularizáciu si teraz otestujeme na umelom príklade, kde sa pokúsime natrénovať model iba na 50 príkladoch z trénovacej množiny. Najprv bez regularizácie."
      ]
    },
    {
      "cell_type": "code",
      "metadata": {
        "id": "W-eHzRZzZmNH",
        "outputId": "6e838d9e-fb50-4153-bc30-591ec5ebcc18",
        "colab": {
          "base_uri": "https://localhost:8080/",
          "height": 391
        }
      },
      "source": [
        "x_mini = np.repeat(x[:20], 1000, axis=0)\n",
        "y_mini = np.repeat(y[:20], 1000, axis=0)\n",
        "\n",
        "model = Sequential()\n",
        "model.add(Dense(30, activation='sigmoid'))\n",
        "model.add(Dense(20, activation='sigmoid'))\n",
        "model.add(Dense(10, activation='softmax'))\n",
        "\n",
        "loss = keras.losses.categorical_crossentropy\n",
        "sgd = keras.optimizers.SGD(0.3)\n",
        "model.compile(loss=loss,\n",
        "              optimizer=sgd,\n",
        "              metrics=['accuracy'])\n",
        "\n",
        "h_r = model.fit(x_mini, y_mini, steps_per_epoch=1000, epochs=10)\n",
        "[loss, acc] = model.evaluate(x_val, y_val)\n",
        "print(\"Eval loss: {}, Eval acc: {}\".format(loss, acc))"
      ],
      "execution_count": null,
      "outputs": [
        {
          "output_type": "stream",
          "text": [
            "Epoch 1/10\n",
            "1000/1000 [==============================] - 5s 5ms/step - loss: 0.3342 - acc: 0.9220\n",
            "Epoch 2/10\n",
            "1000/1000 [==============================] - 4s 4ms/step - loss: 0.0105 - acc: 1.0000\n",
            "Epoch 3/10\n",
            "1000/1000 [==============================] - 4s 4ms/step - loss: 0.0052 - acc: 1.0000\n",
            "Epoch 4/10\n",
            "1000/1000 [==============================] - 4s 4ms/step - loss: 0.0034 - acc: 1.0000\n",
            "Epoch 5/10\n",
            "1000/1000 [==============================] - 4s 4ms/step - loss: 0.0025 - acc: 1.0000\n",
            "Epoch 6/10\n",
            "1000/1000 [==============================] - 4s 4ms/step - loss: 0.0020 - acc: 1.0000\n",
            "Epoch 7/10\n",
            "1000/1000 [==============================] - 4s 4ms/step - loss: 0.0017 - acc: 1.0000\n",
            "Epoch 8/10\n",
            "1000/1000 [==============================] - 4s 4ms/step - loss: 0.0014 - acc: 1.0000\n",
            "Epoch 9/10\n",
            "1000/1000 [==============================] - 4s 4ms/step - loss: 0.0012 - acc: 1.0000\n",
            "Epoch 10/10\n",
            "1000/1000 [==============================] - 4s 4ms/step - loss: 0.0011 - acc: 1.0000\n",
            "10000/10000 [==============================] - 1s 82us/step\n",
            "Eval loss: 2.0962120551109313, Eval acc: 0.5512\n"
          ],
          "name": "stdout"
        }
      ]
    },
    {
      "cell_type": "code",
      "metadata": {
        "id": "U8Ef6C2w4yJi",
        "outputId": "9957d40f-d221-4071-80a9-fab6a75f9ba5",
        "colab": {
          "base_uri": "https://localhost:8080/",
          "height": 391
        }
      },
      "source": [
        "from keras.regularizers import l1, l2\n",
        "\n",
        "x_mini = np.repeat(x[:20], 1000, axis=0)\n",
        "y_mini = np.repeat(y[:20], 1000, axis=0)\n",
        "\n",
        "lmbda = 0.0001\n",
        "model = Sequential()\n",
        "model.add(Dense(30, activation='sigmoid', kernel_regularizer=l2(lmbda)))\n",
        "model.add(Dense(20, activation='sigmoid', kernel_regularizer=l2(lmbda)))\n",
        "model.add(Dense(10, activation='softmax', kernel_regularizer=l2(lmbda)))\n",
        "\n",
        "loss = keras.losses.categorical_crossentropy\n",
        "sgd = keras.optimizers.SGD(0.3)\n",
        "model.compile(loss=loss,\n",
        "              optimizer=sgd,\n",
        "              metrics=['accuracy'])\n",
        "\n",
        "h_r = model.fit(x_mini, y_mini, steps_per_epoch=1000, epochs=10)\n",
        "[loss, acc] = model.evaluate(x_val, y_val)\n",
        "print(\"Eval loss: {}, Eval acc: {}\".format(loss, acc))"
      ],
      "execution_count": null,
      "outputs": [
        {
          "output_type": "stream",
          "text": [
            "Epoch 1/10\n",
            "1000/1000 [==============================] - 5s 5ms/step - loss: 0.3600 - acc: 0.9313\n",
            "Epoch 2/10\n",
            "1000/1000 [==============================] - 4s 4ms/step - loss: 0.0590 - acc: 1.0000\n",
            "Epoch 3/10\n",
            "1000/1000 [==============================] - 4s 4ms/step - loss: 0.0551 - acc: 1.0000\n",
            "Epoch 4/10\n",
            "1000/1000 [==============================] - 4s 4ms/step - loss: 0.0534 - acc: 1.0000\n",
            "Epoch 5/10\n",
            "1000/1000 [==============================] - 4s 4ms/step - loss: 0.0522 - acc: 1.0000\n",
            "Epoch 6/10\n",
            "1000/1000 [==============================] - 4s 4ms/step - loss: 0.0513 - acc: 1.0000\n",
            "Epoch 7/10\n",
            "1000/1000 [==============================] - 4s 4ms/step - loss: 0.0504 - acc: 1.0000\n",
            "Epoch 8/10\n",
            "1000/1000 [==============================] - 4s 4ms/step - loss: 0.0497 - acc: 1.0000\n",
            "Epoch 9/10\n",
            "1000/1000 [==============================] - 4s 4ms/step - loss: 0.0491 - acc: 1.0000\n",
            "Epoch 10/10\n",
            "1000/1000 [==============================] - 4s 4ms/step - loss: 0.0485 - acc: 1.0000\n",
            "10000/10000 [==============================] - 1s 94us/step\n",
            "Eval loss: 1.7875657912254332, Eval acc: 0.5453\n"
          ],
          "name": "stdout"
        }
      ]
    },
    {
      "cell_type": "markdown",
      "metadata": {
        "id": "87VKu-O44zTh"
      },
      "source": [
        "### Úloha 2\n",
        "\n",
        "Nájdite pre tento prípad najlepší parameter $\\lambda$ a krok optimalizačného algoritmu a porovnajte l1 a l2 regularizáciu."
      ]
    },
    {
      "cell_type": "code",
      "metadata": {
        "id": "DfGPc5T4510U"
      },
      "source": [
        ""
      ],
      "execution_count": null,
      "outputs": []
    }
  ]
}
{
  "nbformat": 4,
  "nbformat_minor": 0,
  "metadata": {
    "colab": {
      "name": "cv07.ipynb",
      "provenance": [],
      "collapsed_sections": [],
      "toc_visible": true,
      "include_colab_link": true
    },
    "kernelspec": {
      "name": "python3",
      "display_name": "Python 3"
    },
    "accelerator": "GPU"
  },
  "cells": [
    {
      "cell_type": "markdown",
      "metadata": {
        "id": "view-in-github",
        "colab_type": "text"
      },
      "source": [
        "<a href=\"https://colab.research.google.com/github/kocurvik/edu/blob/master/PNNPPV/notebooky/cv07.ipynb\" target=\"_parent\"><img src=\"https://colab.research.google.com/assets/colab-badge.svg\" alt=\"Open In Colab\"/></a>"
      ]
    },
    {
      "cell_type": "markdown",
      "metadata": {
        "id": "NlINbptx_CDZ"
      },
      "source": [
        "# 7. cvičenie - Fine-tuning a vizualizácia\n",
        "\n",
        "Na dnešnom cvičení si prejdeme metódu tzv. fine-tuningu, ktorá spadá pod tzv. metódy transfer learningu. Túto úlohu vyskúšate na Google Cloude. V druhej časti cvičenia si skúsime zobraziť ktoré časti obrázku sú pre sieť dôležité na klasifikáciu.\n",
        "\n",
        "## 1. Úloha\n",
        "\n",
        "Túto úlohu vypracujte na cloude. Pripraviť si ju môžete u seba, alebo v Colabe. Skúste si ju však spustiť aj na cloude.\n",
        "\n",
        "V tejto úlohe budeme trénovať sieť s predtrénovanými váhami tzv. fine-tuning alebo transfer learning. Predtrénované modely prevezmeme z [keras applications](https://keras.io/applications/) na datasete cats vs. dogs, ktorý stiahnete napríklad tu:\n",
        "\n",
        "```\n",
        "https://www.floydhub.com/swaroopgrs/datasets/dogscats/1\n",
        "```\n",
        "alebo\n",
        "```\n",
        "https://files.fast.ai/data/examples/dogscats.tgz\n",
        "```\n",
        "\n",
        "Pre prácu s datasetom použite ImageDataGenerator a jeho metódu flow_from_directory.\n",
        "\n",
        "\n",
        "Po načítaní modelu máme tri možnosti, buď ponecháme vrstvy ako trénovateľne, všetky zamrazíme, alebo zamrazíme len niektoré začiatočne. Zmrziť vrstvy môýžeme napr.:\n",
        "```python\n",
        "xception = keras.applications.xception.Xception(include_top = False)\n",
        "for layer in xception.layers:\n",
        "    layer.trainable = False\n",
        "```\n",
        "\n",
        "Model použite \"bez vrcholu\" (include_top = False). A pridajte ho ako \"vrstvu\" do sekvenčného modelu a po ňom realizujte globálny pooling a kratšiu plne prepojenú sieť na klasifikáciu. Otestujte ako ide tréning pre všetky tri možnosti trénovania častí siete.\n"
      ]
    },
    {
      "cell_type": "markdown",
      "metadata": {
        "id": "8RZwi9aiAJ1-"
      },
      "source": [
        "## Vizualizácia častí obrazu dôležitých pre sieť\n",
        "\n",
        "Teraz si skúsime overiť ktoré časti v obraze sú pre klasifikáciu dôležité. To spravíme tak, že si vezmeme testovací obrázok zistíme ako sieť klasifikuje. Potom do obrázka budeme vkladať na rôzne miesta čierny štvorec. Potom zistíme ako veľmi sa zmenila predpoveď modelu. Z týchto zmien potom spravíme heatmapu."
      ]
    },
    {
      "cell_type": "code",
      "metadata": {
        "id": "J_BBXq6y-ow7"
      },
      "source": [
        "import keras\n",
        "import cv2\n",
        "import numpy as np\n",
        "from keras.applications.imagenet_utils import preprocess_input, decode_predictions\n",
        "import matplotlib.pyplot as plt"
      ],
      "execution_count": null,
      "outputs": []
    },
    {
      "cell_type": "markdown",
      "metadata": {
        "id": "mrZBoP3rGV2F"
      },
      "source": [
        "Toto spravíme znova s predtrénovaným modelom."
      ]
    },
    {
      "cell_type": "code",
      "metadata": {
        "id": "Tp6kx6zyGUuk"
      },
      "source": [
        "resnet = keras.applications.resnet.ResNet50()"
      ],
      "execution_count": null,
      "outputs": []
    },
    {
      "cell_type": "markdown",
      "metadata": {
        "id": "7LVOYMyYOPmP"
      },
      "source": [
        "Načítame si testovací obrázok a zmeníme jeho rozmery."
      ]
    },
    {
      "cell_type": "code",
      "metadata": {
        "id": "xRnmRsRiL0jX"
      },
      "source": [
        "test_imgs = []\n",
        "!wget https://pixnio.com/free-images/2017/06/08/2017-06-08-13-53-59-900x576.jpg\n",
        "test_imgs.append(cv2.resize(cv2.imread('2017-06-08-13-53-59-900x576.jpg'),(224,224)))\n",
        "!wget https://storage.needpix.com/rsynced_images/diver-1881751_1280.jpg\n",
        "test_imgs.append(cv2.resize(cv2.imread('diver-1881751_1280.jpg'),(224,224)))\n",
        "!wget https://cdn.pixabay.com/photo/2017/09/22/23/24/white-stork-2777489_960_720.jpg\n",
        "test_imgs.append(cv2.resize(cv2.imread('white-stork-2777489_960_720.jpg'),(224,224)))\n",
        "!wget https://upload.wikimedia.org/wikipedia/commons/thumb/8/84/Croatia_police_van_%2804%29.JPG/800px-Croatia_police_van_%2804%29.JPG\n",
        "test_imgs.append(cv2.resize(cv2.imread('800px-Croatia_police_van_(04).JPG'),(224,224)))\n"
      ],
      "execution_count": null,
      "outputs": []
    },
    {
      "cell_type": "markdown",
      "metadata": {
        "id": "neOXUgLROUgA"
      },
      "source": [
        "Pred vstupom do siete ešte aplikujeme predspracovanie, aby to korešpondovalo s natrénovanou sieťou. **Treba si taktiež dať pozor na to či je formát v BGR ako to má OpenCV, alebo RGB!**"
      ]
    },
    {
      "cell_type": "code",
      "metadata": {
        "id": "le7hrl_LHo77"
      },
      "source": [
        "pred = resnet.predict(preprocess_input(test_imgs[0])[None, :, :, :])\n",
        "print(np.argmax(pred[0]))\n",
        "print(decode_predictions(pred)[0])"
      ],
      "execution_count": null,
      "outputs": []
    },
    {
      "cell_type": "markdown",
      "metadata": {
        "id": "R-fMH8vx3_8C"
      },
      "source": [
        "Túto funkciu napíšte tak aby vrátila heatmapu veľkosti $rectangle\\_num \\times rectangle\\_num$. Jednotlivé elementy heatmapy budú reprezentovať to ako veľmi sa zmení predikcia pre pôvodnú triedu obrázku ak na korešpondujúce miesto v obrázku pridáme čierny štvorec veľkosti $rectangle\\_size \\times rectangle\\_size$.\n",
        "\n",
        "Pri implementácii skúste využiť to, že metóda model.predict dokáže spracovať viacero obrázkov naraz ak ich poukladáte \"na seba\" podobne ako pri generovaní batchu."
      ]
    },
    {
      "cell_type": "code",
      "metadata": {
        "id": "HeXbPdTROj5W"
      },
      "source": [
        "def generate_heatmap(img, model, rectangle_num, rectangle_size):\n",
        "  heatmap = np.zeros([rectangle_num, rectangle_num])\n",
        "  return heatmap"
      ],
      "execution_count": null,
      "outputs": []
    },
    {
      "cell_type": "markdown",
      "metadata": {
        "id": "oV8K0GLT4xt8"
      },
      "source": [
        "Tento kód by mal zobraziť heatmapy pre vybrané obrázky."
      ]
    },
    {
      "cell_type": "code",
      "metadata": {
        "id": "FL_OxjL0PqYN"
      },
      "source": [
        "for test_img in test_imgs:\n",
        "  hmap = generate_heatmap(test_img, resnet, 20, 9)\n",
        "  plt.imshow(hmap,cmap='gray')\n",
        "  plt.show()\n",
        "  plt.imshow(test_img[:,:,::-1])\n",
        "  plt.show()"
      ],
      "execution_count": null,
      "outputs": []
    }
  ]
}
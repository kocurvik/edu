{
  "nbformat": 4,
  "nbformat_minor": 0,
  "metadata": {
    "colab": {
      "name": "cv09.ipynb",
      "provenance": [],
      "collapsed_sections": [],
      "toc_visible": true,
      "include_colab_link": true
    },
    "kernelspec": {
      "name": "python3",
      "display_name": "Python 3"
    },
    "accelerator": "GPU"
  },
  "cells": [
    {
      "cell_type": "markdown",
      "metadata": {
        "id": "view-in-github",
        "colab_type": "text"
      },
      "source": [
        "<a href=\"https://colab.research.google.com/github/kocurvik/edu/blob/master/PNSPV/notebooky/keras_2020/cv09.ipynb\" target=\"_parent\"><img src=\"https://colab.research.google.com/assets/colab-badge.svg\" alt=\"Open In Colab\"/></a>"
      ]
    },
    {
      "cell_type": "markdown",
      "metadata": {
        "id": "ZeMUn91mTYUB"
      },
      "source": [
        "# 9. Cvičenie - Rekurentné siete\n",
        "\n",
        "Na dnešnom cvičení si precvičíme prácu s rekurentnými sieťami. Vytvoríme si mierne umelý príklad, v ktorom skonštruujeme veľké číslo zo sekvencie MNIST čísel a vrátime honotu po aplikácii modula nejakým číslom (ideálne prvočíslo nad 10). "
      ]
    },
    {
      "cell_type": "code",
      "metadata": {
        "id": "iLAJA1b1Va7S",
        "colab": {
          "base_uri": "https://localhost:8080/",
          "height": 97
        },
        "outputId": "466f2067-33b2-4916-8ec3-5abd6b601903"
      },
      "source": [
        "import keras\n",
        "from keras.datasets import mnist\n",
        "from keras.layers import TimeDistributed, Conv2D, Dense, Flatten, MaxPool2D, ConvLSTM2D, GlobalAveragePooling2D, LSTM, GRU\n",
        "from keras.models import Sequential\n",
        "from keras.optimizers import Adam\n",
        "import numpy as np\n",
        "import matplotlib.pyplot as plt"
      ],
      "execution_count": null,
      "outputs": [
        {
          "output_type": "stream",
          "text": [
            "Using TensorFlow backend.\n"
          ],
          "name": "stderr"
        },
        {
          "output_type": "display_data",
          "data": {
            "text/html": [
              "<p style=\"color: red;\">\n",
              "The default version of TensorFlow in Colab will soon switch to TensorFlow 2.x.<br>\n",
              "We recommend you <a href=\"https://www.tensorflow.org/guide/migrate\" target=\"_blank\">upgrade</a> now \n",
              "or ensure your notebook will continue to use TensorFlow 1.x via the <code>%tensorflow_version 1.x</code> magic:\n",
              "<a href=\"https://colab.research.google.com/notebooks/tensorflow_version.ipynb\" target=\"_blank\">more info</a>.</p>\n"
            ],
            "text/plain": [
              "<IPython.core.display.HTML object>"
            ]
          },
          "metadata": {
            "tags": []
          }
        }
      ]
    },
    {
      "cell_type": "code",
      "metadata": {
        "id": "XiMg-TH8TDTa",
        "colab": {
          "base_uri": "https://localhost:8080/",
          "height": 51
        },
        "outputId": "f2551fac-af9a-417a-c7f2-72790e0570f9"
      },
      "source": [
        "(x, y), (x_test, y_test) = mnist.load_data()\n",
        "x = x / 255\n",
        "x_test = x_test / 255"
      ],
      "execution_count": null,
      "outputs": [
        {
          "output_type": "stream",
          "text": [
            "Downloading data from https://s3.amazonaws.com/img-datasets/mnist.npz\n",
            "11493376/11490434 [==============================] - 2s 0us/step\n"
          ],
          "name": "stdout"
        }
      ]
    },
    {
      "cell_type": "markdown",
      "metadata": {
        "id": "prKQrtIrLoPc"
      },
      "source": [
        "## Fixná sekvencia - priebežná chyba\n",
        "\n",
        "Navrhneme si model, ktorý na začiatku bude mať konvolučné vrstvy. Potom bude mať Globálny Pooling nasledovaný GRU (gated recurrent unit) vrstvou. Tá je prepojená aj s predchádzajúcimi vrstvami v sekvencii. Nasleduje plne prepojená vrstva so softmaxom. Známejšia je vrstva LSTM, ale GRU používame pretože sa jednoduchšie trénuje. Teoreticky by LSTM malo mať dlhodobejšiu pamäť. To však nebude v našom prípade až také dôležité.\n",
        "\n",
        "![GRU](https://raw.githubusercontent.com/kocurvik/edu/master/PNSPV/supplementary/ntb_images/GRU_model.png)\n",
        "\n",
        "Môžeme si vybrať ako budeme trénovať túto sieť. Na vstupe budeme mať sekvenciu obrázkov tvaru $batch \\times seq \\times 28 \\times 28 \\times 1$, kde $seq$ je dĺžka sekvencie. Na výstupe máme dve možnosti. Buď budeme sledovať len výstup na konci sekvencie a z neho rátať loss, alebo budeme trénovať sieť na všetky vstupy. Najprv otestujeme druhý prístup:\n",
        "\n",
        "![GRU Multiloss](https://raw.githubusercontent.com/kocurvik/edu/master/PNSPV/supplementary/ntb_images/GRU_multi_loss.png)\n",
        "\n",
        "Model je definovaný nižšie. Wrapper `TimeDistributed` nám umožňuje zavolať nejaký druh vrsvty samostatne na po jednotlivých častiach sekvencie. Pri rekurentnej vrstve tento wrapper nepotrebujeme!"
      ]
    },
    {
      "cell_type": "code",
      "metadata": {
        "id": "oU0CbiajNnDS"
      },
      "source": [
        "def build_model(modulo, seq_size):\n",
        "  model = Sequential()\n",
        "  model.add(TimeDistributed(Conv2D(16, (7,7), activation='relu'), input_shape=(seq_size, 28, 28, 1)))\n",
        "  model.add(TimeDistributed(Conv2D(32, (7,7), activation='relu')))\n",
        "  model.add(TimeDistributed(Conv2D(64, (7,7), activation='relu')))\n",
        "  model.add(TimeDistributed(Conv2D(64, (7,7), activation='relu')))\n",
        "  model.add(TimeDistributed(GlobalAveragePooling2D()))\n",
        "  model.add(GRU(64, activation='relu', recurrent_activation='hard_sigmoid', return_sequences=True))\n",
        "  model.add(TimeDistributed(Dense(modulo, activation='softmax')))\n",
        "\n",
        "  return model"
      ],
      "execution_count": null,
      "outputs": []
    },
    {
      "cell_type": "markdown",
      "metadata": {
        "id": "4WDZKVPQNp0n"
      },
      "source": [
        "Teraz bude nutné naprogramovať generátor ktorý nám dá vstupné dáta a výstupné dáta na loss. Metódu getitem doimplementujte. Na konci chceme mať klasifikáciu do `self.modulo` tried tak, že zoberieme čísla ktoré sme dávali do siete akoby sme ich postupne (zľava) zapisovali a vyrátame ich modulo našim zvoleným číslom. Defaultne 13kou."
      ]
    },
    {
      "cell_type": "code",
      "metadata": {
        "id": "YbA8RXlTZIYy"
      },
      "source": [
        "class SeqDataGenerator(keras.utils.Sequence):\n",
        "  def __init__(self, x, y, modulo=13, batch_size=32, seq_size=20, steps=1000):\n",
        "    self.x = x\n",
        "    self.y = y\n",
        "    self.modulo = modulo\n",
        "    self.batch_size = batch_size\n",
        "    self.seq_size = seq_size\n",
        "    self.steps = steps\n",
        "\n",
        "  def __len__(self):\n",
        "    return self.steps\n",
        "\n",
        "  def __getitem__(self, index):\n",
        "    X = np.empty([self.batch_size, self.seq_size, 28, 28, 1])\n",
        "    y = np.zeros([self.batch_size, self.seq_size, self.modulo])\n",
        "\n",
        "    ## doimplemtujte\n",
        "\n",
        "    return X, y"
      ],
      "execution_count": null,
      "outputs": []
    },
    {
      "cell_type": "markdown",
      "metadata": {
        "id": "EaVRnO88PF74"
      },
      "source": [
        "Tento kód by mal potom natrénovať našu sieť na dátach. Môžete sa pohrať s nastavením dĺžky sekvencie."
      ]
    },
    {
      "cell_type": "code",
      "metadata": {
        "id": "y44xHVI0N3sQ"
      },
      "source": [
        "seq_size = 10\n",
        "modulo = 13\n",
        "\n",
        "train_gen = SeqDataGenerator(x[10000:], y[10000:], modulo=modulo, batch_size=32, seq_size=seq_size)\n",
        "val_gen = SeqDataGenerator(x[:10000], y[:10000], modulo=modulo, batch_size=32, seq_size=seq_size, steps=100)\n",
        "model = build_model(modulo, seq_size)\n",
        "\n",
        "opt = Adam(lr=0.001)\n",
        "model.compile(optimizer=opt, loss='categorical_crossentropy', metrics=['accuracy'])\n",
        "\n",
        "print(model.summary())\n",
        "\n",
        "model.fit_generator(train_gen, validation_data=val_gen, epochs=5)"
      ],
      "execution_count": null,
      "outputs": []
    },
    {
      "cell_type": "markdown",
      "metadata": {
        "id": "PhT0rpPyOy8J"
      },
      "source": [
        "## Fixná sekvencia - Chyba len na konci\n",
        "\n",
        "Teraz vyskúšame trénovanie tak, že chybu budeme počítať len z konca celej sekvencie.\n",
        "\n",
        "![alt text](https://raw.githubusercontent.com/kocurvik/edu/master/PNSPV/supplementary/ntb_images/GRU_single_loss.png)\n",
        "\n",
        "Doimplemenujte relevantné metódy. Zistite čo robí argument `return_sequential` pri GRU vrstve a sieť upravte tak aby na výstupe bol len jeden vektor. Otestujte či trénovanie funguje a otestujte to pre rôzne dĺžky sekvencie."
      ]
    },
    {
      "cell_type": "code",
      "metadata": {
        "id": "Mn9xLFxlb6l9"
      },
      "source": [
        "def build_single_model(modulo, seq_size):\n",
        "  # doimplementujte\n",
        "  ..."
      ],
      "execution_count": null,
      "outputs": []
    },
    {
      "cell_type": "code",
      "metadata": {
        "id": "mMheDOiXOudl"
      },
      "source": [
        "class SingleSeqDataGenerator(keras.utils.Sequence):\n",
        "  def __init__(self, x, y, modulo=11, batch_size=32, seq_size=20, steps=1000):\n",
        "    self.x = x\n",
        "    self.y = y\n",
        "    self.modulo = modulo\n",
        "    self.batch_size = batch_size\n",
        "    self.seq_size = seq_size\n",
        "    self.steps = steps\n",
        "\n",
        "  def __len__(self):\n",
        "    return self.steps\n",
        "\n",
        "  def __getitem__(self, index):\n",
        "    X = np.empty([self.batch_size, self.seq_size, 28, 28, 1])\n",
        "    y = np.zeros([self.batch_size, self.modulo])\n",
        "\n",
        "    for b in range(self.batch_size):\n",
        "      # doimplementujte\n",
        "\n",
        "    return X, y"
      ],
      "execution_count": null,
      "outputs": []
    },
    {
      "cell_type": "code",
      "metadata": {
        "id": "UvN-U9EshVxr"
      },
      "source": [
        "seq_size = 6\n",
        "modulo = 13\n",
        "\n",
        "train_gen = SingleSeqDataGenerator(x[10000:], y[10000:], modulo=modulo, batch_size=32, seq_size=seq_size)\n",
        "val_gen = SingleSeqDataGenerator(x[:10000], y[:10000], modulo=modulo, batch_size=32, seq_size=seq_size, steps=100)\n",
        "single_model = build_single_model(modulo, seq_size)\n",
        "\n",
        "opt = Adam(lr=0.001)\n",
        "single_model.compile(optimizer=opt, loss='categorical_crossentropy', metrics=['accuracy'])\n",
        "\n",
        "print(model.summary())\n",
        "\n",
        "single_model.fit_generator(train_gen, validation_data=val_gen, epochs=5)"
      ],
      "execution_count": null,
      "outputs": []
    },
    {
      "cell_type": "markdown",
      "metadata": {
        "id": "cs7bQfYbRnii"
      },
      "source": [
        "## Rôzne dĺžky sekvencie\n",
        "\n",
        "Teraz vyskúšame trénovať model vždy na inú dĺžku sekvencie. Minibatch necháme rovnaký, ale ak by sme mali problém s pamäťou tak ho môžeme redukvať. V definícii modelu, len v input shape dáme ako prvú dimenziu None"
      ]
    },
    {
      "cell_type": "code",
      "metadata": {
        "id": "JsY0FR_7SA_w"
      },
      "source": [
        "def build_var_model(modulo):\n",
        "  model = Sequential()\n",
        "  model.add(TimeDistributed(Conv2D(16, (7,7), activation='relu'), input_shape=(None, 28, 28, 1)))\n",
        "  model.add(TimeDistributed(Conv2D(32, (7,7), activation='relu')))\n",
        "  model.add(TimeDistributed(Conv2D(64, (7,7), activation='relu')))\n",
        "  model.add(TimeDistributed(Conv2D(64, (7,7), activation='relu')))\n",
        "  model.add(TimeDistributed(GlobalAveragePooling2D()))\n",
        "  model.add(GRU(64, activation='relu', recurrent_activation='hard_sigmoid', return_sequences=True))\n",
        "  model.add(TimeDistributed(Dense(modulo, activation='softmax')))\n",
        "\n",
        "  return model"
      ],
      "execution_count": null,
      "outputs": []
    },
    {
      "cell_type": "markdown",
      "metadata": {
        "id": "tof13X5oSJYg"
      },
      "source": [
        "Náš generátor teraz upravíme aby sme vždy vybrali náhodnú dĺžku sekvencie.\n",
        "\n",
        "*Pozn.:* Sekvencia musí byť dĺžky aspoň 2 aby to tensorflow zvládol."
      ]
    },
    {
      "cell_type": "code",
      "metadata": {
        "id": "GQ06YJe7SWVg"
      },
      "source": [
        "class VarSeqDataGenerator(keras.utils.Sequence):\n",
        "  def __init__(self, x, y, modulo=11, batch_size=32, max_seq_size=20, steps=1000):\n",
        "    self.x = x\n",
        "    self.y = y\n",
        "    self.modulo = modulo\n",
        "    self.batch_size = batch_size\n",
        "    self.max_seq_size = max_seq_size\n",
        "    self.steps = steps\n",
        "\n",
        "  def __len__(self):\n",
        "    return self.steps\n",
        "\n",
        "  def __getitem__(self, index):\n",
        "    seq_size = np.random.randint(2, self.max_seq_size)   \n",
        "    X = np.empty([self.batch_size, seq_size, 28, 28, 1]) \n",
        "    y = np.zeros([self.batch_size, seq_size, self.modulo])\n",
        "\n",
        "    # doimplementujte\n",
        "\n",
        "    return X, y"
      ],
      "execution_count": null,
      "outputs": []
    },
    {
      "cell_type": "markdown",
      "metadata": {
        "id": "4JUtLandSrrD"
      },
      "source": [
        "Pri takomto prístupe ale môžeme do siete napr. pre validačné dáta poskytnúť generátor dĺžky 10."
      ]
    },
    {
      "cell_type": "code",
      "metadata": {
        "id": "87HnuWv4Sq-q"
      },
      "source": [
        "max_seq_size = 20\n",
        "modulo = 13\n",
        "\n",
        "train_gen = VarSeqDataGenerator(x[10000:], y[10000:], modulo=modulo, batch_size=32, max_seq_size=max_seq_size)\n",
        "val_gen = SeqDataGenerator(x[:10000], y[:10000], modulo=modulo, batch_size=32, seq_size=10, steps=100)\n",
        "var_model = build_var_model(modulo)\n",
        "\n",
        "opt = Adam(lr=0.001)\n",
        "var_model.compile(optimizer=opt, loss='categorical_crossentropy', metrics=['accuracy'])\n",
        "\n",
        "print(var_model.summary())\n",
        "\n",
        "var_model.fit_generator(train_gen, validation_data=val_gen, epochs=5)"
      ],
      "execution_count": null,
      "outputs": []
    },
    {
      "cell_type": "markdown",
      "metadata": {
        "id": "_x7hqubEXQvq"
      },
      "source": [
        "## Inferencia celou sekvenciou\n",
        "\n",
        "Do posledného var modelu môžeme hodiť sekvenciu ľubovolnej dĺžky. Môžeme si tak model overiť."
      ]
    },
    {
      "cell_type": "code",
      "metadata": {
        "id": "aTUHW0iHXzx8"
      },
      "source": [
        "seq_size = 10\n",
        "X = np.empty([1, seq_size, 28, 28, 1])\n",
        "\n",
        "sum = 0\n",
        "\n",
        "for s in range(seq_size):\n",
        "  idx = np.random.randint(10000)\n",
        "  X[0, s, :, :, 0] = x_test[idx]\n",
        "  sum = sum*10 + y_test[idx]\n",
        "  plt.imshow(x_test[idx], cmap='gray')\n",
        "  plt.show()\n",
        "  print(\"Current: {}, sum: {}, mod: {}\".format(y_test[idx], sum, sum % 13))\n",
        "\n",
        "pred = var_model.predict(X)\n",
        "pred_last = np.argmax(pred[0], axis=-1)\n",
        "print(pred_last)\n"
      ],
      "execution_count": null,
      "outputs": []
    },
    {
      "cell_type": "markdown",
      "metadata": {
        "id": "16Y0pA6SZTZ8"
      },
      "source": [
        "## Inferencia po častiach\n",
        "\n",
        "Chceli by sme do modelu postupne vkladať obrázky a priebežne vidieť ako sa nám vyvíja modulo súčtu. Na to však musíme model upraviť na tzv. stateful. To znamená, že GRU vrsva si pamätá výstup z predchádzajúceho príkladu. Ak máme takýto stav tak pri ďalšom použití musíme model resetovať.\n",
        "\n",
        "Na tento účel môžeme použiť šikovnú funkciu:"
      ]
    },
    {
      "cell_type": "code",
      "metadata": {
        "id": "sKksuc_mYfdy"
      },
      "source": [
        "import json\n",
        "from keras.models import model_from_json\n",
        "\n",
        "def convert_to_inference_model(original_model):\n",
        "    original_model_json = original_model.to_json()\n",
        "    inference_model_dict = json.loads(original_model_json)\n",
        "    print(inference_model_dict)\n",
        "\n",
        "    layers = inference_model_dict['config']['layers']\n",
        "    for layer in layers:\n",
        "        if 'stateful' in layer['config']:\n",
        "            layer['config']['stateful'] = True\n",
        "\n",
        "        if 'batch_input_shape' in layer['config']:\n",
        "            layer['config']['batch_input_shape'][0] = 1\n",
        "            layer['config']['batch_input_shape'][1] = 1\n",
        "\n",
        "    inference_model = model_from_json(json.dumps(inference_model_dict))\n",
        "    inference_model.set_weights(original_model.get_weights())\n",
        "\n",
        "    return inference_model"
      ],
      "execution_count": null,
      "outputs": []
    },
    {
      "cell_type": "code",
      "metadata": {
        "id": "XMHucR-DqXM7"
      },
      "source": [
        "inference_model = convert_to_inference_model(var_model)\n",
        "\n",
        "sum = 0\n",
        "\n",
        "for s in range(20):\n",
        "  idx = np.random.randint(10000)\n",
        "  img = x_test[idx]\n",
        "  # doimplementujte"
      ],
      "execution_count": null,
      "outputs": []
    },
    {
      "cell_type": "markdown",
      "metadata": {
        "id": "Y85tfyRXtONA"
      },
      "source": [
        "Ak chceme model použíť odznova, tak musíme stavy v GRU resetovať."
      ]
    },
    {
      "cell_type": "code",
      "metadata": {
        "id": "cwasY0AKtRtc"
      },
      "source": [
        "sum = 0\n",
        "\n",
        "inference_model.reset_states()\n",
        "\n",
        "for s in range(20):\n",
        "  idx = np.random.randint(10000)\n",
        "  img = x_test[idx]\n",
        "  # doimplementujte"
      ],
      "execution_count": null,
      "outputs": []
    }
  ]
}
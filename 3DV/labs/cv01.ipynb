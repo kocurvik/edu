{
  "nbformat": 4,
  "nbformat_minor": 0,
  "metadata": {
    "colab": {
      "provenance": [],
      "toc_visible": true,
      "authorship_tag": "ABX9TyOWepkscDntOc3+eqpsBSOo",
      "include_colab_link": true
    },
    "kernelspec": {
      "name": "python3",
      "display_name": "Python 3"
    },
    "language_info": {
      "name": "python"
    }
  },
  "cells": [
    {
      "cell_type": "markdown",
      "metadata": {
        "id": "view-in-github",
        "colab_type": "text"
      },
      "source": [
        "<a href=\"https://colab.research.google.com/github/kocurvik/edu/blob/master/3DV/labs/cv01.ipynb\" target=\"_parent\"><img src=\"https://colab.research.google.com/assets/colab-badge.svg\" alt=\"Open In Colab\"/></a>"
      ]
    },
    {
      "cell_type": "markdown",
      "metadata": {
        "id": "NtnZ03uJJ7I7"
      },
      "source": [
        "# **1. cvičenie** - Google Colab, Základy NumPy, Základná manipulácia s obrazom v OpenCV\n",
        "\n",
        "V tomto notebooku si ukážeme ako pracovať v Google Colab a s poliami v NumPy."
      ]
    },
    {
      "cell_type": "markdown",
      "metadata": {
        "id": "VZbecOKiUB_1"
      },
      "source": [
        "## Google Colab\n",
        "\n",
        "Google Colab (http://colab.research.google.com) je nespoplatnená služba na ktorej je možné spúštať tzv. ipython noteboky. Služba poskytuje k dispozícii aj výpočty na GPU a CPU. Pre využitie tejto služby je nutné mať Google účet. Tieto notebooky môžeme spúšťať aj lokálne pomocou príkazu `jupyter notebook` v zložke kde máme uložené ipynb súbory.\n",
        "\n",
        "V notebookoch máme dva druhy buniek. Textové, ako napr. tento a kód. Bunky s kódom môžeme spúštať tlačidlom play naľavo od bunky, alebo v prostredí Colab naraz od prvej až po poslednú výberom Runtime -> Run All. Defaultne notebook nemá pripojené GPU, to môžeme zmeniť zavolaním Runtime -> Change runtime type. Bunky majú spoločný scope ale je treba dávať pozor na poradie spúštania jednotlivých buniek. Preto je často vhodné použiť Runtime -> Restart and run all.\n",
        "\n",
        "V nasledujúcej bunke si môžete otestovať spustenie python kódu."
      ]
    },
    {
      "cell_type": "code",
      "metadata": {
        "colab": {
          "base_uri": "https://localhost:8080/"
        },
        "id": "jUfWdM1CUB_2",
        "outputId": "4a067248-8d9f-4acb-a5bd-7f1536fc172a"
      },
      "source": [
        "a = [5,'Hello']\n",
        "s = '{} World!'\n",
        "print(s.format(a[1]))\n",
        "\n",
        "def najlepsia_funkcia(arg):\n",
        "  return arg + 5\n",
        "\n",
        "print(najlepsia_funkcia(8))"
      ],
      "execution_count": null,
      "outputs": [
        {
          "output_type": "stream",
          "name": "stdout",
          "text": [
            "Hello World!\n",
            "13\n"
          ]
        }
      ]
    },
    {
      "cell_type": "markdown",
      "metadata": {
        "id": "4XvLFRU-UB_2"
      },
      "source": [
        "Keď sme v Google Colab chceli by sme mať prístup k súborom. To je najjednoduchšie pomocou pripojenia Google Drive k našej inštancii. To sa robí následovne:\n",
        "(V Google Drive si vyrobte zložku Colab, alebo upravte na drive)"
      ]
    },
    {
      "cell_type": "code",
      "metadata": {
        "colab": {
          "base_uri": "https://localhost:8080/"
        },
        "id": "AUjobSU9UB_2",
        "outputId": "6c7fb802-97e4-4018-a0d5-5f3bb97ba479"
      },
      "source": [
        "from google.colab import drive\n",
        "drive.mount('/content/gdrive')\n",
        "root_path = 'gdrive/My Drive/Colab/'"
      ],
      "execution_count": null,
      "outputs": [
        {
          "output_type": "stream",
          "name": "stdout",
          "text": [
            "Drive already mounted at /content/gdrive; to attempt to forcibly remount, call drive.mount(\"/content/gdrive\", force_remount=True).\n"
          ]
        }
      ]
    },
    {
      "cell_type": "markdown",
      "metadata": {
        "id": "o3dGrl8bUB_2"
      },
      "source": [
        "Môžeme potom k zložke pristupovať."
      ]
    },
    {
      "cell_type": "code",
      "metadata": {
        "colab": {
          "base_uri": "https://localhost:8080/"
        },
        "id": "IKyAe81kUB_3",
        "outputId": "42ef0d46-4f3c-4e12-e79d-285e5eee04a7"
      },
      "source": [
        "import os\n",
        "os.listdir(root_path)"
      ],
      "execution_count": null,
      "outputs": [
        {
          "output_type": "execute_result",
          "data": {
            "text/plain": [
              "['mnist-fc-trained.h5', 'cifar-fc-trained.h5']"
            ]
          },
          "metadata": {},
          "execution_count": 3
        }
      ]
    },
    {
      "cell_type": "markdown",
      "metadata": {
        "id": "EPjsT5czUB_3"
      },
      "source": [
        "Takisto môžeme volať unixové príkazy pomocou výkričníka."
      ]
    },
    {
      "cell_type": "code",
      "metadata": {
        "colab": {
          "base_uri": "https://localhost:8080/"
        },
        "id": "nX6Q5QANUB_3",
        "outputId": "9b90cd33-30b8-4669-961a-df24290cb433"
      },
      "source": [
        "!pwd\n",
        "!ls\n",
        "!mkdir random_dir\n",
        "!ls\n",
        "!wget https://www.google.com/images/branding/googlelogo/1x/googlelogo_color_272x92dp.png\n",
        "!ls"
      ],
      "execution_count": null,
      "outputs": [
        {
          "output_type": "stream",
          "name": "stdout",
          "text": [
            "/content\n",
            "gdrive\tgooglelogo_color_272x92dp.png  random_dir  sample_data\n",
            "mkdir: cannot create directory ‘random_dir’: File exists\n",
            "gdrive\tgooglelogo_color_272x92dp.png  random_dir  sample_data\n",
            "--2024-02-20 22:38:23--  https://www.google.com/images/branding/googlelogo/1x/googlelogo_color_272x92dp.png\n",
            "Resolving www.google.com (www.google.com)... 108.177.127.106, 108.177.127.104, 108.177.127.103, ...\n",
            "Connecting to www.google.com (www.google.com)|108.177.127.106|:443... connected.\n",
            "HTTP request sent, awaiting response... 200 OK\n",
            "Length: 5969 (5.8K) [image/png]\n",
            "Saving to: ‘googlelogo_color_272x92dp.png.1’\n",
            "\n",
            "googlelogo_color_27 100%[===================>]   5.83K  --.-KB/s    in 0s      \n",
            "\n",
            "2024-02-20 22:38:23 (60.1 MB/s) - ‘googlelogo_color_272x92dp.png.1’ saved [5969/5969]\n",
            "\n",
            "gdrive\tgooglelogo_color_272x92dp.png  googlelogo_color_272x92dp.png.1\trandom_dir  sample_data\n"
          ]
        }
      ]
    },
    {
      "cell_type": "markdown",
      "metadata": {
        "id": "KCucr8mNUB_3"
      },
      "source": [
        "Najpohodlnejšia možnosť je použiť inferface naľovo a pozrieť si záložku Files\n",
        "\n",
        "**<----**"
      ]
    },
    {
      "cell_type": "markdown",
      "metadata": {
        "id": "IyiVk1I0Sq0_"
      },
      "source": [
        "## NumPy\n",
        "\n",
        "Pri práci budeme veľmi často používať NumPy. Jeho základnou štruktúrou je pole. Polia obecne môžu reprezentovať vektory, matice a tenzory vyšších rádov. Napr. množinu matíc, ktoré majú rovnaké rozmery môžeme reprezentovať ako pole tretieho rádu.\n",
        "\n",
        "Podľa konvencie sa numpy väčšinou importuje ako np.\n",
        "\n",
        "Vektor, teda 1-rozmerné pole, vieme vyrobiť z jednuchého listu. Pomocou np.array. Často je dôležité použiť správny dátový typ to urobíme pomocou argumentu dtype. **Vynechanie tejto časti môže viesť na rôzne komplikácie!**"
      ]
    },
    {
      "cell_type": "code",
      "metadata": {
        "id": "3JU8eIp0T5qs",
        "colab": {
          "base_uri": "https://localhost:8080/"
        },
        "outputId": "b417e639-174d-40b2-b6c8-c1fe35913000"
      },
      "source": [
        "import numpy as np\n",
        "\n",
        "a = np.array([3, 2, 3, 4])\n",
        "print(a)\n",
        "b = np.array([1,5,7], dtype=np.float32)\n",
        "print(b)"
      ],
      "execution_count": null,
      "outputs": [
        {
          "output_type": "stream",
          "name": "stdout",
          "text": [
            "[3 2 3 4]\n",
            "[1. 5. 7.]\n"
          ]
        }
      ]
    },
    {
      "cell_type": "markdown",
      "metadata": {
        "id": "X0Ldg2LCUyyz"
      },
      "source": [
        "Maticu vieme vyrobiť z listu listov, ale treba dať pozor aby nám sedeli dĺžky vnútorných listov. Inak sa vytvorí tenzor prvého rádu, ktorý obsahuje listy."
      ]
    },
    {
      "cell_type": "code",
      "metadata": {
        "id": "69MATLghVAhb",
        "colab": {
          "base_uri": "https://localhost:8080/",
          "height": 228
        },
        "outputId": "565131d4-7a43-4c33-a5ae-8611552e9d84"
      },
      "source": [
        "A = np.array([[1,5,8],[50,60,84]])\n",
        "print(A)\n",
        "B = np.array([[7,8],[6,7],[0,9,4]])\n",
        "print(B)"
      ],
      "execution_count": null,
      "outputs": [
        {
          "output_type": "stream",
          "name": "stdout",
          "text": [
            "[[ 1  5  8]\n",
            " [50 60 84]]\n"
          ]
        },
        {
          "output_type": "error",
          "ename": "ValueError",
          "evalue": "setting an array element with a sequence. The requested array has an inhomogeneous shape after 1 dimensions. The detected shape was (3,) + inhomogeneous part.",
          "traceback": [
            "\u001b[0;31m---------------------------------------------------------------------------\u001b[0m",
            "\u001b[0;31mValueError\u001b[0m                                Traceback (most recent call last)",
            "\u001b[0;32m<ipython-input-6-575e0ddf66be>\u001b[0m in \u001b[0;36m<cell line: 3>\u001b[0;34m()\u001b[0m\n\u001b[1;32m      1\u001b[0m \u001b[0mA\u001b[0m \u001b[0;34m=\u001b[0m \u001b[0mnp\u001b[0m\u001b[0;34m.\u001b[0m\u001b[0marray\u001b[0m\u001b[0;34m(\u001b[0m\u001b[0;34m[\u001b[0m\u001b[0;34m[\u001b[0m\u001b[0;36m1\u001b[0m\u001b[0;34m,\u001b[0m\u001b[0;36m5\u001b[0m\u001b[0;34m,\u001b[0m\u001b[0;36m8\u001b[0m\u001b[0;34m]\u001b[0m\u001b[0;34m,\u001b[0m\u001b[0;34m[\u001b[0m\u001b[0;36m50\u001b[0m\u001b[0;34m,\u001b[0m\u001b[0;36m60\u001b[0m\u001b[0;34m,\u001b[0m\u001b[0;36m84\u001b[0m\u001b[0;34m]\u001b[0m\u001b[0;34m]\u001b[0m\u001b[0;34m)\u001b[0m\u001b[0;34m\u001b[0m\u001b[0;34m\u001b[0m\u001b[0m\n\u001b[1;32m      2\u001b[0m \u001b[0mprint\u001b[0m\u001b[0;34m(\u001b[0m\u001b[0mA\u001b[0m\u001b[0;34m)\u001b[0m\u001b[0;34m\u001b[0m\u001b[0;34m\u001b[0m\u001b[0m\n\u001b[0;32m----> 3\u001b[0;31m \u001b[0mB\u001b[0m \u001b[0;34m=\u001b[0m \u001b[0mnp\u001b[0m\u001b[0;34m.\u001b[0m\u001b[0marray\u001b[0m\u001b[0;34m(\u001b[0m\u001b[0;34m[\u001b[0m\u001b[0;34m[\u001b[0m\u001b[0;36m7\u001b[0m\u001b[0;34m,\u001b[0m\u001b[0;36m8\u001b[0m\u001b[0;34m]\u001b[0m\u001b[0;34m,\u001b[0m\u001b[0;34m[\u001b[0m\u001b[0;36m6\u001b[0m\u001b[0;34m,\u001b[0m\u001b[0;36m7\u001b[0m\u001b[0;34m]\u001b[0m\u001b[0;34m,\u001b[0m\u001b[0;34m[\u001b[0m\u001b[0;36m0\u001b[0m\u001b[0;34m,\u001b[0m\u001b[0;36m9\u001b[0m\u001b[0;34m,\u001b[0m\u001b[0;36m4\u001b[0m\u001b[0;34m]\u001b[0m\u001b[0;34m]\u001b[0m\u001b[0;34m)\u001b[0m\u001b[0;34m\u001b[0m\u001b[0;34m\u001b[0m\u001b[0m\n\u001b[0m\u001b[1;32m      4\u001b[0m \u001b[0mprint\u001b[0m\u001b[0;34m(\u001b[0m\u001b[0mB\u001b[0m\u001b[0;34m)\u001b[0m\u001b[0;34m\u001b[0m\u001b[0;34m\u001b[0m\u001b[0m\n",
            "\u001b[0;31mValueError\u001b[0m: setting an array element with a sequence. The requested array has an inhomogeneous shape after 1 dimensions. The detected shape was (3,) + inhomogeneous part."
          ]
        }
      ]
    },
    {
      "cell_type": "markdown",
      "metadata": {
        "id": "YD8CtWcQWGFv"
      },
      "source": [
        "Objekt array má metódu shape, ktorá nám umožňuje zistiť jej tvar (teda dimenzie), metódu dtype ktorá vracia typ vnútorných objektov a metódu astype, ktorá vráti tenzor v podľa špecifikovaného typu."
      ]
    },
    {
      "cell_type": "code",
      "metadata": {
        "id": "hC7EtfXBWmIB",
        "colab": {
          "base_uri": "https://localhost:8080/"
        },
        "outputId": "aa15e590-c882-4e1d-a62e-c06cc824a826"
      },
      "source": [
        "print(a.shape)\n",
        "print(A.shape)\n",
        "print(A.dtype)\n",
        "C = A.astype(np.float32)\n",
        "print(C.dtype)\n"
      ],
      "execution_count": null,
      "outputs": [
        {
          "output_type": "stream",
          "name": "stdout",
          "text": [
            "(4,)\n",
            "(2, 3)\n",
            "int64\n",
            "float32\n"
          ]
        }
      ]
    },
    {
      "cell_type": "markdown",
      "metadata": {
        "id": "XlKW3-r_9s1E"
      },
      "source": [
        "Numpy má aj funkcie na tvorenie základných matíc. Tieto príkazy sú np.zeros, np.ones a np.empty."
      ]
    },
    {
      "cell_type": "code",
      "metadata": {
        "id": "n0bdDGaQjuYP",
        "colab": {
          "base_uri": "https://localhost:8080/"
        },
        "outputId": "4179dd1d-faec-4012-cab3-1fa6565bd851"
      },
      "source": [
        "z = np.zeros([5,10])\n",
        "print(z)\n",
        "o = np.ones([3,4,5])\n",
        "print(o)\n",
        "e = np.empty([6])\n",
        "print(e)"
      ],
      "execution_count": null,
      "outputs": [
        {
          "output_type": "stream",
          "name": "stdout",
          "text": [
            "[[0. 0. 0. 0. 0. 0. 0. 0. 0. 0.]\n",
            " [0. 0. 0. 0. 0. 0. 0. 0. 0. 0.]\n",
            " [0. 0. 0. 0. 0. 0. 0. 0. 0. 0.]\n",
            " [0. 0. 0. 0. 0. 0. 0. 0. 0. 0.]\n",
            " [0. 0. 0. 0. 0. 0. 0. 0. 0. 0.]]\n",
            "[[[1. 1. 1. 1. 1.]\n",
            "  [1. 1. 1. 1. 1.]\n",
            "  [1. 1. 1. 1. 1.]\n",
            "  [1. 1. 1. 1. 1.]]\n",
            "\n",
            " [[1. 1. 1. 1. 1.]\n",
            "  [1. 1. 1. 1. 1.]\n",
            "  [1. 1. 1. 1. 1.]\n",
            "  [1. 1. 1. 1. 1.]]\n",
            "\n",
            " [[1. 1. 1. 1. 1.]\n",
            "  [1. 1. 1. 1. 1.]\n",
            "  [1. 1. 1. 1. 1.]\n",
            "  [1. 1. 1. 1. 1.]]]\n",
            "[5.02837521e-310 0.00000000e+000 0.00000000e+000 0.00000000e+000\n",
            " 0.00000000e+000 0.00000000e+000]\n"
          ]
        }
      ]
    },
    {
      "cell_type": "markdown",
      "metadata": {
        "id": "FQbG74jFkewe"
      },
      "source": [
        "Je možné tvoriť aj náhodné čísla pomocou np.random.random"
      ]
    },
    {
      "cell_type": "code",
      "metadata": {
        "id": "LrMsw30Gk234",
        "colab": {
          "base_uri": "https://localhost:8080/"
        },
        "outputId": "6b1d7534-3af8-48bd-94aa-99b7947eff09"
      },
      "source": [
        "r = np.random.random([6,10,3])\n",
        "print(r)"
      ],
      "execution_count": null,
      "outputs": [
        {
          "output_type": "stream",
          "name": "stdout",
          "text": [
            "[[[0.14478643 0.53427788 0.40414145]\n",
            "  [0.79032232 0.68475832 0.30393307]\n",
            "  [0.82925597 0.76063917 0.91794753]\n",
            "  [0.97356368 0.74975149 0.49798395]\n",
            "  [0.83374146 0.15407754 0.29123402]\n",
            "  [0.40810307 0.58777082 0.1940629 ]\n",
            "  [0.8122177  0.52149053 0.90088098]\n",
            "  [0.25515479 0.88509522 0.00539467]\n",
            "  [0.08064368 0.14493713 0.68460196]\n",
            "  [0.95262084 0.22559341 0.77942397]]\n",
            "\n",
            " [[0.72495489 0.26666451 0.02674314]\n",
            "  [0.35784615 0.16937158 0.35810124]\n",
            "  [0.56213707 0.27505371 0.74090532]\n",
            "  [0.86355222 0.70131693 0.91913588]\n",
            "  [0.91479506 0.07380738 0.41580597]\n",
            "  [0.79677721 0.24891565 0.72421338]\n",
            "  [0.22293009 0.95169664 0.4928591 ]\n",
            "  [0.00451619 0.89345336 0.72087757]\n",
            "  [0.56300535 0.02268214 0.85411629]\n",
            "  [0.09462268 0.13700071 0.47803374]]\n",
            "\n",
            " [[0.88341915 0.86126334 0.78607568]\n",
            "  [0.1809785  0.07107076 0.88507609]\n",
            "  [0.37500172 0.70150143 0.12544439]\n",
            "  [0.39606585 0.1767097  0.75375095]\n",
            "  [0.95289694 0.36473825 0.76218341]\n",
            "  [0.04216948 0.13386511 0.17148646]\n",
            "  [0.46616503 0.50108156 0.42967351]\n",
            "  [0.10886847 0.79622541 0.02679603]\n",
            "  [0.38725591 0.40968941 0.81150325]\n",
            "  [0.51262711 0.39714296 0.54081763]]\n",
            "\n",
            " [[0.61055413 0.49660675 0.53377874]\n",
            "  [0.50556777 0.92722918 0.60396008]\n",
            "  [0.92072014 0.49339271 0.03725937]\n",
            "  [0.60404269 0.60697686 0.65049681]\n",
            "  [0.05183648 0.00888902 0.26926025]\n",
            "  [0.45824987 0.93677238 0.89206298]\n",
            "  [0.13746533 0.52804016 0.94162055]\n",
            "  [0.27157034 0.67652342 0.46213307]\n",
            "  [0.35688185 0.13099159 0.26202369]\n",
            "  [0.267996   0.50015077 0.03716076]]\n",
            "\n",
            " [[0.96930557 0.73438242 0.33492484]\n",
            "  [0.29238402 0.17400848 0.11692219]\n",
            "  [0.11501672 0.31171905 0.63106549]\n",
            "  [0.85884439 0.6146173  0.03821826]\n",
            "  [0.33278018 0.06520241 0.12018581]\n",
            "  [0.94247463 0.309644   0.73255946]\n",
            "  [0.37412106 0.86938749 0.62501294]\n",
            "  [0.72465516 0.79088959 0.7853719 ]\n",
            "  [0.5608357  0.33460129 0.8484383 ]\n",
            "  [0.47159352 0.26333801 0.87942515]]\n",
            "\n",
            " [[0.19171468 0.82362729 0.99343041]\n",
            "  [0.6414572  0.37159395 0.32560641]\n",
            "  [0.79346246 0.18008602 0.90991454]\n",
            "  [0.04431505 0.26243773 0.98000997]\n",
            "  [0.16794561 0.72029979 0.97629298]\n",
            "  [0.49837475 0.31158341 0.28896009]\n",
            "  [0.47796017 0.53895132 0.87507736]\n",
            "  [0.24771209 0.94679833 0.4658675 ]\n",
            "  [0.19780717 0.34987513 0.27187979]\n",
            "  [0.634953   0.56083893 0.25763133]]]\n"
          ]
        }
      ]
    },
    {
      "cell_type": "markdown",
      "metadata": {
        "id": "U1vO9XhhlAXg"
      },
      "source": [
        "Tieto náhodné čísla použijeme na prácu s indexmi. Indexácia je podobná ako v matlabe, ale platia tu pythonovské konvencie. Indexuje sa viacerými indexmi. Ak sa indexuje menej indexmi, tak sa tie ostatné berú ako :, čo znamená zobartie všetkých prvkov pozdĺž dimenzie."
      ]
    },
    {
      "cell_type": "code",
      "metadata": {
        "id": "oTMiqcZPlwtl",
        "colab": {
          "base_uri": "https://localhost:8080/"
        },
        "outputId": "a0c7da63-3738-4a30-888c-5fb659c13b7f"
      },
      "source": [
        "print(r[3,4,1])\n",
        "print(r[:,:,-1])\n",
        "print(r[:,:,1].shape)\n",
        "print(r[0:4,5:6,:])\n",
        "print(r[0:4,5:6,:].shape)"
      ],
      "execution_count": null,
      "outputs": [
        {
          "output_type": "stream",
          "name": "stdout",
          "text": [
            "0.008889023626534542\n",
            "[[0.40414145 0.30393307 0.91794753 0.49798395 0.29123402 0.1940629\n",
            "  0.90088098 0.00539467 0.68460196 0.77942397]\n",
            " [0.02674314 0.35810124 0.74090532 0.91913588 0.41580597 0.72421338\n",
            "  0.4928591  0.72087757 0.85411629 0.47803374]\n",
            " [0.78607568 0.88507609 0.12544439 0.75375095 0.76218341 0.17148646\n",
            "  0.42967351 0.02679603 0.81150325 0.54081763]\n",
            " [0.53377874 0.60396008 0.03725937 0.65049681 0.26926025 0.89206298\n",
            "  0.94162055 0.46213307 0.26202369 0.03716076]\n",
            " [0.33492484 0.11692219 0.63106549 0.03821826 0.12018581 0.73255946\n",
            "  0.62501294 0.7853719  0.8484383  0.87942515]\n",
            " [0.99343041 0.32560641 0.90991454 0.98000997 0.97629298 0.28896009\n",
            "  0.87507736 0.4658675  0.27187979 0.25763133]]\n",
            "(6, 10)\n",
            "[[[0.40810307 0.58777082 0.1940629 ]]\n",
            "\n",
            " [[0.79677721 0.24891565 0.72421338]]\n",
            "\n",
            " [[0.04216948 0.13386511 0.17148646]]\n",
            "\n",
            " [[0.45824987 0.93677238 0.89206298]]]\n",
            "(4, 1, 3)\n"
          ]
        }
      ]
    },
    {
      "cell_type": "markdown",
      "metadata": {
        "id": "ybA-W90VmNhG"
      },
      "source": [
        "Indexovať môžeme aj s preskakovaním jednotlivých prvkov, tzv. slicing. To sa robí pomocou ďalšej dvojbodky. Formát je potom \\[začiatok:koniec:skok\\]. Ak niečo z toho vynecháme, tak žačiatok bude defaultne 0, koniec -1 a skok 1."
      ]
    },
    {
      "cell_type": "code",
      "metadata": {
        "id": "1kmxFdtUmTRE",
        "colab": {
          "base_uri": "https://localhost:8080/"
        },
        "outputId": "fa150ef7-dcbe-41ca-bb05-ff15ff528042"
      },
      "source": [
        "p = np.arange(25)\n",
        "print(p)\n",
        "print(p[4:16:2])\n",
        "print(p[2:-4:6])\n",
        "print(p[:10:])\n",
        "print(p[::3])\n",
        "print(p[1::6])\n",
        "print(p[-6:])\n",
        "print(r[1::2,0::3,:])"
      ],
      "execution_count": null,
      "outputs": [
        {
          "output_type": "stream",
          "name": "stdout",
          "text": [
            "[ 0  1  2  3  4  5  6  7  8  9 10 11 12 13 14 15 16 17 18 19 20 21 22 23\n",
            " 24]\n",
            "[ 4  6  8 10 12 14]\n",
            "[ 2  8 14 20]\n",
            "[0 1 2 3 4 5 6 7 8 9]\n",
            "[ 0  3  6  9 12 15 18 21 24]\n",
            "[ 1  7 13 19]\n",
            "[19 20 21 22 23 24]\n",
            "[[[0.72495489 0.26666451 0.02674314]\n",
            "  [0.86355222 0.70131693 0.91913588]\n",
            "  [0.22293009 0.95169664 0.4928591 ]\n",
            "  [0.09462268 0.13700071 0.47803374]]\n",
            "\n",
            " [[0.61055413 0.49660675 0.53377874]\n",
            "  [0.60404269 0.60697686 0.65049681]\n",
            "  [0.13746533 0.52804016 0.94162055]\n",
            "  [0.267996   0.50015077 0.03716076]]\n",
            "\n",
            " [[0.19171468 0.82362729 0.99343041]\n",
            "  [0.04431505 0.26243773 0.98000997]\n",
            "  [0.47796017 0.53895132 0.87507736]\n",
            "  [0.634953   0.56083893 0.25763133]]]\n"
          ]
        }
      ]
    },
    {
      "cell_type": "markdown",
      "metadata": {
        "id": "478cxvQtmk9t"
      },
      "source": [
        "Niekedy potrebujeme vytvoriť tzv. singleton dimenziu. To znamená že zvýšime rád zvoleného tenzoru o jedna pričom novovzniknutá osa (axis) bude mať dimenziu jedna. Toto je užitočné najmä ak potrebujeme používať broadcasting pri rôznych operáciách."
      ]
    },
    {
      "cell_type": "code",
      "metadata": {
        "id": "IXKkfdNpmy0h",
        "colab": {
          "base_uri": "https://localhost:8080/"
        },
        "outputId": "34c718c8-2a81-4551-e7aa-864ebd7fb021"
      },
      "source": [
        "print(r[None,:,:,:].shape)\n",
        "print(r[None].shape)\n",
        "print(r[np.newaxis,:,:,:].shape)\n",
        "print(r[:,:,:,np.newaxis].shape)\n",
        "print(r[np.newaxis,:,0,:].shape)"
      ],
      "execution_count": null,
      "outputs": [
        {
          "output_type": "stream",
          "name": "stdout",
          "text": [
            "(1, 6, 10, 3)\n",
            "(1, 6, 10, 3)\n",
            "(1, 6, 10, 3)\n",
            "(6, 10, 3, 1)\n",
            "(1, 6, 3)\n"
          ]
        }
      ]
    },
    {
      "cell_type": "markdown",
      "metadata": {
        "id": "LK7K0RginLDB"
      },
      "source": [
        "Teraz môžeme vidieť v akcii aj broadcasting."
      ]
    },
    {
      "cell_type": "code",
      "metadata": {
        "id": "110A-dLgnRaU",
        "colab": {
          "base_uri": "https://localhost:8080/"
        },
        "outputId": "5c2b5962-d2d0-4421-adab-b7ba540d8f24"
      },
      "source": [
        "r += 10\n",
        "print(r)\n",
        "r[0,:,:] = np.random.random([10,3])\n",
        "print(r.shape)\n",
        "r[0] = np.random.random([10,3])\n",
        "print(r.shape)\n",
        "r[0] = np.zeros([10,1])\n",
        "print(r.shape)\n",
        "r/=500\n",
        "print(r)"
      ],
      "execution_count": null,
      "outputs": [
        {
          "output_type": "stream",
          "name": "stdout",
          "text": [
            "[[[10.14478643 10.53427788 10.40414145]\n",
            "  [10.79032232 10.68475832 10.30393307]\n",
            "  [10.82925597 10.76063917 10.91794753]\n",
            "  [10.97356368 10.74975149 10.49798395]\n",
            "  [10.83374146 10.15407754 10.29123402]\n",
            "  [10.40810307 10.58777082 10.1940629 ]\n",
            "  [10.8122177  10.52149053 10.90088098]\n",
            "  [10.25515479 10.88509522 10.00539467]\n",
            "  [10.08064368 10.14493713 10.68460196]\n",
            "  [10.95262084 10.22559341 10.77942397]]\n",
            "\n",
            " [[10.72495489 10.26666451 10.02674314]\n",
            "  [10.35784615 10.16937158 10.35810124]\n",
            "  [10.56213707 10.27505371 10.74090532]\n",
            "  [10.86355222 10.70131693 10.91913588]\n",
            "  [10.91479506 10.07380738 10.41580597]\n",
            "  [10.79677721 10.24891565 10.72421338]\n",
            "  [10.22293009 10.95169664 10.4928591 ]\n",
            "  [10.00451619 10.89345336 10.72087757]\n",
            "  [10.56300535 10.02268214 10.85411629]\n",
            "  [10.09462268 10.13700071 10.47803374]]\n",
            "\n",
            " [[10.88341915 10.86126334 10.78607568]\n",
            "  [10.1809785  10.07107076 10.88507609]\n",
            "  [10.37500172 10.70150143 10.12544439]\n",
            "  [10.39606585 10.1767097  10.75375095]\n",
            "  [10.95289694 10.36473825 10.76218341]\n",
            "  [10.04216948 10.13386511 10.17148646]\n",
            "  [10.46616503 10.50108156 10.42967351]\n",
            "  [10.10886847 10.79622541 10.02679603]\n",
            "  [10.38725591 10.40968941 10.81150325]\n",
            "  [10.51262711 10.39714296 10.54081763]]\n",
            "\n",
            " [[10.61055413 10.49660675 10.53377874]\n",
            "  [10.50556777 10.92722918 10.60396008]\n",
            "  [10.92072014 10.49339271 10.03725937]\n",
            "  [10.60404269 10.60697686 10.65049681]\n",
            "  [10.05183648 10.00888902 10.26926025]\n",
            "  [10.45824987 10.93677238 10.89206298]\n",
            "  [10.13746533 10.52804016 10.94162055]\n",
            "  [10.27157034 10.67652342 10.46213307]\n",
            "  [10.35688185 10.13099159 10.26202369]\n",
            "  [10.267996   10.50015077 10.03716076]]\n",
            "\n",
            " [[10.96930557 10.73438242 10.33492484]\n",
            "  [10.29238402 10.17400848 10.11692219]\n",
            "  [10.11501672 10.31171905 10.63106549]\n",
            "  [10.85884439 10.6146173  10.03821826]\n",
            "  [10.33278018 10.06520241 10.12018581]\n",
            "  [10.94247463 10.309644   10.73255946]\n",
            "  [10.37412106 10.86938749 10.62501294]\n",
            "  [10.72465516 10.79088959 10.7853719 ]\n",
            "  [10.5608357  10.33460129 10.8484383 ]\n",
            "  [10.47159352 10.26333801 10.87942515]]\n",
            "\n",
            " [[10.19171468 10.82362729 10.99343041]\n",
            "  [10.6414572  10.37159395 10.32560641]\n",
            "  [10.79346246 10.18008602 10.90991454]\n",
            "  [10.04431505 10.26243773 10.98000997]\n",
            "  [10.16794561 10.72029979 10.97629298]\n",
            "  [10.49837475 10.31158341 10.28896009]\n",
            "  [10.47796017 10.53895132 10.87507736]\n",
            "  [10.24771209 10.94679833 10.4658675 ]\n",
            "  [10.19780717 10.34987513 10.27187979]\n",
            "  [10.634953   10.56083893 10.25763133]]]\n",
            "(6, 10, 3)\n",
            "(6, 10, 3)\n",
            "(6, 10, 3)\n",
            "[[[0.         0.         0.        ]\n",
            "  [0.         0.         0.        ]\n",
            "  [0.         0.         0.        ]\n",
            "  [0.         0.         0.        ]\n",
            "  [0.         0.         0.        ]\n",
            "  [0.         0.         0.        ]\n",
            "  [0.         0.         0.        ]\n",
            "  [0.         0.         0.        ]\n",
            "  [0.         0.         0.        ]\n",
            "  [0.         0.         0.        ]]\n",
            "\n",
            " [[0.02144991 0.02053333 0.02005349]\n",
            "  [0.02071569 0.02033874 0.0207162 ]\n",
            "  [0.02112427 0.02055011 0.02148181]\n",
            "  [0.0217271  0.02140263 0.02183827]\n",
            "  [0.02182959 0.02014761 0.02083161]\n",
            "  [0.02159355 0.02049783 0.02144843]\n",
            "  [0.02044586 0.02190339 0.02098572]\n",
            "  [0.02000903 0.02178691 0.02144176]\n",
            "  [0.02112601 0.02004536 0.02170823]\n",
            "  [0.02018925 0.020274   0.02095607]]\n",
            "\n",
            " [[0.02176684 0.02172253 0.02157215]\n",
            "  [0.02036196 0.02014214 0.02177015]\n",
            "  [0.02075    0.021403   0.02025089]\n",
            "  [0.02079213 0.02035342 0.0215075 ]\n",
            "  [0.02190579 0.02072948 0.02152437]\n",
            "  [0.02008434 0.02026773 0.02034297]\n",
            "  [0.02093233 0.02100216 0.02085935]\n",
            "  [0.02021774 0.02159245 0.02005359]\n",
            "  [0.02077451 0.02081938 0.02162301]\n",
            "  [0.02102525 0.02079429 0.02108164]]\n",
            "\n",
            " [[0.02122111 0.02099321 0.02106756]\n",
            "  [0.02101114 0.02185446 0.02120792]\n",
            "  [0.02184144 0.02098679 0.02007452]\n",
            "  [0.02120809 0.02121395 0.02130099]\n",
            "  [0.02010367 0.02001778 0.02053852]\n",
            "  [0.0209165  0.02187354 0.02178413]\n",
            "  [0.02027493 0.02105608 0.02188324]\n",
            "  [0.02054314 0.02135305 0.02092427]\n",
            "  [0.02071376 0.02026198 0.02052405]\n",
            "  [0.02053599 0.0210003  0.02007432]]\n",
            "\n",
            " [[0.02193861 0.02146876 0.02066985]\n",
            "  [0.02058477 0.02034802 0.02023384]\n",
            "  [0.02023003 0.02062344 0.02126213]\n",
            "  [0.02171769 0.02122923 0.02007644]\n",
            "  [0.02066556 0.0201304  0.02024037]\n",
            "  [0.02188495 0.02061929 0.02146512]\n",
            "  [0.02074824 0.02173877 0.02125003]\n",
            "  [0.02144931 0.02158178 0.02157074]\n",
            "  [0.02112167 0.0206692  0.02169688]\n",
            "  [0.02094319 0.02052668 0.02175885]]\n",
            "\n",
            " [[0.02038343 0.02164725 0.02198686]\n",
            "  [0.02128291 0.02074319 0.02065121]\n",
            "  [0.02158692 0.02036017 0.02181983]\n",
            "  [0.02008863 0.02052488 0.02196002]\n",
            "  [0.02033589 0.0214406  0.02195259]\n",
            "  [0.02099675 0.02062317 0.02057792]\n",
            "  [0.02095592 0.0210779  0.02175015]\n",
            "  [0.02049542 0.0218936  0.02093174]\n",
            "  [0.02039561 0.02069975 0.02054376]\n",
            "  [0.02126991 0.02112168 0.02051526]]]\n"
          ]
        }
      ]
    },
    {
      "cell_type": "markdown",
      "metadata": {
        "id": "-cUMWPBNoFj2"
      },
      "source": [
        "Je možné polia pretvarovať pomocou np.reshape(arr, shape)"
      ]
    },
    {
      "cell_type": "code",
      "metadata": {
        "id": "Mn62_4cToQs4",
        "colab": {
          "base_uri": "https://localhost:8080/"
        },
        "outputId": "562e323e-ed47-471f-85bf-977a5a7daddd"
      },
      "source": [
        "q = np.reshape(r, [6,30])\n",
        "print(q.shape)"
      ],
      "execution_count": null,
      "outputs": [
        {
          "output_type": "stream",
          "name": "stdout",
          "text": [
            "(6, 30)\n"
          ]
        }
      ]
    },
    {
      "cell_type": "markdown",
      "metadata": {
        "id": "uBQ6JlDbo7s2"
      },
      "source": [
        "Polia môžeme spájať. Jeden spôsob je pomocou np.concatenate([arr1, arr2, ...], axis = i) t=a spojí arr1, arr2 atď. vedľa seba pozdĺž osy i."
      ]
    },
    {
      "cell_type": "code",
      "metadata": {
        "id": "RFI3H7dbpXse",
        "colab": {
          "base_uri": "https://localhost:8080/"
        },
        "outputId": "393715eb-c0d6-4dea-c4ce-652b5029d015"
      },
      "source": [
        "a = np.ones([3,4])\n",
        "b = np.zeros([6,4])\n",
        "c = np.concatenate([a,b], axis = 0)\n",
        "print(c)"
      ],
      "execution_count": null,
      "outputs": [
        {
          "output_type": "stream",
          "name": "stdout",
          "text": [
            "[[1. 1. 1. 1.]\n",
            " [1. 1. 1. 1.]\n",
            " [1. 1. 1. 1.]\n",
            " [0. 0. 0. 0.]\n",
            " [0. 0. 0. 0.]\n",
            " [0. 0. 0. 0.]\n",
            " [0. 0. 0. 0.]\n",
            " [0. 0. 0. 0.]\n",
            " [0. 0. 0. 0.]]\n"
          ]
        }
      ]
    },
    {
      "cell_type": "markdown",
      "metadata": {
        "id": "xLC59P7fp8iC"
      },
      "source": [
        "Iný spôsob je použitie np.stack([arr1, arr2, ...], axis = i) narozdiel od cocatenate sa pri tomto príkaze vytvorí nová dimenzia poďľa hodnoty i. Existujú aj príkazy column_stack a row_stack."
      ]
    },
    {
      "cell_type": "code",
      "metadata": {
        "id": "Vj6T89BSq4g_",
        "colab": {
          "base_uri": "https://localhost:8080/"
        },
        "outputId": "9af1e465-3935-476f-ad40-298269c6bc49"
      },
      "source": [
        "a = np.ones([6,4,3])\n",
        "b = np.zeros([6,4,3])\n",
        "d = np.stack([a,b], axis = 0)\n",
        "print(d.shape)\n",
        "f = np.stack([a,b], axis = -1)\n",
        "print(f.shape)\n",
        "g = np.stack([a,b], axis = 1)\n",
        "print(g.shape)"
      ],
      "execution_count": null,
      "outputs": [
        {
          "output_type": "stream",
          "name": "stdout",
          "text": [
            "(2, 6, 4, 3)\n",
            "(6, 4, 3, 2)\n",
            "(6, 2, 4, 3)\n"
          ]
        }
      ]
    },
    {
      "cell_type": "markdown",
      "metadata": {
        "id": "PH3_y_ThuEwJ"
      },
      "source": [
        "Indexovať môžeme aj pomocou podmienok."
      ]
    },
    {
      "cell_type": "code",
      "metadata": {
        "id": "O3j-u9yRuVFk",
        "colab": {
          "base_uri": "https://localhost:8080/"
        },
        "outputId": "c7f0e03f-9c08-4770-b3b5-1e07a55b582a"
      },
      "source": [
        "r = np.random.random([5,5])\n",
        "print(r)\n",
        "r[r < 0.5] = -500\n",
        "print(r)"
      ],
      "execution_count": null,
      "outputs": [
        {
          "output_type": "stream",
          "name": "stdout",
          "text": [
            "[[0.32920764 0.50547436 0.28576236 0.63010107 0.25109483]\n",
            " [0.83579578 0.34312103 0.68595921 0.41316596 0.80955637]\n",
            " [0.81158645 0.29224975 0.31377868 0.75321982 0.5931154 ]\n",
            " [0.981677   0.47415953 0.68808376 0.57652848 0.13928623]\n",
            " [0.62490618 0.67962538 0.159209   0.37766715 0.43192625]]\n",
            "[[-500.            0.50547436 -500.            0.63010107 -500.        ]\n",
            " [   0.83579578 -500.            0.68595921 -500.            0.80955637]\n",
            " [   0.81158645 -500.         -500.            0.75321982    0.5931154 ]\n",
            " [   0.981677   -500.            0.68808376    0.57652848 -500.        ]\n",
            " [   0.62490618    0.67962538 -500.         -500.         -500.        ]]\n"
          ]
        }
      ]
    },
    {
      "cell_type": "markdown",
      "metadata": {
        "id": "G9Zqp4-PrLG3"
      },
      "source": [
        "Podmienky môžeme použiť aj np.where(cond, a1, a2), ktorá vráti pole ktoré ma na miestach kde je cond splnená hodnoty z a1 a inde hodnoty z a2. Použijeme tu príkaz np.arange(i), ktorý vráti pole podobne ako range z pythonu."
      ]
    },
    {
      "cell_type": "code",
      "metadata": {
        "id": "SBKZaiIttoXs",
        "colab": {
          "base_uri": "https://localhost:8080/"
        },
        "outputId": "4fecd5e9-8116-4810-f9ee-c0154401fa91"
      },
      "source": [
        "a = np.arange(10)\n",
        "print(a)\n",
        "b = np.where(a < 5, a, a**2)\n",
        "print(b)"
      ],
      "execution_count": null,
      "outputs": [
        {
          "output_type": "stream",
          "name": "stdout",
          "text": [
            "[0 1 2 3 4 5 6 7 8 9]\n",
            "[ 0  1  2  3  4 25 36 49 64 81]\n"
          ]
        }
      ]
    },
    {
      "cell_type": "markdown",
      "metadata": {
        "id": "6mEbjH89sAXH"
      },
      "source": [
        "### Úloha - Chessboard\n",
        "Vytvorte funkciu chessboard(rows, cols), ktorá vráti numpy pole s riadkami rows a stĺpcami cols ktorá bude mať hodnoty 0 a 1 na takých miestach ako sú farby na šachovnici. Môžete použiť slicing, podmienky (zíde sa vám np.mgrid), alebo opakovanie matíc (np.tile)"
      ]
    },
    {
      "cell_type": "code",
      "metadata": {
        "id": "qJGmsNBxstBZ"
      },
      "source": [
        "def chessboard(rows, cols):\n",
        "  ..."
      ],
      "execution_count": null,
      "outputs": []
    },
    {
      "cell_type": "code",
      "metadata": {
        "id": "tnMLmXeYM-pz",
        "colab": {
          "base_uri": "https://localhost:8080/"
        },
        "outputId": "4dcc29c8-c8da-493b-8f3e-189a742ed100"
      },
      "source": [
        "print(chessboard(8,8))\n",
        "print(chessboard(5,12))"
      ],
      "execution_count": null,
      "outputs": [
        {
          "output_type": "stream",
          "name": "stdout",
          "text": [
            "[[0. 1. 0. 1. 0. 1. 0. 1.]\n",
            " [1. 0. 1. 0. 1. 0. 1. 0.]\n",
            " [0. 1. 0. 1. 0. 1. 0. 1.]\n",
            " [1. 0. 1. 0. 1. 0. 1. 0.]\n",
            " [0. 1. 0. 1. 0. 1. 0. 1.]\n",
            " [1. 0. 1. 0. 1. 0. 1. 0.]\n",
            " [0. 1. 0. 1. 0. 1. 0. 1.]\n",
            " [1. 0. 1. 0. 1. 0. 1. 0.]]\n",
            "[[0. 1. 0. 1. 0. 1. 0. 1. 0. 1. 0. 1.]\n",
            " [1. 0. 1. 0. 1. 0. 1. 0. 1. 0. 1. 0.]\n",
            " [0. 1. 0. 1. 0. 1. 0. 1. 0. 1. 0. 1.]\n",
            " [1. 0. 1. 0. 1. 0. 1. 0. 1. 0. 1. 0.]\n",
            " [0. 1. 0. 1. 0. 1. 0. 1. 0. 1. 0. 1.]]\n"
          ]
        }
      ]
    },
    {
      "cell_type": "markdown",
      "source": [
        "### Úloha - Indexovanie\n",
        "\n",
        "Vygenerujte náhodnú maticu s rozmermi 10 x 5 z rovnomerného rozdelenia. Následne zmente všetky prvky väčšie ako 0.8 na 1. Následne zmenťe všetky prvky menšie ako 0.3 na polovicu hodnoty na rovnakom riadku ale, vo vedľajšom stĺpci naľavo. Ak sú takéto hodnoty v prvom stĺpci, tak ich zmeňte na 0. Operáciu urobte tak, ako keby ste robili všetky zmeny naraz. V kóde to však nemusí byť jedna operácia. Budete potrebovať logickú indexáciu a v druhom prípade aj np.where. Nepoužite for cyklus."
      ],
      "metadata": {
        "id": "_5qFnZkr_4XI"
      }
    },
    {
      "cell_type": "code",
      "source": [
        "..."
      ],
      "metadata": {
        "colab": {
          "base_uri": "https://localhost:8080/"
        },
        "id": "gEgr1jFGA3AF",
        "outputId": "7cfcd32c-41f6-4bee-9c58-5245d888f2c7"
      },
      "execution_count": null,
      "outputs": [
        {
          "output_type": "stream",
          "name": "stdout",
          "text": [
            "[[0.5886539  0.11017985 0.33564695 0.24176277 0.28556255]\n",
            " [0.36332772 0.06447582 0.0120402  0.63002809 0.29573919]\n",
            " [0.52436167 0.75365233 0.97480034 0.9334547  0.61597547]\n",
            " [0.30279468 0.91809083 0.07937651 0.76628124 0.46777759]\n",
            " [0.01410127 0.58362368 0.42294372 0.33268421 0.05290472]\n",
            " [0.64485157 0.61684957 0.14032802 0.35384101 0.65628373]\n",
            " [0.08051455 0.4457815  0.85087719 0.9692016  0.00808913]\n",
            " [0.43103199 0.42465607 0.16832863 0.2951669  0.52380026]\n",
            " [0.07637356 0.1347941  0.40210387 0.19447398 0.82403839]\n",
            " [0.94769323 0.6116006  0.11546063 0.57721486 0.57746055]]\n",
            "[[0.5886539  0.11017985 0.33564695 0.24176277 0.28556255]\n",
            " [0.36332772 0.06447582 0.0120402  0.63002809 0.29573919]\n",
            " [0.52436167 0.75365233 1.         1.         0.61597547]\n",
            " [0.30279468 1.         0.07937651 0.76628124 0.46777759]\n",
            " [0.01410127 0.58362368 0.42294372 0.33268421 0.05290472]\n",
            " [0.64485157 0.61684957 0.14032802 0.35384101 0.65628373]\n",
            " [0.08051455 0.4457815  1.         1.         0.00808913]\n",
            " [0.43103199 0.42465607 0.16832863 0.2951669  0.52380026]\n",
            " [0.07637356 0.1347941  0.40210387 0.19447398 1.        ]\n",
            " [1.         0.6116006  0.11546063 0.57721486 0.57746055]]\n",
            "[[0.5886539  0.29432695 0.33564695 0.16782348 0.12088138]\n",
            " [0.36332772 0.18166386 0.03223791 0.63002809 0.31501405]\n",
            " [0.52436167 0.75365233 1.         1.         0.61597547]\n",
            " [0.30279468 1.         0.5        0.76628124 0.46777759]\n",
            " [0.         0.58362368 0.42294372 0.33268421 0.1663421 ]\n",
            " [0.64485157 0.61684957 0.30842479 0.35384101 0.65628373]\n",
            " [0.         0.4457815  1.         1.         0.5       ]\n",
            " [0.43103199 0.42465607 0.21232804 0.08416432 0.52380026]\n",
            " [0.         0.03818678 0.40210387 0.20105193 1.        ]\n",
            " [1.         0.6116006  0.3058003  0.57721486 0.57746055]]\n"
          ]
        }
      ]
    },
    {
      "cell_type": "markdown",
      "source": [
        "## Matematické operácie\n",
        "\n",
        "Na polia môžeme aplikovať tiež matematické operácie."
      ],
      "metadata": {
        "id": "xqM95bG9GPkU"
      }
    },
    {
      "cell_type": "code",
      "source": [
        "r = np.random.rand(10, 2)"
      ],
      "metadata": {
        "id": "1866JHicGvAV"
      },
      "execution_count": null,
      "outputs": []
    },
    {
      "cell_type": "code",
      "source": [
        "print(np.sin(r))\n",
        "print(np.cos(r))\n",
        "print(np.arccos(r))\n",
        "print(np.exp(r))\n",
        "print(r ** 2)"
      ],
      "metadata": {
        "colab": {
          "base_uri": "https://localhost:8080/"
        },
        "id": "8CCkBRGGGztP",
        "outputId": "f7cd916d-8fe5-45b9-eb8e-4348cd496ccd"
      },
      "execution_count": null,
      "outputs": [
        {
          "output_type": "stream",
          "name": "stdout",
          "text": [
            "[[0.20108657 0.23071489]\n",
            " [0.27898168 0.58398296]\n",
            " [0.08260066 0.80804065]\n",
            " [0.18875099 0.27800424]\n",
            " [0.05749393 0.20637746]\n",
            " [0.47216615 0.0346453 ]\n",
            " [0.83291911 0.16107856]\n",
            " [0.32257109 0.76622003]\n",
            " [0.17296259 0.71428879]\n",
            " [0.37661214 0.75645625]]\n",
            "[[0.97957348 0.9730214 ]\n",
            " [0.96029642 0.81176591]\n",
            " [0.99658273 0.58912674]\n",
            " [0.98202498 0.96057985]\n",
            " [0.99834586 0.97847245]\n",
            " [0.88150957 0.99939967]\n",
            " [0.55339476 0.98694159]\n",
            " [0.94654524 0.64257829]\n",
            " [0.98492839 0.69985108]\n",
            " [0.92637104 0.65404429]]\n",
            "[[1.36691987 1.33582785]\n",
            " [1.28415361 0.89742289]\n",
            " [1.48800691 0.3457586 ]\n",
            " [1.3797461  1.28521443]\n",
            " [1.5132389  1.36139814]\n",
            " [1.05670196 1.53613716]\n",
            " [0.17708238 1.40829874]\n",
            " [1.23614007 0.50960383]\n",
            " [1.39607186 0.65078688]\n",
            " [1.17435684 0.53967097]]\n",
            "[[1.2244197  1.26214459]\n",
            " [1.32675157 1.86568192]\n",
            " [1.08621033 2.56207794]\n",
            " [1.20911673 1.32540202]\n",
            " [1.05921244 1.23105468]\n",
            " [1.63516952 1.03525961]\n",
            " [2.67610357 1.17560557]\n",
            " [1.38880619 2.39393353]\n",
            " [1.18986137 2.21578633]\n",
            " [1.47128539 2.35815091]]\n",
            "[[0.04099289 0.05420158]\n",
            " [0.07993824 0.38891017]\n",
            " [0.00683844 0.88513969]\n",
            " [0.03605826 0.07936381]\n",
            " [0.0033092  0.04321046]\n",
            " [0.2418146  0.00120078]\n",
            " [0.96896824 0.02617387]\n",
            " [0.1078758  0.76202048]\n",
            " [0.03021923 0.63299104]\n",
            " [0.14910134 0.73595432]]\n"
          ]
        }
      ]
    },
    {
      "cell_type": "markdown",
      "metadata": {
        "id": "cNqacKB3HrYf"
      },
      "source": [
        "## Súhrnné operácie\n",
        "Na numpy poliach je možné robiť aj rôzne operácie. Je napríklad možné sčítať pole pomocou príkazu np.sum. Podobne fungujú aj príkazy np.min (mininum), np.max(maximum), np.mean (priemer), np.median (medián), np.var (variácia) a np.std (štandardná odchýlka).\n",
        "\n"
      ]
    },
    {
      "cell_type": "code",
      "metadata": {
        "colab": {
          "base_uri": "https://localhost:8080/"
        },
        "id": "dmwlKq7bIYhw",
        "outputId": "259bc729-5459-40a3-8862-60fa22d707d3"
      },
      "source": [
        "a = np.random.rand(4, 3)\n",
        "print(a)\n",
        "print(np.mean(a))\n",
        "print(np.median(a))\n",
        "print(np.sum(a))\n",
        "print(np.max(a))\n",
        "print(np.std(a))"
      ],
      "execution_count": null,
      "outputs": [
        {
          "output_type": "stream",
          "name": "stdout",
          "text": [
            "[[0.29355358 0.09707809 0.46212523]\n",
            " [0.25228151 0.80615269 0.44884943]\n",
            " [0.89777785 0.8265036  0.47266966]\n",
            " [0.43243425 0.99026449 0.3745671 ]]\n",
            "0.5295214567887344\n",
            "0.4554873298781432\n",
            "6.354257481464813\n",
            "0.9902644911158512\n",
            "0.27078425790958366\n"
          ]
        }
      ]
    },
    {
      "cell_type": "markdown",
      "metadata": {
        "id": "CsqRVEq5JVIw"
      },
      "source": [
        "## Kľučové slovo axis\n",
        "\n",
        "Často chceme operáciu napr. sčítanie realizovať len po nejakej dimenzii. V takom prípade je vhodné využiť kľučové slovo axis. To nám umožní sčítavať po konkrétnej dimenzii. Je možné použiť aj tuple dimenzii po ktorých je možné sčítavať. Veľa numpy príkazov má tento keyword k dispozícii a je vhodné sa ho dobre naučiť používať.\n"
      ]
    },
    {
      "cell_type": "code",
      "metadata": {
        "colab": {
          "base_uri": "https://localhost:8080/"
        },
        "id": "rdCOTub4JrAt",
        "outputId": "09f0a85a-12fd-42da-9829-03e74c91bb18"
      },
      "source": [
        "print(a)\n",
        "print(np.sum(a, axis=0))\n",
        "print(np.sum(a, axis=0).shape)\n",
        "print(np.sum(a, axis=1))\n",
        "print(np.sum(a, axis=1).shape)\n",
        "\n",
        "b = np.random.rand(4,3,16,16)\n",
        "print(np.sum(b, axis=(1,2,3)))\n",
        "print(np.sum(b, axis=(1,2,3)).shape)"
      ],
      "execution_count": null,
      "outputs": [
        {
          "output_type": "stream",
          "name": "stdout",
          "text": [
            "[[0.29355358 0.09707809 0.46212523]\n",
            " [0.25228151 0.80615269 0.44884943]\n",
            " [0.89777785 0.8265036  0.47266966]\n",
            " [0.43243425 0.99026449 0.3745671 ]]\n",
            "[1.87604719 2.71999887 1.75821142]\n",
            "(3,)\n",
            "[0.8527569  1.50728363 2.19695111 1.79726584]\n",
            "(4,)\n",
            "[377.54030722 378.55074849 384.25422276 402.17363101]\n",
            "(4,)\n"
          ]
        }
      ]
    },
    {
      "cell_type": "markdown",
      "source": [
        "Pre minimum a maximum existujú ešte dve funkcie (np.minimum a np.maximum), ktoré porovnajú dve polia."
      ],
      "metadata": {
        "id": "aVJQ0_MUIYSX"
      }
    },
    {
      "cell_type": "code",
      "source": [
        "b = ((np.arange(12) - 7) * 2).reshape(4,3)\n",
        "print(b)\n",
        "print(np.maximum(a, b))"
      ],
      "metadata": {
        "id": "7uh7JJhHIipj",
        "colab": {
          "base_uri": "https://localhost:8080/"
        },
        "outputId": "23f0a372-fb5d-4adc-ff03-d08c1b2f3973"
      },
      "execution_count": null,
      "outputs": [
        {
          "output_type": "stream",
          "name": "stdout",
          "text": [
            "[[-14 -12 -10]\n",
            " [ -8  -6  -4]\n",
            " [ -2   0   2]\n",
            " [  4   6   8]]\n",
            "[[0.29355358 0.09707809 0.46212523]\n",
            " [0.25228151 0.80615269 0.44884943]\n",
            " [0.89777785 0.8265036  2.        ]\n",
            " [4.         6.         8.        ]]\n"
          ]
        }
      ]
    },
    {
      "cell_type": "markdown",
      "metadata": {
        "id": "cfg2HvU5KdNr"
      },
      "source": [
        "### Úloha - Euklidovksá metrika\n",
        "\n",
        "Implementujte funkciu euclidian_distance_single(x, y), ktorá na vstupe príjme dva vektory x a y, ktoré sú oba z $\\mathbb{R}^n$ a vypočíta:\n",
        "\n",
        "$$\\rho_e(\\vec{x}, \\vec{y}) = \\sqrt{\\sum_{i=1}^{n} \\left(x_i - y_i\\right)^2}$$"
      ]
    },
    {
      "cell_type": "code",
      "metadata": {
        "id": "flLpWhmwLQK6"
      },
      "source": [
        "def euclidian_distance_single(x, y):\n",
        "  ..."
      ],
      "execution_count": null,
      "outputs": []
    },
    {
      "cell_type": "markdown",
      "metadata": {
        "id": "hvs7f2fOLZ07"
      },
      "source": [
        "Kód môžeme otestovať pomocou funkcie np.linalg.norm, ktorá ráta to isté:"
      ]
    },
    {
      "cell_type": "code",
      "metadata": {
        "colab": {
          "base_uri": "https://localhost:8080/"
        },
        "id": "F0yVrFCXLefv",
        "outputId": "90cd1d5e-6ba8-4235-f6f2-e754fbb8a567"
      },
      "source": [
        "for i in range(10):\n",
        "  n = np.random.randint(100)\n",
        "  a = np.random.rand(n)\n",
        "  b = np.random.rand(n)\n",
        "\n",
        "  d = euclidian_distance_single(a, b)\n",
        "  d_gt = np.linalg.norm(a - b)\n",
        "  if np.abs(d_gt - d) < 1e-8:\n",
        "    print(\"Pass!\")\n",
        "  else:\n",
        "    print(\"Fail\")"
      ],
      "execution_count": null,
      "outputs": [
        {
          "output_type": "stream",
          "name": "stdout",
          "text": [
            "Pass!\n",
            "Pass!\n",
            "Pass!\n",
            "Pass!\n",
            "Pass!\n",
            "Pass!\n",
            "Pass!\n",
            "Pass!\n",
            "Pass!\n",
            "Pass!\n"
          ]
        }
      ]
    },
    {
      "cell_type": "markdown",
      "metadata": {
        "id": "4JjT0aCmMTYQ"
      },
      "source": [
        "### Úloha - Euklidovská metrika - vektorizovane\n",
        "\n",
        "Teraz vytvoríme novú funkciu euclidian distance, ktorá bude fungovať tak, že x bude vektor $\\mathbb{R}^n$ a y bude matica $m \\times n$, ktorej každý riadok je vektor z $\\mathbb{R}^n$. Funkcia potom vráti vektor dĺžky $m$, ktorý bude obsahovať metriky medzi x a jednotlivými vektormi z y."
      ]
    },
    {
      "cell_type": "code",
      "metadata": {
        "id": "8YkFkZS-MZzU"
      },
      "source": [
        "def euclidian_distance(x, y):\n",
        "  ..."
      ],
      "execution_count": null,
      "outputs": []
    },
    {
      "cell_type": "markdown",
      "metadata": {
        "id": "AFiKYr69NLNX"
      },
      "source": [
        "Kód otestujeme:"
      ]
    },
    {
      "cell_type": "code",
      "metadata": {
        "colab": {
          "base_uri": "https://localhost:8080/"
        },
        "id": "_3TwwSpENMqx",
        "outputId": "afd2432f-a0a3-43dd-d4a3-58af29a70a26"
      },
      "source": [
        "for i in range(10):\n",
        "  n = np.random.randint(100)\n",
        "  a = np.random.rand(n)\n",
        "  b = np.random.rand(30, n)\n",
        "\n",
        "  d = euclidian_distance(a, b)\n",
        "\n",
        "  for i in [4,9,13,24]:\n",
        "    if np.abs(np.linalg.norm(a - b[i]) - d[i]) < 1e-8:\n",
        "      print(\"Pass!\")\n",
        "    else:\n",
        "      print(\"Fail!\")"
      ],
      "execution_count": null,
      "outputs": [
        {
          "output_type": "stream",
          "name": "stdout",
          "text": [
            "Pass!\n",
            "Pass!\n",
            "Pass!\n",
            "Pass!\n",
            "Pass!\n",
            "Pass!\n",
            "Pass!\n",
            "Pass!\n",
            "Pass!\n",
            "Pass!\n",
            "Pass!\n",
            "Pass!\n",
            "Pass!\n",
            "Pass!\n",
            "Pass!\n",
            "Pass!\n",
            "Pass!\n",
            "Pass!\n",
            "Pass!\n",
            "Pass!\n",
            "Pass!\n",
            "Pass!\n",
            "Pass!\n",
            "Pass!\n",
            "Pass!\n",
            "Pass!\n",
            "Pass!\n",
            "Pass!\n",
            "Pass!\n",
            "Pass!\n",
            "Pass!\n",
            "Pass!\n",
            "Pass!\n",
            "Pass!\n",
            "Pass!\n",
            "Pass!\n",
            "Pass!\n",
            "Pass!\n",
            "Pass!\n",
            "Pass!\n"
          ]
        }
      ]
    },
    {
      "cell_type": "markdown",
      "source": [
        "## Násobenie\n",
        "\n",
        "Polia môžeme tiež násobiť. Môžeme použiť buď operátor `*`, ktorý realizuje násobenie po elementoch, alebo operátor `@`, ktorý realizuje maticové násobenie. V prípade `@` sa vektor vždy považuje za stĺpcový, alebo riadkový podľa toho čo sa hodí. Tiež je na násobenie možné použiť `np.dot`. Matice môžeme tiež transponovať metódou `.T`"
      ],
      "metadata": {
        "id": "SXnWCTr9KiKT"
      }
    },
    {
      "cell_type": "code",
      "source": [
        "x = np.array([1, 2, 3])\n",
        "y = np.array([8, 0, 7])\n",
        "\n",
        "A = np.arange(9).reshape(3, 3)\n",
        "B = np.random.rand(4, 3)\n",
        "C = np.random.rand(3, 3)\n",
        "\n",
        "print(x @ y)\n",
        "print(x * y)\n",
        "\n",
        "print(20 * '*')\n",
        "\n",
        "print(A @ x)\n",
        "print(y @ A)\n",
        "print(x @ C)\n",
        "print(x @ A @ y)\n",
        "\n",
        "print(20 * '*')\n",
        "\n",
        "print(A * C)\n",
        "print(A @ C)\n",
        "print(B @ A)\n",
        "\n",
        "print(20 * '*')\n",
        "\n",
        "#pri nasobeni po prvkoch moze dojst k broadcastingu\n",
        "print(A * x)\n",
        "\n",
        "print(20 * '*')\n",
        "\n",
        "#tieto nebudu fungovat\n",
        "print(x @ B)\n",
        "print(A @ B)"
      ],
      "metadata": {
        "colab": {
          "base_uri": "https://localhost:8080/",
          "height": 593
        },
        "id": "TGm0gJQxLY47",
        "outputId": "038ff3e4-214e-4732-9bea-648caa0504ee"
      },
      "execution_count": null,
      "outputs": [
        {
          "output_type": "stream",
          "name": "stdout",
          "text": [
            "29\n",
            "[ 8  0 21]\n",
            "********************\n",
            "[ 8 26 44]\n",
            "[42 57 72]\n",
            "[1.30698358 4.49904052 2.37701887]\n",
            "444\n",
            "********************\n",
            "[[0.         0.89703746 1.55558661]\n",
            " [0.05335647 2.81490223 1.53679063]\n",
            " [1.14954946 5.1206212  2.62535817]]\n",
            "[[ 0.40096864  2.16676019  0.96369767]\n",
            " [ 3.11901345  9.16360119  5.20366127]\n",
            " [ 5.83705826 16.1604422   9.44362488]]\n",
            "[[5.00367511 6.41134441 7.81901372]\n",
            " [5.64860452 7.73219168 9.81577884]\n",
            " [4.738323   6.04476243 7.35120186]\n",
            " [2.24522887 3.21883778 4.1924467 ]]\n",
            "********************\n",
            "[[ 0  2  6]\n",
            " [ 3  8 15]\n",
            " [ 6 14 24]]\n",
            "********************\n"
          ]
        },
        {
          "output_type": "error",
          "ename": "ValueError",
          "evalue": "matmul: Input operand 1 has a mismatch in its core dimension 0, with gufunc signature (n?,k),(k,m?)->(n?,m?) (size 4 is different from 3)",
          "traceback": [
            "\u001b[0;31m---------------------------------------------------------------------------\u001b[0m",
            "\u001b[0;31mValueError\u001b[0m                                Traceback (most recent call last)",
            "\u001b[0;32m<ipython-input-31-de1eebae19f4>\u001b[0m in \u001b[0;36m<cell line: 32>\u001b[0;34m()\u001b[0m\n\u001b[1;32m     30\u001b[0m \u001b[0;34m\u001b[0m\u001b[0m\n\u001b[1;32m     31\u001b[0m \u001b[0;31m#tieto nebudu fungovat\u001b[0m\u001b[0;34m\u001b[0m\u001b[0;34m\u001b[0m\u001b[0m\n\u001b[0;32m---> 32\u001b[0;31m \u001b[0mprint\u001b[0m\u001b[0;34m(\u001b[0m\u001b[0mx\u001b[0m \u001b[0;34m@\u001b[0m \u001b[0mB\u001b[0m\u001b[0;34m)\u001b[0m\u001b[0;34m\u001b[0m\u001b[0;34m\u001b[0m\u001b[0m\n\u001b[0m\u001b[1;32m     33\u001b[0m \u001b[0mprint\u001b[0m\u001b[0;34m(\u001b[0m\u001b[0mA\u001b[0m \u001b[0;34m@\u001b[0m \u001b[0mB\u001b[0m\u001b[0;34m)\u001b[0m\u001b[0;34m\u001b[0m\u001b[0;34m\u001b[0m\u001b[0m\n",
            "\u001b[0;31mValueError\u001b[0m: matmul: Input operand 1 has a mismatch in its core dimension 0, with gufunc signature (n?,k),(k,m?)->(n?,m?) (size 4 is different from 3)"
          ]
        }
      ]
    },
    {
      "cell_type": "markdown",
      "source": [
        "### Úloha - Eulerové uhly\n",
        "\n",
        "Implementujte funkciu euler_to_rotmat(alpha, beta, gamma), ktorá na vstupe dostane tri uhly $\\alpha, \\beta, \\gamma$ v stupňoch a vráti rotačnú maticu $R$ ako kompozíciu troch rotácií.\n",
        "\n",
        "$$ R = R_z(\\gamma) \\, R_y(\\beta) \\, R_x(\\alpha) =\n",
        "  \\begin{pmatrix}\n",
        "    \\cos \\gamma & -\\sin \\gamma & 0 \\\\\n",
        "    \\sin \\gamma &  \\cos \\gamma & 0 \\\\\n",
        "     0          &   0          & 1 \\\\\n",
        "  \\end{pmatrix}\\begin{pmatrix}\n",
        "    \\cos \\beta & 0 & \\sin \\beta \\\\\n",
        "     0         & 1 &  0 \\\\\n",
        "   -\\sin \\beta & 0 & \\cos \\beta \\\\\n",
        "  \\end{pmatrix}\\begin{pmatrix}\n",
        "    1 &  0          &   0 \\\\\n",
        "    0 & \\cos \\alpha & -\\sin \\alpha \\\\\n",
        "    0 & \\sin \\alpha &  \\cos \\alpha \\\\\n",
        "  \\end{pmatrix} $$\n",
        "\n",
        "Pre implementáciu použite funkcie `np.cos` a `np.sin` a maticové násobenie. Kód si môžete dole otestovať. Nezabudnite na rozdiel medzi radiánmi a stupňami.\n",
        "\n",
        "Implementujte aj inverznú funkciu `rotmat_to_euler`, ktorá na vstupe dostane maticu $3 \\times 3$ a vráti tri Eulerove uhly v stupňoch. Môžete použiť nasledujúce vzorce:\n",
        "\n",
        "$$\\gamma = \\text{atan2}(r_{21}, r_{11}),\n",
        "  \\beta = \\text{atan2}\\left(-r_{31}, \\sqrt{r_{32}^2 + r_{33}^2}\\right),\n",
        "  \\alpha = \\text{atan2}(r_{32}, r_{33})\n",
        "$$\n",
        "\n",
        "Požite funkciu `np.arctan2`.\n",
        "\n"
      ],
      "metadata": {
        "id": "MuY3TbXTaX4M"
      }
    },
    {
      "cell_type": "code",
      "source": [
        "def euler_to_rotmat(alpha, beta, gamma):\n",
        "  ...\n",
        "\n",
        "def rotmat_to_euler(R):\n",
        "  ..."
      ],
      "metadata": {
        "id": "xyNXhHvgaXqg"
      },
      "execution_count": null,
      "outputs": []
    },
    {
      "cell_type": "code",
      "source": [
        "import scipy\n",
        "\n",
        "print(\"Testing Euler -> rotmat\")\n",
        "\n",
        "for i in range(10):\n",
        "  alpha, beta, gamma = 360 * np.random.rand(3) - 180\n",
        "  R_test = scipy.spatial.transform.Rotation.from_euler('xyz', (alpha, beta, gamma), degrees=True).as_matrix()\n",
        "  R_impl = euler_to_rotmat(alpha, beta, gamma)\n",
        "  if np.linalg.norm(R_test - R_impl) < 1e-8:\n",
        "    print(\"Pass\")\n",
        "  else:\n",
        "    print(\"Fail\")\n",
        "\n",
        "print(\"Testing rotmat -> Euler\")\n",
        "for i in range(10):\n",
        "  euler_angles = 360 * np.random.rand(3) - 180\n",
        "  R_test = scipy.spatial.transform.Rotation.from_euler('xyz', euler_angles, degrees=True).as_matrix()\n",
        "  euler_angles_impl = np.array(rotmat_to_euler(R_test))\n",
        "  if np.linalg.norm(euler_angles - euler_angles_impl) < 1e-8:\n",
        "    print(\"Pass\")\n",
        "  else:\n",
        "    print(\"Fail\")"
      ],
      "metadata": {
        "colab": {
          "base_uri": "https://localhost:8080/"
        },
        "id": "ifoCYeXuinrB",
        "outputId": "aabf8cb2-ba46-4c67-dbfc-40a79c9b89e3"
      },
      "execution_count": null,
      "outputs": [
        {
          "output_type": "stream",
          "name": "stdout",
          "text": [
            "Testing Euler -> rotmat\n",
            "Pass\n",
            "Pass\n",
            "Pass\n",
            "Pass\n",
            "Pass\n",
            "Pass\n",
            "Pass\n",
            "Pass\n",
            "Pass\n",
            "Pass\n",
            "Testing rotmat -> Euler\n",
            "Pass\n",
            "Pass\n",
            "Fail\n",
            "Pass\n",
            "Pass\n",
            "Pass\n",
            "Pass\n",
            "Pass\n",
            "Fail\n",
            "Pass\n"
          ]
        }
      ]
    },
    {
      "cell_type": "markdown",
      "metadata": {
        "id": "62IrWXs2tLPF"
      },
      "source": [
        "## Dokumentácia NumPy\n",
        "Na nasledujúcom cvičení si prejdeme základné operácie lineárnej algebry a štatistiky na tenzoroch z NumPy. Ak by ste si chceli pozrieť viacero príkázov a možností manipulácie, tak si môžete pozrieť dokuemntáciu: https://docs.scipy.org/doc/numpy/"
      ]
    }
  ]
}
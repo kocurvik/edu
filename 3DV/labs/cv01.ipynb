{
  "nbformat": 4,
  "nbformat_minor": 0,
  "metadata": {
    "colab": {
      "provenance": [],
      "toc_visible": true,
      "authorship_tag": "ABX9TyNJT1FZj1TQoCP5zAawssfj",
      "include_colab_link": true
    },
    "kernelspec": {
      "name": "python3",
      "display_name": "Python 3"
    },
    "language_info": {
      "name": "python"
    }
  },
  "cells": [
    {
      "cell_type": "markdown",
      "metadata": {
        "id": "view-in-github",
        "colab_type": "text"
      },
      "source": [
        "<a href=\"https://colab.research.google.com/github/kocurvik/edu/blob/master/3DV/labs/cv01.ipynb\" target=\"_parent\"><img src=\"https://colab.research.google.com/assets/colab-badge.svg\" alt=\"Open In Colab\"/></a>"
      ]
    },
    {
      "cell_type": "markdown",
      "metadata": {
        "id": "NtnZ03uJJ7I7"
      },
      "source": [
        "# **1. cvičenie** - Google Colab, Základy NumPy, Základná manipulácia s obrazom v OpenCV\n",
        "\n",
        "V tomto notebooku si ukážeme ako pracovať v Google Colab a s poliami v NumPy."
      ]
    },
    {
      "cell_type": "markdown",
      "metadata": {
        "id": "VZbecOKiUB_1"
      },
      "source": [
        "## Google Colab\n",
        "\n",
        "Google Colab (http://colab.research.google.com) je nespoplatnená služba na ktorej je možné spúštať tzv. ipython noteboky. Služba poskytuje k dispozícii aj výpočty na GPU a CPU. Pre využitie tejto služby je nutné mať Google účet. Tieto notebooky môžeme spúšťať aj lokálne pomocou príkazu `jupyter notebook` v zložke kde máme uložené ipynb súbory.\n",
        "\n",
        "V notebookoch máme dva druhy buniek. Textové, ako napr. tento a kód. Bunky s kódom môžeme spúštať tlačidlom play naľavo od bunky, alebo v prostredí Colab naraz od prvej až po poslednú výberom Runtime -> Run All. Defaultne notebook nemá pripojené GPU, to môžeme zmeniť zavolaním Runtime -> Change runtime type. Bunky majú spoločný scope ale je treba dávať pozor na poradie spúštania jednotlivých buniek. Preto je často vhodné použiť Runtime -> Restart and run all.\n",
        "\n",
        "V nasledujúcej bunke si môžete otestovať spustenie python kódu."
      ]
    },
    {
      "cell_type": "code",
      "metadata": {
        "colab": {
          "base_uri": "https://localhost:8080/"
        },
        "id": "jUfWdM1CUB_2",
        "outputId": "003e6a70-48b1-43b1-9154-c0ee12745767"
      },
      "source": [
        "a = [5,'Hello']\n",
        "s = '{} World!'\n",
        "print(s.format(a[1]))\n",
        "\n",
        "def najlepsia_funkcia(arg):\n",
        "  return arg + 5\n",
        "\n",
        "print(najlepsia_funkcia(8))"
      ],
      "execution_count": null,
      "outputs": [
        {
          "output_type": "stream",
          "name": "stdout",
          "text": [
            "Hello World!\n",
            "13\n"
          ]
        }
      ]
    },
    {
      "cell_type": "markdown",
      "metadata": {
        "id": "4XvLFRU-UB_2"
      },
      "source": [
        "Keď sme v Google Colab chceli by sme mať prístup k súborom. To je najjednoduchšie pomocou pripojenia Google Drive k našej inštancii. To sa robí následovne:\n",
        "(V Google Drive si vyrobte zložku Colab, alebo upravte na drive)"
      ]
    },
    {
      "cell_type": "code",
      "metadata": {
        "colab": {
          "base_uri": "https://localhost:8080/"
        },
        "id": "AUjobSU9UB_2",
        "outputId": "f91d9699-8995-433b-a3f4-3261d4c58571"
      },
      "source": [
        "from google.colab import drive\n",
        "drive.mount('/content/gdrive')\n",
        "root_path = 'gdrive/My Drive/Colab/'"
      ],
      "execution_count": null,
      "outputs": [
        {
          "output_type": "stream",
          "name": "stdout",
          "text": [
            "Mounted at /content/gdrive\n"
          ]
        }
      ]
    },
    {
      "cell_type": "markdown",
      "metadata": {
        "id": "o3dGrl8bUB_2"
      },
      "source": [
        "Môžeme potom k zložke pristupovať."
      ]
    },
    {
      "cell_type": "code",
      "metadata": {
        "colab": {
          "base_uri": "https://localhost:8080/"
        },
        "id": "IKyAe81kUB_3",
        "outputId": "5740ae03-77b3-408c-d6ab-8b1ca6334843"
      },
      "source": [
        "import os\n",
        "os.listdir(root_path)"
      ],
      "execution_count": null,
      "outputs": [
        {
          "output_type": "execute_result",
          "data": {
            "text/plain": [
              "['mnist-fc-trained.h5', 'cifar-fc-trained.h5']"
            ]
          },
          "metadata": {},
          "execution_count": 3
        }
      ]
    },
    {
      "cell_type": "markdown",
      "metadata": {
        "id": "EPjsT5czUB_3"
      },
      "source": [
        "Takisto môžeme volať unixové príkazy pomocou výkričníka."
      ]
    },
    {
      "cell_type": "code",
      "metadata": {
        "colab": {
          "base_uri": "https://localhost:8080/"
        },
        "id": "nX6Q5QANUB_3",
        "outputId": "dd900627-52f3-4d59-c92b-437d8041ccd9"
      },
      "source": [
        "!pwd\n",
        "!ls\n",
        "!mkdir random_dir\n",
        "!ls\n",
        "!wget https://www.google.com/images/branding/googlelogo/1x/googlelogo_color_272x92dp.png\n",
        "!ls"
      ],
      "execution_count": null,
      "outputs": [
        {
          "output_type": "stream",
          "name": "stdout",
          "text": [
            "/content\n",
            "gdrive\tsample_data\n",
            "gdrive\trandom_dir  sample_data\n",
            "--2023-02-14 17:37:07--  https://www.google.com/images/branding/googlelogo/1x/googlelogo_color_272x92dp.png\n",
            "Resolving www.google.com (www.google.com)... 108.177.98.105, 108.177.98.147, 108.177.98.106, ...\n",
            "Connecting to www.google.com (www.google.com)|108.177.98.105|:443... connected.\n",
            "HTTP request sent, awaiting response... 200 OK\n",
            "Length: 5969 (5.8K) [image/png]\n",
            "Saving to: ‘googlelogo_color_272x92dp.png’\n",
            "\n",
            "googlelogo_color_27 100%[===================>]   5.83K  --.-KB/s    in 0s      \n",
            "\n",
            "2023-02-14 17:37:07 (63.3 MB/s) - ‘googlelogo_color_272x92dp.png’ saved [5969/5969]\n",
            "\n",
            "gdrive\tgooglelogo_color_272x92dp.png  random_dir  sample_data\n"
          ]
        }
      ]
    },
    {
      "cell_type": "markdown",
      "metadata": {
        "id": "KCucr8mNUB_3"
      },
      "source": [
        "Najpohodlnejšia možnosť je použiť inferface naľovo a pozrieť si záložku Files\n",
        "\n",
        "**<----**"
      ]
    },
    {
      "cell_type": "markdown",
      "metadata": {
        "id": "IyiVk1I0Sq0_"
      },
      "source": [
        "## NumPy\n",
        "\n",
        "Pri práci budeme veľmi často používať NumPy. Jeho základnou štruktúrou je pole. Polia obecne môžu reprezentovať vektory, matice a tenzory vyšších rádov. Napr. množinu matíc, ktoré majú rovnaké rozmery môžeme reprezentovať ako pole tretieho rádu.\n",
        "\n",
        "Podľa konvencie sa numpy väčšinou importuje ako np. \n",
        "\n",
        "Vektor, teda 1-rozmerné pole, vieme vyrobiť z jednuchého listu. Pomocou np.array. Často je dôležité použiť správny dátový typ to urobíme pomocou argumentu dtype. **Vynechanie tejto časti môže viesť na rôzne komplikácie!**"
      ]
    },
    {
      "cell_type": "code",
      "metadata": {
        "id": "3JU8eIp0T5qs",
        "colab": {
          "base_uri": "https://localhost:8080/"
        },
        "outputId": "20b898e8-59e3-4b76-d77a-4536203475ba"
      },
      "source": [
        "import numpy as np\n",
        "\n",
        "a = np.array([3, 2, 3, 4])\n",
        "print(a)\n",
        "b = np.array([1,5,7], dtype=np.float32)\n",
        "print(b)"
      ],
      "execution_count": null,
      "outputs": [
        {
          "output_type": "stream",
          "name": "stdout",
          "text": [
            "[3 2 3 4]\n",
            "[1. 5. 7.]\n"
          ]
        }
      ]
    },
    {
      "cell_type": "markdown",
      "metadata": {
        "id": "X0Ldg2LCUyyz"
      },
      "source": [
        "Maticu vieme vyrobiť z listu listov, ale treba dať pozor aby nám sedeli dĺžky vnútorných listov. Inak sa vytvorí tenzor prvého rádu, ktorý obsahuje listy."
      ]
    },
    {
      "cell_type": "code",
      "metadata": {
        "id": "69MATLghVAhb",
        "colab": {
          "base_uri": "https://localhost:8080/"
        },
        "outputId": "1749bb49-dcf4-40cd-b28a-e9c060851075"
      },
      "source": [
        "A = np.array([[1,5,8],[50,60,84]])\n",
        "print(A)\n",
        "B = np.array([[7,8],[6,7],[0,9,4]])\n",
        "print(B)"
      ],
      "execution_count": null,
      "outputs": [
        {
          "output_type": "stream",
          "name": "stdout",
          "text": [
            "[[ 1  5  8]\n",
            " [50 60 84]]\n",
            "[list([7, 8]) list([6, 7]) list([0, 9, 4])]\n"
          ]
        },
        {
          "output_type": "stream",
          "name": "stderr",
          "text": [
            "<ipython-input-6-575e0ddf66be>:3: VisibleDeprecationWarning: Creating an ndarray from ragged nested sequences (which is a list-or-tuple of lists-or-tuples-or ndarrays with different lengths or shapes) is deprecated. If you meant to do this, you must specify 'dtype=object' when creating the ndarray.\n",
            "  B = np.array([[7,8],[6,7],[0,9,4]])\n"
          ]
        }
      ]
    },
    {
      "cell_type": "markdown",
      "metadata": {
        "id": "YD8CtWcQWGFv"
      },
      "source": [
        "Objekt array má metódu shape, ktorá nám umožňuje zistiť jej tvar (teda dimenzie), metódu dtype ktorá vracia typ vnútorných objektov a metódu astype, ktorá vráti tenzor v podľa špecifikovaného typu."
      ]
    },
    {
      "cell_type": "code",
      "metadata": {
        "id": "hC7EtfXBWmIB",
        "colab": {
          "base_uri": "https://localhost:8080/"
        },
        "outputId": "2494812d-17dd-44a5-ef49-b6731a3ba8d4"
      },
      "source": [
        "print(a.shape)\n",
        "print(A.shape)\n",
        "print(A.dtype)\n",
        "C = A.astype(np.float32)\n",
        "print(C.dtype)\n"
      ],
      "execution_count": null,
      "outputs": [
        {
          "output_type": "stream",
          "name": "stdout",
          "text": [
            "(4,)\n",
            "(2, 3)\n",
            "int64\n",
            "float32\n"
          ]
        }
      ]
    },
    {
      "cell_type": "markdown",
      "metadata": {
        "id": "XlKW3-r_9s1E"
      },
      "source": [
        "Numpy má aj funkcie na tvorenie základných matíc. Tieto príkazy sú np.zeros, np.ones a np.empty."
      ]
    },
    {
      "cell_type": "code",
      "metadata": {
        "id": "n0bdDGaQjuYP",
        "colab": {
          "base_uri": "https://localhost:8080/"
        },
        "outputId": "543ff2f1-9ca9-4f2c-c152-4cf6992909ba"
      },
      "source": [
        "z = np.zeros([5,10])\n",
        "print(z)\n",
        "o = np.ones([3,4,5])\n",
        "print(o)\n",
        "e = np.empty([6])\n",
        "print(e)"
      ],
      "execution_count": null,
      "outputs": [
        {
          "output_type": "stream",
          "name": "stdout",
          "text": [
            "[[0. 0. 0. 0. 0. 0. 0. 0. 0. 0.]\n",
            " [0. 0. 0. 0. 0. 0. 0. 0. 0. 0.]\n",
            " [0. 0. 0. 0. 0. 0. 0. 0. 0. 0.]\n",
            " [0. 0. 0. 0. 0. 0. 0. 0. 0. 0.]\n",
            " [0. 0. 0. 0. 0. 0. 0. 0. 0. 0.]]\n",
            "[[[1. 1. 1. 1. 1.]\n",
            "  [1. 1. 1. 1. 1.]\n",
            "  [1. 1. 1. 1. 1.]\n",
            "  [1. 1. 1. 1. 1.]]\n",
            "\n",
            " [[1. 1. 1. 1. 1.]\n",
            "  [1. 1. 1. 1. 1.]\n",
            "  [1. 1. 1. 1. 1.]\n",
            "  [1. 1. 1. 1. 1.]]\n",
            "\n",
            " [[1. 1. 1. 1. 1.]\n",
            "  [1. 1. 1. 1. 1.]\n",
            "  [1. 1. 1. 1. 1.]\n",
            "  [1. 1. 1. 1. 1.]]]\n",
            "[6.9094632e-310 6.9094632e-310 0.0000000e+000 0.0000000e+000\n",
            " 0.0000000e+000 0.0000000e+000]\n"
          ]
        }
      ]
    },
    {
      "cell_type": "markdown",
      "metadata": {
        "id": "FQbG74jFkewe"
      },
      "source": [
        "Je možné tvoriť aj náhodné čísla pomocou np.random.random"
      ]
    },
    {
      "cell_type": "code",
      "metadata": {
        "id": "LrMsw30Gk234",
        "colab": {
          "base_uri": "https://localhost:8080/"
        },
        "outputId": "8de52785-3f5b-4516-dc8d-4fe1d15818a6"
      },
      "source": [
        "r = np.random.random([6,10,3])\n",
        "print(r)"
      ],
      "execution_count": null,
      "outputs": [
        {
          "output_type": "stream",
          "name": "stdout",
          "text": [
            "[[[9.95885323e-01 4.03597882e-01 5.61389304e-01]\n",
            "  [8.56023512e-01 9.40495021e-01 8.05226781e-01]\n",
            "  [2.43896556e-01 3.82036415e-01 2.46050462e-01]\n",
            "  [2.98728593e-01 8.44087912e-02 4.05704805e-01]\n",
            "  [1.68945395e-01 7.05724802e-01 9.76466894e-01]\n",
            "  [7.88578557e-01 4.71930249e-01 7.26157603e-01]\n",
            "  [7.19493018e-01 1.73281562e-02 2.49157839e-01]\n",
            "  [6.03709597e-01 3.00589632e-01 9.09663069e-01]\n",
            "  [1.36333032e-01 8.30183231e-01 3.08378048e-01]\n",
            "  [1.69389601e-02 7.54068197e-02 6.45319482e-01]]\n",
            "\n",
            " [[1.87452800e-01 1.50459858e-01 5.05246639e-01]\n",
            "  [6.95681806e-02 2.91455984e-02 4.84858187e-01]\n",
            "  [1.98130286e-01 6.45855300e-01 5.26166199e-01]\n",
            "  [7.88006884e-01 5.79224394e-01 4.89390287e-01]\n",
            "  [3.22805102e-01 6.73595179e-01 1.31740351e-01]\n",
            "  [6.10207937e-01 8.47704612e-01 4.51704552e-01]\n",
            "  [7.73975149e-01 6.00129740e-01 1.53249387e-01]\n",
            "  [2.42028746e-01 8.35834051e-01 6.00285776e-02]\n",
            "  [2.94400399e-01 3.00265876e-01 9.56334935e-01]\n",
            "  [6.93344472e-01 6.80876497e-01 7.76266594e-04]]\n",
            "\n",
            " [[6.76340327e-01 6.60550054e-01 2.06830816e-01]\n",
            "  [4.45984960e-01 1.64782912e-02 4.50087948e-01]\n",
            "  [7.60567302e-01 5.98265327e-01 5.86766195e-01]\n",
            "  [1.28114323e-01 5.35435045e-01 5.77688538e-01]\n",
            "  [7.21013384e-01 8.33236778e-01 8.67448708e-01]\n",
            "  [8.97006283e-01 1.48365125e-01 4.91756426e-01]\n",
            "  [8.91860268e-01 2.78820045e-01 8.40781992e-01]\n",
            "  [9.18396257e-01 4.15204290e-01 8.51206855e-01]\n",
            "  [7.07929828e-01 4.13087907e-01 4.29040890e-01]\n",
            "  [5.60734142e-01 9.00139006e-01 9.87689932e-01]]\n",
            "\n",
            " [[5.49469380e-02 7.61658822e-01 3.47900429e-01]\n",
            "  [2.93360611e-01 1.64727388e-01 8.98975385e-01]\n",
            "  [2.43270060e-01 5.18672890e-01 2.60258827e-01]\n",
            "  [7.63691223e-01 3.78698873e-02 1.36463669e-02]\n",
            "  [7.87807011e-01 4.88740251e-01 5.49438695e-01]\n",
            "  [5.66988613e-01 5.83439517e-01 7.34609299e-01]\n",
            "  [6.52932774e-01 5.95446557e-01 5.56546121e-01]\n",
            "  [7.46138614e-01 7.98461607e-01 4.26063511e-01]\n",
            "  [4.57590570e-01 7.70405124e-01 5.92313612e-01]\n",
            "  [4.64085705e-01 4.49671253e-02 4.48431490e-03]]\n",
            "\n",
            " [[4.37616775e-02 6.20463146e-01 1.11736753e-02]\n",
            "  [7.34844646e-01 7.95077383e-01 5.91502374e-01]\n",
            "  [4.73188058e-01 3.81612639e-01 3.56943509e-01]\n",
            "  [4.71382706e-01 9.84809697e-02 9.72695300e-01]\n",
            "  [6.49850288e-01 4.98919631e-01 6.72601180e-01]\n",
            "  [1.37330607e-01 4.79471761e-01 6.38878924e-01]\n",
            "  [5.36102951e-01 4.26066091e-01 1.68058145e-01]\n",
            "  [8.39000378e-01 7.35714856e-01 9.46708054e-01]\n",
            "  [3.38620670e-01 7.12454957e-01 8.44204130e-01]\n",
            "  [8.54494121e-01 4.58229039e-01 4.74868474e-01]]\n",
            "\n",
            " [[4.45000198e-01 2.19477514e-01 4.31651297e-01]\n",
            "  [4.63942832e-01 5.82921952e-01 8.04901070e-01]\n",
            "  [6.08821586e-01 1.07269991e-01 1.12391550e-01]\n",
            "  [1.41873952e-01 3.81435863e-01 2.90090385e-01]\n",
            "  [9.80803878e-01 2.33226484e-01 9.28557957e-01]\n",
            "  [3.60221259e-01 8.38956825e-01 1.88986053e-01]\n",
            "  [3.95852965e-01 8.83257081e-01 9.82302323e-01]\n",
            "  [1.90318119e-01 5.66814188e-01 2.40586761e-01]\n",
            "  [9.75530539e-01 4.24087452e-01 2.12326876e-01]\n",
            "  [5.96032353e-01 4.18650869e-01 7.56431027e-01]]]\n"
          ]
        }
      ]
    },
    {
      "cell_type": "markdown",
      "metadata": {
        "id": "U1vO9XhhlAXg"
      },
      "source": [
        "Tieto náhodné čísla použijeme na prácu s indexmi. Indexácia je podobná ako v matlabe, ale platia tu pythonovské konvencie. Indexuje sa viacerými indexmi. Ak sa indexuje menej indexmi, tak sa tie ostatné berú ako :, čo znamená zobartie všetkých prvkov pozdĺž dimenzie."
      ]
    },
    {
      "cell_type": "code",
      "metadata": {
        "id": "oTMiqcZPlwtl",
        "colab": {
          "base_uri": "https://localhost:8080/"
        },
        "outputId": "58f92321-fc48-4dc7-e0c8-f93f5c799392"
      },
      "source": [
        "print(r[3,4,1])\n",
        "print(r[:,:,-1])\n",
        "print(r[:,:,1].shape)\n",
        "print(r[0:4,5:6,:])\n",
        "print(r[0:4,5:6,:].shape)"
      ],
      "execution_count": null,
      "outputs": [
        {
          "output_type": "stream",
          "name": "stdout",
          "text": [
            "0.48874025140132116\n",
            "[[5.61389304e-01 8.05226781e-01 2.46050462e-01 4.05704805e-01\n",
            "  9.76466894e-01 7.26157603e-01 2.49157839e-01 9.09663069e-01\n",
            "  3.08378048e-01 6.45319482e-01]\n",
            " [5.05246639e-01 4.84858187e-01 5.26166199e-01 4.89390287e-01\n",
            "  1.31740351e-01 4.51704552e-01 1.53249387e-01 6.00285776e-02\n",
            "  9.56334935e-01 7.76266594e-04]\n",
            " [2.06830816e-01 4.50087948e-01 5.86766195e-01 5.77688538e-01\n",
            "  8.67448708e-01 4.91756426e-01 8.40781992e-01 8.51206855e-01\n",
            "  4.29040890e-01 9.87689932e-01]\n",
            " [3.47900429e-01 8.98975385e-01 2.60258827e-01 1.36463669e-02\n",
            "  5.49438695e-01 7.34609299e-01 5.56546121e-01 4.26063511e-01\n",
            "  5.92313612e-01 4.48431490e-03]\n",
            " [1.11736753e-02 5.91502374e-01 3.56943509e-01 9.72695300e-01\n",
            "  6.72601180e-01 6.38878924e-01 1.68058145e-01 9.46708054e-01\n",
            "  8.44204130e-01 4.74868474e-01]\n",
            " [4.31651297e-01 8.04901070e-01 1.12391550e-01 2.90090385e-01\n",
            "  9.28557957e-01 1.88986053e-01 9.82302323e-01 2.40586761e-01\n",
            "  2.12326876e-01 7.56431027e-01]]\n",
            "(6, 10)\n",
            "[[[0.78857856 0.47193025 0.7261576 ]]\n",
            "\n",
            " [[0.61020794 0.84770461 0.45170455]]\n",
            "\n",
            " [[0.89700628 0.14836512 0.49175643]]\n",
            "\n",
            " [[0.56698861 0.58343952 0.7346093 ]]]\n",
            "(4, 1, 3)\n"
          ]
        }
      ]
    },
    {
      "cell_type": "markdown",
      "metadata": {
        "id": "ybA-W90VmNhG"
      },
      "source": [
        "Indexovať môžeme aj s preskakovaním jednotlivých prvkov, tzv. slicing. To sa robí pomocou ďalšej dvojbodky. Formát je potom \\[začiatok:koniec:skok\\]. Ak niečo z toho vynecháme, tak žačiatok bude defaultne 0, koniec -1 a skok 1."
      ]
    },
    {
      "cell_type": "code",
      "metadata": {
        "id": "1kmxFdtUmTRE",
        "colab": {
          "base_uri": "https://localhost:8080/"
        },
        "outputId": "c9f7ba3f-91ea-4069-ba96-5583696ebe16"
      },
      "source": [
        "p = np.arange(25)\n",
        "print(p)\n",
        "print(p[4:16:2])\n",
        "print(p[2:-4:6])\n",
        "print(p[:10:])\n",
        "print(p[::3])\n",
        "print(p[1::6])\n",
        "print(p[-6:])\n",
        "print(r[1::2,0::3,:])"
      ],
      "execution_count": null,
      "outputs": [
        {
          "output_type": "stream",
          "name": "stdout",
          "text": [
            "[ 0  1  2  3  4  5  6  7  8  9 10 11 12 13 14 15 16 17 18 19 20 21 22 23\n",
            " 24]\n",
            "[ 4  6  8 10 12 14]\n",
            "[ 2  8 14 20]\n",
            "[0 1 2 3 4 5 6 7 8 9]\n",
            "[ 0  3  6  9 12 15 18 21 24]\n",
            "[ 1  7 13 19]\n",
            "[19 20 21 22 23 24]\n",
            "[[[1.87452800e-01 1.50459858e-01 5.05246639e-01]\n",
            "  [7.88006884e-01 5.79224394e-01 4.89390287e-01]\n",
            "  [7.73975149e-01 6.00129740e-01 1.53249387e-01]\n",
            "  [6.93344472e-01 6.80876497e-01 7.76266594e-04]]\n",
            "\n",
            " [[5.49469380e-02 7.61658822e-01 3.47900429e-01]\n",
            "  [7.63691223e-01 3.78698873e-02 1.36463669e-02]\n",
            "  [6.52932774e-01 5.95446557e-01 5.56546121e-01]\n",
            "  [4.64085705e-01 4.49671253e-02 4.48431490e-03]]\n",
            "\n",
            " [[4.45000198e-01 2.19477514e-01 4.31651297e-01]\n",
            "  [1.41873952e-01 3.81435863e-01 2.90090385e-01]\n",
            "  [3.95852965e-01 8.83257081e-01 9.82302323e-01]\n",
            "  [5.96032353e-01 4.18650869e-01 7.56431027e-01]]]\n"
          ]
        }
      ]
    },
    {
      "cell_type": "markdown",
      "metadata": {
        "id": "478cxvQtmk9t"
      },
      "source": [
        "Niekedy potrebujeme vytvoriť tzv. singleton dimenziu. To znamená že zvýšime rád zvoleného tenzoru o jedna pričom novovzniknutá osa (axis) bude mať dimenziu jedna. Toto je užitočné najmä ak potrebujeme používať broadcasting pri rôznych operáciách."
      ]
    },
    {
      "cell_type": "code",
      "metadata": {
        "id": "IXKkfdNpmy0h",
        "colab": {
          "base_uri": "https://localhost:8080/"
        },
        "outputId": "068b7ffc-3969-45b8-b33c-c57d853ed790"
      },
      "source": [
        "print(r[None,:,:,:].shape)\n",
        "print(r[None].shape)\n",
        "print(r[np.newaxis,:,:,:].shape)\n",
        "print(r[:,:,:,np.newaxis].shape)\n",
        "print(r[np.newaxis,:,0,:].shape)"
      ],
      "execution_count": null,
      "outputs": [
        {
          "output_type": "stream",
          "name": "stdout",
          "text": [
            "(1, 6, 10, 3)\n",
            "(1, 6, 10, 3)\n",
            "(1, 6, 10, 3)\n",
            "(6, 10, 3, 1)\n",
            "(1, 6, 3)\n"
          ]
        }
      ]
    },
    {
      "cell_type": "markdown",
      "metadata": {
        "id": "LK7K0RginLDB"
      },
      "source": [
        "Teraz môžeme vidieť v akcii aj broadcasting."
      ]
    },
    {
      "cell_type": "code",
      "metadata": {
        "id": "110A-dLgnRaU",
        "colab": {
          "base_uri": "https://localhost:8080/"
        },
        "outputId": "b9f900cc-280d-442f-e098-22e92643243f"
      },
      "source": [
        "r += 10\n",
        "print(r)\n",
        "r[0,:,:] = np.random.random([10,3])\n",
        "print(r.shape)\n",
        "r[0] = np.random.random([10,3])\n",
        "print(r.shape)\n",
        "r[0] = np.zeros([10,1])\n",
        "print(r.shape)\n",
        "r/=500\n",
        "print(r)"
      ],
      "execution_count": null,
      "outputs": [
        {
          "output_type": "stream",
          "name": "stdout",
          "text": [
            "[[[10.99588532 10.40359788 10.5613893 ]\n",
            "  [10.85602351 10.94049502 10.80522678]\n",
            "  [10.24389656 10.38203642 10.24605046]\n",
            "  [10.29872859 10.08440879 10.40570481]\n",
            "  [10.16894539 10.7057248  10.97646689]\n",
            "  [10.78857856 10.47193025 10.7261576 ]\n",
            "  [10.71949302 10.01732816 10.24915784]\n",
            "  [10.6037096  10.30058963 10.90966307]\n",
            "  [10.13633303 10.83018323 10.30837805]\n",
            "  [10.01693896 10.07540682 10.64531948]]\n",
            "\n",
            " [[10.1874528  10.15045986 10.50524664]\n",
            "  [10.06956818 10.0291456  10.48485819]\n",
            "  [10.19813029 10.6458553  10.5261662 ]\n",
            "  [10.78800688 10.57922439 10.48939029]\n",
            "  [10.3228051  10.67359518 10.13174035]\n",
            "  [10.61020794 10.84770461 10.45170455]\n",
            "  [10.77397515 10.60012974 10.15324939]\n",
            "  [10.24202875 10.83583405 10.06002858]\n",
            "  [10.2944004  10.30026588 10.95633493]\n",
            "  [10.69334447 10.6808765  10.00077627]]\n",
            "\n",
            " [[10.67634033 10.66055005 10.20683082]\n",
            "  [10.44598496 10.01647829 10.45008795]\n",
            "  [10.7605673  10.59826533 10.58676619]\n",
            "  [10.12811432 10.53543504 10.57768854]\n",
            "  [10.72101338 10.83323678 10.86744871]\n",
            "  [10.89700628 10.14836512 10.49175643]\n",
            "  [10.89186027 10.27882004 10.84078199]\n",
            "  [10.91839626 10.41520429 10.85120686]\n",
            "  [10.70792983 10.41308791 10.42904089]\n",
            "  [10.56073414 10.90013901 10.98768993]]\n",
            "\n",
            " [[10.05494694 10.76165882 10.34790043]\n",
            "  [10.29336061 10.16472739 10.89897538]\n",
            "  [10.24327006 10.51867289 10.26025883]\n",
            "  [10.76369122 10.03786989 10.01364637]\n",
            "  [10.78780701 10.48874025 10.54943869]\n",
            "  [10.56698861 10.58343952 10.7346093 ]\n",
            "  [10.65293277 10.59544656 10.55654612]\n",
            "  [10.74613861 10.79846161 10.42606351]\n",
            "  [10.45759057 10.77040512 10.59231361]\n",
            "  [10.46408571 10.04496713 10.00448431]]\n",
            "\n",
            " [[10.04376168 10.62046315 10.01117368]\n",
            "  [10.73484465 10.79507738 10.59150237]\n",
            "  [10.47318806 10.38161264 10.35694351]\n",
            "  [10.47138271 10.09848097 10.9726953 ]\n",
            "  [10.64985029 10.49891963 10.67260118]\n",
            "  [10.13733061 10.47947176 10.63887892]\n",
            "  [10.53610295 10.42606609 10.16805815]\n",
            "  [10.83900038 10.73571486 10.94670805]\n",
            "  [10.33862067 10.71245496 10.84420413]\n",
            "  [10.85449412 10.45822904 10.47486847]]\n",
            "\n",
            " [[10.4450002  10.21947751 10.4316513 ]\n",
            "  [10.46394283 10.58292195 10.80490107]\n",
            "  [10.60882159 10.10726999 10.11239155]\n",
            "  [10.14187395 10.38143586 10.29009039]\n",
            "  [10.98080388 10.23322648 10.92855796]\n",
            "  [10.36022126 10.83895682 10.18898605]\n",
            "  [10.39585297 10.88325708 10.98230232]\n",
            "  [10.19031812 10.56681419 10.24058676]\n",
            "  [10.97553054 10.42408745 10.21232688]\n",
            "  [10.59603235 10.41865087 10.75643103]]]\n",
            "(6, 10, 3)\n",
            "(6, 10, 3)\n",
            "(6, 10, 3)\n",
            "[[[0.         0.         0.        ]\n",
            "  [0.         0.         0.        ]\n",
            "  [0.         0.         0.        ]\n",
            "  [0.         0.         0.        ]\n",
            "  [0.         0.         0.        ]\n",
            "  [0.         0.         0.        ]\n",
            "  [0.         0.         0.        ]\n",
            "  [0.         0.         0.        ]\n",
            "  [0.         0.         0.        ]\n",
            "  [0.         0.         0.        ]]\n",
            "\n",
            " [[0.02037491 0.02030092 0.02101049]\n",
            "  [0.02013914 0.02005829 0.02096972]\n",
            "  [0.02039626 0.02129171 0.02105233]\n",
            "  [0.02157601 0.02115845 0.02097878]\n",
            "  [0.02064561 0.02134719 0.02026348]\n",
            "  [0.02122042 0.02169541 0.02090341]\n",
            "  [0.02154795 0.02120026 0.0203065 ]\n",
            "  [0.02048406 0.02167167 0.02012006]\n",
            "  [0.0205888  0.02060053 0.02191267]\n",
            "  [0.02138669 0.02136175 0.02000155]]\n",
            "\n",
            " [[0.02135268 0.0213211  0.02041366]\n",
            "  [0.02089197 0.02003296 0.02090018]\n",
            "  [0.02152113 0.02119653 0.02117353]\n",
            "  [0.02025623 0.02107087 0.02115538]\n",
            "  [0.02144203 0.02166647 0.0217349 ]\n",
            "  [0.02179401 0.02029673 0.02098351]\n",
            "  [0.02178372 0.02055764 0.02168156]\n",
            "  [0.02183679 0.02083041 0.02170241]\n",
            "  [0.02141586 0.02082618 0.02085808]\n",
            "  [0.02112147 0.02180028 0.02197538]]\n",
            "\n",
            " [[0.02010989 0.02152332 0.0206958 ]\n",
            "  [0.02058672 0.02032945 0.02179795]\n",
            "  [0.02048654 0.02103735 0.02052052]\n",
            "  [0.02152738 0.02007574 0.02002729]\n",
            "  [0.02157561 0.02097748 0.02109888]\n",
            "  [0.02113398 0.02116688 0.02146922]\n",
            "  [0.02130587 0.02119089 0.02111309]\n",
            "  [0.02149228 0.02159692 0.02085213]\n",
            "  [0.02091518 0.02154081 0.02118463]\n",
            "  [0.02092817 0.02008993 0.02000897]]\n",
            "\n",
            " [[0.02008752 0.02124093 0.02002235]\n",
            "  [0.02146969 0.02159015 0.021183  ]\n",
            "  [0.02094638 0.02076323 0.02071389]\n",
            "  [0.02094277 0.02019696 0.02194539]\n",
            "  [0.0212997  0.02099784 0.0213452 ]\n",
            "  [0.02027466 0.02095894 0.02127776]\n",
            "  [0.02107221 0.02085213 0.02033612]\n",
            "  [0.021678   0.02147143 0.02189342]\n",
            "  [0.02067724 0.02142491 0.02168841]\n",
            "  [0.02170899 0.02091646 0.02094974]]\n",
            "\n",
            " [[0.02089    0.02043896 0.0208633 ]\n",
            "  [0.02092789 0.02116584 0.0216098 ]\n",
            "  [0.02121764 0.02021454 0.02022478]\n",
            "  [0.02028375 0.02076287 0.02058018]\n",
            "  [0.02196161 0.02046645 0.02185712]\n",
            "  [0.02072044 0.02167791 0.02037797]\n",
            "  [0.02079171 0.02176651 0.0219646 ]\n",
            "  [0.02038064 0.02113363 0.02048117]\n",
            "  [0.02195106 0.02084817 0.02042465]\n",
            "  [0.02119206 0.0208373  0.02151286]]]\n"
          ]
        }
      ]
    },
    {
      "cell_type": "markdown",
      "metadata": {
        "id": "-cUMWPBNoFj2"
      },
      "source": [
        "Je možné polia pretvarovať pomocou np.reshape(arr, shape)"
      ]
    },
    {
      "cell_type": "code",
      "metadata": {
        "id": "Mn62_4cToQs4",
        "colab": {
          "base_uri": "https://localhost:8080/"
        },
        "outputId": "4654ad45-be3c-4947-8ae3-bc467757ba7e"
      },
      "source": [
        "q = np.reshape(r, [6,30])\n",
        "print(q.shape)"
      ],
      "execution_count": null,
      "outputs": [
        {
          "output_type": "stream",
          "name": "stdout",
          "text": [
            "(6, 30)\n"
          ]
        }
      ]
    },
    {
      "cell_type": "markdown",
      "metadata": {
        "id": "uBQ6JlDbo7s2"
      },
      "source": [
        "Polia môžeme spájať. Jeden spôsob je pomocou np.concatenate([arr1, arr2, ...], axis = i) t=a spojí arr1, arr2 atď. vedľa seba pozdĺž osy i."
      ]
    },
    {
      "cell_type": "code",
      "metadata": {
        "id": "RFI3H7dbpXse",
        "colab": {
          "base_uri": "https://localhost:8080/"
        },
        "outputId": "87eed2e8-e2f1-429c-cbe2-0372e47094aa"
      },
      "source": [
        "a = np.ones([3,4])\n",
        "b = np.zeros([6,4])\n",
        "c = np.concatenate([a,b], axis = 0)\n",
        "print(c)                   "
      ],
      "execution_count": null,
      "outputs": [
        {
          "output_type": "stream",
          "name": "stdout",
          "text": [
            "[[1. 1. 1. 1.]\n",
            " [1. 1. 1. 1.]\n",
            " [1. 1. 1. 1.]\n",
            " [0. 0. 0. 0.]\n",
            " [0. 0. 0. 0.]\n",
            " [0. 0. 0. 0.]\n",
            " [0. 0. 0. 0.]\n",
            " [0. 0. 0. 0.]\n",
            " [0. 0. 0. 0.]]\n"
          ]
        }
      ]
    },
    {
      "cell_type": "markdown",
      "metadata": {
        "id": "xLC59P7fp8iC"
      },
      "source": [
        "Iný spôsob je použitie np.stack([arr1, arr2, ...], axis = i) narozdiel od cocatenate sa pri tomto príkaze vytvorí nová dimenzia poďľa hodnoty i. Existujú aj príkazy column_stack a row_stack."
      ]
    },
    {
      "cell_type": "code",
      "metadata": {
        "id": "Vj6T89BSq4g_",
        "colab": {
          "base_uri": "https://localhost:8080/"
        },
        "outputId": "36dfe03b-9e90-4e34-d6f2-ab9a1553cc96"
      },
      "source": [
        "a = np.ones([6,4,3])\n",
        "b = np.zeros([6,4,3])\n",
        "d = np.stack([a,b], axis = 0)\n",
        "print(d.shape)\n",
        "f = np.stack([a,b], axis = -1)\n",
        "print(f.shape)\n",
        "g = np.stack([a,b], axis = 1)\n",
        "print(g.shape)"
      ],
      "execution_count": null,
      "outputs": [
        {
          "output_type": "stream",
          "name": "stdout",
          "text": [
            "(2, 6, 4, 3)\n",
            "(6, 4, 3, 2)\n",
            "(6, 2, 4, 3)\n"
          ]
        }
      ]
    },
    {
      "cell_type": "markdown",
      "metadata": {
        "id": "PH3_y_ThuEwJ"
      },
      "source": [
        "Indexovať môžeme aj pomocou podmienok."
      ]
    },
    {
      "cell_type": "code",
      "metadata": {
        "id": "O3j-u9yRuVFk",
        "colab": {
          "base_uri": "https://localhost:8080/"
        },
        "outputId": "7cdf3b08-bd47-4cb2-c9ac-6de4c3056c95"
      },
      "source": [
        "r = np.random.random([5,5])\n",
        "print(r)\n",
        "r[r < 0.5] = -500\n",
        "print(r)"
      ],
      "execution_count": null,
      "outputs": [
        {
          "output_type": "stream",
          "name": "stdout",
          "text": [
            "[[0.60643544 0.66730293 0.47275109 0.158011   0.24068463]\n",
            " [0.7151493  0.54554022 0.92186819 0.24924769 0.67270316]\n",
            " [0.80514547 0.03956551 0.58889968 0.85724311 0.96189877]\n",
            " [0.82354398 0.99771929 0.11239969 0.52785598 0.94681576]\n",
            " [0.76045869 0.7915977  0.85621659 0.48104025 0.90530371]]\n",
            "[[   0.60643544    0.66730293 -500.         -500.         -500.        ]\n",
            " [   0.7151493     0.54554022    0.92186819 -500.            0.67270316]\n",
            " [   0.80514547 -500.            0.58889968    0.85724311    0.96189877]\n",
            " [   0.82354398    0.99771929 -500.            0.52785598    0.94681576]\n",
            " [   0.76045869    0.7915977     0.85621659 -500.            0.90530371]]\n"
          ]
        }
      ]
    },
    {
      "cell_type": "markdown",
      "metadata": {
        "id": "G9Zqp4-PrLG3"
      },
      "source": [
        "Podmienky môžeme použiť aj np.where(cond, a1, a2), ktorá vráti pole ktoré ma na miestach kde je cond splnená hodnoty z a1 a inde hodnoty z a2. Použijeme tu príkaz np.arange(i), ktorý vráti pole podobne ako range z pythonu."
      ]
    },
    {
      "cell_type": "code",
      "metadata": {
        "id": "SBKZaiIttoXs",
        "colab": {
          "base_uri": "https://localhost:8080/"
        },
        "outputId": "b92ae044-dc3d-4293-c799-635a76656f3d"
      },
      "source": [
        "a = np.arange(10)\n",
        "print(a)\n",
        "b = np.where(a < 5, a, a**2)\n",
        "print(b)"
      ],
      "execution_count": null,
      "outputs": [
        {
          "output_type": "stream",
          "name": "stdout",
          "text": [
            "[0 1 2 3 4 5 6 7 8 9]\n",
            "[ 0  1  2  3  4 25 36 49 64 81]\n"
          ]
        }
      ]
    },
    {
      "cell_type": "markdown",
      "metadata": {
        "id": "6mEbjH89sAXH"
      },
      "source": [
        "### Úloha - Chessboard\n",
        "Vytvorte funkciu chessboard(rows, cols), ktorá vráti numpy pole s riadkami rows a stĺpcami cols ktorá bude mať hodnoty 0 a 1 na takých miestach ako sú farby na šachovnici. Môžete použiť slicing, podmienky (zíde sa vám np.mgrid), alebo opakovanie matíc (np.tile)"
      ]
    },
    {
      "cell_type": "code",
      "metadata": {
        "id": "qJGmsNBxstBZ"
      },
      "source": [
        "def chessboard(rows, cols):\n",
        "  ..."
      ],
      "execution_count": null,
      "outputs": []
    },
    {
      "cell_type": "code",
      "metadata": {
        "id": "tnMLmXeYM-pz",
        "colab": {
          "base_uri": "https://localhost:8080/"
        },
        "outputId": "0897e269-22c3-4f88-dcab-11cf7711b4dd"
      },
      "source": [
        "print(chessboard(8,8))\n",
        "print(chessboard(5,12))"
      ],
      "execution_count": null,
      "outputs": [
        {
          "output_type": "stream",
          "name": "stdout",
          "text": [
            "[[0. 1. 0. 1. 0. 1. 0. 1.]\n",
            " [1. 0. 1. 0. 1. 0. 1. 0.]\n",
            " [0. 1. 0. 1. 0. 1. 0. 1.]\n",
            " [1. 0. 1. 0. 1. 0. 1. 0.]\n",
            " [0. 1. 0. 1. 0. 1. 0. 1.]\n",
            " [1. 0. 1. 0. 1. 0. 1. 0.]\n",
            " [0. 1. 0. 1. 0. 1. 0. 1.]\n",
            " [1. 0. 1. 0. 1. 0. 1. 0.]]\n",
            "[[0. 1. 0. 1. 0. 1. 0. 1. 0. 1. 0. 1.]\n",
            " [1. 0. 1. 0. 1. 0. 1. 0. 1. 0. 1. 0.]\n",
            " [0. 1. 0. 1. 0. 1. 0. 1. 0. 1. 0. 1.]\n",
            " [1. 0. 1. 0. 1. 0. 1. 0. 1. 0. 1. 0.]\n",
            " [0. 1. 0. 1. 0. 1. 0. 1. 0. 1. 0. 1.]]\n"
          ]
        }
      ]
    },
    {
      "cell_type": "markdown",
      "source": [
        "### Úloha - Indexovanie\n",
        "\n",
        "Vygenerujte náhodnú maticu s rozmermi 10 x 5 z rovnomerného rozdelenia. Následne zmente všetky prvky väčšie ako 0.8 na 1. Následne zmenťe všetky prvky menšie ako 0.3 na polovicu hodnoty na rovnakom riadku ale, vo vedľajšom stĺpci naľavo. Ak sú takéto hodnoty v prvom stĺpci, tak ich zmeňte na 0. Operáciu urobte tak, ako keby ste robili všetky zmeny naraz. V kóde to však nemusí byť jedna operácia. Budete potrebovať logickú indexáciu a v druhom prípade aj np.where. Nepoužite for cyklus."
      ],
      "metadata": {
        "id": "_5qFnZkr_4XI"
      }
    },
    {
      "cell_type": "code",
      "source": [
        "..."
      ],
      "metadata": {
        "colab": {
          "base_uri": "https://localhost:8080/"
        },
        "id": "gEgr1jFGA3AF",
        "outputId": "f1206455-d94b-4ee9-9530-237c361f688a"
      },
      "execution_count": null,
      "outputs": [
        {
          "output_type": "stream",
          "name": "stdout",
          "text": [
            "[[0.74027528 0.14235702 0.39665901 0.3891523  0.63451825]\n",
            " [0.97718423 0.99715736 0.63067475 0.80476931 0.14784647]\n",
            " [0.51975634 0.27866818 0.50297632 0.70019818 0.80967778]\n",
            " [0.67990934 0.20306608 0.48427877 0.74989176 0.41986531]\n",
            " [0.91891413 0.52045535 0.99755539 0.22745818 0.95593381]\n",
            " [0.40821301 0.07608976 0.06450501 0.2251722  0.72046368]\n",
            " [0.85837094 0.45988644 0.19681961 0.00892276 0.02556175]\n",
            " [0.2825981  0.64956695 0.42169434 0.10618065 0.29772611]\n",
            " [0.31136082 0.14418991 0.19083763 0.54011873 0.91688343]\n",
            " [0.24608039 0.02030628 0.642102   0.12799292 0.89714453]]\n",
            "[[0.74027528 0.14235702 0.39665901 0.3891523  0.63451825]\n",
            " [1.         1.         0.63067475 1.         0.14784647]\n",
            " [0.51975634 0.27866818 0.50297632 0.70019818 1.        ]\n",
            " [0.67990934 0.20306608 0.48427877 0.74989176 0.41986531]\n",
            " [1.         0.52045535 1.         0.22745818 1.        ]\n",
            " [0.40821301 0.07608976 0.06450501 0.2251722  0.72046368]\n",
            " [1.         0.45988644 0.19681961 0.00892276 0.02556175]\n",
            " [0.2825981  0.64956695 0.42169434 0.10618065 0.29772611]\n",
            " [0.31136082 0.14418991 0.19083763 0.54011873 1.        ]\n",
            " [0.24608039 0.02030628 0.642102   0.12799292 1.        ]]\n",
            "[[0.74027528 0.37013764 0.39665901 0.3891523  0.63451825]\n",
            " [1.         1.         0.63067475 1.         0.5       ]\n",
            " [0.51975634 0.25987817 0.50297632 0.70019818 1.        ]\n",
            " [0.67990934 0.33995467 0.48427877 0.74989176 0.41986531]\n",
            " [1.         0.52045535 1.         0.5        1.        ]\n",
            " [0.40821301 0.20410651 0.03804488 0.0322525  0.72046368]\n",
            " [1.         0.45988644 0.22994322 0.09840981 0.00446138]\n",
            " [0.         0.64956695 0.42169434 0.21084717 0.05309033]\n",
            " [0.31136082 0.15568041 0.07209496 0.54011873 1.        ]\n",
            " [0.         0.1230402  0.642102   0.321051   1.        ]]\n"
          ]
        }
      ]
    },
    {
      "cell_type": "markdown",
      "source": [
        "## Matematické operácie\n",
        "\n",
        "Na polia môžeme aplikovať tiež matematické operácie."
      ],
      "metadata": {
        "id": "xqM95bG9GPkU"
      }
    },
    {
      "cell_type": "code",
      "source": [
        "r = np.random.rand(10, 2)"
      ],
      "metadata": {
        "id": "1866JHicGvAV"
      },
      "execution_count": null,
      "outputs": []
    },
    {
      "cell_type": "code",
      "source": [
        "print(np.sin(r))\n",
        "print(np.cos(r))\n",
        "print(np.arccos(r))\n",
        "print(np.exp(r))\n",
        "print(r ** 2)"
      ],
      "metadata": {
        "colab": {
          "base_uri": "https://localhost:8080/"
        },
        "id": "8CCkBRGGGztP",
        "outputId": "fc5e40a4-6c31-4056-a309-41b5a9304028"
      },
      "execution_count": null,
      "outputs": [
        {
          "output_type": "stream",
          "name": "stdout",
          "text": [
            "[[0.25497608 0.18381108]\n",
            " [0.65433683 0.50759631]\n",
            " [0.29732452 0.31978364]\n",
            " [0.82187733 0.81683468]\n",
            " [0.50736414 0.47060857]\n",
            " [0.21030374 0.59490437]\n",
            " [0.08434235 0.12025903]\n",
            " [0.45910469 0.73792798]\n",
            " [0.37733773 0.58111117]\n",
            " [0.01367389 0.05020922]]\n",
            "[[0.96694736 0.98296159]\n",
            " [0.75620322 0.86159502]\n",
            " [0.95477648 0.94749059]\n",
            " [0.56966451 0.57687183]\n",
            " [0.86173176 0.8823421 ]\n",
            " [0.9776361  0.80379649]\n",
            " [0.99643684 0.99274255]\n",
            " [0.88838217 0.67487947]\n",
            " [0.92607572 0.81382419]\n",
            " [0.99990651 0.99873872]]\n",
            "[[1.31002801 1.38486469]\n",
            " [0.77659324 1.0093717 ]\n",
            " [1.26412262 1.23925465]\n",
            " [0.26649932 0.29807884]\n",
            " [1.00968998 1.0587291 ]\n",
            " [1.35729232 0.88000581]\n",
            " [1.48625298 1.44995161]\n",
            " [1.07357276 0.59169765]\n",
            " [1.17350744 0.90193458]\n",
            " [1.55712158 1.52054484]]\n",
            "[[1.2941097  1.20305264]\n",
            " [2.04072536 1.70300217]\n",
            " [1.35241139 1.3847244 ]\n",
            " [2.62399701 2.60101685]\n",
            " [1.70254337 1.63228417]\n",
            " [1.23600652 1.89107731]\n",
            " [1.08811046 1.12811805]\n",
            " [1.61121273 2.29330722]\n",
            " [1.47243842 1.85910167]\n",
            " [1.01376824 1.05151327]]\n",
            "[[6.64726834e-02 3.41740315e-02]\n",
            " [5.08804472e-01 2.83441962e-01]\n",
            " [9.11370989e-02 1.05950987e-01]\n",
            " [9.30643642e-01 9.13749525e-01]\n",
            " [2.83155137e-01 2.40080760e-01]\n",
            " [4.48955229e-02 4.05955879e-01]\n",
            " [7.13056461e-03 1.45324965e-02]\n",
            " [2.27516734e-01 6.88891662e-01]\n",
            " [1.49706945e-01 3.84515821e-01]\n",
            " [1.86986957e-04 2.52308668e-03]]\n"
          ]
        }
      ]
    },
    {
      "cell_type": "markdown",
      "metadata": {
        "id": "cNqacKB3HrYf"
      },
      "source": [
        "## Súhrnné operácie\n",
        "Na numpy poliach je možné robiť aj rôzne operácie. Je napríklad možné sčítať pole pomocou príkazu np.sum. Podobne fungujú aj príkazy np.min (mininum), np.max(maximum), np.mean (priemer), np.median (medián), np.var (variácia) a np.std (štandardná odchýlka).\n",
        "\n"
      ]
    },
    {
      "cell_type": "code",
      "metadata": {
        "colab": {
          "base_uri": "https://localhost:8080/"
        },
        "id": "dmwlKq7bIYhw",
        "outputId": "f6650afb-a2f7-4999-c46d-e300dfa79353"
      },
      "source": [
        "a = np.random.rand(4, 3)\n",
        "print(a)\n",
        "print(np.mean(a))\n",
        "print(np.median(a))\n",
        "print(np.sum(a))\n",
        "print(np.max(a))\n",
        "print(np.std(a))"
      ],
      "execution_count": null,
      "outputs": [
        {
          "output_type": "stream",
          "name": "stdout",
          "text": [
            "[[0.37916405 0.16916984 0.39551444]\n",
            " [0.12436263 0.48460161 0.58490869]\n",
            " [0.88752807 0.69104601 0.1736372 ]\n",
            " [0.65177933 0.16806973 0.44024125]]\n",
            "0.4291685708661899\n",
            "0.4178778445758962\n",
            "5.150022850394279\n",
            "0.8875280744068558\n",
            "0.23332508195234322\n"
          ]
        }
      ]
    },
    {
      "cell_type": "markdown",
      "metadata": {
        "id": "CsqRVEq5JVIw"
      },
      "source": [
        "## Kľučové slovo axis\n",
        "\n",
        "Často chceme operáciu napr. sčítanie realizovať len po nejakej dimenzii. V takom prípade je vhodné využiť kľučové slovo axis. To nám umožní sčítavať po konkrétnej dimenzii. Je možné použiť aj tuple dimenzii po ktorých je možné sčítavať. Veľa numpy príkazov má tento keyword k dispozícii a je vhodné sa ho dobre naučiť používať.\n"
      ]
    },
    {
      "cell_type": "code",
      "metadata": {
        "colab": {
          "base_uri": "https://localhost:8080/"
        },
        "id": "rdCOTub4JrAt",
        "outputId": "b61bae05-b0fa-45fe-a73f-18704d7d99dd"
      },
      "source": [
        "print(a)\n",
        "print(np.sum(a, axis=0))\n",
        "print(np.sum(a, axis=0).shape)\n",
        "print(np.sum(a, axis=1))\n",
        "print(np.sum(a, axis=1).shape)\n",
        "\n",
        "b = np.random.rand(4,3,16,16)\n",
        "print(np.sum(b, axis=(1,2,3)))\n",
        "print(np.sum(b, axis=(1,2,3)).shape)"
      ],
      "execution_count": null,
      "outputs": [
        {
          "output_type": "stream",
          "name": "stdout",
          "text": [
            "[[0.37916405 0.16916984 0.39551444]\n",
            " [0.12436263 0.48460161 0.58490869]\n",
            " [0.88752807 0.69104601 0.1736372 ]\n",
            " [0.65177933 0.16806973 0.44024125]]\n",
            "[2.04283408 1.5128872  1.59430157]\n",
            "(3,)\n",
            "[0.94384834 1.19387292 1.75221128 1.26009031]\n",
            "(4,)\n",
            "[383.11871274 383.92771032 390.54336026 386.73048269]\n",
            "(4,)\n"
          ]
        }
      ]
    },
    {
      "cell_type": "markdown",
      "source": [
        "Pre minimum a maximum existujú ešte dve funkcie (np.minimum a np.maximum), ktoré porovnajú dve polia."
      ],
      "metadata": {
        "id": "aVJQ0_MUIYSX"
      }
    },
    {
      "cell_type": "code",
      "source": [
        "b = ((np.arange(12) - 7) * 2).reshape(4,3)\n",
        "print(b)\n",
        "print(np.maximum(a, b))"
      ],
      "metadata": {
        "id": "7uh7JJhHIipj",
        "colab": {
          "base_uri": "https://localhost:8080/"
        },
        "outputId": "2d9b85df-be90-4e94-a331-9577f46310fb"
      },
      "execution_count": null,
      "outputs": [
        {
          "output_type": "stream",
          "name": "stdout",
          "text": [
            "[[-14 -12 -10]\n",
            " [ -8  -6  -4]\n",
            " [ -2   0   2]\n",
            " [  4   6   8]]\n",
            "[[0.37916405 0.16916984 0.39551444]\n",
            " [0.12436263 0.48460161 0.58490869]\n",
            " [0.88752807 0.69104601 2.        ]\n",
            " [4.         6.         8.        ]]\n"
          ]
        }
      ]
    },
    {
      "cell_type": "markdown",
      "metadata": {
        "id": "cfg2HvU5KdNr"
      },
      "source": [
        "### Úloha - Euklidovksá metrika\n",
        "\n",
        "Implementujte funkciu euclidian_distance_single(x, y), ktorá na vstupe príjme dva vektory x a y, ktoré sú oba z $\\mathbb{R}^n$ a vypočíta:\n",
        "\n",
        "$$\\rho_e(\\vec{x}, \\vec{y}) = \\sqrt{\\sum_{i=1}^{n} \\left(x_i - y_i\\right)^2}$$"
      ]
    },
    {
      "cell_type": "code",
      "metadata": {
        "id": "flLpWhmwLQK6"
      },
      "source": [
        "def euclidian_distance_single(x, y):\n",
        "  ..."
      ],
      "execution_count": null,
      "outputs": []
    },
    {
      "cell_type": "markdown",
      "metadata": {
        "id": "hvs7f2fOLZ07"
      },
      "source": [
        "Kód môžeme otestovať pomocou funkcie np.linalg.norm, ktorá ráta to isté:"
      ]
    },
    {
      "cell_type": "code",
      "metadata": {
        "colab": {
          "base_uri": "https://localhost:8080/"
        },
        "id": "F0yVrFCXLefv",
        "outputId": "dc5d66b4-4ce2-408f-a964-fec74faabe42"
      },
      "source": [
        "for i in range(10):\n",
        "  n = np.random.randint(100)\n",
        "  a = np.random.rand(n)\n",
        "  b = np.random.rand(n)\n",
        "\n",
        "  d = euclidian_distance_single(a, b)\n",
        "  d_gt = np.linalg.norm(a - b)\n",
        "  if np.abs(d_gt - d) < 1e-8:\n",
        "    print(\"Pass!\")\n",
        "  else:\n",
        "    print(\"Fail\")"
      ],
      "execution_count": null,
      "outputs": [
        {
          "output_type": "stream",
          "name": "stdout",
          "text": [
            "Pass!\n",
            "Pass!\n",
            "Pass!\n",
            "Pass!\n",
            "Pass!\n",
            "Pass!\n",
            "Pass!\n",
            "Pass!\n",
            "Pass!\n",
            "Pass!\n"
          ]
        }
      ]
    },
    {
      "cell_type": "markdown",
      "metadata": {
        "id": "4JjT0aCmMTYQ"
      },
      "source": [
        "### Úloha - Euklidovská metrika - vektorizovane\n",
        "\n",
        "Teraz vytvoríme novú funkciu euclidian distance, ktorá bude fungovať tak, že x bude vektor $\\mathbb{R}^n$ a y bude matica $m \\times n$, ktorej každý riadok je vektor z $\\mathbb{R}^n$. Funkcia potom vráti vektor dĺžky $m$, ktorý bude obsahovať metriky medzi x a jednotlivými vektormi z y."
      ]
    },
    {
      "cell_type": "code",
      "metadata": {
        "id": "8YkFkZS-MZzU"
      },
      "source": [
        "def euclidian_distance(x, y):\n",
        "  ..."
      ],
      "execution_count": null,
      "outputs": []
    },
    {
      "cell_type": "markdown",
      "metadata": {
        "id": "AFiKYr69NLNX"
      },
      "source": [
        "Kód otestujeme:"
      ]
    },
    {
      "cell_type": "code",
      "metadata": {
        "colab": {
          "base_uri": "https://localhost:8080/"
        },
        "id": "_3TwwSpENMqx",
        "outputId": "342e5a86-ec90-470d-f92b-f2e80779c283"
      },
      "source": [
        "for i in range(10):\n",
        "  n = np.random.randint(100)\n",
        "  a = np.random.rand(n)\n",
        "  b = np.random.rand(30, n)\n",
        "\n",
        "  d = euclidian_distance(a, b)\n",
        "\n",
        "  for i in [4,9,13,24]:\n",
        "    if np.abs(np.linalg.norm(a - b[i]) - d[i]) < 1e-8:\n",
        "      print(\"Pass!\")\n",
        "    else:\n",
        "      print(\"Fail!\")"
      ],
      "execution_count": null,
      "outputs": [
        {
          "output_type": "stream",
          "name": "stdout",
          "text": [
            "Pass!\n",
            "Pass!\n",
            "Pass!\n",
            "Pass!\n",
            "Pass!\n",
            "Pass!\n",
            "Pass!\n",
            "Pass!\n",
            "Pass!\n",
            "Pass!\n",
            "Pass!\n",
            "Pass!\n",
            "Pass!\n",
            "Pass!\n",
            "Pass!\n",
            "Pass!\n",
            "Pass!\n",
            "Pass!\n",
            "Pass!\n",
            "Pass!\n",
            "Pass!\n",
            "Pass!\n",
            "Pass!\n",
            "Pass!\n",
            "Pass!\n",
            "Pass!\n",
            "Pass!\n",
            "Pass!\n",
            "Pass!\n",
            "Pass!\n",
            "Pass!\n",
            "Pass!\n",
            "Pass!\n",
            "Pass!\n",
            "Pass!\n",
            "Pass!\n",
            "Pass!\n",
            "Pass!\n",
            "Pass!\n",
            "Pass!\n"
          ]
        }
      ]
    },
    {
      "cell_type": "markdown",
      "source": [
        "## Násobenie\n",
        "\n",
        "Polia môžeme tiež násobiť. Môžeme použiť buď operátor `*`, ktorý realizuje násobenie po elementoch, alebo operátor `@`, ktorý realizuje maticové násobenie. V prípade `@` sa vektor vždy považuje za stĺpcový, alebo riadkový podľa toho čo sa hodí. Tiež je na násobenie možné použiť `np.dot`. Matice môžeme tiež transponovať metódou `.T`"
      ],
      "metadata": {
        "id": "SXnWCTr9KiKT"
      }
    },
    {
      "cell_type": "code",
      "source": [
        "x = np.array([1, 2, 3])\n",
        "y = np.array([8, 0, 7])\n",
        "\n",
        "A = np.arange(9).reshape(3, 3)\n",
        "B = np.random.rand(4, 3)\n",
        "C = np.random.rand(3, 3)\n",
        "\n",
        "print(x @ y)\n",
        "print(x * y)\n",
        "\n",
        "print(20 * '*')\n",
        "\n",
        "print(A @ x)\n",
        "print(y @ A)\n",
        "print(x @ C)\n",
        "print(x @ A @ y)\n",
        "\n",
        "print(20 * '*')\n",
        "\n",
        "print(A * C)\n",
        "print(A @ C)\n",
        "print(B @ A)\n",
        "\n",
        "print(20 * '*')\n",
        "\n",
        "#pri nasobeni po prvkoch moze dojst k broadcastingu\n",
        "print(A * x)\n",
        "\n",
        "print(20 * '*')\n",
        "\n",
        "#tieto nebudu fungovat\n",
        "print(x @ B)\n",
        "print(A @ B)"
      ],
      "metadata": {
        "colab": {
          "base_uri": "https://localhost:8080/",
          "height": 605
        },
        "id": "TGm0gJQxLY47",
        "outputId": "4b515fc8-2b69-4242-b31f-5aec2fd2a9f9"
      },
      "execution_count": null,
      "outputs": [
        {
          "output_type": "stream",
          "name": "stdout",
          "text": [
            "29\n",
            "[ 8  0 21]\n",
            "********************\n",
            "[ 8 26 44]\n",
            "[42 57 72]\n",
            "[3.209014   2.61309655 2.90003168]\n",
            "444\n",
            "********************\n",
            "[[0.         0.59483341 0.84670845]\n",
            " [1.88196912 1.80193105 3.9677832 ]\n",
            " [2.65265204 2.60702777 2.37217112]]\n",
            "[[ 1.51154039  1.19534784  1.38659942]\n",
            " [ 6.60396123  5.44859396  5.92689619]\n",
            " [11.69638207  9.70184008 10.46719296]]\n",
            "[[ 3.18793161  4.23111949  5.27430737]\n",
            " [ 6.96202537  8.8518261  10.74162683]\n",
            " [ 8.1980496  10.46093128 12.72381296]\n",
            " [ 0.82629048  1.97569068  3.12509088]]\n",
            "********************\n",
            "[[ 0  2  6]\n",
            " [ 3  8 15]\n",
            " [ 6 14 24]]\n",
            "********************\n"
          ]
        },
        {
          "output_type": "error",
          "ename": "ValueError",
          "evalue": "ignored",
          "traceback": [
            "\u001b[0;31m---------------------------------------------------------------------------\u001b[0m",
            "\u001b[0;31mValueError\u001b[0m                                Traceback (most recent call last)",
            "\u001b[0;32m<ipython-input-31-de1eebae19f4>\u001b[0m in \u001b[0;36m<module>\u001b[0;34m\u001b[0m\n\u001b[1;32m     30\u001b[0m \u001b[0;34m\u001b[0m\u001b[0m\n\u001b[1;32m     31\u001b[0m \u001b[0;31m#tieto nebudu fungovat\u001b[0m\u001b[0;34m\u001b[0m\u001b[0;34m\u001b[0m\u001b[0;34m\u001b[0m\u001b[0m\n\u001b[0;32m---> 32\u001b[0;31m \u001b[0mprint\u001b[0m\u001b[0;34m(\u001b[0m\u001b[0mx\u001b[0m \u001b[0;34m@\u001b[0m \u001b[0mB\u001b[0m\u001b[0;34m)\u001b[0m\u001b[0;34m\u001b[0m\u001b[0;34m\u001b[0m\u001b[0m\n\u001b[0m\u001b[1;32m     33\u001b[0m \u001b[0mprint\u001b[0m\u001b[0;34m(\u001b[0m\u001b[0mA\u001b[0m \u001b[0;34m@\u001b[0m \u001b[0mB\u001b[0m\u001b[0;34m)\u001b[0m\u001b[0;34m\u001b[0m\u001b[0;34m\u001b[0m\u001b[0m\n",
            "\u001b[0;31mValueError\u001b[0m: matmul: Input operand 1 has a mismatch in its core dimension 0, with gufunc signature (n?,k),(k,m?)->(n?,m?) (size 4 is different from 3)"
          ]
        }
      ]
    },
    {
      "cell_type": "markdown",
      "source": [
        "### Úloha - Lineárny Systém.\n",
        "\n",
        "Môžeme tiež definovať lineárne systémy. Využiť potom na riešenie môžeme funckiu np.linalg.solve. Naštudujte si ju v dokumentácii a použite ju na riešenie úlohy z obrázku:\n",
        "\n",
        "![](https://www.lifehacker.com.au/wp-content/uploads/sites/4/2016/02/Fruit.jpg)"
      ],
      "metadata": {
        "id": "sqH3rnUsRV-v"
      }
    },
    {
      "cell_type": "code",
      "source": [
        "..."
      ],
      "metadata": {
        "colab": {
          "base_uri": "https://localhost:8080/"
        },
        "id": "d5j-oV6fSq2y",
        "outputId": "2d5d034f-a9b6-46bb-ef74-689d62b7eb16"
      },
      "execution_count": null,
      "outputs": [
        {
          "output_type": "stream",
          "name": "stdout",
          "text": [
            "Linear system has a solution:  [10.  1.  1.]\n",
            "The problem then has a solution:  14.0\n"
          ]
        }
      ]
    },
    {
      "cell_type": "markdown",
      "source": [
        "### Úloha - Lineárny systém pomocou SVD\n",
        "\n",
        "Urobte to isté pomocou SVD, tak že použijete postup z prednášky na vytvorenie pseudoinverznej matice (v tomto prípade to bude zároveň matica inverzná) a následne vyžijete že $A^{-1}\\vec{b} = \\vec{x}$."
      ],
      "metadata": {
        "id": "0hrmzBtTTsL3"
      }
    },
    {
      "cell_type": "code",
      "source": [
        "..."
      ],
      "metadata": {
        "colab": {
          "base_uri": "https://localhost:8080/"
        },
        "id": "xL30BnRgW8am",
        "outputId": "cca72051-57f6-4124-c4ba-7884a2c225f4"
      },
      "execution_count": null,
      "outputs": [
        {
          "output_type": "stream",
          "name": "stdout",
          "text": [
            "Linear system has a solution:  [10.  1.  1.]\n",
            "The problem then has a solution:  13.999999999999998\n"
          ]
        }
      ]
    },
    {
      "cell_type": "markdown",
      "source": [
        "### Úloha SVD\n",
        "\n",
        "Teraz použite SVD a pre maticu A zistite aké má jadro a hodnosť. Nezabudnite, že pracujeme s floatami."
      ],
      "metadata": {
        "id": "ZuRu7M3NYMvr"
      }
    },
    {
      "cell_type": "code",
      "source": [
        "A = np.array([[4, 5, 3, 0], [1, 0, 0, 1], [9, 10, 6, 1], [1, 1, 0, 0], [7, 1, 0, 6]])\n",
        "print(A)"
      ],
      "metadata": {
        "colab": {
          "base_uri": "https://localhost:8080/"
        },
        "id": "HdUPlFbgYMjx",
        "outputId": "1e53ddb8-56b3-46ec-fd6d-10134f692e8e"
      },
      "execution_count": null,
      "outputs": [
        {
          "output_type": "stream",
          "name": "stdout",
          "text": [
            "[[ 4  5  3  0]\n",
            " [ 1  0  0  1]\n",
            " [ 9 10  6  1]\n",
            " [ 1  1  0  0]\n",
            " [ 7  1  0  6]]\n"
          ]
        }
      ]
    },
    {
      "cell_type": "code",
      "source": [
        "..."
      ],
      "metadata": {
        "colab": {
          "base_uri": "https://localhost:8080/"
        },
        "id": "Aq2TK7L2ZrHR",
        "outputId": "38b092a6-6a4c-482a-c276-bfaf02e99c16"
      },
      "execution_count": null,
      "outputs": [
        {
          "output_type": "stream",
          "name": "stdout",
          "text": [
            "[1.74360183e+01 7.32500489e+00 5.74082616e-01 6.30976137e-16]\n",
            "2.1784148785229476e-15\n"
          ]
        }
      ]
    },
    {
      "cell_type": "markdown",
      "source": [
        "### Úloha pre pokročilých v NumPy\n",
        "\n",
        "Implementujte [Kabschov algoritmus](https://en.wikipedia.org/wiki/Kabsch_algorithm). A nájdite ním maticu R, ktorou boli vytvorené dáta X a Y z kódu nižšie."
      ],
      "metadata": {
        "id": "6OOVZ-aHOHbk"
      }
    },
    {
      "cell_type": "code",
      "source": [
        "X = np.random.randint(0, 20, size=(20, 3))\n",
        "\n",
        "R = np.linalg.qr(np.random.randn(3, 3))[0]\n",
        "if np.linalg.det(R) < 0:\n",
        "  R[:, 2] *= -1\n",
        "\n",
        "\n",
        "Y = (R @ X.T).T + np.random.randn(20, 3) * 0.1"
      ],
      "metadata": {
        "id": "d40sT5O5OWnp"
      },
      "execution_count": null,
      "outputs": []
    },
    {
      "cell_type": "markdown",
      "metadata": {
        "id": "62IrWXs2tLPF"
      },
      "source": [
        "## Dokumentácia NumPy\n",
        "Na nasledujúcom cvičení si prejdeme základné operácie lineárnej algebry a štatistiky na tenzoroch z NumPy. Ak by ste si chceli pozrieť viacero príkázov a možností manipulácie, tak si môžete pozrieť dokuemntáciu: https://docs.scipy.org/doc/numpy/"
      ]
    }
  ]
}
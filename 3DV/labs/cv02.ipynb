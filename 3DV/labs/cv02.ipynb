{
  "nbformat": 4,
  "nbformat_minor": 0,
  "metadata": {
    "colab": {
      "provenance": [],
      "authorship_tag": "ABX9TyN9Ol08N7UnE9o5BGJNwCjq",
      "include_colab_link": true
    },
    "kernelspec": {
      "name": "python3",
      "display_name": "Python 3"
    },
    "language_info": {
      "name": "python"
    }
  },
  "cells": [
    {
      "cell_type": "markdown",
      "metadata": {
        "id": "view-in-github",
        "colab_type": "text"
      },
      "source": [
        "<a href=\"https://colab.research.google.com/github/kocurvik/edu/blob/master/3DV/labs/cv02.ipynb\" target=\"_parent\"><img src=\"https://colab.research.google.com/assets/colab-badge.svg\" alt=\"Open In Colab\"/></a>"
      ]
    },
    {
      "cell_type": "markdown",
      "source": [
        "# 3D Vision Labs"
      ],
      "metadata": {
        "id": "bT_zcnRjPSnk"
      }
    },
    {
      "cell_type": "markdown",
      "source": [
        "In this lab we will work with SVD and rotations."
      ],
      "metadata": {
        "id": "UBMYrMaOgYBF"
      }
    },
    {
      "cell_type": "code",
      "source": [
        "import numpy as np"
      ],
      "metadata": {
        "id": "x-jVdNK3gW62"
      },
      "execution_count": null,
      "outputs": []
    },
    {
      "cell_type": "markdown",
      "source": [
        "### Exercise - Linear System\n",
        "\n",
        "We can alse define linear systems. Use `np.linalg.solve` to find the solution to the following system:\n",
        "\n",
        "![](https://www.lifehacker.com.au/wp-content/uploads/sites/4/2016/02/Fruit.jpg)"
      ],
      "metadata": {
        "id": "sqH3rnUsRV-v"
      }
    },
    {
      "cell_type": "code",
      "source": [
        "..."
      ],
      "metadata": {
        "colab": {
          "base_uri": "https://localhost:8080/"
        },
        "id": "d5j-oV6fSq2y",
        "outputId": "6e8f621e-e933-4a69-e54f-0fc4c8c37e30"
      },
      "execution_count": null,
      "outputs": [
        {
          "output_type": "stream",
          "name": "stdout",
          "text": [
            "Linear system has a solution:  [10.  1.  1.]\n",
            "The problem then has a solution:  14.0\n"
          ]
        }
      ]
    },
    {
      "cell_type": "markdown",
      "source": [
        "### Exercise - Linear system using SVD\n",
        "\n",
        "Solve the same system using SVD by calculating the pseudoinverse matrix (which is the inverse matrix in this case) and then apply it using $A^{-1}\\vec{b} = \\vec{x}$."
      ],
      "metadata": {
        "id": "0hrmzBtTTsL3"
      }
    },
    {
      "cell_type": "code",
      "source": [
        "..."
      ],
      "metadata": {
        "colab": {
          "base_uri": "https://localhost:8080/"
        },
        "id": "xL30BnRgW8am",
        "outputId": "2fb1bb78-83ee-4633-c8ae-a2ab0eb31f2b"
      },
      "execution_count": null,
      "outputs": [
        {
          "output_type": "stream",
          "name": "stdout",
          "text": [
            "Linear system has a solution:  [10.  1.  1.]\n",
            "The problem then has a solution:  13.999999999999998\n"
          ]
        }
      ]
    },
    {
      "cell_type": "markdown",
      "source": [
        "### Exercise SVD\n",
        "\n",
        "Use SVD to determine the null-space and rank of the following matrix."
      ],
      "metadata": {
        "id": "ZuRu7M3NYMvr"
      }
    },
    {
      "cell_type": "code",
      "source": [
        "A = np.array([[4, 5, 3, 0], [1, 0, 0, 1], [9, 10, 6, 1], [1, 1, 0, 0], [7, 1, 0, 6]])\n",
        "print(A)"
      ],
      "metadata": {
        "colab": {
          "base_uri": "https://localhost:8080/"
        },
        "id": "HdUPlFbgYMjx",
        "outputId": "80f494a0-e5af-4c5a-df9d-9d97519d06f2"
      },
      "execution_count": null,
      "outputs": [
        {
          "output_type": "stream",
          "name": "stdout",
          "text": [
            "[[ 4  5  3  0]\n",
            " [ 1  0  0  1]\n",
            " [ 9 10  6  1]\n",
            " [ 1  1  0  0]\n",
            " [ 7  1  0  6]]\n"
          ]
        }
      ]
    },
    {
      "cell_type": "code",
      "source": [
        "..."
      ],
      "metadata": {
        "colab": {
          "base_uri": "https://localhost:8080/"
        },
        "id": "Aq2TK7L2ZrHR",
        "outputId": "d76e5d70-37bd-474b-c64e-05fde077d032"
      },
      "execution_count": null,
      "outputs": [
        {
          "output_type": "stream",
          "name": "stdout",
          "text": [
            "[1.74360183e+01 7.32500489e+00 5.74082616e-01 6.30976137e-16]\n",
            "2.1784148785229476e-15\n"
          ]
        }
      ]
    },
    {
      "cell_type": "markdown",
      "source": [
        "## Axis-angle from matrix\n",
        "\n",
        "Create an algorithm that computes the axis of rotation for a given rotation matrix. Test it using the following generator of random rotations."
      ],
      "metadata": {
        "id": "Wtx763UFdF2S"
      }
    },
    {
      "cell_type": "code",
      "source": [
        "def calculate_axis(R):\n",
        "  # implement\n",
        "  return np.array([1,0,0])"
      ],
      "metadata": {
        "id": "1fv_nUFXgO_m"
      },
      "execution_count": null,
      "outputs": []
    },
    {
      "cell_type": "code",
      "source": [
        "def generate_random_rotation():\n",
        "  R = np.linalg.qr(np.random.randn(3, 3))[0]\n",
        "  if np.linalg.det(R) < 0:\n",
        "    R[:, 2] *= -1\n",
        "  return R\n",
        "\n",
        "from scipy.spatial.transform import Rotation\n",
        "\n",
        "def print_axis_angle(R, axis_calculated):\n",
        "  print(\"Our axis: \", axis_calculated)\n",
        "\n",
        "  vec = Rotation.from_matrix(R).as_rotvec()\n",
        "  vec /= np.linalg.norm(vec)\n",
        "\n",
        "  print(\"Correct axis: \", vec)\n",
        "\n",
        "for _ in range(5):\n",
        "  R = generate_random_rotation()\n",
        "  print_axis_angle(R, calculate_axis(R))"
      ],
      "metadata": {
        "colab": {
          "base_uri": "https://localhost:8080/"
        },
        "id": "6Jq5wy6RgHh1",
        "outputId": "08523156-9657-4a43-edde-092505d60bb2"
      },
      "execution_count": null,
      "outputs": [
        {
          "output_type": "stream",
          "name": "stdout",
          "text": [
            "Our axis:  [ 0.31202372 -0.48949212 -0.81427186]\n",
            "Correct axis:  [-0.31202372  0.48949212  0.81427186]\n",
            "Our axis:  [-0.33260141  0.05418731 -0.94150944]\n",
            "Correct axis:  [ 0.33260141 -0.05418731  0.94150944]\n",
            "Our axis:  [-0.28156983  0.52916318 -0.80044036]\n",
            "Correct axis:  [ 0.28156983 -0.52916318  0.80044036]\n",
            "Our axis:  [-0.14369569  0.37530509  0.91569517]\n",
            "Correct axis:  [-0.14369569  0.37530509  0.91569517]\n",
            "Our axis:  [-0.4662597  -0.60549362  0.64496463]\n",
            "Correct axis:  [ 0.4662597   0.60549362 -0.64496463]\n"
          ]
        }
      ]
    },
    {
      "cell_type": "markdown",
      "source": [
        "## Kabsch Algorithm\n",
        "\n",
        "Implement [the Kabsch algorithm](https://en.wikipedia.org/wiki/Kabsch_algorithm). Use it to find the randomly generated rotation $R$ based on $X$ and $Y$. Then determine the error of the algorithm in degrees between the $R$ used to generate the data and $R$ obtained by the algorithm."
      ],
      "metadata": {
        "id": "6OOVZ-aHOHbk"
      }
    },
    {
      "cell_type": "code",
      "source": [
        "def generate_noisy_rotated_data(n, sigma):\n",
        "  X = np.random.randn(n, 3)\n",
        "\n",
        "  R = generate_random_rotation()\n",
        "\n",
        "  Y = (R @ X.T).T + np.random.randn(n, 3) * sigma\n",
        "\n",
        "  return X, Y, R"
      ],
      "metadata": {
        "id": "d40sT5O5OWnp"
      },
      "execution_count": null,
      "outputs": []
    },
    {
      "cell_type": "code",
      "source": [
        "def kabsch(X, Y):\n",
        "  # implement\n",
        "  R = np.eye(3)\n",
        "  return R"
      ],
      "metadata": {
        "id": "FYXt6WFiR1as"
      },
      "execution_count": null,
      "outputs": []
    },
    {
      "cell_type": "code",
      "source": [
        "def rotation_error(R1, R2):\n",
        "  # implement\n",
        "  return 0.0"
      ],
      "metadata": {
        "id": "eVYNtbdER5tL"
      },
      "execution_count": null,
      "outputs": []
    },
    {
      "cell_type": "markdown",
      "source": [
        "The following code should test your code and output a plot with errors."
      ],
      "metadata": {
        "id": "cVnjTEmqcHW0"
      }
    },
    {
      "cell_type": "code",
      "source": [
        "from matplotlib import pyplot as plt\n",
        "\n",
        "sigmas = []\n",
        "errors = []\n",
        "\n",
        "for _ in range(1000):\n",
        "  sigma = 0.2 * np.random.rand()\n",
        "  X, Y, R_gt = generate_noisy_rotated_data(100, sigma)\n",
        "  R_kabsch = kabsch(X, Y)\n",
        "\n",
        "  errors.append(rotation_error(R_gt, R_kabsch))\n",
        "  sigmas.append(sigma)\n",
        "\n",
        "plt.scatter(sigmas, errors)\n",
        "plt.show()"
      ],
      "metadata": {
        "colab": {
          "base_uri": "https://localhost:8080/",
          "height": 265
        },
        "id": "eZvBuCI0cMNQ",
        "outputId": "53060fa7-4f68-48c5-ef3c-31ca21958c10"
      },
      "execution_count": null,
      "outputs": [
        {
          "output_type": "display_data",
          "data": {
            "text/plain": [
              "<Figure size 432x288 with 1 Axes>"
            ],
            "image/png": "[encoded data removed]"
          },
          "metadata": {
            "needs_background": "light"
          }
        }
      ]
    },
    {
      "cell_type": "markdown",
      "source": [
        "## Linear Least Squares\n",
        "\n",
        "For this exercise we will have pairs of data $(x_i, y_i)_{i=1..n}$. We want to fit a second order polynomial to the data: \n",
        "\n",
        "$$ y \\approx p(x) = a x^2 + b x + c $$\n",
        "\n",
        "If we only had three pairs we could determine the exact values for $a, b, c$. But we want to fit a larger dataset with $n$ elements where $n >> 3$. Therefore we want to find $a, b, c$ which minimize the following expression:\n",
        "\n",
        "$$ \\sum_{i=1}^N  (p(x_i) - y_i)^2$$.\n",
        "\n",
        "Use the information from the lecture to find the solution using SVD. The code below generates noisy data and then plots the results.\n"
      ],
      "metadata": {
        "id": "-yasl7zI6Kxy"
      }
    },
    {
      "cell_type": "code",
      "source": [
        "def fit_poly(x, y):\n",
        "  # implement\n",
        "  \n",
        "  a, b, c = 0, 0, 0\n",
        "  return a, b, c"
      ],
      "metadata": {
        "id": "1O9NHHq-9vF4"
      },
      "execution_count": null,
      "outputs": []
    },
    {
      "cell_type": "code",
      "source": [
        "def generate_noisy_polynomial_data(n, sigma):\n",
        "  x = 2 * np.random.rand(n) - 1.0\n",
        "  a = np.random.rand() - 0.5\n",
        "  b = np.random.rand() - 0.5\n",
        "  c = np.random.rand() - 0.5\n",
        "\n",
        "  y = a * x ** 2 + b * x + c + sigma * np.random.randn(n)\n",
        "  return x, y, a, b, c\n",
        "\n",
        "x_plot = np.linspace(-1, 1, 1000)\n",
        "x, y, a_gt, b_gt, c_gt = generate_noisy_polynomial_data(100, 0.1)\n",
        "a, b, c = fit_poly(x, y)\n",
        "\n",
        "plt.scatter(x, y, c='b')\n",
        "plt.plot(x_plot, a_gt * x_plot ** 2 + b_gt * x_plot + c_gt, c='r')\n",
        "plt.plot(x_plot, a * x_plot ** 2 + b * x_plot + c, c='g')\n",
        "plt.show()"
      ],
      "metadata": {
        "colab": {
          "base_uri": "https://localhost:8080/",
          "height": 265
        },
        "id": "NPNKznKo9UmF",
        "outputId": "6a36a4ae-d9cb-454f-a72d-6a82cc1417a1"
      },
      "execution_count": null,
      "outputs": [
        {
          "output_type": "display_data",
          "data": {
            "text/plain": [
              "<Figure size 432x288 with 1 Axes>"
            ],
            "image/png": "[encoded data removed]"
          },
          "metadata": {
            "needs_background": "light"
          }
        }
      ]
    }
  ]
}
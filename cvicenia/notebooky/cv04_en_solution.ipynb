{
  "nbformat": 4,
  "nbformat_minor": 0,
  "metadata": {
    "colab": {
      "name": "cv04_en_solution.ipynb",
      "provenance": [],
      "collapsed_sections": [],
      "toc_visible": true,
      "authorship_tag": "ABX9TyN4K41A/3Q4PQdOQZXKWUZz",
      "include_colab_link": true
    },
    "kernelspec": {
      "name": "python3",
      "display_name": "Python 3"
    },
    "language_info": {
      "name": "python"
    }
  },
  "cells": [
    {
      "cell_type": "markdown",
      "metadata": {
        "id": "view-in-github",
        "colab_type": "text"
      },
      "source": [
        "<a href=\"https://colab.research.google.com/github/kocurvik/edu/blob/master/cvicenia/notebooky/cv04_en_solution.ipynb\" target=\"_parent\"><img src=\"https://colab.research.google.com/assets/colab-badge.svg\" alt=\"Open In Colab\"/></a>"
      ]
    },
    {
      "cell_type": "markdown",
      "metadata": {
        "id": "NtnZ03uJJ7I7"
      },
      "source": [
        "# **4. lab** - Google Colab, NumPy and Pandas Basics, Feature Entropy\n",
        "\n",
        "In this notebook we will cover the basics of working in the Google Colab environment, NumPy and basic image manipulation in OpenCV."
      ]
    },
    {
      "cell_type": "markdown",
      "metadata": {
        "id": "liIqeL0nKsvN"
      },
      "source": [
        "## Google Colab\n",
        "\n",
        "Google Colab (http://colab.research.google.com) is a free service which allows the users to run ipython notebooks in the cloud. The service also allows the users to leverage a free GPU. A Google account is necessary to use this service. The notebooks can also be downloaded and run locally using the jupyter notebook in the directory where the notebooks are saved (provided you have jupyter installed).\n",
        "\n",
        "There are two types of cells in these notbooks. The first type is a text cell such as this one. The other type of a cell is code cell. The cells with code can be run with the play button to the left of the cell. All of the cells can also be run by clicking choosing Runtime -> Run All in the menu at the top of this page. The cells share a scope so it is necessary to be mindful of the order in which the cells run. If you need to restart the notebook you can look into the Runtime tab in the options on top of the page.\n",
        "\n",
        "You can try running a simple python code in the following cell."
      ]
    },
    {
      "cell_type": "code",
      "metadata": {
        "id": "424nbIp_J0Z3",
        "colab": {
          "base_uri": "https://localhost:8080/"
        },
        "outputId": "d60cbc61-f899-447f-a4ea-e613b7ec1906"
      },
      "source": [
        "a = [5,'Hello']\n",
        "s = '{} World!'\n",
        "print(s.format(a[1]))\n",
        "\n",
        "def najlepsia_funkcia(arg):\n",
        "  return arg + 5\n",
        "\n",
        "print(najlepsia_funkcia(8))"
      ],
      "execution_count": null,
      "outputs": [
        {
          "output_type": "stream",
          "name": "stdout",
          "text": [
            "Hello World!\n",
            "13\n"
          ]
        }
      ]
    },
    {
      "cell_type": "markdown",
      "metadata": {
        "id": "yCMavlzMNpOL"
      },
      "source": [
        "Saving and using files that are stored permanently can be done in different ways, but the easiest option is to connecting Google Drive to our notebook instance. This is done in a following way:\n",
        "(Note: this assumes that you have created a directory named Colab in your Google Drive)"
      ]
    },
    {
      "cell_type": "code",
      "metadata": {
        "id": "xh_BmJNtPBU6",
        "colab": {
          "base_uri": "https://localhost:8080/"
        },
        "outputId": "8b609459-9af1-4c1f-a006-83c38d7362e9"
      },
      "source": [
        "from google.colab import drive\n",
        "drive.mount('/content/gdrive')\n",
        "root_path = 'gdrive/My Drive/Colab/'"
      ],
      "execution_count": null,
      "outputs": [
        {
          "output_type": "stream",
          "name": "stdout",
          "text": [
            "Mounted at /content/gdrive\n"
          ]
        }
      ]
    },
    {
      "cell_type": "markdown",
      "metadata": {
        "id": "K__Gehv1QGY6"
      },
      "source": [
        "You can then access the folder (if it exists)."
      ]
    },
    {
      "cell_type": "code",
      "metadata": {
        "id": "6W-0ycWOQmTo",
        "colab": {
          "base_uri": "https://localhost:8080/"
        },
        "outputId": "21a735af-f229-48e8-b2da-f9e6e055f207"
      },
      "source": [
        "import os\n",
        "os.listdir(root_path)"
      ],
      "execution_count": null,
      "outputs": [
        {
          "output_type": "execute_result",
          "data": {
            "text/plain": [
              "['mnist-fc-trained.h5', 'cifar-fc-trained.h5']"
            ]
          },
          "metadata": {},
          "execution_count": 3
        }
      ]
    },
    {
      "cell_type": "markdown",
      "metadata": {
        "id": "sDNeHwtTQvji"
      },
      "source": [
        "You can also use the standard unix commands by preceeding them with an exclamation point."
      ]
    },
    {
      "cell_type": "code",
      "metadata": {
        "id": "G7S_k5yqQz0o",
        "colab": {
          "base_uri": "https://localhost:8080/"
        },
        "outputId": "aff4ddc8-ec9e-49d6-d53a-a93bc64f9220"
      },
      "source": [
        "!pwd\n",
        "!ls\n",
        "!mkdir random_dir\n",
        "!ls\n",
        "!wget https://www.google.com/images/branding/googlelogo/1x/googlelogo_color_272x92dp.png\n",
        "!ls"
      ],
      "execution_count": null,
      "outputs": [
        {
          "output_type": "stream",
          "name": "stdout",
          "text": [
            "/content\n",
            "gdrive\tsample_data\n",
            "gdrive\trandom_dir  sample_data\n",
            "--2022-03-13 23:43:05--  https://www.google.com/images/branding/googlelogo/1x/googlelogo_color_272x92dp.png\n",
            "Resolving www.google.com (www.google.com)... 108.177.127.147, 108.177.127.103, 108.177.127.106, ...\n",
            "Connecting to www.google.com (www.google.com)|108.177.127.147|:443... connected.\n",
            "HTTP request sent, awaiting response... 200 OK\n",
            "Length: 5969 (5.8K) [image/png]\n",
            "Saving to: ‘googlelogo_color_272x92dp.png’\n",
            "\n",
            "googlelogo_color_27 100%[===================>]   5.83K  --.-KB/s    in 0s      \n",
            "\n",
            "2022-03-13 23:43:06 (64.0 MB/s) - ‘googlelogo_color_272x92dp.png’ saved [5969/5969]\n",
            "\n",
            "gdrive\tgooglelogo_color_272x92dp.png  random_dir  sample_data\n"
          ]
        }
      ]
    },
    {
      "cell_type": "markdown",
      "metadata": {
        "id": "5KFKjuQZNY0S"
      },
      "source": [
        "This is not always necessary as you can access the instance file structure in the panel on the left.\n",
        "\n",
        "**<----**"
      ]
    },
    {
      "cell_type": "markdown",
      "metadata": {
        "id": "IyiVk1I0Sq0_"
      },
      "source": [
        "## NumPy\n",
        "A tensor is a base data structure we will use when dealing with neural networks. Tensor is a generalization of vectors and matrices. Vectors from $\\mathbb{R}^n$ are first order (rank) tensors and matrices are second order (rank) tensors. A third order (rank) tensor can be additionally indexed with one more index. Sometimes the order of tensor is also called its rank. Strictly speaking tensor dimension and order are two different concepts. For example, we can have a third order tensor with dimension $ 20 \\times 24 \\times 6$. However, in many texts authors interchange tensor order (rank) with dimension. This is sometimes confusing, but usually the meaning is evident from context.\n",
        "\n",
        "To conform to standards we import numpy as np. A vector (e.g. first order tensor) can be created from a simple list using the np.array constructor. It might be important to initialize the array with a specific data type which can be done by using the dtype keyword in the constructor. **Not specifying the dtype can cause various complications later in the code.**\n"
      ]
    },
    {
      "cell_type": "code",
      "metadata": {
        "id": "3JU8eIp0T5qs",
        "colab": {
          "base_uri": "https://localhost:8080/"
        },
        "outputId": "a2691712-6cac-4916-b8d8-9d9fedbc0133"
      },
      "source": [
        "import numpy as np\n",
        "\n",
        "a = np.array([3, 2, 3, 4])\n",
        "print(a)\n",
        "b = np.array([1,5,7], dtype=np.float32)\n",
        "print(b)"
      ],
      "execution_count": null,
      "outputs": [
        {
          "output_type": "stream",
          "name": "stdout",
          "text": [
            "[3 2 3 4]\n",
            "[1. 5. 7.]\n"
          ]
        }
      ]
    },
    {
      "cell_type": "markdown",
      "metadata": {
        "id": "X0Ldg2LCUyyz"
      },
      "source": [
        "A matrix can be created from a list of lists, but it is necessary for the lengths of the inner lists to be consitent. If they are not consistent we will obtain a vector of lists instead of matrix of values."
      ]
    },
    {
      "cell_type": "code",
      "metadata": {
        "id": "69MATLghVAhb",
        "colab": {
          "base_uri": "https://localhost:8080/"
        },
        "outputId": "230f1ca9-1c6d-4cc3-d8f2-f8643f87e419"
      },
      "source": [
        "A = np.array([[1,5,8],[50,60,84]])\n",
        "print(A)\n",
        "B = np.array([[7,8],[6,7],[0,9,4]])\n",
        "print(B)"
      ],
      "execution_count": null,
      "outputs": [
        {
          "output_type": "stream",
          "name": "stdout",
          "text": [
            "[[ 1  5  8]\n",
            " [50 60 84]]\n",
            "[list([7, 8]) list([6, 7]) list([0, 9, 4])]\n"
          ]
        },
        {
          "output_type": "stream",
          "name": "stderr",
          "text": [
            "/usr/local/lib/python3.7/dist-packages/ipykernel_launcher.py:3: VisibleDeprecationWarning: Creating an ndarray from ragged nested sequences (which is a list-or-tuple of lists-or-tuples-or ndarrays with different lengths or shapes) is deprecated. If you meant to do this, you must specify 'dtype=object' when creating the ndarray.\n",
            "  This is separate from the ipykernel package so we can avoid doing imports until\n"
          ]
        }
      ]
    },
    {
      "cell_type": "markdown",
      "metadata": {
        "id": "YD8CtWcQWGFv"
      },
      "source": [
        "The array object has a shape method which tells us its shape (dimensions) and method dtype which returns the data type of the values in the tensor. It also has a method astype which returns an array with the specified type."
      ]
    },
    {
      "cell_type": "code",
      "metadata": {
        "id": "hC7EtfXBWmIB",
        "colab": {
          "base_uri": "https://localhost:8080/"
        },
        "outputId": "3dce1468-52b1-459d-9d03-3db4dc17c629"
      },
      "source": [
        "print(a.shape)\n",
        "print(A.shape)\n",
        "print(A.dtype)\n",
        "C = A.astype(np.float32)\n",
        "print(C.dtype)\n"
      ],
      "execution_count": null,
      "outputs": [
        {
          "output_type": "stream",
          "name": "stdout",
          "text": [
            "(4,)\n",
            "(2, 3)\n",
            "int64\n",
            "float32\n"
          ]
        }
      ]
    },
    {
      "cell_type": "markdown",
      "metadata": {
        "id": "XlKW3-r_9s1E"
      },
      "source": [
        "Numpy has a few functions to generate basic tensors. The most commnly used onse are: np.zeros, np.ones and np.empty."
      ]
    },
    {
      "cell_type": "code",
      "metadata": {
        "id": "n0bdDGaQjuYP",
        "colab": {
          "base_uri": "https://localhost:8080/"
        },
        "outputId": "7d81109d-3ece-4714-a74a-67bda513310f"
      },
      "source": [
        "z = np.zeros([5,10])\n",
        "print(z)\n",
        "o = np.ones([3,4,5])\n",
        "print(o)\n",
        "e = np.empty([6])\n",
        "print(e)"
      ],
      "execution_count": null,
      "outputs": [
        {
          "output_type": "stream",
          "name": "stdout",
          "text": [
            "[[0. 0. 0. 0. 0. 0. 0. 0. 0. 0.]\n",
            " [0. 0. 0. 0. 0. 0. 0. 0. 0. 0.]\n",
            " [0. 0. 0. 0. 0. 0. 0. 0. 0. 0.]\n",
            " [0. 0. 0. 0. 0. 0. 0. 0. 0. 0.]\n",
            " [0. 0. 0. 0. 0. 0. 0. 0. 0. 0.]]\n",
            "[[[1. 1. 1. 1. 1.]\n",
            "  [1. 1. 1. 1. 1.]\n",
            "  [1. 1. 1. 1. 1.]\n",
            "  [1. 1. 1. 1. 1.]]\n",
            "\n",
            " [[1. 1. 1. 1. 1.]\n",
            "  [1. 1. 1. 1. 1.]\n",
            "  [1. 1. 1. 1. 1.]\n",
            "  [1. 1. 1. 1. 1.]]\n",
            "\n",
            " [[1. 1. 1. 1. 1.]\n",
            "  [1. 1. 1. 1. 1.]\n",
            "  [1. 1. 1. 1. 1.]\n",
            "  [1. 1. 1. 1. 1.]]]\n",
            "[4.68492522e-310 9.52256738e-292 4.52191083e-302 9.47918153e+189\n",
            " 4.25932742e+180 1.81786184e+185]\n"
          ]
        }
      ]
    },
    {
      "cell_type": "markdown",
      "metadata": {
        "id": "FQbG74jFkewe"
      },
      "source": [
        "It is also possible the create tensors with random numbers by using np.random.random."
      ]
    },
    {
      "cell_type": "code",
      "metadata": {
        "id": "LrMsw30Gk234",
        "colab": {
          "base_uri": "https://localhost:8080/"
        },
        "outputId": "703556b8-d091-4b40-b9a6-329c552fb057"
      },
      "source": [
        "r = np.random.random([6,10,3])\n",
        "print(r)"
      ],
      "execution_count": null,
      "outputs": [
        {
          "output_type": "stream",
          "name": "stdout",
          "text": [
            "[[[0.0053455  0.59692604 0.44203988]\n",
            "  [0.40289258 0.07656003 0.32049852]\n",
            "  [0.97075092 0.74815306 0.44935753]\n",
            "  [0.39184387 0.20246279 0.38757038]\n",
            "  [0.39962678 0.32409525 0.7927391 ]\n",
            "  [0.0898963  0.92463692 0.49345864]\n",
            "  [0.59253072 0.97457087 0.40127513]\n",
            "  [0.53042302 0.56916547 0.15112752]\n",
            "  [0.70102921 0.32585247 0.19856047]\n",
            "  [0.50909383 0.74902486 0.65890903]]\n",
            "\n",
            " [[0.3116623  0.81468682 0.97577625]\n",
            "  [0.88090974 0.24675129 0.77555195]\n",
            "  [0.55056838 0.88478178 0.21951067]\n",
            "  [0.85507684 0.91495289 0.81289874]\n",
            "  [0.64081369 0.11813502 0.47497979]\n",
            "  [0.71925473 0.35455605 0.90652253]\n",
            "  [0.31438884 0.08824486 0.29964114]\n",
            "  [0.11894364 0.37886605 0.04230567]\n",
            "  [0.53212403 0.37444282 0.6657364 ]\n",
            "  [0.8384853  0.50758163 0.4315342 ]]\n",
            "\n",
            " [[0.24462593 0.64757326 0.59474227]\n",
            "  [0.80454138 0.15894817 0.94622422]\n",
            "  [0.58525207 0.24103985 0.3675816 ]\n",
            "  [0.05530789 0.7568578  0.76520013]\n",
            "  [0.93902097 0.39384954 0.4752404 ]\n",
            "  [0.32507473 0.45539338 0.50522788]\n",
            "  [0.59923845 0.87557235 0.73460017]\n",
            "  [0.88409336 0.35185766 0.66619272]\n",
            "  [0.56989019 0.74146996 0.03221085]\n",
            "  [0.6942086  0.63700711 0.1875413 ]]\n",
            "\n",
            " [[0.11582477 0.49257783 0.63900055]\n",
            "  [0.5854189  0.41082365 0.43112974]\n",
            "  [0.42026473 0.8277744  0.84232816]\n",
            "  [0.80223493 0.40026651 0.17327822]\n",
            "  [0.69999247 0.35237541 0.39872609]\n",
            "  [0.96736194 0.91567991 0.13097156]\n",
            "  [0.72632083 0.80388226 0.93583746]\n",
            "  [0.39478039 0.51078449 0.67524874]\n",
            "  [0.220585   0.00750917 0.4756662 ]\n",
            "  [0.55208882 0.60917064 0.05818639]]\n",
            "\n",
            " [[0.85290416 0.4614928  0.66720776]\n",
            "  [0.44726933 0.50739727 0.49235526]\n",
            "  [0.90097118 0.31562997 0.19016745]\n",
            "  [0.93849104 0.90050849 0.8010884 ]\n",
            "  [0.90673145 0.04358333 0.66906467]\n",
            "  [0.89136247 0.30215817 0.79796016]\n",
            "  [0.53615466 0.06125084 0.55709063]\n",
            "  [0.65419171 0.54364061 0.8071917 ]\n",
            "  [0.26284195 0.22167321 0.12760769]\n",
            "  [0.17770773 0.12510905 0.07505624]]\n",
            "\n",
            " [[0.68906021 0.02042693 0.12667549]\n",
            "  [0.93639585 0.01785719 0.44850115]\n",
            "  [0.1896684  0.65244153 0.08097574]\n",
            "  [0.79848067 0.86122212 0.12406906]\n",
            "  [0.14825128 0.07712188 0.39798522]\n",
            "  [0.47482025 0.50968571 0.7729316 ]\n",
            "  [0.34000966 0.64884004 0.65932398]\n",
            "  [0.5869557  0.55823056 0.35964269]\n",
            "  [0.05849287 0.94397432 0.59109751]\n",
            "  [0.69164509 0.09833494 0.84614044]]]\n"
          ]
        }
      ]
    },
    {
      "cell_type": "markdown",
      "metadata": {
        "id": "U1vO9XhhlAXg"
      },
      "source": [
        "We can now use these random arrays to work with indices. Indexing is similar to Matlab, but the python conventions are applied. We can use multiple indices (based on tensor order). If we omit one of the indices it is implicitly used as :, which means that all of the elements along that dimesnsions are used."
      ]
    },
    {
      "cell_type": "code",
      "metadata": {
        "id": "oTMiqcZPlwtl",
        "colab": {
          "base_uri": "https://localhost:8080/"
        },
        "outputId": "434ad279-9eaf-4cdc-b39f-b6312d93bf21"
      },
      "source": [
        "print(r[3,4,1])\n",
        "print(r[:,:,-1])\n",
        "print(r[:,:,1].shape)\n",
        "print(r[0:4,5:6,:])\n",
        "print(r[0:4,5:6,:].shape)"
      ],
      "execution_count": null,
      "outputs": [
        {
          "output_type": "stream",
          "name": "stdout",
          "text": [
            "0.3523754062419985\n",
            "[[0.44203988 0.32049852 0.44935753 0.38757038 0.7927391  0.49345864\n",
            "  0.40127513 0.15112752 0.19856047 0.65890903]\n",
            " [0.97577625 0.77555195 0.21951067 0.81289874 0.47497979 0.90652253\n",
            "  0.29964114 0.04230567 0.6657364  0.4315342 ]\n",
            " [0.59474227 0.94622422 0.3675816  0.76520013 0.4752404  0.50522788\n",
            "  0.73460017 0.66619272 0.03221085 0.1875413 ]\n",
            " [0.63900055 0.43112974 0.84232816 0.17327822 0.39872609 0.13097156\n",
            "  0.93583746 0.67524874 0.4756662  0.05818639]\n",
            " [0.66720776 0.49235526 0.19016745 0.8010884  0.66906467 0.79796016\n",
            "  0.55709063 0.8071917  0.12760769 0.07505624]\n",
            " [0.12667549 0.44850115 0.08097574 0.12406906 0.39798522 0.7729316\n",
            "  0.65932398 0.35964269 0.59109751 0.84614044]]\n",
            "(6, 10)\n",
            "[[[0.0898963  0.92463692 0.49345864]]\n",
            "\n",
            " [[0.71925473 0.35455605 0.90652253]]\n",
            "\n",
            " [[0.32507473 0.45539338 0.50522788]]\n",
            "\n",
            " [[0.96736194 0.91567991 0.13097156]]]\n",
            "(4, 1, 3)\n"
          ]
        }
      ]
    },
    {
      "cell_type": "markdown",
      "metadata": {
        "id": "ybA-W90VmNhG"
      },
      "source": [
        "We can also use steps when indexing this is also called slicing. That can be done by another colon. The format is then [start:stop:step]. If any of that is left empty the start is implicitly assumed to be 0, the end -1 and step 1."
      ]
    },
    {
      "cell_type": "code",
      "metadata": {
        "id": "1kmxFdtUmTRE",
        "colab": {
          "base_uri": "https://localhost:8080/"
        },
        "outputId": "7c9e9edd-e363-4486-9f38-d4afa85976f4"
      },
      "source": [
        "p = np.arange(25)\n",
        "print(p)\n",
        "print(p[4:16:2])\n",
        "print(p[2:-4:6])\n",
        "print(p[:10:])\n",
        "print(p[::3])\n",
        "print(p[1::6])\n",
        "print(p[-6:])\n",
        "print(r[1::2,0::3,:])"
      ],
      "execution_count": null,
      "outputs": [
        {
          "output_type": "stream",
          "name": "stdout",
          "text": [
            "[ 0  1  2  3  4  5  6  7  8  9 10 11 12 13 14 15 16 17 18 19 20 21 22 23\n",
            " 24]\n",
            "[ 4  6  8 10 12 14]\n",
            "[ 2  8 14 20]\n",
            "[0 1 2 3 4 5 6 7 8 9]\n",
            "[ 0  3  6  9 12 15 18 21 24]\n",
            "[ 1  7 13 19]\n",
            "[19 20 21 22 23 24]\n",
            "[[[0.3116623  0.81468682 0.97577625]\n",
            "  [0.85507684 0.91495289 0.81289874]\n",
            "  [0.31438884 0.08824486 0.29964114]\n",
            "  [0.8384853  0.50758163 0.4315342 ]]\n",
            "\n",
            " [[0.11582477 0.49257783 0.63900055]\n",
            "  [0.80223493 0.40026651 0.17327822]\n",
            "  [0.72632083 0.80388226 0.93583746]\n",
            "  [0.55208882 0.60917064 0.05818639]]\n",
            "\n",
            " [[0.68906021 0.02042693 0.12667549]\n",
            "  [0.79848067 0.86122212 0.12406906]\n",
            "  [0.34000966 0.64884004 0.65932398]\n",
            "  [0.69164509 0.09833494 0.84614044]]]\n"
          ]
        }
      ]
    },
    {
      "cell_type": "markdown",
      "metadata": {
        "id": "478cxvQtmk9t"
      },
      "source": [
        "We will often need to create a so-called singleton dimension. This cane be done by adding a None index, or in a more python way by using np.newaxis."
      ]
    },
    {
      "cell_type": "code",
      "metadata": {
        "id": "IXKkfdNpmy0h",
        "colab": {
          "base_uri": "https://localhost:8080/"
        },
        "outputId": "76e46033-0bb5-4113-a7f4-80b131596251"
      },
      "source": [
        "print(r[None,:,:,:].shape)\n",
        "print(r[None].shape)\n",
        "print(r[np.newaxis,:,:,:].shape)\n",
        "print(r[:,:,:,np.newaxis].shape)\n",
        "print(r[np.newaxis,:,0,:].shape)"
      ],
      "execution_count": null,
      "outputs": [
        {
          "output_type": "stream",
          "name": "stdout",
          "text": [
            "(1, 6, 10, 3)\n",
            "(1, 6, 10, 3)\n",
            "(1, 6, 10, 3)\n",
            "(6, 10, 3, 1)\n",
            "(1, 6, 3)\n"
          ]
        }
      ]
    },
    {
      "cell_type": "markdown",
      "metadata": {
        "id": "LK7K0RginLDB"
      },
      "source": [
        "Similar to Matlab broadcasting is done implicitly (though different rules are applied in Matlab)."
      ]
    },
    {
      "cell_type": "code",
      "metadata": {
        "id": "110A-dLgnRaU",
        "colab": {
          "base_uri": "https://localhost:8080/"
        },
        "outputId": "d62ccbfb-d61c-437d-c68b-db79ffd7a157"
      },
      "source": [
        "r += 10\n",
        "print(r)\n",
        "r[0,:,:] = np.random.random([10,3])\n",
        "print(r.shape)\n",
        "r[0] = np.random.random([10,3])\n",
        "print(r.shape)\n",
        "r[0] = np.zeros([10,1])\n",
        "print(r.shape)\n",
        "r/=500\n",
        "print(r)"
      ],
      "execution_count": null,
      "outputs": [
        {
          "output_type": "stream",
          "name": "stdout",
          "text": [
            "[[[10.0053455  10.59692604 10.44203988]\n",
            "  [10.40289258 10.07656003 10.32049852]\n",
            "  [10.97075092 10.74815306 10.44935753]\n",
            "  [10.39184387 10.20246279 10.38757038]\n",
            "  [10.39962678 10.32409525 10.7927391 ]\n",
            "  [10.0898963  10.92463692 10.49345864]\n",
            "  [10.59253072 10.97457087 10.40127513]\n",
            "  [10.53042302 10.56916547 10.15112752]\n",
            "  [10.70102921 10.32585247 10.19856047]\n",
            "  [10.50909383 10.74902486 10.65890903]]\n",
            "\n",
            " [[10.3116623  10.81468682 10.97577625]\n",
            "  [10.88090974 10.24675129 10.77555195]\n",
            "  [10.55056838 10.88478178 10.21951067]\n",
            "  [10.85507684 10.91495289 10.81289874]\n",
            "  [10.64081369 10.11813502 10.47497979]\n",
            "  [10.71925473 10.35455605 10.90652253]\n",
            "  [10.31438884 10.08824486 10.29964114]\n",
            "  [10.11894364 10.37886605 10.04230567]\n",
            "  [10.53212403 10.37444282 10.6657364 ]\n",
            "  [10.8384853  10.50758163 10.4315342 ]]\n",
            "\n",
            " [[10.24462593 10.64757326 10.59474227]\n",
            "  [10.80454138 10.15894817 10.94622422]\n",
            "  [10.58525207 10.24103985 10.3675816 ]\n",
            "  [10.05530789 10.7568578  10.76520013]\n",
            "  [10.93902097 10.39384954 10.4752404 ]\n",
            "  [10.32507473 10.45539338 10.50522788]\n",
            "  [10.59923845 10.87557235 10.73460017]\n",
            "  [10.88409336 10.35185766 10.66619272]\n",
            "  [10.56989019 10.74146996 10.03221085]\n",
            "  [10.6942086  10.63700711 10.1875413 ]]\n",
            "\n",
            " [[10.11582477 10.49257783 10.63900055]\n",
            "  [10.5854189  10.41082365 10.43112974]\n",
            "  [10.42026473 10.8277744  10.84232816]\n",
            "  [10.80223493 10.40026651 10.17327822]\n",
            "  [10.69999247 10.35237541 10.39872609]\n",
            "  [10.96736194 10.91567991 10.13097156]\n",
            "  [10.72632083 10.80388226 10.93583746]\n",
            "  [10.39478039 10.51078449 10.67524874]\n",
            "  [10.220585   10.00750917 10.4756662 ]\n",
            "  [10.55208882 10.60917064 10.05818639]]\n",
            "\n",
            " [[10.85290416 10.4614928  10.66720776]\n",
            "  [10.44726933 10.50739727 10.49235526]\n",
            "  [10.90097118 10.31562997 10.19016745]\n",
            "  [10.93849104 10.90050849 10.8010884 ]\n",
            "  [10.90673145 10.04358333 10.66906467]\n",
            "  [10.89136247 10.30215817 10.79796016]\n",
            "  [10.53615466 10.06125084 10.55709063]\n",
            "  [10.65419171 10.54364061 10.8071917 ]\n",
            "  [10.26284195 10.22167321 10.12760769]\n",
            "  [10.17770773 10.12510905 10.07505624]]\n",
            "\n",
            " [[10.68906021 10.02042693 10.12667549]\n",
            "  [10.93639585 10.01785719 10.44850115]\n",
            "  [10.1896684  10.65244153 10.08097574]\n",
            "  [10.79848067 10.86122212 10.12406906]\n",
            "  [10.14825128 10.07712188 10.39798522]\n",
            "  [10.47482025 10.50968571 10.7729316 ]\n",
            "  [10.34000966 10.64884004 10.65932398]\n",
            "  [10.5869557  10.55823056 10.35964269]\n",
            "  [10.05849287 10.94397432 10.59109751]\n",
            "  [10.69164509 10.09833494 10.84614044]]]\n",
            "(6, 10, 3)\n",
            "(6, 10, 3)\n",
            "(6, 10, 3)\n",
            "[[[0.         0.         0.        ]\n",
            "  [0.         0.         0.        ]\n",
            "  [0.         0.         0.        ]\n",
            "  [0.         0.         0.        ]\n",
            "  [0.         0.         0.        ]\n",
            "  [0.         0.         0.        ]\n",
            "  [0.         0.         0.        ]\n",
            "  [0.         0.         0.        ]\n",
            "  [0.         0.         0.        ]\n",
            "  [0.         0.         0.        ]]\n",
            "\n",
            " [[0.02062332 0.02162937 0.02195155]\n",
            "  [0.02176182 0.0204935  0.0215511 ]\n",
            "  [0.02110114 0.02176956 0.02043902]\n",
            "  [0.02171015 0.02182991 0.0216258 ]\n",
            "  [0.02128163 0.02023627 0.02094996]\n",
            "  [0.02143851 0.02070911 0.02181305]\n",
            "  [0.02062878 0.02017649 0.02059928]\n",
            "  [0.02023789 0.02075773 0.02008461]\n",
            "  [0.02106425 0.02074889 0.02133147]\n",
            "  [0.02167697 0.02101516 0.02086307]]\n",
            "\n",
            " [[0.02048925 0.02129515 0.02118948]\n",
            "  [0.02160908 0.0203179  0.02189245]\n",
            "  [0.0211705  0.02048208 0.02073516]\n",
            "  [0.02011062 0.02151372 0.0215304 ]\n",
            "  [0.02187804 0.0207877  0.02095048]\n",
            "  [0.02065015 0.02091079 0.02101046]\n",
            "  [0.02119848 0.02175114 0.0214692 ]\n",
            "  [0.02176819 0.02070372 0.02133239]\n",
            "  [0.02113978 0.02148294 0.02006442]\n",
            "  [0.02138842 0.02127401 0.02037508]]\n",
            "\n",
            " [[0.02023165 0.02098516 0.021278  ]\n",
            "  [0.02117084 0.02082165 0.02086226]\n",
            "  [0.02084053 0.02165555 0.02168466]\n",
            "  [0.02160447 0.02080053 0.02034656]\n",
            "  [0.02139998 0.02070475 0.02079745]\n",
            "  [0.02193472 0.02183136 0.02026194]\n",
            "  [0.02145264 0.02160776 0.02187167]\n",
            "  [0.02078956 0.02102157 0.0213505 ]\n",
            "  [0.02044117 0.02001502 0.02095133]\n",
            "  [0.02110418 0.02121834 0.02011637]]\n",
            "\n",
            " [[0.02170581 0.02092299 0.02133442]\n",
            "  [0.02089454 0.02101479 0.02098471]\n",
            "  [0.02180194 0.02063126 0.02038033]\n",
            "  [0.02187698 0.02180102 0.02160218]\n",
            "  [0.02181346 0.02008717 0.02133813]\n",
            "  [0.02178272 0.02060432 0.02159592]\n",
            "  [0.02107231 0.0201225  0.02111418]\n",
            "  [0.02130838 0.02108728 0.02161438]\n",
            "  [0.02052568 0.02044335 0.02025522]\n",
            "  [0.02035542 0.02025022 0.02015011]]\n",
            "\n",
            " [[0.02137812 0.02004085 0.02025335]\n",
            "  [0.02187279 0.02003571 0.020897  ]\n",
            "  [0.02037934 0.02130488 0.02016195]\n",
            "  [0.02159696 0.02172244 0.02024814]\n",
            "  [0.0202965  0.02015424 0.02079597]\n",
            "  [0.02094964 0.02101937 0.02154586]\n",
            "  [0.02068002 0.02129768 0.02131865]\n",
            "  [0.02117391 0.02111646 0.02071929]\n",
            "  [0.02011699 0.02188795 0.0211822 ]\n",
            "  [0.02138329 0.02019667 0.02169228]]]\n"
          ]
        }
      ]
    },
    {
      "cell_type": "markdown",
      "metadata": {
        "id": "-cUMWPBNoFj2"
      },
      "source": [
        "An array can be reshaped using np.reshape"
      ]
    },
    {
      "cell_type": "code",
      "metadata": {
        "id": "Mn62_4cToQs4",
        "colab": {
          "base_uri": "https://localhost:8080/"
        },
        "outputId": "f28bc755-b922-4f98-ac0e-c6618bbbdae0"
      },
      "source": [
        "q = np.reshape(r, [6,30])\n",
        "print(q.shape)"
      ],
      "execution_count": null,
      "outputs": [
        {
          "output_type": "stream",
          "name": "stdout",
          "text": [
            "(6, 30)\n"
          ]
        }
      ]
    },
    {
      "cell_type": "markdown",
      "metadata": {
        "id": "uBQ6JlDbo7s2"
      },
      "source": [
        "Arrays can be joined. One way is to use np.concatenate([arr1, arr2, ...], axis = i) which connects the arrays arr1 and arr2 through a given axis i. Note that is usually better (for code comprehension) to explicitly use the keyword axis even if it is redundant."
      ]
    },
    {
      "cell_type": "code",
      "metadata": {
        "id": "RFI3H7dbpXse",
        "colab": {
          "base_uri": "https://localhost:8080/"
        },
        "outputId": "62635d6b-b8e6-46d8-9e62-2f1ba88243b6"
      },
      "source": [
        "a = np.ones([3,4])\n",
        "b = np.zeros([6,4])\n",
        "c = np.concatenate([a,b], axis = 0)\n",
        "print(c)                   "
      ],
      "execution_count": null,
      "outputs": [
        {
          "output_type": "stream",
          "name": "stdout",
          "text": [
            "[[1. 1. 1. 1.]\n",
            " [1. 1. 1. 1.]\n",
            " [1. 1. 1. 1.]\n",
            " [0. 0. 0. 0.]\n",
            " [0. 0. 0. 0.]\n",
            " [0. 0. 0. 0.]\n",
            " [0. 0. 0. 0.]\n",
            " [0. 0. 0. 0.]\n",
            " [0. 0. 0. 0.]]\n"
          ]
        }
      ]
    },
    {
      "cell_type": "markdown",
      "metadata": {
        "id": "xLC59P7fp8iC"
      },
      "source": [
        "A different option is to use np.stack([arr1, arr2, ...], axis= i). The difference is that this creates increases the tensor order by one."
      ]
    },
    {
      "cell_type": "code",
      "metadata": {
        "id": "Vj6T89BSq4g_",
        "colab": {
          "base_uri": "https://localhost:8080/"
        },
        "outputId": "8fe8bb40-63d6-4c14-d757-cd5c6effe7cf"
      },
      "source": [
        "a = np.ones([6,4,3])\n",
        "b = np.zeros([6,4,3])\n",
        "d = np.stack([a,b], axis = 0)\n",
        "print(d.shape)\n",
        "f = np.stack([a,b], axis = -1)\n",
        "print(f.shape)\n",
        "g = np.stack([a,b], axis = 1)\n",
        "print(g.shape)"
      ],
      "execution_count": null,
      "outputs": [
        {
          "output_type": "stream",
          "name": "stdout",
          "text": [
            "(2, 6, 4, 3)\n",
            "(6, 4, 3, 2)\n",
            "(6, 2, 4, 3)\n"
          ]
        }
      ]
    },
    {
      "cell_type": "markdown",
      "metadata": {
        "id": "PH3_y_ThuEwJ"
      },
      "source": [
        "We can also index using conditions."
      ]
    },
    {
      "cell_type": "code",
      "metadata": {
        "id": "O3j-u9yRuVFk",
        "colab": {
          "base_uri": "https://localhost:8080/"
        },
        "outputId": "6a4e4efe-5e20-42ae-bf9e-9864caa38199"
      },
      "source": [
        "r = np.random.random([5,5])\n",
        "print(r)\n",
        "r[r < 0.5] = -500\n",
        "print(r)"
      ],
      "execution_count": null,
      "outputs": [
        {
          "output_type": "stream",
          "name": "stdout",
          "text": [
            "[[0.91083983 0.32744777 0.36150645 0.17323621 0.19032092]\n",
            " [0.42292176 0.61094934 0.5179403  0.16642973 0.83201909]\n",
            " [0.57492386 0.77105706 0.40896487 0.60120157 0.36289812]\n",
            " [0.45790866 0.61296264 0.2929082  0.67012674 0.3813194 ]\n",
            " [0.67516178 0.30934909 0.45586873 0.36481768 0.36001682]]\n",
            "[[   0.91083983 -500.         -500.         -500.         -500.        ]\n",
            " [-500.            0.61094934    0.5179403  -500.            0.83201909]\n",
            " [   0.57492386    0.77105706 -500.            0.60120157 -500.        ]\n",
            " [-500.            0.61296264 -500.            0.67012674 -500.        ]\n",
            " [   0.67516178 -500.         -500.         -500.         -500.        ]]\n"
          ]
        }
      ]
    },
    {
      "cell_type": "markdown",
      "metadata": {
        "id": "G9Zqp4-PrLG3"
      },
      "source": [
        "The conditions can also be using in np.whare(cond, a1, a2), which returns an array which contans elemnts from a1 where the condition is true and elements from a2 where condition is false. We can also use np.arange(i) which is equivalent to range(i) from python."
      ]
    },
    {
      "cell_type": "code",
      "metadata": {
        "id": "SBKZaiIttoXs",
        "colab": {
          "base_uri": "https://localhost:8080/"
        },
        "outputId": "c8968338-7451-4496-d855-ac0d28634ad7"
      },
      "source": [
        "a = np.arange(10)\n",
        "print(a)\n",
        "b = np.where(a < 5, a, a**2)\n",
        "print(b)"
      ],
      "execution_count": null,
      "outputs": [
        {
          "output_type": "stream",
          "name": "stdout",
          "text": [
            "[0 1 2 3 4 5 6 7 8 9]\n",
            "[ 0  1  2  3  4 25 36 49 64 81]\n"
          ]
        }
      ]
    },
    {
      "cell_type": "markdown",
      "metadata": {
        "id": "6mEbjH89sAXH"
      },
      "source": [
        "### Exercise 1\n",
        "Create a funciton chessboard(rows, cols) which returns a numpy array with dimensions rows x cols. The array will contain 1 in spots where a chessboard tile would be white and 0 where a chessboard tile would be black.\n",
        "\n",
        "The simplest way is to use slicing. If you feel adventurous you can check the NumPy documentation and use conditions with np.mgrid or repetition and np.tile."
      ]
    },
    {
      "cell_type": "code",
      "metadata": {
        "id": "qJGmsNBxstBZ"
      },
      "source": [
        "def chessboard(rows, cols):\n",
        "  c = np.zeros([rows, cols])\n",
        "  c[::2, 1::2] = 1\n",
        "  c[1::2, 0::2] = 1\n",
        "  return c"
      ],
      "execution_count": null,
      "outputs": []
    },
    {
      "cell_type": "code",
      "metadata": {
        "id": "tnMLmXeYM-pz",
        "colab": {
          "base_uri": "https://localhost:8080/"
        },
        "outputId": "81e064e6-df54-4656-a220-795fae2f794c"
      },
      "source": [
        "print(chessboard(8,8))\n",
        "print(chessboard(5,12))"
      ],
      "execution_count": null,
      "outputs": [
        {
          "output_type": "stream",
          "name": "stdout",
          "text": [
            "[[0. 1. 0. 1. 0. 1. 0. 1.]\n",
            " [1. 0. 1. 0. 1. 0. 1. 0.]\n",
            " [0. 1. 0. 1. 0. 1. 0. 1.]\n",
            " [1. 0. 1. 0. 1. 0. 1. 0.]\n",
            " [0. 1. 0. 1. 0. 1. 0. 1.]\n",
            " [1. 0. 1. 0. 1. 0. 1. 0.]\n",
            " [0. 1. 0. 1. 0. 1. 0. 1.]\n",
            " [1. 0. 1. 0. 1. 0. 1. 0.]]\n",
            "[[0. 1. 0. 1. 0. 1. 0. 1. 0. 1. 0. 1.]\n",
            " [1. 0. 1. 0. 1. 0. 1. 0. 1. 0. 1. 0.]\n",
            " [0. 1. 0. 1. 0. 1. 0. 1. 0. 1. 0. 1.]\n",
            " [1. 0. 1. 0. 1. 0. 1. 0. 1. 0. 1. 0.]\n",
            " [0. 1. 0. 1. 0. 1. 0. 1. 0. 1. 0. 1.]]\n"
          ]
        }
      ]
    },
    {
      "cell_type": "markdown",
      "metadata": {
        "id": "62IrWXs2tLPF"
      },
      "source": [
        "### NumPy Documentation\n",
        "We will go through some basic linear algebra and statistics operations with NumPy during the next lab. \n",
        "\n",
        "If you are curious you can check out the documentation of NumPy: https://docs.scipy.org/doc/numpy/"
      ]
    },
    {
      "cell_type": "markdown",
      "source": [
        "## Introduction to Pandas\n",
        "We will use the pandas library to store our data. If we only used numerical features we would be fine with just NumPy, but this is usually not sufficient for categorical data or more complex structures. More info on Pandas data structures can be found in [this user guide](https://pandas.pydata.org/pandas-docs/stable/user_guide/dsintro.html#dsintro)"
      ],
      "metadata": {
        "id": "pRZUJm8LQRrt"
      }
    },
    {
      "cell_type": "code",
      "execution_count": null,
      "metadata": {
        "id": "wY9l5XCqG8Ah"
      },
      "outputs": [],
      "source": [
        "import pandas as pd\n",
        "import numpy as np"
      ]
    },
    {
      "cell_type": "markdown",
      "source": [
        "### Series\n",
        "\n",
        "One of the basic datatypes is Series. It is essentially a more sophisticated 1-d array of data, which can include named indices."
      ],
      "metadata": {
        "id": "LA7jlFZmQmN1"
      }
    },
    {
      "cell_type": "code",
      "source": [
        "s = pd.Series(np.random.randn(5))\n",
        "print(s)\n",
        "\n",
        "s = pd.Series(np.random.randn(5), index=[\"a\", \"b\", \"c\", \"d\", \"e\"])\n",
        "print(s)\n",
        "\n",
        "d = {\"a\": 0.0, \"b\": 1.0, \"c\": 2.0}\n",
        "print(pd.Series(d))\n",
        "print(pd.Series(d, index=[\"b\", \"c\", \"d\", \"a\"]))"
      ],
      "metadata": {
        "colab": {
          "base_uri": "https://localhost:8080/"
        },
        "id": "_6qptL5nKtOU",
        "outputId": "cd9203f7-a676-457a-8a96-c2f59c121ebc"
      },
      "execution_count": null,
      "outputs": [
        {
          "output_type": "stream",
          "name": "stdout",
          "text": [
            "0   -0.718177\n",
            "1   -2.486077\n",
            "2   -1.143047\n",
            "3   -0.345007\n",
            "4   -2.068682\n",
            "dtype: float64\n",
            "a   -1.102454\n",
            "b   -0.081492\n",
            "c    0.083218\n",
            "d    1.481593\n",
            "e   -0.360535\n",
            "dtype: float64\n",
            "a    0.0\n",
            "b    1.0\n",
            "c    2.0\n",
            "dtype: float64\n",
            "b    1.0\n",
            "c    2.0\n",
            "d    NaN\n",
            "a    0.0\n",
            "dtype: float64\n"
          ]
        }
      ]
    },
    {
      "cell_type": "markdown",
      "source": [
        "In many cases Series can be used in place of standard NumPy array."
      ],
      "metadata": {
        "id": "c7TicFL1ROmR"
      }
    },
    {
      "cell_type": "code",
      "source": [
        "print(s.dtype)\n",
        "print(s.shape)\n",
        "print(s[0])\n",
        "print(s[:3])\n",
        "print(np.sum(s))\n",
        "print(np.exp(s))"
      ],
      "metadata": {
        "colab": {
          "base_uri": "https://localhost:8080/"
        },
        "id": "03KHxMFlIS3-",
        "outputId": "c6799a40-a0f9-40fc-b80f-2626e7c6d225"
      },
      "execution_count": null,
      "outputs": [
        {
          "output_type": "stream",
          "name": "stdout",
          "text": [
            "float64\n",
            "(5,)\n",
            "-1.1024538045100478\n",
            "a   -1.102454\n",
            "b   -0.081492\n",
            "c    0.083218\n",
            "dtype: float64\n",
            "0.020330737488355344\n",
            "a    0.332055\n",
            "b    0.921740\n",
            "c    1.086778\n",
            "d    4.399951\n",
            "e    0.697303\n",
            "dtype: float64\n"
          ]
        }
      ]
    },
    {
      "cell_type": "markdown",
      "source": [
        "We can convert Series to a NumPy array."
      ],
      "metadata": {
        "id": "GXxpFwkNRJRT"
      }
    },
    {
      "cell_type": "code",
      "source": [
        "print(s.to_numpy())"
      ],
      "metadata": {
        "colab": {
          "base_uri": "https://localhost:8080/"
        },
        "id": "3t1CR8mvPMZn",
        "outputId": "952a4b8f-218a-4a3d-feaf-6375d1610f47"
      },
      "execution_count": null,
      "outputs": [
        {
          "output_type": "stream",
          "name": "stdout",
          "text": [
            "[-1.1024538  -0.08149177  0.08321767  1.48159335 -0.36053471]\n"
          ]
        }
      ]
    },
    {
      "cell_type": "markdown",
      "source": [
        "We can also perform indexing and standard operations on Series."
      ],
      "metadata": {
        "id": "z2HdzvFFRPnF"
      }
    },
    {
      "cell_type": "code",
      "source": [
        "print(2.5 * s + s)\n",
        "print(s[s > s.median()])\n",
        "print(s[[4, 3, 1]])"
      ],
      "metadata": {
        "colab": {
          "base_uri": "https://localhost:8080/"
        },
        "id": "oJlKDGX9Pg_6",
        "outputId": "7cfe5fe4-57ce-4b68-dec4-af9be1ec2b43"
      },
      "execution_count": null,
      "outputs": [
        {
          "output_type": "stream",
          "name": "stdout",
          "text": [
            "a   -3.858588\n",
            "b   -0.285221\n",
            "c    0.291262\n",
            "d    5.185577\n",
            "e   -1.261871\n",
            "dtype: float64\n",
            "c    0.083218\n",
            "d    1.481593\n",
            "dtype: float64\n",
            "e   -0.360535\n",
            "d    1.481593\n",
            "b   -0.081492\n",
            "dtype: float64\n"
          ]
        }
      ]
    },
    {
      "cell_type": "markdown",
      "source": [
        "But beware! Operations rely on the defined indexes! This is different from NumPy."
      ],
      "metadata": {
        "id": "5hlpoOXVRTNR"
      }
    },
    {
      "cell_type": "code",
      "source": [
        "print(s[1:] + s[:-1])\n",
        "n = s.to_numpy()\n",
        "print(n[1:] + n[:-1])"
      ],
      "metadata": {
        "colab": {
          "base_uri": "https://localhost:8080/"
        },
        "id": "gG--g8ExPZM0",
        "outputId": "8842f743-7e9a-4974-8158-e2e0d6af4737"
      },
      "execution_count": null,
      "outputs": [
        {
          "output_type": "stream",
          "name": "stdout",
          "text": [
            "a         NaN\n",
            "b   -0.162984\n",
            "c    0.166435\n",
            "d    2.963187\n",
            "e         NaN\n",
            "dtype: float64\n",
            "[-1.18394558  0.0017259   1.56481102  1.12105864]\n"
          ]
        }
      ]
    },
    {
      "cell_type": "markdown",
      "source": [
        "A Series also behaves as a dict!"
      ],
      "metadata": {
        "id": "ThujWH6zRcy0"
      }
    },
    {
      "cell_type": "code",
      "source": [
        "print(s[\"a\"])\n",
        "s[\"c\"] = 0.2\n",
        "print(s)"
      ],
      "metadata": {
        "colab": {
          "base_uri": "https://localhost:8080/"
        },
        "id": "IwxPLcbAQIBZ",
        "outputId": "20f0ba3a-65d5-40c4-b22f-a867665d3a48"
      },
      "execution_count": null,
      "outputs": [
        {
          "output_type": "stream",
          "name": "stdout",
          "text": [
            "-1.1024538045100478\n",
            "a   -1.102454\n",
            "b   -0.081492\n",
            "c    0.200000\n",
            "d    1.481593\n",
            "e   -0.360535\n",
            "dtype: float64\n"
          ]
        }
      ]
    },
    {
      "cell_type": "markdown",
      "source": [
        "### DataFrames\n",
        "\n",
        "DataFrame is a 2-d structure of data. We will mostly use this structure!\n",
        "\n",
        "It can be constructed from:\n",
        "\n",
        "* Dict of 1D ndarrays, lists, dicts, or Series\n",
        "* 2-D numpy.ndarray\n",
        "* Structured or record ndarray\n",
        "* A Series\n",
        "* Another DataFrame"
      ],
      "metadata": {
        "id": "FI9-0r1MRfiX"
      }
    },
    {
      "cell_type": "code",
      "source": [
        "d = {\n",
        "    \"one\": pd.Series([1.0, 2.0, 3.0], index=[\"a\", \"b\", \"c\"]),\n",
        "    \"two\": pd.Series([1.0, 2.0, 3.0, 4.0], index=[\"a\", \"b\", \"c\", \"d\"]),\n",
        "}\n",
        "print(pd.DataFrame(d))\n",
        "print(pd.DataFrame(d, index=[\"d\", \"b\", \"a\"]))\n",
        "print(pd.DataFrame(d, index=[\"d\", \"b\", \"a\"], columns=[\"two\", \"three\"]))\n",
        "print(10 * '*')\n",
        "d = {\"one\": [1.0, 2.0, 3.0, 4.0], \"two\": [4.0, 3.0, 2.0, 1.0]}\n",
        "print(pd.DataFrame(d))\n",
        "print(10 * '*')\n",
        "data2 = [{\"a\": 1, \"b\": 2}, {\"a\": 5, \"b\": 10, \"c\": 20}]\n",
        "print(pd.DataFrame(data2))\n",
        "print(10 * '*')\n",
        "print(pd.DataFrame(np.random.randn(6, 3), index=list('abcdef'), columns=['first', 'second', 'third']))"
      ],
      "metadata": {
        "colab": {
          "base_uri": "https://localhost:8080/"
        },
        "id": "bQmFo8-SR5_R",
        "outputId": "6b0a001c-e496-4acf-c7dd-335d7309993e"
      },
      "execution_count": null,
      "outputs": [
        {
          "output_type": "stream",
          "name": "stdout",
          "text": [
            "   one  two\n",
            "a  1.0  1.0\n",
            "b  2.0  2.0\n",
            "c  3.0  3.0\n",
            "d  NaN  4.0\n",
            "   one  two\n",
            "d  NaN  4.0\n",
            "b  2.0  2.0\n",
            "a  1.0  1.0\n",
            "   two three\n",
            "d  4.0   NaN\n",
            "b  2.0   NaN\n",
            "a  1.0   NaN\n",
            "**********\n",
            "   one  two\n",
            "0  1.0  4.0\n",
            "1  2.0  3.0\n",
            "2  3.0  2.0\n",
            "3  4.0  1.0\n",
            "**********\n",
            "   a   b     c\n",
            "0  1   2   NaN\n",
            "1  5  10  20.0\n",
            "**********\n",
            "      first    second     third\n",
            "a  1.552886  0.923738 -1.249404\n",
            "b -0.779500 -0.771745  0.391670\n",
            "c  0.226004  1.246042  0.135406\n",
            "d  1.037689 -1.609049 -0.103743\n",
            "e -0.126385  0.365205  0.555974\n",
            "f  1.385454  0.589635 -0.539962\n"
          ]
        }
      ]
    },
    {
      "cell_type": "markdown",
      "source": [
        "We can add new columns."
      ],
      "metadata": {
        "id": "qODioYY7Y226"
      }
    },
    {
      "cell_type": "code",
      "source": [
        "df = pd.DataFrame(np.random.randn(6, 3), index=list('abcdef'), columns=['first', 'second', 'third'])\n",
        "df.insert(1, \"bar\", df[\"first\"])\n",
        "df.insert(4, \"last\", 5.0)\n",
        "df.insert(5, \"actually_last\", ['car', 'tram', 'bus', 'car', 'bike', 'car'])\n",
        "print(df)"
      ],
      "metadata": {
        "colab": {
          "base_uri": "https://localhost:8080/"
        },
        "id": "WofIeAVAY4At",
        "outputId": "0e965edb-eb28-4aa3-a2db-7c4cb0f43536"
      },
      "execution_count": null,
      "outputs": [
        {
          "output_type": "stream",
          "name": "stdout",
          "text": [
            "      first       bar    second     third  last actually_last\n",
            "a -1.926596 -1.926596 -0.728207  0.668471   5.0           car\n",
            "b  0.053308  0.053308  1.071343 -1.381567   5.0          tram\n",
            "c  1.039376  1.039376  1.250617  2.215683   5.0           bus\n",
            "d -0.514517 -0.514517 -1.435444  0.111954   5.0           car\n",
            "e -1.030886 -1.030886 -1.551924  0.175286   5.0          bike\n",
            "f  1.072846  1.072846  1.343546  0.666972   5.0           car\n"
          ]
        }
      ]
    },
    {
      "cell_type": "markdown",
      "source": [
        "We can also create a new column from existing columns."
      ],
      "metadata": {
        "id": "hLFMQVIDcc36"
      }
    },
    {
      "cell_type": "code",
      "source": [
        "print(df.assign(new_column=df[\"first\"] / df[\"second\"]))"
      ],
      "metadata": {
        "colab": {
          "base_uri": "https://localhost:8080/"
        },
        "id": "qsJICAAOcSIa",
        "outputId": "907ab87b-18d4-4e6d-ab9b-d210563ac127"
      },
      "execution_count": null,
      "outputs": [
        {
          "output_type": "stream",
          "name": "stdout",
          "text": [
            "      first       bar    second     third  last actually_last  new_column\n",
            "a -1.926596 -1.926596 -0.728207  0.668471   5.0           car    2.645672\n",
            "b  0.053308  0.053308  1.071343 -1.381567   5.0          tram    0.049758\n",
            "c  1.039376  1.039376  1.250617  2.215683   5.0           bus    0.831091\n",
            "d -0.514517 -0.514517 -1.435444  0.111954   5.0           car    0.358437\n",
            "e -1.030886 -1.030886 -1.551924  0.175286   5.0          bike    0.664263\n",
            "f  1.072846  1.072846  1.343546  0.666972   5.0           car    0.798518\n"
          ]
        }
      ]
    },
    {
      "cell_type": "markdown",
      "source": [
        "Indexing can be performed in multiple ways:\n",
        "* Select column `df[col]`\n",
        "* Select row by label `df.loc[label]`\n",
        "* Select row by integer location `df.iloc[loc]`\n",
        "* Slice rows `df[5:10]`\n",
        "* Select rows by boolean vector `df[bool_vec]`\n"
      ],
      "metadata": {
        "id": "9AkZpWrpcqKO"
      }
    },
    {
      "cell_type": "code",
      "source": [
        "print(df['first'])\n",
        "print(df.loc['b'])\n",
        "print(df.iloc[2])"
      ],
      "metadata": {
        "colab": {
          "base_uri": "https://localhost:8080/"
        },
        "id": "qcLnPyLnfiOP",
        "outputId": "b11c2367-374e-4f5a-ca3e-311f4a19e439"
      },
      "execution_count": null,
      "outputs": [
        {
          "output_type": "stream",
          "name": "stdout",
          "text": [
            "a   -1.926596\n",
            "b    0.053308\n",
            "c    1.039376\n",
            "d   -0.514517\n",
            "e   -1.030886\n",
            "f    1.072846\n",
            "Name: first, dtype: float64\n",
            "first            0.053308\n",
            "bar              0.053308\n",
            "second           1.071343\n",
            "third           -1.381567\n",
            "last                  5.0\n",
            "actually_last        tram\n",
            "Name: b, dtype: object\n",
            "first            1.039376\n",
            "bar              1.039376\n",
            "second           1.250617\n",
            "third            2.215683\n",
            "last                  5.0\n",
            "actually_last         bus\n",
            "Name: c, dtype: object\n"
          ]
        }
      ]
    },
    {
      "cell_type": "markdown",
      "source": [
        "We can also perform operations on dataframes. Most NumPy functions work as well."
      ],
      "metadata": {
        "id": "_j0K-RQ_mTjt"
      }
    },
    {
      "cell_type": "code",
      "source": [
        "df2 = df[['first', 'bar', 'second']]\n",
        "print(df2)\n",
        "print(2 * df2 + 1.0)\n",
        "print(df2 - df2.iloc[0])\n",
        "print(np.exp(df2))"
      ],
      "metadata": {
        "colab": {
          "base_uri": "https://localhost:8080/"
        },
        "id": "a0_P9xzKmWtl",
        "outputId": "99b07ffe-7274-482c-9d7e-bf3bed42af1f"
      },
      "execution_count": null,
      "outputs": [
        {
          "output_type": "stream",
          "name": "stdout",
          "text": [
            "      first       bar    second\n",
            "a -1.926596 -1.926596 -0.728207\n",
            "b  0.053308  0.053308  1.071343\n",
            "c  1.039376  1.039376  1.250617\n",
            "d -0.514517 -0.514517 -1.435444\n",
            "e -1.030886 -1.030886 -1.551924\n",
            "f  1.072846  1.072846  1.343546\n",
            "      first       bar    second\n",
            "a -2.853192 -2.853192 -0.456413\n",
            "b  1.106616  1.106616  3.142685\n",
            "c  3.078752  3.078752  3.501233\n",
            "d -0.029033 -0.029033 -1.870888\n",
            "e -1.061771 -1.061771 -2.103849\n",
            "f  3.145693  3.145693  3.687093\n",
            "      first       bar    second\n",
            "a  0.000000  0.000000  0.000000\n",
            "b  1.979904  1.979904  1.799549\n",
            "c  2.965972  2.965972  1.978823\n",
            "d  1.412079  1.412079 -0.707238\n",
            "e  0.895710  0.895710 -0.823718\n",
            "f  2.999442  2.999442  2.071753\n",
            "      first       bar    second\n",
            "a  0.145643  0.145643  0.482774\n",
            "b  1.054755  1.054755  2.919296\n",
            "c  2.827452  2.827452  3.492496\n",
            "d  0.597789  0.597789  0.238010\n",
            "e  0.356691  0.356691  0.211840\n",
            "f  2.923690  2.923690  3.832611\n"
          ]
        }
      ]
    },
    {
      "cell_type": "markdown",
      "source": [
        "We can also load a csv. We will first download one."
      ],
      "metadata": {
        "id": "ePnIdC_gnPd_"
      }
    },
    {
      "cell_type": "code",
      "source": [
        "!wget https://archive.ics.uci.edu/ml/machine-learning-databases/adult/adult.data\n",
        "!wget https://archive.ics.uci.edu/ml/machine-learning-databases/adult/adult.names\n",
        "!tail -n 16 adult.names"
      ],
      "metadata": {
        "colab": {
          "base_uri": "https://localhost:8080/"
        },
        "id": "12lVJsbVnWOd",
        "outputId": "e0e02c6d-590c-4486-f1b3-f99bbe6b63b6"
      },
      "execution_count": null,
      "outputs": [
        {
          "output_type": "stream",
          "name": "stdout",
          "text": [
            "--2022-03-13 23:43:07--  https://archive.ics.uci.edu/ml/machine-learning-databases/adult/adult.data\n",
            "Resolving archive.ics.uci.edu (archive.ics.uci.edu)... 128.195.10.252\n",
            "Connecting to archive.ics.uci.edu (archive.ics.uci.edu)|128.195.10.252|:443... connected.\n",
            "HTTP request sent, awaiting response... 200 OK\n",
            "Length: 3974305 (3.8M) [application/x-httpd-php]\n",
            "Saving to: ‘adult.data’\n",
            "\n",
            "adult.data          100%[===================>]   3.79M  3.13MB/s    in 1.2s    \n",
            "\n",
            "2022-03-13 23:43:09 (3.13 MB/s) - ‘adult.data’ saved [3974305/3974305]\n",
            "\n",
            "--2022-03-13 23:43:09--  https://archive.ics.uci.edu/ml/machine-learning-databases/adult/adult.names\n",
            "Resolving archive.ics.uci.edu (archive.ics.uci.edu)... 128.195.10.252\n",
            "Connecting to archive.ics.uci.edu (archive.ics.uci.edu)|128.195.10.252|:443... connected.\n",
            "HTTP request sent, awaiting response... 200 OK\n",
            "Length: 5229 (5.1K) [application/x-httpd-php]\n",
            "Saving to: ‘adult.names’\n",
            "\n",
            "adult.names         100%[===================>]   5.11K  --.-KB/s    in 0s      \n",
            "\n",
            "2022-03-13 23:43:09 (164 MB/s) - ‘adult.names’ saved [5229/5229]\n",
            "\n",
            ">50K, <=50K.\n",
            "\n",
            "age: continuous.\n",
            "workclass: Private, Self-emp-not-inc, Self-emp-inc, Federal-gov, Local-gov, State-gov, Without-pay, Never-worked.\n",
            "fnlwgt: continuous.\n",
            "education: Bachelors, Some-college, 11th, HS-grad, Prof-school, Assoc-acdm, Assoc-voc, 9th, 7th-8th, 12th, Masters, 1st-4th, 10th, Doctorate, 5th-6th, Preschool.\n",
            "education-num: continuous.\n",
            "marital-status: Married-civ-spouse, Divorced, Never-married, Separated, Widowed, Married-spouse-absent, Married-AF-spouse.\n",
            "occupation: Tech-support, Craft-repair, Other-service, Sales, Exec-managerial, Prof-specialty, Handlers-cleaners, Machine-op-inspct, Adm-clerical, Farming-fishing, Transport-moving, Priv-house-serv, Protective-serv, Armed-Forces.\n",
            "relationship: Wife, Own-child, Husband, Not-in-family, Other-relative, Unmarried.\n",
            "race: White, Asian-Pac-Islander, Amer-Indian-Eskimo, Other, Black.\n",
            "sex: Female, Male.\n",
            "capital-gain: continuous.\n",
            "capital-loss: continuous.\n",
            "hours-per-week: continuous.\n",
            "native-country: United-States, Cambodia, England, Puerto-Rico, Canada, Germany, Outlying-US(Guam-USVI-etc), India, Japan, Greece, South, China, Cuba, Iran, Honduras, Philippines, Italy, Poland, Jamaica, Vietnam, Mexico, Portugal, Ireland, France, Dominican-Republic, Laos, Ecuador, Taiwan, Haiti, Columbia, Hungary, Guatemala, Nicaragua, Scotland, Thailand, Yugoslavia, El-Salvador, Trinadad&Tobago, Peru, Hong, Holand-Netherlands.\n"
          ]
        }
      ]
    },
    {
      "cell_type": "code",
      "source": [
        "data = pd.read_csv('adult.data', header=None)\n",
        "print(data)\n",
        "print(data.iloc[0])"
      ],
      "metadata": {
        "colab": {
          "base_uri": "https://localhost:8080/"
        },
        "id": "XdlzLta8naQ4",
        "outputId": "8a3de964-f692-4765-f6e7-ad7534500cc9"
      },
      "execution_count": null,
      "outputs": [
        {
          "output_type": "stream",
          "name": "stdout",
          "text": [
            "       0                  1       2            3   4                    5   \\\n",
            "0      39          State-gov   77516    Bachelors  13        Never-married   \n",
            "1      50   Self-emp-not-inc   83311    Bachelors  13   Married-civ-spouse   \n",
            "2      38            Private  215646      HS-grad   9             Divorced   \n",
            "3      53            Private  234721         11th   7   Married-civ-spouse   \n",
            "4      28            Private  338409    Bachelors  13   Married-civ-spouse   \n",
            "...    ..                ...     ...          ...  ..                  ...   \n",
            "32556  27            Private  257302   Assoc-acdm  12   Married-civ-spouse   \n",
            "32557  40            Private  154374      HS-grad   9   Married-civ-spouse   \n",
            "32558  58            Private  151910      HS-grad   9              Widowed   \n",
            "32559  22            Private  201490      HS-grad   9        Never-married   \n",
            "32560  52       Self-emp-inc  287927      HS-grad   9   Married-civ-spouse   \n",
            "\n",
            "                       6               7       8        9      10  11  12  \\\n",
            "0            Adm-clerical   Not-in-family   White     Male   2174   0  40   \n",
            "1         Exec-managerial         Husband   White     Male      0   0  13   \n",
            "2       Handlers-cleaners   Not-in-family   White     Male      0   0  40   \n",
            "3       Handlers-cleaners         Husband   Black     Male      0   0  40   \n",
            "4          Prof-specialty            Wife   Black   Female      0   0  40   \n",
            "...                   ...             ...     ...      ...    ...  ..  ..   \n",
            "32556        Tech-support            Wife   White   Female      0   0  38   \n",
            "32557   Machine-op-inspct         Husband   White     Male      0   0  40   \n",
            "32558        Adm-clerical       Unmarried   White   Female      0   0  40   \n",
            "32559        Adm-clerical       Own-child   White     Male      0   0  20   \n",
            "32560     Exec-managerial            Wife   White   Female  15024   0  40   \n",
            "\n",
            "                   13      14  \n",
            "0       United-States   <=50K  \n",
            "1       United-States   <=50K  \n",
            "2       United-States   <=50K  \n",
            "3       United-States   <=50K  \n",
            "4                Cuba   <=50K  \n",
            "...               ...     ...  \n",
            "32556   United-States   <=50K  \n",
            "32557   United-States    >50K  \n",
            "32558   United-States   <=50K  \n",
            "32559   United-States   <=50K  \n",
            "32560   United-States    >50K  \n",
            "\n",
            "[32561 rows x 15 columns]\n",
            "0                 39\n",
            "1          State-gov\n",
            "2              77516\n",
            "3          Bachelors\n",
            "4                 13\n",
            "5      Never-married\n",
            "6       Adm-clerical\n",
            "7      Not-in-family\n",
            "8              White\n",
            "9               Male\n",
            "10              2174\n",
            "11                 0\n",
            "12                40\n",
            "13     United-States\n",
            "14             <=50K\n",
            "Name: 0, dtype: object\n"
          ]
        }
      ]
    },
    {
      "cell_type": "markdown",
      "source": [
        "## Information Theory Measures\n",
        "\n",
        "We have covered these measures during the lecture. Now we will try to implement them in code."
      ],
      "metadata": {
        "id": "s3cjbXJl_Ttp"
      }
    },
    {
      "cell_type": "markdown",
      "source": [
        "### Exercise 2 - Shannon Entropy\n",
        "\n",
        "Shannon entropy is defined as: $H(Y) = - \\sum_{y \\in \\omega} P(Y = y) \\cdot log_2(P(Y = y))$\n",
        "\n",
        "Implement the Shannon Entropy as the function entropy. Its only input will be a Pandas Series object.\n",
        "\n",
        "*Note:* You can calculate the probabilities by calculating how many times a given value occurs in the given series. In order to do that you may want to use the `value_counts` method of the `Series` class."
      ],
      "metadata": {
        "id": "CC0Vhq8CASzq"
      }
    },
    {
      "cell_type": "code",
      "source": [
        "def entropy(s):\n",
        "  v = s.value_counts(normalize=True).to_numpy()\n",
        "  entropy = np.sum(-v * np.log2(v))\n",
        "  return entropy"
      ],
      "metadata": {
        "id": "_fAxx3ZfoWJz"
      },
      "execution_count": null,
      "outputs": []
    },
    {
      "cell_type": "markdown",
      "source": [
        "If you implemented these correctly these tests should run."
      ],
      "metadata": {
        "id": "Fju8IEXyBkkp"
      }
    },
    {
      "cell_type": "code",
      "source": [
        "print(entropy(data[0]))\n",
        "print(entropy(data[13]))"
      ],
      "metadata": {
        "colab": {
          "base_uri": "https://localhost:8080/"
        },
        "id": "KTCJlSXpow_n",
        "outputId": "50248050-c084-434b-e56d-a9189cab422e"
      },
      "execution_count": null,
      "outputs": [
        {
          "output_type": "stream",
          "name": "stdout",
          "text": [
            "5.68332439640033\n",
            "0.9437954138017222\n"
          ]
        }
      ]
    },
    {
      "cell_type": "markdown",
      "source": [
        "### Exercise 3 - Conditional Entropy\n",
        "\n",
        "We can recap the definition of the conditinal entropy.\n",
        "\n",
        "Specific conditional entropy: $H(Y| X = v) = H(Y),$ only for values of $Y$, where $X = x$\n",
        "\n",
        "Conditional Entropy: $H(Y| X) = \\sum_{x \\in \\Omega_x} P(X = x) \\cdot H(Y | X = x)$\n",
        "\n",
        "Now we will implement the function `conditional_entropy` which will take two `Series` objects as inputs.\n",
        "\n",
        "*Note:* You want to sum over the categories of y. Therefore, it is useful to convert that `Series` object into `category` type using the `astype` method. You can then obtain a list of the categories in the `Series`, try to google how."
      ],
      "metadata": {
        "id": "QMytMsx2CI6z"
      }
    },
    {
      "cell_type": "code",
      "source": [
        "def conditional_entropy(y, x):\n",
        "  ce = 0\n",
        "  x = x.astype('category')\n",
        "  cats = x.cat.categories\n",
        "  p = x.value_counts(normalize=True)\n",
        "\n",
        "  for cat in cats:\n",
        "    ce += p[cat] * entropy(y[x == cat])\n",
        "  return ce\n"
      ],
      "metadata": {
        "id": "wYylz2ViqZoe"
      },
      "execution_count": null,
      "outputs": []
    },
    {
      "cell_type": "markdown",
      "source": [
        "These tests should run successfully if your implementation is correct."
      ],
      "metadata": {
        "id": "skKlg097IRmS"
      }
    },
    {
      "cell_type": "code",
      "source": [
        "print(conditional_entropy(data[13], data[14]))\n",
        "print(conditional_entropy(data[1], data[14]))\n",
        "print(conditional_entropy(data[8], data[14]))\n",
        "print(conditional_entropy(data[3], data[14]))"
      ],
      "metadata": {
        "colab": {
          "base_uri": "https://localhost:8080/"
        },
        "id": "p2B-74FhryrZ",
        "outputId": "096137fd-0814-4f57-ed52-9460253f69fa"
      },
      "execution_count": null,
      "outputs": [
        {
          "output_type": "stream",
          "name": "stdout",
          "text": [
            "0.9351000717808609\n",
            "1.626405337311804\n",
            "0.7903627046854481\n",
            "2.837760056715097\n"
          ]
        }
      ]
    }
  ]
}
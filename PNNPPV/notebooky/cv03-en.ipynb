{
  "nbformat": 4,
  "nbformat_minor": 0,
  "metadata": {
    "colab": {
      "name": "cv03-en.ipynb",
      "provenance": [],
      "collapsed_sections": [],
      "toc_visible": true,
      "include_colab_link": true
    },
    "kernelspec": {
      "name": "python3",
      "display_name": "Python 3"
    },
    "accelerator": "GPU"
  },
  "cells": [
    {
      "cell_type": "markdown",
      "metadata": {
        "id": "view-in-github",
        "colab_type": "text"
      },
      "source": [
        "<a href=\"https://colab.research.google.com/github/kocurvik/edu/blob/master/PNNPPV/notebooky/cv03-en.ipynb\" target=\"_parent\"><img src=\"https://colab.research.google.com/assets/colab-badge.svg\" alt=\"Open In Colab\"/></a>"
      ]
    },
    {
      "cell_type": "markdown",
      "metadata": {
        "id": "iIVREN6GLQI1"
      },
      "source": [
        "# 3rd Lab - Training I.\n",
        "\n",
        "This notebook will deal with basics of neural network traning in keras. We will go throught the basic division of the training data into the training, validation and testing subset. We will try out various activation and loss functions. We will also try to use various regularization methods.\n",
        "\n",
        "We will be using the keras framework from now on you can check its documentation at [keras.io](https://keras.io/)."
      ]
    },
    {
      "cell_type": "markdown",
      "metadata": {
        "id": "9Gi6M79scklj"
      },
      "source": [
        "## Fully connected neural networks\n",
        "\n",
        "Keras was originally designed as a user-friendly API for tensorflow and theano frameworks.  Today keras is usually shipped as a part of the general tensorflow distribution. We will import keras as a standalone package."
      ]
    },
    {
      "cell_type": "code",
      "metadata": {
        "id": "U9sp3P_wZsM0"
      },
      "source": [
        "import numpy as np\n",
        "import matplotlib.pyplot as plt\n",
        "\n",
        "import keras\n",
        "from keras.datasets import mnist"
      ],
      "execution_count": 1,
      "outputs": []
    },
    {
      "cell_type": "markdown",
      "metadata": {
        "id": "S4_RRqTNaN0S"
      },
      "source": [
        "Let us load some data."
      ]
    },
    {
      "cell_type": "code",
      "metadata": {
        "id": "69afZV8RbHpR",
        "outputId": "cdf925fd-d0d1-4040-8c75-c835e942b23c",
        "colab": {
          "base_uri": "https://localhost:8080/",
          "height": 282
        }
      },
      "source": [
        "(x, y), (x_test, y_test) = mnist.load_data()\n",
        "x = np.reshape(x,(-1,784)).astype(np.float32) / 255\n",
        "x_test = np.reshape(x_test,(-1,784)).astype(np.float32) / 255\n",
        "y = keras.utils.to_categorical(y)\n",
        "y_test = keras.utils.to_categorical(y_test)\n",
        "\n",
        "plt.imshow(np.reshape(x[0,:],(28,28)), cmap='gray')\n",
        "plt.show()\n",
        "print(y[0])"
      ],
      "execution_count": 2,
      "outputs": [
        {
          "output_type": "display_data",
          "data": {
            "image/png": "[encoded data removed]",
            "text/plain": [
              "<Figure size 432x288 with 1 Axes>"
            ]
          },
          "metadata": {
            "tags": [],
            "needs_background": "light"
          }
        },
        {
          "output_type": "stream",
          "text": [
            "[0. 0. 0. 0. 0. 1. 0. 0. 0. 0.]\n"
          ],
          "name": "stdout"
        }
      ]
    },
    {
      "cell_type": "markdown",
      "metadata": {
        "id": "udwpZyG-dlff"
      },
      "source": [
        "### Model construction\n",
        "\n",
        "Keras has the Sequential class which represents a simple sequntial model of a neural netowrk where outputs of each layer are fed to exactly one following layer. It is therefore easy to represent such a network as a list of layers. Let us create a network which is identical to the one from the previous notebook."
      ]
    },
    {
      "cell_type": "code",
      "metadata": {
        "id": "aY8yguc9W_CM"
      },
      "source": [
        "from keras.models import Sequential\n",
        "from keras.layers import Dense"
      ],
      "execution_count": 3,
      "outputs": []
    },
    {
      "cell_type": "code",
      "metadata": {
        "id": "92bprjyTeKuV"
      },
      "source": [
        "model = Sequential()\n",
        "model.add(Dense(30, activation='sigmoid', input_shape=(784,)))\n",
        "model.add(Dense(20, activation='sigmoid'))\n",
        "model.add(Dense(10, activation='softmax'))"
      ],
      "execution_count": 4,
      "outputs": []
    },
    {
      "cell_type": "markdown",
      "metadata": {
        "id": "8nR1mHhXfQdF"
      },
      "source": [
        "In odrder to train the model we will need to assign a loss function to it and choose the optimizer. This step is called compilation. We can look at the model structure before and after compilation with the method summary.\n",
        "\n",
        "*Note.:* We can only call summary when the model is complte, so the layer sizes can be known. If the first layer has no input shape defined then the summary can only be called after we feed the network some data."
      ]
    },
    {
      "cell_type": "code",
      "metadata": {
        "id": "siJkGdtLffBd",
        "outputId": "4c3642b6-ed30-4d98-c960-2a059dd4adb4",
        "colab": {
          "base_uri": "https://localhost:8080/",
          "height": 272
        }
      },
      "source": [
        "loss = keras.losses.categorical_crossentropy\n",
        "model.compile(loss=loss,\n",
        "              optimizer='sgd',\n",
        "              metrics=['accuracy'])\n",
        "print(model.summary())"
      ],
      "execution_count": 5,
      "outputs": [
        {
          "output_type": "stream",
          "text": [
            "Model: \"sequential\"\n",
            "_________________________________________________________________\n",
            "Layer (type)                 Output Shape              Param #   \n",
            "=================================================================\n",
            "dense (Dense)                (None, 30)                23550     \n",
            "_________________________________________________________________\n",
            "dense_1 (Dense)              (None, 20)                620       \n",
            "_________________________________________________________________\n",
            "dense_2 (Dense)              (None, 10)                210       \n",
            "=================================================================\n",
            "Total params: 24,380\n",
            "Trainable params: 24,380\n",
            "Non-trainable params: 0\n",
            "_________________________________________________________________\n",
            "None\n"
          ],
          "name": "stdout"
        }
      ]
    },
    {
      "cell_type": "markdown",
      "metadata": {
        "id": "a_q9uHbKemE9"
      },
      "source": [
        "We train the model by calling the fit method which requires the training data. Right now we will run the training just for a few seconds. We also forego the splitting of the data for now."
      ]
    },
    {
      "cell_type": "code",
      "metadata": {
        "id": "t2iulP5oe3lA",
        "outputId": "f8283a92-415f-452c-ed52-d18cfd56f92d",
        "colab": {
          "base_uri": "https://localhost:8080/",
          "height": 204
        }
      },
      "source": [
        "model.fit(x, y, batch_size=32, epochs=5)"
      ],
      "execution_count": 6,
      "outputs": [
        {
          "output_type": "stream",
          "text": [
            "Epoch 1/5\n",
            "1875/1875 [==============================] - 4s 2ms/step - loss: 2.2434 - accuracy: 0.2702\n",
            "Epoch 2/5\n",
            "1875/1875 [==============================] - 4s 2ms/step - loss: 1.9677 - accuracy: 0.5149\n",
            "Epoch 3/5\n",
            "1875/1875 [==============================] - 4s 2ms/step - loss: 1.5391 - accuracy: 0.6395\n",
            "Epoch 4/5\n",
            "1875/1875 [==============================] - 4s 2ms/step - loss: 1.1780 - accuracy: 0.7128\n",
            "Epoch 5/5\n",
            "1875/1875 [==============================] - 4s 2ms/step - loss: 0.9377 - accuracy: 0.7640\n"
          ],
          "name": "stdout"
        },
        {
          "output_type": "execute_result",
          "data": {
            "text/plain": [
              "<tensorflow.python.keras.callbacks.History at 0x7feed153cfd0>"
            ]
          },
          "metadata": {
            "tags": []
          },
          "execution_count": 6
        }
      ]
    },
    {
      "cell_type": "markdown",
      "metadata": {
        "id": "qP7dlrc3TZbR"
      },
      "source": [
        "## Preliminary model verification\n",
        "\n",
        "While training the model we shoudld check whether the model actually has enough capapcity for the given problem. We can think of capacity for now as a measure of how many various functions can the model represent and/or how complex this function space is. If our model is unable to model the desired function (such as a classifier) even from the theoretical perspective. It is clear that this model is then unsuitable for a given task. For instance using a linear classifier for linearly inseparable data is a good example of a lacking model capacity.\n",
        "\n",
        "The easiest way to test this is to select a very small subset of training data and iterate the optimization on this small sample of data. Our aim is to see if our model is able to achieve 100% accuracy on this small subsample.\n",
        "\n",
        "This step is also useful for verification of the training process including all of the data manipulation etc.\n",
        "\n",
        "*Note.:* It is important that the sample is varied at least in the expected output, because otherwise the required capacity of the model is irrelevant."
      ]
    },
    {
      "cell_type": "markdown",
      "metadata": {
        "id": "9rtiKiV5cRHC"
      },
      "source": [
        "Let us test the model on some small data sample."
      ]
    },
    {
      "cell_type": "code",
      "metadata": {
        "id": "Rq3dGAMwcWBp",
        "outputId": "ebb5f773-a362-46ee-a3ea-b65dbc32d0f8",
        "colab": {
          "base_uri": "https://localhost:8080/",
          "height": 374
        }
      },
      "source": [
        "x_mini = x[:32]\n",
        "y_mini = y[:32]\n",
        "\n",
        "x_mini = np.repeat(x_mini, 1000, axis=0)\n",
        "y_mini = np.repeat(y_mini, 1000, axis=0)\n",
        "\n",
        "model = Sequential()\n",
        "model.add(Dense(30, activation='sigmoid'))\n",
        "model.add(Dense(20, activation='sigmoid'))\n",
        "model.add(Dense(10, activation='softmax'))\n",
        "\n",
        "loss = keras.losses.categorical_crossentropy\n",
        "model.compile(loss=loss,\n",
        "              optimizer='sgd',\n",
        "              metrics=['accuracy'])\n",
        "\n",
        "model.fit(x_mini, y_mini, batch_size=32, steps_per_epoch=1000, epochs=10)"
      ],
      "execution_count": 7,
      "outputs": [
        {
          "output_type": "stream",
          "text": [
            "Epoch 1/10\n",
            "1000/1000 [==============================] - 2s 2ms/step - loss: 2.1788 - accuracy: 0.1988\n",
            "Epoch 2/10\n",
            "1000/1000 [==============================] - 2s 2ms/step - loss: 1.9966 - accuracy: 0.3646\n",
            "Epoch 3/10\n",
            "1000/1000 [==============================] - 2s 2ms/step - loss: 1.6890 - accuracy: 0.4995\n",
            "Epoch 4/10\n",
            "1000/1000 [==============================] - 2s 2ms/step - loss: 1.2931 - accuracy: 0.6688\n",
            "Epoch 5/10\n",
            "1000/1000 [==============================] - 2s 2ms/step - loss: 0.9330 - accuracy: 0.8022\n",
            "Epoch 6/10\n",
            "1000/1000 [==============================] - 2s 2ms/step - loss: 0.6609 - accuracy: 0.8971\n",
            "Epoch 7/10\n",
            "1000/1000 [==============================] - 2s 2ms/step - loss: 0.4702 - accuracy: 0.9833\n",
            "Epoch 8/10\n",
            "1000/1000 [==============================] - 2s 2ms/step - loss: 0.3408 - accuracy: 1.0000\n",
            "Epoch 9/10\n",
            "1000/1000 [==============================] - 2s 2ms/step - loss: 0.2521 - accuracy: 1.0000\n",
            "Epoch 10/10\n",
            "1000/1000 [==============================] - 2s 2ms/step - loss: 0.1903 - accuracy: 1.0000\n"
          ],
          "name": "stdout"
        },
        {
          "output_type": "execute_result",
          "data": {
            "text/plain": [
              "<tensorflow.python.keras.callbacks.History at 0x7feec0047748>"
            ]
          },
          "metadata": {
            "tags": []
          },
          "execution_count": 7
        }
      ]
    },
    {
      "cell_type": "markdown",
      "metadata": {
        "id": "mYbfK_V7g4Xk"
      },
      "source": [
        "As we can see our model is able to reach 100% accuracy on the samll sample. This means that the model has at least some capacity to estimate the classifier function. We will now explore some models where the capacity is clearly insufficient. For example, leaving out the nonlienearity decreases any fully connected neural network to a linear classifier with the number of weights equal to the size of the smallest layer."
      ]
    },
    {
      "cell_type": "code",
      "metadata": {
        "id": "W1RB9ec5hY2s",
        "outputId": "1026538f-edca-4574-84c7-a0993e938e11",
        "colab": {
          "base_uri": "https://localhost:8080/",
          "height": 374
        }
      },
      "source": [
        "model = Sequential()\n",
        "model.add(Dense(30))\n",
        "model.add(Dense(20))\n",
        "model.add(Dense(10))\n",
        "\n",
        "loss = keras.losses.categorical_crossentropy\n",
        "model.compile(loss=loss,\n",
        "              optimizer='sgd',\n",
        "              metrics=['accuracy'])\n",
        "\n",
        "model.fit(x_mini, y_mini, steps_per_epoch=1000, epochs=10)"
      ],
      "execution_count": 8,
      "outputs": [
        {
          "output_type": "stream",
          "text": [
            "Epoch 1/10\n",
            "1000/1000 [==============================] - 2s 2ms/step - loss: 8.9387 - accuracy: 0.2181\n",
            "Epoch 2/10\n",
            "1000/1000 [==============================] - 2s 2ms/step - loss: 9.0664 - accuracy: 0.2188\n",
            "Epoch 3/10\n",
            "1000/1000 [==============================] - 2s 2ms/step - loss: 9.0664 - accuracy: 0.2188\n",
            "Epoch 4/10\n",
            "1000/1000 [==============================] - 2s 2ms/step - loss: 9.0664 - accuracy: 0.2188\n",
            "Epoch 5/10\n",
            "1000/1000 [==============================] - 2s 2ms/step - loss: 9.0664 - accuracy: 0.2188\n",
            "Epoch 6/10\n",
            "1000/1000 [==============================] - 2s 2ms/step - loss: 9.0664 - accuracy: 0.2188\n",
            "Epoch 7/10\n",
            "1000/1000 [==============================] - 2s 2ms/step - loss: 9.0664 - accuracy: 0.2188\n",
            "Epoch 8/10\n",
            "1000/1000 [==============================] - 2s 2ms/step - loss: 9.0664 - accuracy: 0.2188\n",
            "Epoch 9/10\n",
            "1000/1000 [==============================] - 2s 2ms/step - loss: 9.0664 - accuracy: 0.2188\n",
            "Epoch 10/10\n",
            "1000/1000 [==============================] - 2s 2ms/step - loss: 9.0664 - accuracy: 0.2188\n"
          ],
          "name": "stdout"
        },
        {
          "output_type": "execute_result",
          "data": {
            "text/plain": [
              "<tensorflow.python.keras.callbacks.History at 0x7feec00471d0>"
            ]
          },
          "metadata": {
            "tags": []
          },
          "execution_count": 8
        }
      ]
    },
    {
      "cell_type": "markdown",
      "metadata": {
        "id": "Mgeqb7qempvY"
      },
      "source": [
        "Also a model that is too small will not work."
      ]
    },
    {
      "cell_type": "code",
      "metadata": {
        "id": "EzbAFTjyk2MT",
        "outputId": "906d3c54-6a02-4b41-ca99-e1c4f3580616",
        "colab": {
          "base_uri": "https://localhost:8080/",
          "height": 1000
        }
      },
      "source": [
        "model = Sequential()\n",
        "model.add(Dense(2, activation='sigmoid'))\n",
        "model.add(Dense(10, activation='softmax'))\n",
        "\n",
        "loss = keras.losses.categorical_crossentropy\n",
        "model.compile(loss=loss,\n",
        "              optimizer='sgd',\n",
        "              metrics=['accuracy'])\n",
        "\n",
        "model.fit(x_mini, y_mini, steps_per_epoch=1000, epochs=100)"
      ],
      "execution_count": 9,
      "outputs": [
        {
          "output_type": "stream",
          "text": [
            "Epoch 1/100\n",
            "1000/1000 [==============================] - 2s 2ms/step - loss: 2.0413 - accuracy: 0.2610\n",
            "Epoch 2/100\n",
            "1000/1000 [==============================] - 2s 2ms/step - loss: 1.7949 - accuracy: 0.3550\n",
            "Epoch 3/100\n",
            "1000/1000 [==============================] - 2s 2ms/step - loss: 1.6334 - accuracy: 0.4683\n",
            "Epoch 4/100\n",
            "1000/1000 [==============================] - 2s 2ms/step - loss: 1.4981 - accuracy: 0.5248\n",
            "Epoch 5/100\n",
            "1000/1000 [==============================] - 2s 2ms/step - loss: 1.3850 - accuracy: 0.5850\n",
            "Epoch 6/100\n",
            "1000/1000 [==============================] - 2s 2ms/step - loss: 1.2993 - accuracy: 0.5938\n",
            "Epoch 7/100\n",
            "1000/1000 [==============================] - 2s 2ms/step - loss: 1.2338 - accuracy: 0.5938\n",
            "Epoch 8/100\n",
            "1000/1000 [==============================] - 2s 2ms/step - loss: 1.1828 - accuracy: 0.5938\n",
            "Epoch 9/100\n",
            "1000/1000 [==============================] - 2s 2ms/step - loss: 1.1420 - accuracy: 0.5938\n",
            "Epoch 10/100\n",
            "1000/1000 [==============================] - 2s 2ms/step - loss: 1.1088 - accuracy: 0.5938\n",
            "Epoch 11/100\n",
            "1000/1000 [==============================] - 2s 2ms/step - loss: 1.0811 - accuracy: 0.5938\n",
            "Epoch 12/100\n",
            "1000/1000 [==============================] - 2s 2ms/step - loss: 1.0576 - accuracy: 0.5938\n",
            "Epoch 13/100\n",
            "1000/1000 [==============================] - 2s 2ms/step - loss: 1.0375 - accuracy: 0.5938\n",
            "Epoch 14/100\n",
            "1000/1000 [==============================] - 2s 2ms/step - loss: 1.0199 - accuracy: 0.5938\n",
            "Epoch 15/100\n",
            "1000/1000 [==============================] - 2s 2ms/step - loss: 1.0043 - accuracy: 0.5938\n",
            "Epoch 16/100\n",
            "1000/1000 [==============================] - 2s 2ms/step - loss: 0.9905 - accuracy: 0.5938\n",
            "Epoch 17/100\n",
            "1000/1000 [==============================] - 2s 2ms/step - loss: 0.9780 - accuracy: 0.5938\n",
            "Epoch 18/100\n",
            "1000/1000 [==============================] - 2s 2ms/step - loss: 0.9666 - accuracy: 0.5938\n",
            "Epoch 19/100\n",
            "1000/1000 [==============================] - 2s 2ms/step - loss: 0.9563 - accuracy: 0.5938\n",
            "Epoch 20/100\n",
            "1000/1000 [==============================] - 2s 2ms/step - loss: 0.9466 - accuracy: 0.5938\n",
            "Epoch 21/100\n",
            "1000/1000 [==============================] - 2s 2ms/step - loss: 0.9376 - accuracy: 0.5938\n",
            "Epoch 22/100\n",
            "1000/1000 [==============================] - 2s 2ms/step - loss: 0.9292 - accuracy: 0.5938\n",
            "Epoch 23/100\n",
            "1000/1000 [==============================] - 2s 2ms/step - loss: 0.9212 - accuracy: 0.5938\n",
            "Epoch 24/100\n",
            "1000/1000 [==============================] - 2s 2ms/step - loss: 0.9137 - accuracy: 0.5938\n",
            "Epoch 25/100\n",
            "1000/1000 [==============================] - 2s 2ms/step - loss: 0.9065 - accuracy: 0.5938\n",
            "Epoch 26/100\n",
            "1000/1000 [==============================] - 2s 2ms/step - loss: 0.8996 - accuracy: 0.5938\n",
            "Epoch 27/100\n",
            "1000/1000 [==============================] - 2s 2ms/step - loss: 0.8930 - accuracy: 0.5960\n",
            "Epoch 28/100\n",
            "1000/1000 [==============================] - 2s 2ms/step - loss: 0.8866 - accuracy: 0.5938\n",
            "Epoch 29/100\n",
            "1000/1000 [==============================] - 2s 2ms/step - loss: 0.8805 - accuracy: 0.6171\n",
            "Epoch 30/100\n",
            "1000/1000 [==============================] - 2s 2ms/step - loss: 0.8745 - accuracy: 0.6145\n",
            "Epoch 31/100\n",
            "1000/1000 [==============================] - 2s 2ms/step - loss: 0.8687 - accuracy: 0.6249\n",
            "Epoch 32/100\n",
            "1000/1000 [==============================] - 2s 2ms/step - loss: 0.8629 - accuracy: 0.6250\n",
            "Epoch 33/100\n",
            "1000/1000 [==============================] - 2s 2ms/step - loss: 0.8573 - accuracy: 0.6406\n",
            "Epoch 34/100\n",
            "1000/1000 [==============================] - 2s 2ms/step - loss: 0.8516 - accuracy: 0.6562\n",
            "Epoch 35/100\n",
            "1000/1000 [==============================] - 2s 2ms/step - loss: 0.8460 - accuracy: 0.6562\n",
            "Epoch 36/100\n",
            "1000/1000 [==============================] - 2s 2ms/step - loss: 0.8405 - accuracy: 0.6705\n",
            "Epoch 37/100\n",
            "1000/1000 [==============================] - 2s 2ms/step - loss: 0.8352 - accuracy: 0.6875\n",
            "Epoch 38/100\n",
            "1000/1000 [==============================] - 2s 2ms/step - loss: 0.8299 - accuracy: 0.6875\n",
            "Epoch 39/100\n",
            "1000/1000 [==============================] - 2s 2ms/step - loss: 0.8247 - accuracy: 0.6875\n",
            "Epoch 40/100\n",
            "1000/1000 [==============================] - 2s 2ms/step - loss: 0.8196 - accuracy: 0.6875\n",
            "Epoch 41/100\n",
            "1000/1000 [==============================] - 2s 2ms/step - loss: 0.8145 - accuracy: 0.6992\n",
            "Epoch 42/100\n",
            "1000/1000 [==============================] - 2s 2ms/step - loss: 0.8095 - accuracy: 0.7488\n",
            "Epoch 43/100\n",
            "1000/1000 [==============================] - 2s 2ms/step - loss: 0.8045 - accuracy: 0.7500\n",
            "Epoch 44/100\n",
            "1000/1000 [==============================] - 2s 2ms/step - loss: 0.7996 - accuracy: 0.7500\n",
            "Epoch 45/100\n",
            "1000/1000 [==============================] - 2s 2ms/step - loss: 0.7948 - accuracy: 0.7500\n",
            "Epoch 46/100\n",
            "1000/1000 [==============================] - 2s 2ms/step - loss: 0.7901 - accuracy: 0.7500\n",
            "Epoch 47/100\n",
            "1000/1000 [==============================] - 2s 2ms/step - loss: 0.7854 - accuracy: 0.7500\n",
            "Epoch 48/100\n",
            "1000/1000 [==============================] - 2s 2ms/step - loss: 0.7808 - accuracy: 0.7500\n",
            "Epoch 49/100\n",
            "1000/1000 [==============================] - 2s 2ms/step - loss: 0.7763 - accuracy: 0.7500\n",
            "Epoch 50/100\n",
            "1000/1000 [==============================] - 2s 2ms/step - loss: 0.7718 - accuracy: 0.7730\n",
            "Epoch 51/100\n",
            "1000/1000 [==============================] - 2s 2ms/step - loss: 0.7675 - accuracy: 0.7812\n",
            "Epoch 52/100\n",
            "1000/1000 [==============================] - 2s 2ms/step - loss: 0.7632 - accuracy: 0.7812\n",
            "Epoch 53/100\n",
            "1000/1000 [==============================] - 2s 2ms/step - loss: 0.7590 - accuracy: 0.7812\n",
            "Epoch 54/100\n",
            "1000/1000 [==============================] - 2s 2ms/step - loss: 0.7549 - accuracy: 0.7825\n",
            "Epoch 55/100\n",
            "1000/1000 [==============================] - 2s 2ms/step - loss: 0.7509 - accuracy: 0.8123\n",
            "Epoch 56/100\n",
            "1000/1000 [==============================] - 2s 2ms/step - loss: 0.7470 - accuracy: 0.8115\n",
            "Epoch 57/100\n",
            "1000/1000 [==============================] - 2s 2ms/step - loss: 0.7431 - accuracy: 0.8125\n",
            "Epoch 58/100\n",
            "1000/1000 [==============================] - 2s 2ms/step - loss: 0.7393 - accuracy: 0.7893\n",
            "Epoch 59/100\n",
            "1000/1000 [==============================] - 2s 2ms/step - loss: 0.7357 - accuracy: 0.7989\n",
            "Epoch 60/100\n",
            "1000/1000 [==============================] - 2s 2ms/step - loss: 0.7320 - accuracy: 0.7812\n",
            "Epoch 61/100\n",
            "1000/1000 [==============================] - 2s 2ms/step - loss: 0.7285 - accuracy: 0.7812\n",
            "Epoch 62/100\n",
            "1000/1000 [==============================] - 2s 2ms/step - loss: 0.7251 - accuracy: 0.7812\n",
            "Epoch 63/100\n",
            "1000/1000 [==============================] - 2s 2ms/step - loss: 0.7217 - accuracy: 0.7812\n",
            "Epoch 64/100\n",
            "1000/1000 [==============================] - 2s 2ms/step - loss: 0.7184 - accuracy: 0.7812\n",
            "Epoch 65/100\n",
            "1000/1000 [==============================] - 2s 2ms/step - loss: 0.7151 - accuracy: 0.7812\n",
            "Epoch 66/100\n",
            "1000/1000 [==============================] - 2s 2ms/step - loss: 0.7120 - accuracy: 0.7812\n",
            "Epoch 67/100\n",
            "1000/1000 [==============================] - 2s 2ms/step - loss: 0.7088 - accuracy: 0.7812\n",
            "Epoch 68/100\n",
            "1000/1000 [==============================] - 2s 2ms/step - loss: 0.7058 - accuracy: 0.7812\n",
            "Epoch 69/100\n",
            "1000/1000 [==============================] - 2s 2ms/step - loss: 0.7027 - accuracy: 0.7812\n",
            "Epoch 70/100\n",
            "1000/1000 [==============================] - 2s 2ms/step - loss: 0.6998 - accuracy: 0.7812\n",
            "Epoch 71/100\n",
            "1000/1000 [==============================] - 2s 2ms/step - loss: 0.6968 - accuracy: 0.7812\n",
            "Epoch 72/100\n",
            "1000/1000 [==============================] - 2s 2ms/step - loss: 0.6939 - accuracy: 0.7812\n",
            "Epoch 73/100\n",
            "1000/1000 [==============================] - 2s 2ms/step - loss: 0.6910 - accuracy: 0.7812\n",
            "Epoch 74/100\n",
            "1000/1000 [==============================] - 2s 2ms/step - loss: 0.6881 - accuracy: 0.7812\n",
            "Epoch 75/100\n",
            "1000/1000 [==============================] - 2s 2ms/step - loss: 0.6851 - accuracy: 0.7812\n",
            "Epoch 76/100\n",
            "1000/1000 [==============================] - 2s 2ms/step - loss: 0.6822 - accuracy: 0.7812\n",
            "Epoch 77/100\n",
            "1000/1000 [==============================] - 2s 2ms/step - loss: 0.6791 - accuracy: 0.7812\n",
            "Epoch 78/100\n",
            "1000/1000 [==============================] - 2s 2ms/step - loss: 0.6756 - accuracy: 0.8094\n",
            "Epoch 79/100\n",
            "1000/1000 [==============================] - 2s 2ms/step - loss: 0.6711 - accuracy: 0.8125\n",
            "Epoch 80/100\n",
            "1000/1000 [==============================] - 2s 2ms/step - loss: 0.6668 - accuracy: 0.8125\n",
            "Epoch 81/100\n",
            "1000/1000 [==============================] - 2s 2ms/step - loss: 0.6633 - accuracy: 0.8125\n",
            "Epoch 82/100\n",
            "1000/1000 [==============================] - 2s 2ms/step - loss: 0.6600 - accuracy: 0.8125\n",
            "Epoch 83/100\n",
            "1000/1000 [==============================] - 2s 2ms/step - loss: 0.6568 - accuracy: 0.8125\n",
            "Epoch 84/100\n",
            "1000/1000 [==============================] - 2s 2ms/step - loss: 0.6535 - accuracy: 0.8125\n",
            "Epoch 85/100\n",
            "1000/1000 [==============================] - 2s 2ms/step - loss: 0.6503 - accuracy: 0.8125\n",
            "Epoch 86/100\n",
            "1000/1000 [==============================] - 2s 2ms/step - loss: 0.6470 - accuracy: 0.8125\n",
            "Epoch 87/100\n",
            "1000/1000 [==============================] - 2s 2ms/step - loss: 0.6438 - accuracy: 0.8125\n",
            "Epoch 88/100\n",
            "1000/1000 [==============================] - 3s 3ms/step - loss: 0.6406 - accuracy: 0.8125\n",
            "Epoch 89/100\n",
            "1000/1000 [==============================] - 3s 3ms/step - loss: 0.6375 - accuracy: 0.8125\n",
            "Epoch 90/100\n",
            "1000/1000 [==============================] - 3s 3ms/step - loss: 0.6344 - accuracy: 0.8125\n",
            "Epoch 91/100\n",
            "1000/1000 [==============================] - 2s 2ms/step - loss: 0.6312 - accuracy: 0.8125\n",
            "Epoch 92/100\n",
            "1000/1000 [==============================] - 2s 2ms/step - loss: 0.6282 - accuracy: 0.8125\n",
            "Epoch 93/100\n",
            "1000/1000 [==============================] - 2s 2ms/step - loss: 0.6252 - accuracy: 0.8125\n",
            "Epoch 94/100\n",
            "1000/1000 [==============================] - 2s 2ms/step - loss: 0.6222 - accuracy: 0.8125\n",
            "Epoch 95/100\n",
            "1000/1000 [==============================] - 2s 2ms/step - loss: 0.6192 - accuracy: 0.8125\n",
            "Epoch 96/100\n",
            "1000/1000 [==============================] - 2s 2ms/step - loss: 0.6162 - accuracy: 0.8125\n",
            "Epoch 97/100\n",
            "1000/1000 [==============================] - 2s 2ms/step - loss: 0.6133 - accuracy: 0.8125\n",
            "Epoch 98/100\n",
            "1000/1000 [==============================] - 2s 2ms/step - loss: 0.6103 - accuracy: 0.8125\n",
            "Epoch 99/100\n",
            "1000/1000 [==============================] - 2s 2ms/step - loss: 0.6073 - accuracy: 0.8125\n",
            "Epoch 100/100\n",
            "1000/1000 [==============================] - 2s 2ms/step - loss: 0.6044 - accuracy: 0.8125\n"
          ],
          "name": "stdout"
        },
        {
          "output_type": "execute_result",
          "data": {
            "text/plain": [
              "<tensorflow.python.keras.callbacks.History at 0x7fee5c707780>"
            ]
          },
          "metadata": {
            "tags": []
          },
          "execution_count": 9
        }
      ]
    },
    {
      "cell_type": "markdown",
      "metadata": {
        "id": "BVberJIGhLjU"
      },
      "source": [
        "We can also make the training process not work by setting the optimization step too large."
      ]
    },
    {
      "cell_type": "code",
      "metadata": {
        "id": "qRAb04O7hTT8",
        "outputId": "33ffcbc5-eff4-46b0-bed5-0b8d31131f28",
        "colab": {
          "base_uri": "https://localhost:8080/",
          "height": 714
        }
      },
      "source": [
        "\n",
        "model = Sequential()\n",
        "model.add(Dense(20, activation='sigmoid'))\n",
        "model.add(Dense(10, activation='softmax'))\n",
        "\n",
        "loss = keras.losses.categorical_crossentropy\n",
        "sgd = keras.optimizers.SGD(lr = 100.0) # toto sme označili minule ako eta - defaultne je 0.01\n",
        "model.compile(loss=loss,\n",
        "              optimizer=sgd,\n",
        "              metrics=['accuracy'])\n",
        "\n",
        "model.fit(x_mini, y_mini, steps_per_epoch=1000, epochs=20)\n"
      ],
      "execution_count": 10,
      "outputs": [
        {
          "output_type": "stream",
          "text": [
            "Epoch 1/20\n",
            "1000/1000 [==============================] - 2s 2ms/step - loss: 86.3922 - accuracy: 0.1957\n",
            "Epoch 2/20\n",
            "1000/1000 [==============================] - 2s 2ms/step - loss: 147.1085 - accuracy: 0.1918\n",
            "Epoch 3/20\n",
            "1000/1000 [==============================] - 2s 2ms/step - loss: 148.4939 - accuracy: 0.1961\n",
            "Epoch 4/20\n",
            "1000/1000 [==============================] - 2s 2ms/step - loss: 148.4945 - accuracy: 0.1963\n",
            "Epoch 5/20\n",
            "1000/1000 [==============================] - 2s 2ms/step - loss: 150.6409 - accuracy: 0.1934\n",
            "Epoch 6/20\n",
            "1000/1000 [==============================] - 2s 2ms/step - loss: 163.8935 - accuracy: 0.2434\n",
            "Epoch 7/20\n",
            "1000/1000 [==============================] - 2s 2ms/step - loss: 160.7374 - accuracy: 0.2539\n",
            "Epoch 8/20\n",
            "1000/1000 [==============================] - 2s 2ms/step - loss: 162.3802 - accuracy: 0.2504\n",
            "Epoch 9/20\n",
            "1000/1000 [==============================] - 2s 2ms/step - loss: 161.1342 - accuracy: 0.2526\n",
            "Epoch 10/20\n",
            "1000/1000 [==============================] - 2s 2ms/step - loss: 161.9120 - accuracy: 0.2525\n",
            "Epoch 11/20\n",
            "1000/1000 [==============================] - 2s 2ms/step - loss: 162.4348 - accuracy: 0.2519\n",
            "Epoch 12/20\n",
            "1000/1000 [==============================] - 2s 2ms/step - loss: 161.5004 - accuracy: 0.2524\n",
            "Epoch 13/20\n",
            "1000/1000 [==============================] - 2s 2ms/step - loss: 162.4774 - accuracy: 0.2506\n",
            "Epoch 14/20\n",
            "1000/1000 [==============================] - 2s 2ms/step - loss: 159.4159 - accuracy: 0.2563\n",
            "Epoch 15/20\n",
            "1000/1000 [==============================] - 2s 2ms/step - loss: 162.0520 - accuracy: 0.2517\n",
            "Epoch 16/20\n",
            "1000/1000 [==============================] - 2s 2ms/step - loss: 161.7748 - accuracy: 0.2528\n",
            "Epoch 17/20\n",
            "1000/1000 [==============================] - 2s 2ms/step - loss: 161.9901 - accuracy: 0.2517\n",
            "Epoch 18/20\n",
            "1000/1000 [==============================] - 2s 2ms/step - loss: 160.2921 - accuracy: 0.2541\n",
            "Epoch 19/20\n",
            "1000/1000 [==============================] - 2s 2ms/step - loss: 161.1964 - accuracy: 0.2537\n",
            "Epoch 20/20\n",
            "1000/1000 [==============================] - 2s 2ms/step - loss: 160.7886 - accuracy: 0.2542\n"
          ],
          "name": "stdout"
        },
        {
          "output_type": "execute_result",
          "data": {
            "text/plain": [
              "<tensorflow.python.keras.callbacks.History at 0x7fee5be51da0>"
            ]
          },
          "metadata": {
            "tags": []
          },
          "execution_count": 10
        }
      ]
    },
    {
      "cell_type": "markdown",
      "metadata": {
        "id": "Xh_NGCZjnT2x"
      },
      "source": [
        "This kind of testing is not conclusive since we can only rule out the most basic limitations of the network and the training process. This can be demonstrated by using completely random training data. The network can achieve 100% accuracy on this data even if it would make no sense with larger data size."
      ]
    },
    {
      "cell_type": "code",
      "metadata": {
        "id": "YabwlzZ2nYAu",
        "outputId": "83aa5f30-ec77-425f-bfc1-5296b87e7ee5",
        "colab": {
          "base_uri": "https://localhost:8080/",
          "height": 374
        }
      },
      "source": [
        "x_mini = np.random.rand(32,784)\n",
        "y_mini = y[:32]\n",
        "\n",
        "x_mini = np.repeat(x_mini, 1000, axis=0)\n",
        "y_mini = np.repeat(y_mini, 1000, axis=0)\n",
        "\n",
        "model = Sequential()\n",
        "model.add(Dense(30, activation='sigmoid'))\n",
        "model.add(Dense(20, activation='sigmoid'))\n",
        "model.add(Dense(10, activation='softmax'))\n",
        "\n",
        "loss = keras.losses.categorical_crossentropy\n",
        "model.compile(loss=loss,\n",
        "              optimizer='sgd',\n",
        "              metrics=['accuracy'])\n",
        "\n",
        "model.fit(x_mini, y_mini, steps_per_epoch=1000, epochs=10)"
      ],
      "execution_count": 11,
      "outputs": [
        {
          "output_type": "stream",
          "text": [
            "Epoch 1/10\n",
            "1000/1000 [==============================] - 2s 2ms/step - loss: 2.1912 - accuracy: 0.1901\n",
            "Epoch 2/10\n",
            "1000/1000 [==============================] - 2s 2ms/step - loss: 2.0331 - accuracy: 0.3108\n",
            "Epoch 3/10\n",
            "1000/1000 [==============================] - 2s 2ms/step - loss: 1.7228 - accuracy: 0.5728\n",
            "Epoch 4/10\n",
            "1000/1000 [==============================] - 2s 2ms/step - loss: 1.2755 - accuracy: 0.7082\n",
            "Epoch 5/10\n",
            "1000/1000 [==============================] - 2s 2ms/step - loss: 0.8917 - accuracy: 0.8408\n",
            "Epoch 6/10\n",
            "1000/1000 [==============================] - 2s 2ms/step - loss: 0.6195 - accuracy: 1.0000\n",
            "Epoch 7/10\n",
            "1000/1000 [==============================] - 2s 2ms/step - loss: 0.4299 - accuracy: 1.0000\n",
            "Epoch 8/10\n",
            "1000/1000 [==============================] - 2s 2ms/step - loss: 0.3009 - accuracy: 1.0000\n",
            "Epoch 9/10\n",
            "1000/1000 [==============================] - 2s 2ms/step - loss: 0.2166 - accuracy: 1.0000\n",
            "Epoch 10/10\n",
            "1000/1000 [==============================] - 2s 2ms/step - loss: 0.1622 - accuracy: 1.0000\n"
          ],
          "name": "stdout"
        },
        {
          "output_type": "execute_result",
          "data": {
            "text/plain": [
              "<tensorflow.python.keras.callbacks.History at 0x7fee5b58b668>"
            ]
          },
          "metadata": {
            "tags": []
          },
          "execution_count": 11
        }
      ]
    },
    {
      "cell_type": "markdown",
      "metadata": {
        "id": "6gyMtvn-sQq4"
      },
      "source": [
        "## train/val/test\n",
        "\n",
        "In order to work with the model capacity any further we will need to define the so-called split of our training data. This kind of data splitting is necessary for us to ensure that we can actually verify whether the model can obtain good results on any data that were not used for training.\n",
        "\n",
        "Data which were never used during training are called the test set. This data is only used to check the final model of our training process.\n",
        "\n",
        "We are therefore left the the training data. The problem is that we are actually performing two different levels of optimization. One optimization level (for example SGD) selects the parameters of the networ. The second optimization is usually performed by the user by selecting the optimization algorithm for the previous level of optimization as well as selecting the parameters for the optimization process. We can also include the selection of the model architecture, parameter initialization, minibatch size etc. in this level of optimization.  These things are collectively called the hyperparameters of the model.\n",
        "\n",
        "In order to select the hyperparameters in a meaningful way we first train the network on the so-called training set. and then we evaluate the resulting model on a so-called validation set. These results then allow us to perform optimization in the hyperparameter space and thus compare the various approaches to training the model.\n",
        "\n",
        "The reason why make a distinction between the validation and the test set is because we could also accidentaly select such hyperparameters which work really well for the validation set, but not so well for the general data.\n",
        "\n",
        "Typically we split the data in ratios 80/10/10 or 60/20/20. However this kind of split is very task-dependent. We will now split the MNIST data accordingly."
      ]
    },
    {
      "cell_type": "code",
      "metadata": {
        "id": "EP9BroCkzb9_"
      },
      "source": [
        "x_train = x[:50000]\n",
        "y_train = y[:50000]\n",
        "x_val = x[50000:]\n",
        "y_val = y[50000:]"
      ],
      "execution_count": 12,
      "outputs": []
    },
    {
      "cell_type": "markdown",
      "metadata": {
        "id": "XUbiSu3-zq4H"
      },
      "source": [
        "Let us try an artitifically small training set to see another benefit of the validation data."
      ]
    },
    {
      "cell_type": "code",
      "metadata": {
        "id": "_nyCkyF6z2CX",
        "outputId": "37182821-d650-4c23-8e0c-1b58e8bf9f33",
        "colab": {
          "base_uri": "https://localhost:8080/",
          "height": 1000
        }
      },
      "source": [
        "model1 = Sequential()\n",
        "model1.add(Dense(20, activation='sigmoid'))\n",
        "model1.add(Dense(10, activation='softmax'))\n",
        "\n",
        "loss = keras.losses.categorical_crossentropy\n",
        "model1.compile(loss=loss,\n",
        "              optimizer='sgd',\n",
        "              metrics=['accuracy'])\n",
        "\n",
        "history1 = model1.fit(np.repeat(x_train[:32], 1000, axis=0), np.repeat(y_train[:32], 1000, axis=0), validation_data = (x_val, y_val), steps_per_epoch = 1000, validation_steps = 100, batch_size=32, epochs=30)"
      ],
      "execution_count": 13,
      "outputs": [
        {
          "output_type": "stream",
          "text": [
            "Epoch 1/30\n",
            "1000/1000 [==============================] - 3s 3ms/step - loss: 1.6034 - accuracy: 0.5737 - val_loss: 1.8922 - val_accuracy: 0.3688\n",
            "Epoch 2/30\n",
            "1000/1000 [==============================] - 3s 3ms/step - loss: 0.7644 - accuracy: 0.9402 - val_loss: 1.6539 - val_accuracy: 0.4688\n",
            "Epoch 3/30\n",
            "1000/1000 [==============================] - 3s 3ms/step - loss: 0.3937 - accuracy: 1.0000 - val_loss: 1.5669 - val_accuracy: 0.4963\n",
            "Epoch 4/30\n",
            "1000/1000 [==============================] - 3s 3ms/step - loss: 0.2295 - accuracy: 1.0000 - val_loss: 1.5460 - val_accuracy: 0.5088\n",
            "Epoch 5/30\n",
            "1000/1000 [==============================] - 3s 3ms/step - loss: 0.1503 - accuracy: 1.0000 - val_loss: 1.5456 - val_accuracy: 0.5103\n",
            "Epoch 6/30\n",
            "1000/1000 [==============================] - 2s 2ms/step - loss: 0.1078 - accuracy: 1.0000 - val_loss: 1.5539 - val_accuracy: 0.5116\n",
            "Epoch 7/30\n",
            "1000/1000 [==============================] - 2s 2ms/step - loss: 0.0825 - accuracy: 1.0000 - val_loss: 1.5651 - val_accuracy: 0.5131\n",
            "Epoch 8/30\n",
            "1000/1000 [==============================] - 2s 2ms/step - loss: 0.0661 - accuracy: 1.0000 - val_loss: 1.5761 - val_accuracy: 0.5166\n",
            "Epoch 9/30\n",
            "1000/1000 [==============================] - 2s 2ms/step - loss: 0.0548 - accuracy: 1.0000 - val_loss: 1.5868 - val_accuracy: 0.5156\n",
            "Epoch 10/30\n",
            "1000/1000 [==============================] - 2s 2ms/step - loss: 0.0466 - accuracy: 1.0000 - val_loss: 1.5980 - val_accuracy: 0.5169\n",
            "Epoch 11/30\n",
            "1000/1000 [==============================] - 2s 2ms/step - loss: 0.0404 - accuracy: 1.0000 - val_loss: 1.6090 - val_accuracy: 0.5188\n",
            "Epoch 12/30\n",
            "1000/1000 [==============================] - 2s 2ms/step - loss: 0.0356 - accuracy: 1.0000 - val_loss: 1.6189 - val_accuracy: 0.5188\n",
            "Epoch 13/30\n",
            "1000/1000 [==============================] - 2s 2ms/step - loss: 0.0318 - accuracy: 1.0000 - val_loss: 1.6283 - val_accuracy: 0.5191\n",
            "Epoch 14/30\n",
            "1000/1000 [==============================] - 2s 2ms/step - loss: 0.0287 - accuracy: 1.0000 - val_loss: 1.6379 - val_accuracy: 0.5184\n",
            "Epoch 15/30\n",
            "1000/1000 [==============================] - 2s 2ms/step - loss: 0.0261 - accuracy: 1.0000 - val_loss: 1.6465 - val_accuracy: 0.5188\n",
            "Epoch 16/30\n",
            "1000/1000 [==============================] - 3s 3ms/step - loss: 0.0239 - accuracy: 1.0000 - val_loss: 1.6546 - val_accuracy: 0.5181\n",
            "Epoch 17/30\n",
            "1000/1000 [==============================] - 3s 3ms/step - loss: 0.0220 - accuracy: 1.0000 - val_loss: 1.6625 - val_accuracy: 0.5181\n",
            "Epoch 18/30\n",
            "1000/1000 [==============================] - 2s 2ms/step - loss: 0.0204 - accuracy: 1.0000 - val_loss: 1.6701 - val_accuracy: 0.5184\n",
            "Epoch 19/30\n",
            "1000/1000 [==============================] - 3s 3ms/step - loss: 0.0190 - accuracy: 1.0000 - val_loss: 1.6774 - val_accuracy: 0.5188\n",
            "Epoch 20/30\n",
            "1000/1000 [==============================] - 2s 2ms/step - loss: 0.0178 - accuracy: 1.0000 - val_loss: 1.6844 - val_accuracy: 0.5197\n",
            "Epoch 21/30\n",
            "1000/1000 [==============================] - 3s 3ms/step - loss: 0.0167 - accuracy: 1.0000 - val_loss: 1.6911 - val_accuracy: 0.5200\n",
            "Epoch 22/30\n",
            "1000/1000 [==============================] - 2s 2ms/step - loss: 0.0158 - accuracy: 1.0000 - val_loss: 1.6975 - val_accuracy: 0.5203\n",
            "Epoch 23/30\n",
            "1000/1000 [==============================] - 2s 2ms/step - loss: 0.0149 - accuracy: 1.0000 - val_loss: 1.7035 - val_accuracy: 0.5203\n",
            "Epoch 24/30\n",
            "1000/1000 [==============================] - 2s 2ms/step - loss: 0.0141 - accuracy: 1.0000 - val_loss: 1.7095 - val_accuracy: 0.5197\n",
            "Epoch 25/30\n",
            "1000/1000 [==============================] - 2s 2ms/step - loss: 0.0134 - accuracy: 1.0000 - val_loss: 1.7152 - val_accuracy: 0.5200\n",
            "Epoch 26/30\n",
            "1000/1000 [==============================] - 2s 2ms/step - loss: 0.0128 - accuracy: 1.0000 - val_loss: 1.7206 - val_accuracy: 0.5197\n",
            "Epoch 27/30\n",
            "1000/1000 [==============================] - 2s 2ms/step - loss: 0.0122 - accuracy: 1.0000 - val_loss: 1.7260 - val_accuracy: 0.5209\n",
            "Epoch 28/30\n",
            "1000/1000 [==============================] - 2s 2ms/step - loss: 0.0117 - accuracy: 1.0000 - val_loss: 1.7311 - val_accuracy: 0.5209\n",
            "Epoch 29/30\n",
            "1000/1000 [==============================] - 2s 2ms/step - loss: 0.0112 - accuracy: 1.0000 - val_loss: 1.7362 - val_accuracy: 0.5209\n",
            "Epoch 30/30\n",
            "1000/1000 [==============================] - 2s 2ms/step - loss: 0.0108 - accuracy: 1.0000 - val_loss: 1.7410 - val_accuracy: 0.5209\n"
          ],
          "name": "stdout"
        }
      ]
    },
    {
      "cell_type": "code",
      "metadata": {
        "id": "RsxydmJQd1zx",
        "outputId": "51fe7799-e89f-4511-9564-439c4e42c63e",
        "colab": {
          "base_uri": "https://localhost:8080/",
          "height": 530
        }
      },
      "source": [
        "print(history1.history.keys())\n",
        "plt.plot(np.arange(30), history1.history['val_loss'])\n",
        "plt.plot(np.arange(30), history1.history['loss'])\n",
        "plt.show()\n",
        "plt.plot(np.arange(30), history1.history['val_accuracy'])\n",
        "plt.plot(np.arange(30), history1.history['accuracy'])\n",
        "plt.show()"
      ],
      "execution_count": 14,
      "outputs": [
        {
          "output_type": "stream",
          "text": [
            "dict_keys(['loss', 'accuracy', 'val_loss', 'val_accuracy'])\n"
          ],
          "name": "stdout"
        },
        {
          "output_type": "display_data",
          "data": {
            "image/png": "[encoded data removed]",
            "text/plain": [
              "<Figure size 432x288 with 1 Axes>"
            ]
          },
          "metadata": {
            "tags": [],
            "needs_background": "light"
          }
        },
        {
          "output_type": "display_data",
          "data": {
            "image/png": "[encoded data removed]",
            "text/plain": [
              "<Figure size 432x288 with 1 Axes>"
            ]
          },
          "metadata": {
            "tags": [],
            "needs_background": "light"
          }
        }
      ]
    },
    {
      "cell_type": "code",
      "metadata": {
        "id": "CGkwJ47A0kN9",
        "outputId": "ed3933e1-0010-4649-d09e-4cd53a8e5ebe",
        "colab": {
          "base_uri": "https://localhost:8080/",
          "height": 1000
        }
      },
      "source": [
        "model2 = Sequential()\n",
        "model2.add(Dense(30, activation='sigmoid'))\n",
        "model2.add(Dense(20, activation='sigmoid'))\n",
        "model2.add(Dense(10, activation='softmax'))\n",
        "\n",
        "loss = keras.losses.categorical_crossentropy\n",
        "model2.compile(loss=loss,\n",
        "              optimizer='sgd',\n",
        "              metrics=['accuracy'])\n",
        "\n",
        "history2 = model2.fit(x_train, y_train, validation_data = (x_val, y_val), batch_size=32, epochs=50)"
      ],
      "execution_count": 15,
      "outputs": [
        {
          "output_type": "stream",
          "text": [
            "Epoch 1/50\n",
            "1563/1563 [==============================] - 5s 3ms/step - loss: 2.2732 - accuracy: 0.1908 - val_loss: 2.2199 - val_accuracy: 0.3935\n",
            "Epoch 2/50\n",
            "1563/1563 [==============================] - 5s 3ms/step - loss: 2.1376 - accuracy: 0.4218 - val_loss: 2.0168 - val_accuracy: 0.5128\n",
            "Epoch 3/50\n",
            "1563/1563 [==============================] - 5s 3ms/step - loss: 1.8463 - accuracy: 0.5390 - val_loss: 1.6391 - val_accuracy: 0.5971\n",
            "Epoch 4/50\n",
            "1563/1563 [==============================] - 5s 3ms/step - loss: 1.4739 - accuracy: 0.6261 - val_loss: 1.2897 - val_accuracy: 0.6900\n",
            "Epoch 5/50\n",
            "1563/1563 [==============================] - 5s 3ms/step - loss: 1.1933 - accuracy: 0.6891 - val_loss: 1.0629 - val_accuracy: 0.7326\n",
            "Epoch 6/50\n",
            "1563/1563 [==============================] - 5s 3ms/step - loss: 1.0151 - accuracy: 0.7298 - val_loss: 0.9165 - val_accuracy: 0.7745\n",
            "Epoch 7/50\n",
            "1563/1563 [==============================] - 5s 3ms/step - loss: 0.8914 - accuracy: 0.7662 - val_loss: 0.8048 - val_accuracy: 0.8055\n",
            "Epoch 8/50\n",
            "1563/1563 [==============================] - 5s 3ms/step - loss: 0.7930 - accuracy: 0.7963 - val_loss: 0.7140 - val_accuracy: 0.8272\n",
            "Epoch 9/50\n",
            "1563/1563 [==============================] - 5s 3ms/step - loss: 0.7103 - accuracy: 0.8205 - val_loss: 0.6369 - val_accuracy: 0.8476\n",
            "Epoch 10/50\n",
            "1563/1563 [==============================] - 5s 3ms/step - loss: 0.6405 - accuracy: 0.8410 - val_loss: 0.5740 - val_accuracy: 0.8632\n",
            "Epoch 11/50\n",
            "1563/1563 [==============================] - 5s 3ms/step - loss: 0.5828 - accuracy: 0.8557 - val_loss: 0.5227 - val_accuracy: 0.8740\n",
            "Epoch 12/50\n",
            "1563/1563 [==============================] - 5s 3ms/step - loss: 0.5359 - accuracy: 0.8661 - val_loss: 0.4815 - val_accuracy: 0.8833\n",
            "Epoch 13/50\n",
            "1563/1563 [==============================] - 5s 3ms/step - loss: 0.4981 - accuracy: 0.8747 - val_loss: 0.4489 - val_accuracy: 0.8886\n",
            "Epoch 14/50\n",
            "1563/1563 [==============================] - 5s 3ms/step - loss: 0.4678 - accuracy: 0.8806 - val_loss: 0.4229 - val_accuracy: 0.8937\n",
            "Epoch 15/50\n",
            "1563/1563 [==============================] - 5s 3ms/step - loss: 0.4428 - accuracy: 0.8856 - val_loss: 0.4014 - val_accuracy: 0.8975\n",
            "Epoch 16/50\n",
            "1563/1563 [==============================] - 5s 3ms/step - loss: 0.4221 - accuracy: 0.8898 - val_loss: 0.3839 - val_accuracy: 0.9005\n",
            "Epoch 17/50\n",
            "1563/1563 [==============================] - 5s 3ms/step - loss: 0.4045 - accuracy: 0.8935 - val_loss: 0.3690 - val_accuracy: 0.9052\n",
            "Epoch 18/50\n",
            "1563/1563 [==============================] - 5s 3ms/step - loss: 0.3896 - accuracy: 0.8965 - val_loss: 0.3552 - val_accuracy: 0.9087\n",
            "Epoch 19/50\n",
            "1563/1563 [==============================] - 5s 3ms/step - loss: 0.3763 - accuracy: 0.8993 - val_loss: 0.3441 - val_accuracy: 0.9106\n",
            "Epoch 20/50\n",
            "1563/1563 [==============================] - 5s 3ms/step - loss: 0.3648 - accuracy: 0.9021 - val_loss: 0.3341 - val_accuracy: 0.9121\n",
            "Epoch 21/50\n",
            "1563/1563 [==============================] - 5s 3ms/step - loss: 0.3545 - accuracy: 0.9047 - val_loss: 0.3255 - val_accuracy: 0.9122\n",
            "Epoch 22/50\n",
            "1563/1563 [==============================] - 5s 3ms/step - loss: 0.3453 - accuracy: 0.9062 - val_loss: 0.3176 - val_accuracy: 0.9160\n",
            "Epoch 23/50\n",
            "1563/1563 [==============================] - 5s 3ms/step - loss: 0.3368 - accuracy: 0.9082 - val_loss: 0.3100 - val_accuracy: 0.9172\n",
            "Epoch 24/50\n",
            "1563/1563 [==============================] - 5s 3ms/step - loss: 0.3290 - accuracy: 0.9100 - val_loss: 0.3032 - val_accuracy: 0.9177\n",
            "Epoch 25/50\n",
            "1563/1563 [==============================] - 5s 3ms/step - loss: 0.3219 - accuracy: 0.9115 - val_loss: 0.2972 - val_accuracy: 0.9188\n",
            "Epoch 26/50\n",
            "1563/1563 [==============================] - 5s 3ms/step - loss: 0.3153 - accuracy: 0.9133 - val_loss: 0.2913 - val_accuracy: 0.9203\n",
            "Epoch 27/50\n",
            "1563/1563 [==============================] - 5s 3ms/step - loss: 0.3090 - accuracy: 0.9150 - val_loss: 0.2875 - val_accuracy: 0.9207\n",
            "Epoch 28/50\n",
            "1563/1563 [==============================] - 6s 4ms/step - loss: 0.3032 - accuracy: 0.9167 - val_loss: 0.2811 - val_accuracy: 0.9225\n",
            "Epoch 29/50\n",
            "1563/1563 [==============================] - 5s 3ms/step - loss: 0.2977 - accuracy: 0.9181 - val_loss: 0.2762 - val_accuracy: 0.9242\n",
            "Epoch 30/50\n",
            "1563/1563 [==============================] - 5s 3ms/step - loss: 0.2926 - accuracy: 0.9186 - val_loss: 0.2723 - val_accuracy: 0.9251\n",
            "Epoch 31/50\n",
            "1563/1563 [==============================] - 5s 3ms/step - loss: 0.2875 - accuracy: 0.9198 - val_loss: 0.2679 - val_accuracy: 0.9256\n",
            "Epoch 32/50\n",
            "1563/1563 [==============================] - 5s 3ms/step - loss: 0.2827 - accuracy: 0.9215 - val_loss: 0.2640 - val_accuracy: 0.9279\n",
            "Epoch 33/50\n",
            "1563/1563 [==============================] - 5s 3ms/step - loss: 0.2782 - accuracy: 0.9226 - val_loss: 0.2593 - val_accuracy: 0.9291\n",
            "Epoch 34/50\n",
            "1563/1563 [==============================] - 5s 3ms/step - loss: 0.2737 - accuracy: 0.9237 - val_loss: 0.2566 - val_accuracy: 0.9298\n",
            "Epoch 35/50\n",
            "1563/1563 [==============================] - 5s 3ms/step - loss: 0.2695 - accuracy: 0.9248 - val_loss: 0.2523 - val_accuracy: 0.9308\n",
            "Epoch 36/50\n",
            "1563/1563 [==============================] - 5s 3ms/step - loss: 0.2653 - accuracy: 0.9260 - val_loss: 0.2487 - val_accuracy: 0.9311\n",
            "Epoch 37/50\n",
            "1563/1563 [==============================] - 5s 3ms/step - loss: 0.2614 - accuracy: 0.9269 - val_loss: 0.2454 - val_accuracy: 0.9327\n",
            "Epoch 38/50\n",
            "1563/1563 [==============================] - 5s 3ms/step - loss: 0.2575 - accuracy: 0.9282 - val_loss: 0.2422 - val_accuracy: 0.9331\n",
            "Epoch 39/50\n",
            "1563/1563 [==============================] - 5s 3ms/step - loss: 0.2537 - accuracy: 0.9288 - val_loss: 0.2389 - val_accuracy: 0.9348\n",
            "Epoch 40/50\n",
            "1563/1563 [==============================] - 5s 3ms/step - loss: 0.2500 - accuracy: 0.9300 - val_loss: 0.2364 - val_accuracy: 0.9358\n",
            "Epoch 41/50\n",
            "1563/1563 [==============================] - 5s 3ms/step - loss: 0.2465 - accuracy: 0.9306 - val_loss: 0.2330 - val_accuracy: 0.9366\n",
            "Epoch 42/50\n",
            "1563/1563 [==============================] - 5s 3ms/step - loss: 0.2430 - accuracy: 0.9316 - val_loss: 0.2301 - val_accuracy: 0.9374\n",
            "Epoch 43/50\n",
            "1563/1563 [==============================] - 5s 3ms/step - loss: 0.2397 - accuracy: 0.9327 - val_loss: 0.2273 - val_accuracy: 0.9382\n",
            "Epoch 44/50\n",
            "1563/1563 [==============================] - 5s 3ms/step - loss: 0.2363 - accuracy: 0.9334 - val_loss: 0.2249 - val_accuracy: 0.9392\n",
            "Epoch 45/50\n",
            "1563/1563 [==============================] - 5s 3ms/step - loss: 0.2332 - accuracy: 0.9345 - val_loss: 0.2223 - val_accuracy: 0.9392\n",
            "Epoch 46/50\n",
            "1563/1563 [==============================] - 5s 3ms/step - loss: 0.2300 - accuracy: 0.9351 - val_loss: 0.2194 - val_accuracy: 0.9403\n",
            "Epoch 47/50\n",
            "1563/1563 [==============================] - 5s 3ms/step - loss: 0.2271 - accuracy: 0.9359 - val_loss: 0.2176 - val_accuracy: 0.9403\n",
            "Epoch 48/50\n",
            "1563/1563 [==============================] - 5s 3ms/step - loss: 0.2241 - accuracy: 0.9369 - val_loss: 0.2152 - val_accuracy: 0.9411\n",
            "Epoch 49/50\n",
            "1563/1563 [==============================] - 5s 3ms/step - loss: 0.2212 - accuracy: 0.9372 - val_loss: 0.2126 - val_accuracy: 0.9415\n",
            "Epoch 50/50\n",
            "1563/1563 [==============================] - 5s 3ms/step - loss: 0.2184 - accuracy: 0.9385 - val_loss: 0.2101 - val_accuracy: 0.9422\n"
          ],
          "name": "stdout"
        }
      ]
    },
    {
      "cell_type": "code",
      "metadata": {
        "id": "RzbY74mhq0wH",
        "outputId": "65dcad00-e666-4e30-9a21-387f2a649e19",
        "colab": {
          "base_uri": "https://localhost:8080/",
          "height": 513
        }
      },
      "source": [
        "plt.plot(np.arange(50), history2.history['val_loss'])\n",
        "plt.plot(np.arange(50), history2.history['loss'])\n",
        "plt.show()\n",
        "plt.plot(np.arange(50), history2.history['val_accuracy'])\n",
        "plt.plot(np.arange(50), history2.history['accuracy'])\n",
        "plt.show()"
      ],
      "execution_count": 21,
      "outputs": [
        {
          "output_type": "display_data",
          "data": {
            "image/png": "[encoded data removed]",
            "text/plain": [
              "<Figure size 432x288 with 1 Axes>"
            ]
          },
          "metadata": {
            "tags": [],
            "needs_background": "light"
          }
        },
        {
          "output_type": "display_data",
          "data": {
            "image/png": "[encoded data removed]",
            "text/plain": [
              "<Figure size 432x288 with 1 Axes>"
            ]
          },
          "metadata": {
            "tags": [],
            "needs_background": "light"
          }
        }
      ]
    },
    {
      "cell_type": "markdown",
      "metadata": {
        "id": "A-zfic8f35dI"
      },
      "source": [
        "We can then test the model using the eval method."
      ]
    },
    {
      "cell_type": "code",
      "metadata": {
        "id": "2_jWIYC38l1f",
        "outputId": "3de521ef-d562-47fd-a695-5420c56ad4f5",
        "colab": {
          "base_uri": "https://localhost:8080/",
          "height": 68
        }
      },
      "source": [
        "loss, accuracy = model2.evaluate(x_test,y_test)\n",
        "print(\"Loss: {}\".format(loss))\n",
        "print(\"Accuracy: {}\".format(accuracy))"
      ],
      "execution_count": 22,
      "outputs": [
        {
          "output_type": "stream",
          "text": [
            "313/313 [==============================] - 1s 3ms/step - loss: 0.2204 - accuracy: 0.9384\n",
            "Loss: 0.2203548103570938\n",
            "Accuracy: 0.9383999705314636\n"
          ],
          "name": "stdout"
        }
      ]
    },
    {
      "cell_type": "markdown",
      "metadata": {
        "id": "ndiLL_zyCU-U"
      },
      "source": [
        "## Choosing the size of the optimization step\n",
        "\n",
        "We have already tryied visualizing the training process. We will now see how to set the training step size we should use to start the training."
      ]
    },
    {
      "cell_type": "code",
      "metadata": {
        "id": "w62iWhxNG0Zs",
        "outputId": "38131b09-b2ca-4111-8be2-5713362cc97d",
        "colab": {
          "base_uri": "https://localhost:8080/",
          "height": 1000
        }
      },
      "source": [
        "lr_list = [0.3, 0.1, 0.03, 0.01, 0.003, 0.001]\n",
        "\n",
        "\n",
        "for lr in lr_list:\n",
        "  model = Sequential()\n",
        "  model.add(Dense(30, activation='sigmoid'))\n",
        "  model.add(Dense(20, activation='sigmoid'))\n",
        "  model.add(Dense(10, activation='softmax'))\n",
        "  sgd = keras.optimizers.SGD(lr)\n",
        "  loss = keras.losses.categorical_crossentropy\n",
        "  model.compile(loss=loss,\n",
        "                optimizer=sgd,\n",
        "                metrics=['accuracy'])\n",
        "  h = model.fit(x_train, y_train, validation_data=(x_val, y_val), batch_size=32, epochs=5)\n",
        "  plt.plot(np.arange(5), h.history['val_loss'])\n",
        "  \n",
        "plt.show()"
      ],
      "execution_count": 23,
      "outputs": [
        {
          "output_type": "stream",
          "text": [
            "Epoch 1/5\n",
            "1563/1563 [==============================] - 5s 3ms/step - loss: 0.6769 - accuracy: 0.8072 - val_loss: 0.2741 - val_accuracy: 0.9222\n",
            "Epoch 2/5\n",
            "1563/1563 [==============================] - 5s 3ms/step - loss: 0.2490 - accuracy: 0.9284 - val_loss: 0.1956 - val_accuracy: 0.9452\n",
            "Epoch 3/5\n",
            "1563/1563 [==============================] - 5s 3ms/step - loss: 0.1885 - accuracy: 0.9457 - val_loss: 0.1564 - val_accuracy: 0.9573\n",
            "Epoch 4/5\n",
            "1563/1563 [==============================] - 5s 3ms/step - loss: 0.1577 - accuracy: 0.9539 - val_loss: 0.1470 - val_accuracy: 0.9565\n",
            "Epoch 5/5\n",
            "1563/1563 [==============================] - 5s 3ms/step - loss: 0.1379 - accuracy: 0.9593 - val_loss: 0.1439 - val_accuracy: 0.9567\n",
            "Epoch 1/5\n",
            "1563/1563 [==============================] - 6s 4ms/step - loss: 1.2588 - accuracy: 0.6499 - val_loss: 0.5418 - val_accuracy: 0.8643\n",
            "Epoch 2/5\n",
            "1563/1563 [==============================] - 6s 4ms/step - loss: 0.4384 - accuracy: 0.8873 - val_loss: 0.3321 - val_accuracy: 0.9076\n",
            "Epoch 3/5\n",
            "1563/1563 [==============================] - 5s 3ms/step - loss: 0.3221 - accuracy: 0.9109 - val_loss: 0.2740 - val_accuracy: 0.9235\n",
            "Epoch 4/5\n",
            "1563/1563 [==============================] - 5s 3ms/step - loss: 0.2688 - accuracy: 0.9244 - val_loss: 0.2382 - val_accuracy: 0.9326\n",
            "Epoch 5/5\n",
            "1563/1563 [==============================] - 5s 3ms/step - loss: 0.2342 - accuracy: 0.9340 - val_loss: 0.2109 - val_accuracy: 0.9415\n",
            "Epoch 1/5\n",
            "1563/1563 [==============================] - 5s 3ms/step - loss: 2.0494 - accuracy: 0.4288 - val_loss: 1.5618 - val_accuracy: 0.6610\n",
            "Epoch 2/5\n",
            "1563/1563 [==============================] - 5s 3ms/step - loss: 1.1388 - accuracy: 0.7286 - val_loss: 0.8030 - val_accuracy: 0.8347\n",
            "Epoch 3/5\n",
            "1563/1563 [==============================] - 5s 3ms/step - loss: 0.6822 - accuracy: 0.8464 - val_loss: 0.5403 - val_accuracy: 0.8769\n",
            "Epoch 4/5\n",
            "1563/1563 [==============================] - 5s 3ms/step - loss: 0.5091 - accuracy: 0.8749 - val_loss: 0.4342 - val_accuracy: 0.8913\n",
            "Epoch 5/5\n",
            "1563/1563 [==============================] - 5s 3ms/step - loss: 0.4282 - accuracy: 0.8884 - val_loss: 0.3790 - val_accuracy: 0.8994\n",
            "Epoch 1/5\n",
            "1563/1563 [==============================] - 5s 3ms/step - loss: 2.2601 - accuracy: 0.2349 - val_loss: 2.1833 - val_accuracy: 0.3362\n",
            "Epoch 2/5\n",
            "1563/1563 [==============================] - 5s 3ms/step - loss: 2.0703 - accuracy: 0.4198 - val_loss: 1.9228 - val_accuracy: 0.4991\n",
            "Epoch 3/5\n",
            "1563/1563 [==============================] - 5s 3ms/step - loss: 1.7548 - accuracy: 0.5338 - val_loss: 1.5613 - val_accuracy: 0.5753\n",
            "Epoch 4/5\n",
            "1563/1563 [==============================] - 5s 3ms/step - loss: 1.4149 - accuracy: 0.6139 - val_loss: 1.2446 - val_accuracy: 0.6921\n",
            "Epoch 5/5\n",
            "1563/1563 [==============================] - 5s 3ms/step - loss: 1.1579 - accuracy: 0.6916 - val_loss: 1.0279 - val_accuracy: 0.7347\n",
            "Epoch 1/5\n",
            "1563/1563 [==============================] - 5s 3ms/step - loss: 2.3014 - accuracy: 0.1756 - val_loss: 2.2733 - val_accuracy: 0.2001\n",
            "Epoch 2/5\n",
            "1563/1563 [==============================] - 5s 3ms/step - loss: 2.2592 - accuracy: 0.2240 - val_loss: 2.2437 - val_accuracy: 0.2658\n",
            "Epoch 3/5\n",
            "1563/1563 [==============================] - 5s 3ms/step - loss: 2.2276 - accuracy: 0.3257 - val_loss: 2.2080 - val_accuracy: 0.4022\n",
            "Epoch 4/5\n",
            "1563/1563 [==============================] - 5s 3ms/step - loss: 2.1881 - accuracy: 0.4210 - val_loss: 2.1625 - val_accuracy: 0.4702\n",
            "Epoch 5/5\n",
            "1563/1563 [==============================] - 5s 3ms/step - loss: 2.1365 - accuracy: 0.4765 - val_loss: 2.1026 - val_accuracy: 0.5066\n",
            "Epoch 1/5\n",
            "1563/1563 [==============================] - 5s 3ms/step - loss: 2.3488 - accuracy: 0.1022 - val_loss: 2.3106 - val_accuracy: 0.1196\n",
            "Epoch 2/5\n",
            "1563/1563 [==============================] - 5s 3ms/step - loss: 2.2964 - accuracy: 0.1831 - val_loss: 2.2886 - val_accuracy: 0.1496\n",
            "Epoch 3/5\n",
            "1563/1563 [==============================] - 5s 3ms/step - loss: 2.2820 - accuracy: 0.1298 - val_loss: 2.2776 - val_accuracy: 0.1095\n",
            "Epoch 4/5\n",
            "1563/1563 [==============================] - 6s 4ms/step - loss: 2.2719 - accuracy: 0.1255 - val_loss: 2.2674 - val_accuracy: 0.1217\n",
            "Epoch 5/5\n",
            "1563/1563 [==============================] - 5s 3ms/step - loss: 2.2618 - accuracy: 0.1618 - val_loss: 2.2569 - val_accuracy: 0.1683\n"
          ],
          "name": "stdout"
        },
        {
          "output_type": "display_data",
          "data": {
            "image/png": "[encoded data removed]",
            "text/plain": [
              "<Figure size 432x288 with 1 Axes>"
            ]
          },
          "metadata": {
            "tags": [],
            "needs_background": "light"
          }
        }
      ]
    },
    {
      "cell_type": "markdown",
      "metadata": {
        "id": "McUfO2B7ISVE"
      },
      "source": [
        "We can clearly see that at the beginning of the training setting a step size too small can make the training progress too slowly. However at the later stages of training this step can be too large for efficient optimization."
      ]
    },
    {
      "cell_type": "markdown",
      "metadata": {
        "id": "apn2zQHIJjg5"
      },
      "source": [
        "## Loading and saving a model\n",
        "\n",
        "The following code shows how to load and save a model."
      ]
    },
    {
      "cell_type": "code",
      "metadata": {
        "id": "do0otgF5KhQ8",
        "outputId": "704086ad-6319-4fae-9649-a9748f6b49c9",
        "colab": {
          "base_uri": "https://localhost:8080/",
          "height": 187
        }
      },
      "source": [
        "model = Sequential()\n",
        "model.add(Dense(30, activation='sigmoid'))\n",
        "model.add(Dense(20, activation='sigmoid'))\n",
        "model.add(Dense(10, activation='softmax'))\n",
        "sgd = keras.optimizers.SGD(0.3)\n",
        "loss = keras.losses.categorical_crossentropy\n",
        "model.compile(loss=loss,\n",
        "              optimizer=sgd,\n",
        "              metrics=['accuracy'])\n",
        "h = model.fit(x_train, y_train, validation_data=(x_val, y_val), batch_size=32, epochs=5)\n",
        "model.save(\"model_5_epoch.h5\")"
      ],
      "execution_count": 24,
      "outputs": [
        {
          "output_type": "stream",
          "text": [
            "Epoch 1/5\n",
            "1563/1563 [==============================] - 5s 3ms/step - loss: 0.6885 - accuracy: 0.8005 - val_loss: 0.2904 - val_accuracy: 0.9202\n",
            "Epoch 2/5\n",
            "1563/1563 [==============================] - 5s 3ms/step - loss: 0.2547 - accuracy: 0.9266 - val_loss: 0.2034 - val_accuracy: 0.9417\n",
            "Epoch 3/5\n",
            "1563/1563 [==============================] - 5s 3ms/step - loss: 0.1964 - accuracy: 0.9423 - val_loss: 0.1703 - val_accuracy: 0.9520\n",
            "Epoch 4/5\n",
            "1563/1563 [==============================] - 5s 3ms/step - loss: 0.1632 - accuracy: 0.9511 - val_loss: 0.1581 - val_accuracy: 0.9533\n",
            "Epoch 5/5\n",
            "1563/1563 [==============================] - 5s 3ms/step - loss: 0.1426 - accuracy: 0.9572 - val_loss: 0.1412 - val_accuracy: 0.9578\n"
          ],
          "name": "stdout"
        }
      ]
    },
    {
      "cell_type": "code",
      "metadata": {
        "id": "hN0mqOZpL1JI",
        "outputId": "28374c15-f84a-4f29-c136-b6c8593c802d",
        "colab": {
          "base_uri": "https://localhost:8080/",
          "height": 357
        }
      },
      "source": [
        "from keras.models import load_model\n",
        "\n",
        "model_loaded = load_model(\"model_5_epoch.h5\")\n",
        "\n",
        "h_l = model_loaded.fit(x_train, y_train, validation_data=(x_val, y_val), batch_size=32, epochs=10, initial_epoch=5)\n",
        "\n",
        "sgd = keras.optimizers.SGD(0.1)\n",
        "loss = keras.losses.categorical_crossentropy\n",
        "model_loaded.compile(loss=loss,\n",
        "                     optimizer=sgd,\n",
        "                     metrics=['accuracy'])\n",
        "h_l = model_loaded.fit(x_train, y_train, validation_data=(x_val, y_val), batch_size=32, epochs=15, initial_epoch=10)"
      ],
      "execution_count": 25,
      "outputs": [
        {
          "output_type": "stream",
          "text": [
            "Epoch 6/10\n",
            "1563/1563 [==============================] - 5s 3ms/step - loss: 0.1262 - accuracy: 0.9625 - val_loss: 0.1344 - val_accuracy: 0.9621\n",
            "Epoch 7/10\n",
            "1563/1563 [==============================] - 5s 3ms/step - loss: 0.1151 - accuracy: 0.9654 - val_loss: 0.1272 - val_accuracy: 0.9624\n",
            "Epoch 8/10\n",
            "1563/1563 [==============================] - 5s 3ms/step - loss: 0.1073 - accuracy: 0.9674 - val_loss: 0.1216 - val_accuracy: 0.9659\n",
            "Epoch 9/10\n",
            "1563/1563 [==============================] - 5s 3ms/step - loss: 0.0982 - accuracy: 0.9708 - val_loss: 0.1275 - val_accuracy: 0.9634\n",
            "Epoch 10/10\n",
            "1563/1563 [==============================] - 5s 3ms/step - loss: 0.0915 - accuracy: 0.9725 - val_loss: 0.1216 - val_accuracy: 0.9666\n",
            "Epoch 11/15\n",
            "1563/1563 [==============================] - 5s 3ms/step - loss: 0.0746 - accuracy: 0.9791 - val_loss: 0.1149 - val_accuracy: 0.9685\n",
            "Epoch 12/15\n",
            "1563/1563 [==============================] - 5s 3ms/step - loss: 0.0714 - accuracy: 0.9799 - val_loss: 0.1178 - val_accuracy: 0.9680\n",
            "Epoch 13/15\n",
            "1563/1563 [==============================] - 6s 4ms/step - loss: 0.0691 - accuracy: 0.9808 - val_loss: 0.1159 - val_accuracy: 0.9691\n",
            "Epoch 14/15\n",
            "1563/1563 [==============================] - 6s 4ms/step - loss: 0.0675 - accuracy: 0.9809 - val_loss: 0.1165 - val_accuracy: 0.9682\n",
            "Epoch 15/15\n",
            "1563/1563 [==============================] - 5s 3ms/step - loss: 0.0656 - accuracy: 0.9819 - val_loss: 0.1191 - val_accuracy: 0.9677\n"
          ],
          "name": "stdout"
        }
      ]
    },
    {
      "cell_type": "markdown",
      "metadata": {
        "id": "Lduh4aqlM_pU"
      },
      "source": [
        "## Callbacks\n",
        "\n",
        "In the previous code example we performed some actions after every epoch (reducing the step size, model saving). Keras provides a convenient way of doing these things using callbacks. These can be added the the fit method call. Let us not see how they are used."
      ]
    },
    {
      "cell_type": "code",
      "metadata": {
        "id": "dI3Y2hSBU3_Z"
      },
      "source": [
        "model = Sequential()\n",
        "model.add(Dense(30, activation='sigmoid'))\n",
        "model.add(Dense(20, activation='sigmoid'))\n",
        "model.add(Dense(10, activation='softmax'))\n",
        "sgd = keras.optimizers.SGD(0.3)\n",
        "loss = keras.losses.categorical_crossentropy\n",
        "model.compile(loss=loss,\n",
        "              optimizer=sgd,\n",
        "              metrics=['accuracy'])\n"
      ],
      "execution_count": 26,
      "outputs": []
    },
    {
      "cell_type": "code",
      "metadata": {
        "id": "LSTIdoDkVXCk"
      },
      "source": [
        "from keras.callbacks import *\n",
        "callbacks = []"
      ],
      "execution_count": 27,
      "outputs": []
    },
    {
      "cell_type": "markdown",
      "metadata": {
        "id": "o9WtCDCmVKb2"
      },
      "source": [
        "The ModelCheckpoint callback is very useful. In its constructor we can define the name of the file where to which we save the model. It is also possible set it up in a way in which only one model (e.g. with the highest validation accuracy) is saved."
      ]
    },
    {
      "cell_type": "code",
      "metadata": {
        "id": "ckVw3fChVsNU",
        "outputId": "64d84f8f-e542-4627-b150-4c6b44341294",
        "colab": {
          "base_uri": "https://localhost:8080/",
          "height": 34
        }
      },
      "source": [
        "callbacks.append(ModelCheckpoint('mnist_{epoch:02d}-{val_loss:.8f}-{val_accuracy:.4f}.h5', verbose=1, period=1))"
      ],
      "execution_count": 28,
      "outputs": [
        {
          "output_type": "stream",
          "text": [
            "WARNING:tensorflow:`period` argument is deprecated. Please use `save_freq` to specify the frequency in number of batches seen.\n"
          ],
          "name": "stdout"
        }
      ]
    },
    {
      "cell_type": "markdown",
      "metadata": {
        "id": "4dLp57_BWVDL"
      },
      "source": [
        "Tensorboard callback allows us to use the tensorboard utility to monitor training."
      ]
    },
    {
      "cell_type": "code",
      "metadata": {
        "id": "DkQHJPxPWrZv"
      },
      "source": [
        "callbacks.append(TensorBoard(log_dir='./logs'))"
      ],
      "execution_count": 29,
      "outputs": []
    },
    {
      "cell_type": "markdown",
      "metadata": {
        "id": "TKoWjrcqcBjF"
      },
      "source": [
        "Early Stopping stops the training if some metric (validation accuracy, loss etc.) stops improving in some predermined amount of epochs."
      ]
    },
    {
      "cell_type": "code",
      "metadata": {
        "id": "JWrNEUOicEc6"
      },
      "source": [
        "callbacks.append(EarlyStopping(monitor='val_loss', patience=5, verbose=1))"
      ],
      "execution_count": 30,
      "outputs": []
    },
    {
      "cell_type": "markdown",
      "metadata": {
        "id": "k9gnapdVXyLd"
      },
      "source": [
        "Similarly, we can use a callback which automatically decreases the size of the training step if some metric has not improved in a few epochs."
      ]
    },
    {
      "cell_type": "code",
      "metadata": {
        "id": "cT3CFvoeY7Pd"
      },
      "source": [
        "callbacks.append(ReduceLROnPlateau(monitor='val_loss', factor=0.2, patience=2, min_lr=0.0001, verbose=1))"
      ],
      "execution_count": 31,
      "outputs": []
    },
    {
      "cell_type": "markdown",
      "metadata": {
        "id": "AXcmO3nNZhuT"
      },
      "source": [
        "We can use these callbacks for tranining."
      ]
    },
    {
      "cell_type": "code",
      "metadata": {
        "id": "oiUHRA0HZjkO",
        "outputId": "5bd7b9aa-15cb-41ee-c4c8-ba11bb73eba2",
        "colab": {
          "base_uri": "https://localhost:8080/",
          "height": 1000
        }
      },
      "source": [
        "model.fit(x_train, y_train, validation_data=(x_val, y_val), epochs=30, callbacks=callbacks, batch_size=32)"
      ],
      "execution_count": 32,
      "outputs": [
        {
          "output_type": "stream",
          "text": [
            "Epoch 1/30\n",
            "   1/1563 [..............................] - ETA: 0s - loss: 2.5279 - accuracy: 0.0312WARNING:tensorflow:From /usr/local/lib/python3.6/dist-packages/tensorflow/python/ops/summary_ops_v2.py:1277: stop (from tensorflow.python.eager.profiler) is deprecated and will be removed after 2020-07-01.\n",
            "Instructions for updating:\n",
            "use `tf.profiler.experimental.stop` instead.\n",
            "WARNING:tensorflow:Callbacks method `on_train_batch_end` is slow compared to the batch time (batch time: 0.0062s vs `on_train_batch_end` time: 0.0179s). Check your callbacks.\n",
            "1557/1563 [============================>.] - ETA: 0s - loss: 0.7135 - accuracy: 0.7884\n",
            "Epoch 00001: saving model to mnist_01-0.29405439-0.9173.h5\n",
            "1563/1563 [==============================] - 6s 4ms/step - loss: 0.7118 - accuracy: 0.7889 - val_loss: 0.2941 - val_accuracy: 0.9173\n",
            "Epoch 2/30\n",
            "1558/1563 [============================>.] - ETA: 0s - loss: 0.2596 - accuracy: 0.9253\n",
            "Epoch 00002: saving model to mnist_02-0.20052858-0.9427.h5\n",
            "1563/1563 [==============================] - 6s 4ms/step - loss: 0.2595 - accuracy: 0.9254 - val_loss: 0.2005 - val_accuracy: 0.9427\n",
            "Epoch 3/30\n",
            "1555/1563 [============================>.] - ETA: 0s - loss: 0.1938 - accuracy: 0.9430\n",
            "Epoch 00003: saving model to mnist_03-0.17564158-0.9493.h5\n",
            "1563/1563 [==============================] - 6s 4ms/step - loss: 0.1938 - accuracy: 0.9430 - val_loss: 0.1756 - val_accuracy: 0.9493\n",
            "Epoch 4/30\n",
            "1561/1563 [============================>.] - ETA: 0s - loss: 0.1608 - accuracy: 0.9520\n",
            "Epoch 00004: saving model to mnist_04-0.14810359-0.9572.h5\n",
            "1563/1563 [==============================] - 5s 4ms/step - loss: 0.1611 - accuracy: 0.9519 - val_loss: 0.1481 - val_accuracy: 0.9572\n",
            "Epoch 5/30\n",
            "1559/1563 [============================>.] - ETA: 0s - loss: 0.1384 - accuracy: 0.9597\n",
            "Epoch 00005: saving model to mnist_05-0.16484168-0.9508.h5\n",
            "1563/1563 [==============================] - 6s 4ms/step - loss: 0.1385 - accuracy: 0.9597 - val_loss: 0.1648 - val_accuracy: 0.9508\n",
            "Epoch 6/30\n",
            "1548/1563 [============================>.] - ETA: 0s - loss: 0.1243 - accuracy: 0.9636\n",
            "Epoch 00006: saving model to mnist_06-0.12565313-0.9625.h5\n",
            "1563/1563 [==============================] - 5s 3ms/step - loss: 0.1240 - accuracy: 0.9638 - val_loss: 0.1257 - val_accuracy: 0.9625\n",
            "Epoch 7/30\n",
            "1557/1563 [============================>.] - ETA: 0s - loss: 0.1120 - accuracy: 0.9664\n",
            "Epoch 00007: saving model to mnist_07-0.12231199-0.9641.h5\n",
            "1563/1563 [==============================] - 6s 4ms/step - loss: 0.1120 - accuracy: 0.9664 - val_loss: 0.1223 - val_accuracy: 0.9641\n",
            "Epoch 8/30\n",
            "1553/1563 [============================>.] - ETA: 0s - loss: 0.1028 - accuracy: 0.9697\n",
            "Epoch 00008: saving model to mnist_08-0.12549129-0.9632.h5\n",
            "1563/1563 [==============================] - 6s 4ms/step - loss: 0.1029 - accuracy: 0.9696 - val_loss: 0.1255 - val_accuracy: 0.9632\n",
            "Epoch 9/30\n",
            "1559/1563 [============================>.] - ETA: 0s - loss: 0.0953 - accuracy: 0.9715\n",
            "Epoch 00009: saving model to mnist_09-0.14261849-0.9576.h5\n",
            "\n",
            "Epoch 00009: ReduceLROnPlateau reducing learning rate to 0.06000000238418579.\n",
            "1563/1563 [==============================] - 6s 4ms/step - loss: 0.0954 - accuracy: 0.9714 - val_loss: 0.1426 - val_accuracy: 0.9576\n",
            "Epoch 10/30\n",
            "1550/1563 [============================>.] - ETA: 0s - loss: 0.0744 - accuracy: 0.9789\n",
            "Epoch 00010: saving model to mnist_10-0.11231743-0.9674.h5\n",
            "1563/1563 [==============================] - 6s 4ms/step - loss: 0.0745 - accuracy: 0.9787 - val_loss: 0.1123 - val_accuracy: 0.9674\n",
            "Epoch 11/30\n",
            "1550/1563 [============================>.] - ETA: 0s - loss: 0.0717 - accuracy: 0.9801\n",
            "Epoch 00011: saving model to mnist_11-0.11184583-0.9681.h5\n",
            "1563/1563 [==============================] - 5s 3ms/step - loss: 0.0715 - accuracy: 0.9801 - val_loss: 0.1118 - val_accuracy: 0.9681\n",
            "Epoch 12/30\n",
            "1553/1563 [============================>.] - ETA: 0s - loss: 0.0700 - accuracy: 0.9808\n",
            "Epoch 00012: saving model to mnist_12-0.11019401-0.9682.h5\n",
            "1563/1563 [==============================] - 6s 4ms/step - loss: 0.0698 - accuracy: 0.9808 - val_loss: 0.1102 - val_accuracy: 0.9682\n",
            "Epoch 13/30\n",
            "1554/1563 [============================>.] - ETA: 0s - loss: 0.0683 - accuracy: 0.9815\n",
            "Epoch 00013: saving model to mnist_13-0.11137757-0.9662.h5\n",
            "1563/1563 [==============================] - 6s 4ms/step - loss: 0.0684 - accuracy: 0.9814 - val_loss: 0.1114 - val_accuracy: 0.9662\n",
            "Epoch 14/30\n",
            "1553/1563 [============================>.] - ETA: 0s - loss: 0.0672 - accuracy: 0.9816\n",
            "Epoch 00014: saving model to mnist_14-0.10929777-0.9688.h5\n",
            "1563/1563 [==============================] - 6s 4ms/step - loss: 0.0671 - accuracy: 0.9817 - val_loss: 0.1093 - val_accuracy: 0.9688\n",
            "Epoch 15/30\n",
            "1557/1563 [============================>.] - ETA: 0s - loss: 0.0659 - accuracy: 0.9820\n",
            "Epoch 00015: saving model to mnist_15-0.10957340-0.9683.h5\n",
            "1563/1563 [==============================] - 6s 4ms/step - loss: 0.0659 - accuracy: 0.9820 - val_loss: 0.1096 - val_accuracy: 0.9683\n",
            "Epoch 16/30\n",
            "1553/1563 [============================>.] - ETA: 0s - loss: 0.0646 - accuracy: 0.9825\n",
            "Epoch 00016: saving model to mnist_16-0.10792618-0.9690.h5\n",
            "1563/1563 [==============================] - 5s 4ms/step - loss: 0.0646 - accuracy: 0.9825 - val_loss: 0.1079 - val_accuracy: 0.9690\n",
            "Epoch 17/30\n",
            "1553/1563 [============================>.] - ETA: 0s - loss: 0.0633 - accuracy: 0.9831\n",
            "Epoch 00017: saving model to mnist_17-0.10952201-0.9682.h5\n",
            "1563/1563 [==============================] - 6s 4ms/step - loss: 0.0633 - accuracy: 0.9831 - val_loss: 0.1095 - val_accuracy: 0.9682\n",
            "Epoch 18/30\n",
            "1559/1563 [============================>.] - ETA: 0s - loss: 0.0625 - accuracy: 0.9833\n",
            "Epoch 00018: saving model to mnist_18-0.10845345-0.9684.h5\n",
            "\n",
            "Epoch 00018: ReduceLROnPlateau reducing learning rate to 0.012000000476837159.\n",
            "1563/1563 [==============================] - 6s 4ms/step - loss: 0.0624 - accuracy: 0.9834 - val_loss: 0.1085 - val_accuracy: 0.9684\n",
            "Epoch 19/30\n",
            "1553/1563 [============================>.] - ETA: 0s - loss: 0.0586 - accuracy: 0.9845\n",
            "Epoch 00019: saving model to mnist_19-0.10770781-0.9691.h5\n",
            "1563/1563 [==============================] - 6s 4ms/step - loss: 0.0588 - accuracy: 0.9845 - val_loss: 0.1077 - val_accuracy: 0.9691\n",
            "Epoch 20/30\n",
            "1549/1563 [============================>.] - ETA: 0s - loss: 0.0585 - accuracy: 0.9846\n",
            "Epoch 00020: saving model to mnist_20-0.10825667-0.9685.h5\n",
            "1563/1563 [==============================] - 6s 4ms/step - loss: 0.0583 - accuracy: 0.9847 - val_loss: 0.1083 - val_accuracy: 0.9685\n",
            "Epoch 21/30\n",
            "1549/1563 [============================>.] - ETA: 0s - loss: 0.0582 - accuracy: 0.9849\n",
            "Epoch 00021: saving model to mnist_21-0.10761185-0.9687.h5\n",
            "\n",
            "Epoch 00021: ReduceLROnPlateau reducing learning rate to 0.002400000020861626.\n",
            "1563/1563 [==============================] - 6s 4ms/step - loss: 0.0581 - accuracy: 0.9850 - val_loss: 0.1076 - val_accuracy: 0.9687\n",
            "Epoch 22/30\n",
            "1561/1563 [============================>.] - ETA: 0s - loss: 0.0574 - accuracy: 0.9853\n",
            "Epoch 00022: saving model to mnist_22-0.10759806-0.9689.h5\n",
            "1563/1563 [==============================] - 6s 4ms/step - loss: 0.0574 - accuracy: 0.9853 - val_loss: 0.1076 - val_accuracy: 0.9689\n",
            "Epoch 23/30\n",
            "1557/1563 [============================>.] - ETA: 0s - loss: 0.0571 - accuracy: 0.9853\n",
            "Epoch 00023: saving model to mnist_23-0.10766455-0.9691.h5\n",
            "1563/1563 [==============================] - 6s 4ms/step - loss: 0.0573 - accuracy: 0.9853 - val_loss: 0.1077 - val_accuracy: 0.9691\n",
            "Epoch 24/30\n",
            "1548/1563 [============================>.] - ETA: 0s - loss: 0.0572 - accuracy: 0.9852\n",
            "Epoch 00024: saving model to mnist_24-0.10770380-0.9689.h5\n",
            "\n",
            "Epoch 00024: ReduceLROnPlateau reducing learning rate to 0.00048000002279877666.\n",
            "1563/1563 [==============================] - 5s 4ms/step - loss: 0.0573 - accuracy: 0.9853 - val_loss: 0.1077 - val_accuracy: 0.9689\n",
            "Epoch 25/30\n",
            "1552/1563 [============================>.] - ETA: 0s - loss: 0.0572 - accuracy: 0.9853\n",
            "Epoch 00025: saving model to mnist_25-0.10769160-0.9689.h5\n",
            "1563/1563 [==============================] - 6s 4ms/step - loss: 0.0571 - accuracy: 0.9853 - val_loss: 0.1077 - val_accuracy: 0.9689\n",
            "Epoch 26/30\n",
            "1555/1563 [============================>.] - ETA: 0s - loss: 0.0571 - accuracy: 0.9853\n",
            "Epoch 00026: saving model to mnist_26-0.10768458-0.9689.h5\n",
            "\n",
            "Epoch 00026: ReduceLROnPlateau reducing learning rate to 0.0001.\n",
            "1563/1563 [==============================] - 6s 4ms/step - loss: 0.0571 - accuracy: 0.9853 - val_loss: 0.1077 - val_accuracy: 0.9689\n",
            "Epoch 27/30\n",
            "1554/1563 [============================>.] - ETA: 0s - loss: 0.0571 - accuracy: 0.9853\n",
            "Epoch 00027: saving model to mnist_27-0.10768273-0.9688.h5\n",
            "1563/1563 [==============================] - 6s 4ms/step - loss: 0.0570 - accuracy: 0.9854 - val_loss: 0.1077 - val_accuracy: 0.9688\n",
            "Epoch 00027: early stopping\n"
          ],
          "name": "stdout"
        },
        {
          "output_type": "execute_result",
          "data": {
            "text/plain": [
              "<tensorflow.python.keras.callbacks.History at 0x7fee592c6780>"
            ]
          },
          "metadata": {
            "tags": []
          },
          "execution_count": 32
        }
      ]
    },
    {
      "cell_type": "markdown",
      "metadata": {
        "id": "_LZHfjjjcpEx"
      },
      "source": [
        "The result of this process can be a progressive decrease of the training step size during training. We can load the models in the same way we did a few cells above. The Tensorboard logs are also saved in a folder specified in the callback constructor. We can also plot the model architecture using the plot_model function.\n",
        "\n",
        "We can also check the model architecture in the Tensorboard utility."
      ]
    },
    {
      "cell_type": "code",
      "metadata": {
        "id": "UwyjlFjQKG0q",
        "outputId": "095864c4-8a8b-432e-82ee-49c4821d58d5",
        "colab": {
          "base_uri": "https://localhost:8080/",
          "height": 422
        }
      },
      "source": [
        "from keras.utils import plot_model\n",
        "plot_model(model, to_file='model.png', show_shapes=True)"
      ],
      "execution_count": 33,
      "outputs": [
        {
          "output_type": "execute_result",
          "data": {
            "image/png": "[encoded data removed]",
            "text/plain": [
              "<IPython.core.display.Image object>"
            ]
          },
          "metadata": {
            "tags": []
          },
          "execution_count": 33
        }
      ]
    },
    {
      "cell_type": "code",
      "metadata": {
        "id": "crpVeDj3dA_C"
      },
      "source": [
        "%load_ext tensorboard\n",
        "%tensorboard --logdir logs"
      ],
      "execution_count": null,
      "outputs": []
    },
    {
      "cell_type": "code",
      "metadata": {
        "id": "HgukallNmCVZ"
      },
      "source": [
        "!kill 910"
      ],
      "execution_count": null,
      "outputs": []
    },
    {
      "cell_type": "markdown",
      "metadata": {
        "id": "urhL7BF2zaoy"
      },
      "source": [
        "### Exercise 1\n",
        "\n",
        "One of the callbacks we have not explored so far is the LearningRateScheduler callback. Check it out in the documentation and perform a training run with this callback in such a way that the training step sizes evolve in a fashion similar to using the ReduceLROnPlateau callback."
      ]
    },
    {
      "cell_type": "markdown",
      "metadata": {
        "id": "Jl7J5Xu2fES9"
      },
      "source": [
        "## Regularization\n",
        "\n",
        "When discussing the data split we have shown that the model can sometimes overfit the data. This means that the model is improving the accuracy on the training data, but not improving or even worsening on the validation data. There are multiple approaches to combat this. We will now go over one way which is based on a slight modification of the loss function. The function will now have the form of:\n",
        "\n",
        "$$ C_r = C + \\lambda R,$$\n",
        "\n",
        "where $C$ is the original loss function and $R$ is the regularization loss function. The difference between these two lies in the fact that the $R$ depends on the network parameters but not on the training data. $\\lambda$ is a hyperparameter which determins the strength of the regularization term. The two most commonly used regularization terms are the L1 and L2 regularization.\n",
        "\n",
        "$$ R_{L1} = \\sum_{w \\in W} |w|$$\n",
        "$$ R_{L2} = \\sum_{w \\in W} w^2$$\n",
        "\n",
        "where $W$ is the set of all parameters where the regularization is applied. We only apply this regularization on the weights of the network. We can evaluate the efficiency of the regularization in an extreme case where we only have a very small tranining set."
      ]
    },
    {
      "cell_type": "code",
      "metadata": {
        "id": "W-eHzRZzZmNH",
        "outputId": "31ff1b59-d39f-4c59-c53d-6cc57008abac",
        "colab": {
          "base_uri": "https://localhost:8080/",
          "height": 391
        }
      },
      "source": [
        "x_mini = np.repeat(x[:32], 1000, axis=0)\n",
        "y_mini = np.repeat(y[:32], 1000, axis=0)\n",
        "\n",
        "model = Sequential()\n",
        "model.add(Dense(30, activation='sigmoid'))\n",
        "model.add(Dense(20, activation='sigmoid'))\n",
        "model.add(Dense(10, activation='softmax'))\n",
        "\n",
        "loss = keras.losses.categorical_crossentropy\n",
        "sgd = keras.optimizers.SGD(0.3)\n",
        "model.compile(loss=loss,\n",
        "              optimizer=sgd,\n",
        "              metrics=['accuracy'])\n",
        "\n",
        "h_r = model.fit(x_mini, y_mini, steps_per_epoch=1000, epochs=10)\n",
        "[loss, acc] = model.evaluate(x_val, y_val)\n",
        "print(\"Eval loss: {}, Eval acc: {}\".format(loss, acc))"
      ],
      "execution_count": 34,
      "outputs": [
        {
          "output_type": "stream",
          "text": [
            "Epoch 1/10\n",
            "1000/1000 [==============================] - 3s 3ms/step - loss: 0.3729 - accuracy: 0.9146\n",
            "Epoch 2/10\n",
            "1000/1000 [==============================] - 3s 3ms/step - loss: 0.0116 - accuracy: 1.0000\n",
            "Epoch 3/10\n",
            "1000/1000 [==============================] - 3s 3ms/step - loss: 0.0057 - accuracy: 1.0000\n",
            "Epoch 4/10\n",
            "1000/1000 [==============================] - 3s 3ms/step - loss: 0.0037 - accuracy: 1.0000\n",
            "Epoch 5/10\n",
            "1000/1000 [==============================] - 3s 3ms/step - loss: 0.0028 - accuracy: 1.0000\n",
            "Epoch 6/10\n",
            "1000/1000 [==============================] - 3s 3ms/step - loss: 0.0022 - accuracy: 1.0000\n",
            "Epoch 7/10\n",
            "1000/1000 [==============================] - 3s 3ms/step - loss: 0.0018 - accuracy: 1.0000\n",
            "Epoch 8/10\n",
            "1000/1000 [==============================] - 3s 3ms/step - loss: 0.0016 - accuracy: 1.0000\n",
            "Epoch 9/10\n",
            "1000/1000 [==============================] - 3s 3ms/step - loss: 0.0014 - accuracy: 1.0000\n",
            "Epoch 10/10\n",
            "1000/1000 [==============================] - 3s 3ms/step - loss: 0.0012 - accuracy: 1.0000\n",
            "313/313 [==============================] - 1s 3ms/step - loss: 2.3865 - accuracy: 0.5214\n",
            "Eval loss: 2.386537790298462, Eval acc: 0.521399974822998\n"
          ],
          "name": "stdout"
        }
      ]
    },
    {
      "cell_type": "code",
      "metadata": {
        "id": "U8Ef6C2w4yJi",
        "outputId": "e428ecba-0780-4e2a-e4f3-22424a859f29",
        "colab": {
          "base_uri": "https://localhost:8080/",
          "height": 391
        }
      },
      "source": [
        "from keras.regularizers import l1, l2\n",
        "\n",
        "x_mini = np.repeat(x[:32], 1000, axis=0)\n",
        "y_mini = np.repeat(y[:32], 1000, axis=0)\n",
        "\n",
        "lmbda = 0.0001\n",
        "model = Sequential()\n",
        "model.add(Dense(30, activation='sigmoid', kernel_regularizer=l2(lmbda)))\n",
        "model.add(Dense(20, activation='sigmoid', kernel_regularizer=l2(lmbda)))\n",
        "model.add(Dense(10, activation='softmax', kernel_regularizer=l2(lmbda)))\n",
        "\n",
        "loss = keras.losses.categorical_crossentropy\n",
        "sgd = keras.optimizers.SGD(0.3)\n",
        "model.compile(loss=loss,\n",
        "              optimizer=sgd,\n",
        "              metrics=['accuracy'])\n",
        "\n",
        "h_r = model.fit(x_mini, y_mini, steps_per_epoch=1000, epochs=10)\n",
        "[loss, acc] = model.evaluate(x_val, y_val)\n",
        "print(\"Eval loss: {}, Eval acc: {}\".format(loss, acc))"
      ],
      "execution_count": 36,
      "outputs": [
        {
          "output_type": "stream",
          "text": [
            "Epoch 1/10\n",
            "1000/1000 [==============================] - 3s 3ms/step - loss: 0.4255 - accuracy: 0.9078\n",
            "Epoch 2/10\n",
            "1000/1000 [==============================] - 3s 3ms/step - loss: 0.0617 - accuracy: 1.0000\n",
            "Epoch 3/10\n",
            "1000/1000 [==============================] - 3s 3ms/step - loss: 0.0576 - accuracy: 1.0000\n",
            "Epoch 4/10\n",
            "1000/1000 [==============================] - 3s 3ms/step - loss: 0.0560 - accuracy: 1.0000\n",
            "Epoch 5/10\n",
            "1000/1000 [==============================] - 3s 3ms/step - loss: 0.0549 - accuracy: 1.0000\n",
            "Epoch 6/10\n",
            "1000/1000 [==============================] - 3s 3ms/step - loss: 0.0540 - accuracy: 1.0000\n",
            "Epoch 7/10\n",
            "1000/1000 [==============================] - 3s 3ms/step - loss: 0.0532 - accuracy: 1.0000\n",
            "Epoch 8/10\n",
            "1000/1000 [==============================] - 3s 3ms/step - loss: 0.0525 - accuracy: 1.0000\n",
            "Epoch 9/10\n",
            "1000/1000 [==============================] - 3s 3ms/step - loss: 0.0519 - accuracy: 1.0000\n",
            "Epoch 10/10\n",
            "1000/1000 [==============================] - 3s 3ms/step - loss: 0.0513 - accuracy: 1.0000\n",
            "313/313 [==============================] - 1s 3ms/step - loss: 2.1084 - accuracy: 0.5015\n",
            "Eval loss: 2.1084115505218506, Eval acc: 0.5015000104904175\n"
          ],
          "name": "stdout"
        }
      ]
    },
    {
      "cell_type": "markdown",
      "metadata": {
        "id": "87VKu-O44zTh"
      },
      "source": [
        "### Exercise 2\n",
        "\n",
        "Find the most optimal value of $\\lambda$ and the training step size. Compare the L1 and L2 regularization."
      ]
    },
    {
      "cell_type": "code",
      "metadata": {
        "id": "DfGPc5T4510U"
      },
      "source": [
        ""
      ],
      "execution_count": null,
      "outputs": []
    }
  ]
}
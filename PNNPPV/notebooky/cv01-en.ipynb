{
  "nbformat": 4,
  "nbformat_minor": 0,
  "metadata": {
    "colab": {
      "name": "cv01-en.ipynb",
      "provenance": [],
      "collapsed_sections": [
        "liIqeL0nKsvN",
        "6mEbjH89sAXH",
        "62IrWXs2tLPF",
        "Da3UbtAGFKeh"
      ],
      "toc_visible": true,
      "include_colab_link": true
    },
    "kernelspec": {
      "name": "python3",
      "display_name": "Python 3"
    }
  },
  "cells": [
    {
      "cell_type": "markdown",
      "metadata": {
        "id": "view-in-github",
        "colab_type": "text"
      },
      "source": [
        "<a href=\"https://colab.research.google.com/github/kocurvik/edu/blob/master/PNNPPV/notebooky/cv01-en.ipynb\" target=\"_parent\"><img src=\"https://colab.research.google.com/assets/colab-badge.svg\" alt=\"Open In Colab\"/></a>"
      ]
    },
    {
      "cell_type": "markdown",
      "metadata": {
        "id": "NtnZ03uJJ7I7",
        "colab_type": "text"
      },
      "source": [
        "# **1. lab** - Google Colab, NumPy Basics, Basic Image Manipulation in OpenCV\n",
        "\n",
        "In this notebook we will cover the basics of working in the Google Colab environment, NumPy and basic image manipulation in OpenCV."
      ]
    },
    {
      "cell_type": "markdown",
      "metadata": {
        "id": "liIqeL0nKsvN",
        "colab_type": "text"
      },
      "source": [
        "## Google Colab\n",
        "\n",
        "Google Colab (http://colab.research.google.com) is a free service which allows the users to run ipython notebooks in the cloud. The service also allows the users to leverage a free GPU. A Google account is necessary to use this service. The notebooks can also be downloaded and run locally using the jupyter notebook in the directory where the notebooks are saved (provided you have jupyter installed).\n",
        "\n",
        "There are two types of cells in these notbooks. The first type is a text cell such as this one. The other type of a cell is code cell. The cells with code can be run with the play button to the left of the cell. All of the cells can also be run by clicking choosing Runtime -> Run All in the menu at the top of this page. The cells share a scope so it is necessary to be mindful of the order in which the cells run. If you need to restart the notebook you can look into the Runtime tab in the options on top of the page.\n",
        "\n",
        "You can try running a simple python code in the following cell."
      ]
    },
    {
      "cell_type": "code",
      "metadata": {
        "id": "424nbIp_J0Z3",
        "colab_type": "code",
        "colab": {}
      },
      "source": [
        "a = [5,'Hello']\n",
        "s = '{} World!'\n",
        "print(s.format(a[1]))\n",
        "\n",
        "def najlepsia_funkcia(arg):\n",
        "  return arg + 5\n",
        "\n",
        "print(najlepsia_funkcia(8))"
      ],
      "execution_count": null,
      "outputs": []
    },
    {
      "cell_type": "markdown",
      "metadata": {
        "id": "yCMavlzMNpOL",
        "colab_type": "text"
      },
      "source": [
        "Saving and using files that are stored permanently can be done in different ways, but the easiest option is to connecting Google Drive to our notebook instance. This is done in a following way:\n",
        "(Note: this assumes that you have created a directory named Colab in your Google Drive)"
      ]
    },
    {
      "cell_type": "code",
      "metadata": {
        "id": "xh_BmJNtPBU6",
        "colab_type": "code",
        "colab": {}
      },
      "source": [
        "from google.colab import drive\n",
        "drive.mount('/content/gdrive')\n",
        "root_path = 'gdrive/My Drive/Colab/'"
      ],
      "execution_count": null,
      "outputs": []
    },
    {
      "cell_type": "markdown",
      "metadata": {
        "id": "K__Gehv1QGY6",
        "colab_type": "text"
      },
      "source": [
        "You can then access the folder (if it exists)."
      ]
    },
    {
      "cell_type": "code",
      "metadata": {
        "id": "6W-0ycWOQmTo",
        "colab_type": "code",
        "colab": {}
      },
      "source": [
        "import os\n",
        "os.listdir(root_path)"
      ],
      "execution_count": null,
      "outputs": []
    },
    {
      "cell_type": "markdown",
      "metadata": {
        "id": "sDNeHwtTQvji",
        "colab_type": "text"
      },
      "source": [
        "You can also use the standard unix commands by preceeding them with an exclamation point."
      ]
    },
    {
      "cell_type": "code",
      "metadata": {
        "id": "G7S_k5yqQz0o",
        "colab_type": "code",
        "colab": {}
      },
      "source": [
        "!pwd\n",
        "!ls\n",
        "!mkdir random_dir\n",
        "!ls\n",
        "!wget https://www.google.com/images/branding/googlelogo/1x/googlelogo_color_272x92dp.png\n",
        "!ls"
      ],
      "execution_count": null,
      "outputs": []
    },
    {
      "cell_type": "markdown",
      "metadata": {
        "id": "5KFKjuQZNY0S",
        "colab_type": "text"
      },
      "source": [
        "This is not always necessary as you can access the instance file structure in the panel on the left.\n",
        "\n",
        "**<----**"
      ]
    },
    {
      "cell_type": "markdown",
      "metadata": {
        "id": "IyiVk1I0Sq0_",
        "colab_type": "text"
      },
      "source": [
        "## NumPy\n",
        "A tensor is a base data structure we will use when dealing with neural networks. Tensor is a generalization of vectors and matrices. Vectors from $\\mathbb{R}^n$ are first order (rank) tensors and matrices are second order (rank) tensors. A third order (rank) tensor can be additionally indexed with one more index. Sometimes the order of tensor is also called its rank. Strictly speaking tensor dimension and order are two different concepts. For example, we can have a third order tensor with dimension $ 20 \\times 24 \\times 6$. However, in many texts authors interchange tensor order (rank) with dimension. This is sometimes confusing, but usually the meaning is evident from context.\n",
        "\n",
        "To conform to standards we import numpy as np. A vector (e.g. first order tensor) can be created from a simple list using the np.array constructor. It might be important to initialize the array with a specific data type which can be done by using the dtype keyword in the constructor. **Not specifying the dtype can cause various complications later in the code.**\n"
      ]
    },
    {
      "cell_type": "code",
      "metadata": {
        "id": "3JU8eIp0T5qs",
        "colab_type": "code",
        "colab": {}
      },
      "source": [
        "import numpy as np\n",
        "\n",
        "a = np.array([3, 2, 3, 4])\n",
        "print(a)\n",
        "b = np.array([1,5,7], dtype=np.float32)\n",
        "print(b)"
      ],
      "execution_count": null,
      "outputs": []
    },
    {
      "cell_type": "markdown",
      "metadata": {
        "id": "X0Ldg2LCUyyz",
        "colab_type": "text"
      },
      "source": [
        "A matrix can be created from a list of lists, but it is necessary for the lengths of the inner lists to be consitent. If they are not consistent we will obtain a vector of lists instead of matrix of values."
      ]
    },
    {
      "cell_type": "code",
      "metadata": {
        "id": "69MATLghVAhb",
        "colab_type": "code",
        "colab": {}
      },
      "source": [
        "A = np.array([[1,5,8],[50,60,84]])\n",
        "print(A)\n",
        "B = np.array([[7,8],[6,7],[0,9,4]])\n",
        "print(B)"
      ],
      "execution_count": null,
      "outputs": []
    },
    {
      "cell_type": "markdown",
      "metadata": {
        "id": "YD8CtWcQWGFv",
        "colab_type": "text"
      },
      "source": [
        "The array object has a shape method which tells us its shape (dimensions) and method dtype which returns the data type of the values in the tensor. It also has a method astype which returns an array with the specified type."
      ]
    },
    {
      "cell_type": "code",
      "metadata": {
        "id": "hC7EtfXBWmIB",
        "colab_type": "code",
        "colab": {}
      },
      "source": [
        "print(a.shape)\n",
        "print(A.shape)\n",
        "print(A.dtype)\n",
        "C = A.astype(np.float32)\n",
        "print(C.dtype)\n"
      ],
      "execution_count": null,
      "outputs": []
    },
    {
      "cell_type": "markdown",
      "metadata": {
        "id": "XlKW3-r_9s1E",
        "colab_type": "text"
      },
      "source": [
        "Numpy has a few functions to generate basic tensors. The most commnly used onse are: np.zeros, np.ones and np.empty."
      ]
    },
    {
      "cell_type": "code",
      "metadata": {
        "id": "n0bdDGaQjuYP",
        "colab_type": "code",
        "colab": {}
      },
      "source": [
        "z = np.zeros([5,10])\n",
        "print(z)\n",
        "o = np.ones([3,4,5])\n",
        "print(o)\n",
        "e = np.empty([6])\n",
        "print(e)"
      ],
      "execution_count": null,
      "outputs": []
    },
    {
      "cell_type": "markdown",
      "metadata": {
        "id": "FQbG74jFkewe",
        "colab_type": "text"
      },
      "source": [
        "It is also possible the create tensors with random numbers by using np.random.random."
      ]
    },
    {
      "cell_type": "code",
      "metadata": {
        "id": "LrMsw30Gk234",
        "colab_type": "code",
        "colab": {}
      },
      "source": [
        "r = np.random.random([6,10,3])\n",
        "print(r)"
      ],
      "execution_count": null,
      "outputs": []
    },
    {
      "cell_type": "markdown",
      "metadata": {
        "id": "U1vO9XhhlAXg",
        "colab_type": "text"
      },
      "source": [
        "We can now use these random arrays to work with indices. Indexing is similar to Matlab, but the python conventions are applied. We can use multiple indices (based on tensor order). If we omit one of the indices it is implicitly used as :, which means that all of the elements along that dimesnsions are used."
      ]
    },
    {
      "cell_type": "code",
      "metadata": {
        "id": "oTMiqcZPlwtl",
        "colab_type": "code",
        "colab": {}
      },
      "source": [
        "print(r[3,4,1])\n",
        "print(r[:,:,-1])\n",
        "print(r[:,:,1].shape)\n",
        "print(r[0:4,5:6,:])\n",
        "print(r[0:4,5:6,:].shape)"
      ],
      "execution_count": null,
      "outputs": []
    },
    {
      "cell_type": "markdown",
      "metadata": {
        "id": "ybA-W90VmNhG",
        "colab_type": "text"
      },
      "source": [
        "We can also use steps when indexing this is also called slicing. That can be done by another colon. The format is then [start:stop:step]. If any of that is left empty the start is implicitly assumed to be 0, the end -1 and step 1."
      ]
    },
    {
      "cell_type": "code",
      "metadata": {
        "id": "1kmxFdtUmTRE",
        "colab_type": "code",
        "colab": {}
      },
      "source": [
        "p = np.arange(25)\n",
        "print(p)\n",
        "print(p[4:16:2])\n",
        "print(p[2:-4:6])\n",
        "print(p[:10:])\n",
        "print(p[::3])\n",
        "print(p[1::6])\n",
        "print(p[-6:])\n",
        "print(r[1::2,0::3,:])"
      ],
      "execution_count": null,
      "outputs": []
    },
    {
      "cell_type": "markdown",
      "metadata": {
        "id": "478cxvQtmk9t",
        "colab_type": "text"
      },
      "source": [
        "We will often need to create a so-called singleton dimension. This cane be done by adding a None index, or in a more python way by using np.newaxis."
      ]
    },
    {
      "cell_type": "code",
      "metadata": {
        "id": "IXKkfdNpmy0h",
        "colab_type": "code",
        "colab": {}
      },
      "source": [
        "print(r[None,:,:,:].shape)\n",
        "print(r[None].shape)\n",
        "print(r[np.newaxis,:,:,:].shape)\n",
        "print(r[:,:,:,np.newaxis].shape)\n",
        "print(r[np.newaxis,:,0,:].shape)"
      ],
      "execution_count": null,
      "outputs": []
    },
    {
      "cell_type": "markdown",
      "metadata": {
        "id": "LK7K0RginLDB",
        "colab_type": "text"
      },
      "source": [
        "Similar to Matlab broadcasting is done implicitly (though different rules are applied in Matlab)."
      ]
    },
    {
      "cell_type": "code",
      "metadata": {
        "id": "110A-dLgnRaU",
        "colab_type": "code",
        "colab": {}
      },
      "source": [
        "r += 10\n",
        "print(r)\n",
        "r[0,:,:] = np.random.random([10,3])\n",
        "print(r.shape)\n",
        "r[0] = np.random.random([10,3])\n",
        "print(r.shape)\n",
        "r[0] = np.zeros([10,1])\n",
        "print(r.shape)\n",
        "r/=500\n",
        "print(r)"
      ],
      "execution_count": null,
      "outputs": []
    },
    {
      "cell_type": "markdown",
      "metadata": {
        "id": "-cUMWPBNoFj2",
        "colab_type": "text"
      },
      "source": [
        "An array can be reshaped using np.reshape"
      ]
    },
    {
      "cell_type": "code",
      "metadata": {
        "id": "Mn62_4cToQs4",
        "colab_type": "code",
        "colab": {}
      },
      "source": [
        "q = np.reshape(r, [6,30])\n",
        "print(q.shape)"
      ],
      "execution_count": null,
      "outputs": []
    },
    {
      "cell_type": "markdown",
      "metadata": {
        "id": "uBQ6JlDbo7s2",
        "colab_type": "text"
      },
      "source": [
        "Arrays can be joined. One way is to use np.concatenate([arr1, arr2, ...], axis = i) which connects the arrays arr1 and arr2 through a given axis i. Note that is usually better (for code comprehension) to explicitly use the keyword axis even if it is redundant."
      ]
    },
    {
      "cell_type": "code",
      "metadata": {
        "id": "RFI3H7dbpXse",
        "colab_type": "code",
        "colab": {}
      },
      "source": [
        "a = np.ones([3,4])\n",
        "b = np.zeros([6,4])\n",
        "c = np.concatenate([a,b], axis = 0)\n",
        "print(c)                   "
      ],
      "execution_count": null,
      "outputs": []
    },
    {
      "cell_type": "markdown",
      "metadata": {
        "id": "xLC59P7fp8iC",
        "colab_type": "text"
      },
      "source": [
        "A different option is to use np.stack([arr1, arr2, ...], axis= i). The difference is that this creates increases the tensor order by one."
      ]
    },
    {
      "cell_type": "code",
      "metadata": {
        "id": "Vj6T89BSq4g_",
        "colab_type": "code",
        "colab": {}
      },
      "source": [
        "a = np.ones([6,4,3])\n",
        "b = np.zeros([6,4,3])\n",
        "d = np.stack([a,b], axis = 0)\n",
        "print(d.shape)\n",
        "f = np.stack([a,b], axis = -1)\n",
        "print(f.shape)\n",
        "g = np.stack([a,b], axis = 1)\n",
        "print(g.shape)"
      ],
      "execution_count": null,
      "outputs": []
    },
    {
      "cell_type": "markdown",
      "metadata": {
        "id": "PH3_y_ThuEwJ",
        "colab_type": "text"
      },
      "source": [
        "We can also index using conditions."
      ]
    },
    {
      "cell_type": "code",
      "metadata": {
        "id": "O3j-u9yRuVFk",
        "colab_type": "code",
        "colab": {}
      },
      "source": [
        "r = np.random.random([5,5])\n",
        "print(r)\n",
        "r[r < 0.5] = -500\n",
        "print(r)"
      ],
      "execution_count": null,
      "outputs": []
    },
    {
      "cell_type": "markdown",
      "metadata": {
        "id": "G9Zqp4-PrLG3",
        "colab_type": "text"
      },
      "source": [
        "The conditions can also be using in np.whare(cond, a1, a2), which returns an array which contans elemnts from a1 where the condition is true and elements from a2 where condition is false. We can also use np.arange(i) which is equivalent to range(i) from python."
      ]
    },
    {
      "cell_type": "code",
      "metadata": {
        "id": "SBKZaiIttoXs",
        "colab_type": "code",
        "colab": {}
      },
      "source": [
        "a = np.arange(10)\n",
        "print(a)\n",
        "b = np.where(a < 5, a, a**2)\n",
        "print(b)"
      ],
      "execution_count": null,
      "outputs": []
    },
    {
      "cell_type": "markdown",
      "metadata": {
        "id": "6mEbjH89sAXH",
        "colab_type": "text"
      },
      "source": [
        "### Exercise 1\n",
        "Create a funciton chessboard(rows, cols) which returns a numpy array with dimensions rows x cols. The array will contain 1 in spots where a chessboard tile would be white and 0 where a chessboard tile would be black.\n",
        "\n",
        "The simplest way is to use slicing. If you feel adventurous you can check the NumPy documentation and use conditions with np.mgrid or repetition and np.tile."
      ]
    },
    {
      "cell_type": "code",
      "metadata": {
        "id": "qJGmsNBxstBZ",
        "colab_type": "code",
        "colab": {}
      },
      "source": [
        "def chessboard(rows, cols):\n",
        "  ..."
      ],
      "execution_count": null,
      "outputs": []
    },
    {
      "cell_type": "code",
      "metadata": {
        "id": "tnMLmXeYM-pz",
        "colab_type": "code",
        "colab": {}
      },
      "source": [
        "print(chessboard(8,8))\n",
        "print(chessboard(5,12))"
      ],
      "execution_count": null,
      "outputs": []
    },
    {
      "cell_type": "markdown",
      "metadata": {
        "id": "62IrWXs2tLPF",
        "colab_type": "text"
      },
      "source": [
        "### NumPy Documentations\n",
        "We will go through some basic linear algebra and statistics operations with NumPy during the next lab. \n",
        "\n",
        "If you are curious you can check out the documentation of NumPy: https://docs.scipy.org/doc/numpy/"
      ]
    },
    {
      "cell_type": "markdown",
      "metadata": {
        "id": "Ma67w0Sn4fj9",
        "colab_type": "text"
      },
      "source": [
        "## OpenCV\n",
        "\n",
        "OpenCV is a computer vision library. In other classes related to computer vision and processing we use Matlab, but any of those methods are also implemented in the OpenCV. If you want to use it locally you need to install it for excample via pip with package name opencv-python."
      ]
    },
    {
      "cell_type": "code",
      "metadata": {
        "id": "69J98ZrA47Nj",
        "colab_type": "code",
        "colab": {}
      },
      "source": [
        "import cv2"
      ],
      "execution_count": null,
      "outputs": []
    },
    {
      "cell_type": "markdown",
      "metadata": {
        "id": "p1VIsIaW5JMc",
        "colab_type": "text"
      },
      "source": [
        "Loading images in OpenCV is simple. We will now read the image we downloaded at the beginning of this lab. We can see that the image is represented as a NumPy array with dimensions height x width x 3. The last dimension represents the three RGB color channels. We therefore have three matrices with each representing the intensity of the given color component. It important to be mindful of the fact that **OpenCV assumes the images to be stored in the BGR format by default!!!**"
      ]
    },
    {
      "cell_type": "code",
      "metadata": {
        "id": "xD05yAvA5UzL",
        "colab_type": "code",
        "colab": {}
      },
      "source": [
        "img = cv2.imread('googlelogo_color_272x92dp.png')\n",
        "print(type(img))\n",
        "print(img.shape)\n",
        "rint(img.dtype)"
      ],
      "execution_count": null,
      "outputs": []
    },
    {
      "cell_type": "markdown",
      "metadata": {
        "id": "aCfW87aq57H7",
        "colab_type": "text"
      },
      "source": [
        "Displaying the image is a bit complicated. Since we are in a notebook we need a different library. Specifically we will be using matplotlib. We therefore need to convert the image from BGR to RGB to display it.\n",
        "\n",
        "The commented part of the code below demonstrates how you can do this if you are working locally on your machine. cv2.waitKey renders the image and the waits for a time given in miliseconds. If the time is given as 0 the program will halt until a key is pressed."
      ]
    },
    {
      "cell_type": "code",
      "metadata": {
        "id": "a9JbQ0vR6jrD",
        "colab_type": "code",
        "colab": {}
      },
      "source": [
        "import matplotlib.pyplot as plt\n",
        "plt.imshow(img[:,:,::-1])\n",
        "plt.show()\n",
        "\n",
        "# cv2.imshow('Obrazok', img)\n",
        "# if cv2.waitKey(0) & 0xFF == ord('q'):\n",
        "#     return"
      ],
      "execution_count": null,
      "outputs": []
    },
    {
      "cell_type": "markdown",
      "metadata": {
        "id": "HKR2_i399nhD",
        "colab_type": "text"
      },
      "source": [
        "We can also display the individual color channels."
      ]
    },
    {
      "cell_type": "code",
      "metadata": {
        "id": "zWImakv5-FIw",
        "colab_type": "code",
        "colab": {}
      },
      "source": [
        "plt.imshow(img[:,:,0],cmap='gray')\n",
        "plt.show()\n",
        "plt.imshow(img[:,:,1],cmap='gray')\n",
        "plt.show()\n",
        "plt.imshow(img[:,:,2],cmap='gray')\n",
        "plt.show()"
      ],
      "execution_count": null,
      "outputs": []
    },
    {
      "cell_type": "markdown",
      "metadata": {
        "id": "2YqbEbCt_E5x",
        "colab_type": "text"
      },
      "source": [
        "The images are loaded as uint8 as default so integers in the range from 0 to 255. Sometimes we want to convert them to floats. In that case the general assumption is that the intensity values are in the range \\[0, 1\\]."
      ]
    },
    {
      "cell_type": "code",
      "metadata": {
        "id": "PyiZHgUP-u_x",
        "colab_type": "code",
        "colab": {}
      },
      "source": [
        "img_f = img / 255\n",
        "print(img_f.dtype)\n",
        "plt.imshow(img_f[:,:,::-1])\n",
        "plt.show()"
      ],
      "execution_count": null,
      "outputs": []
    },
    {
      "cell_type": "markdown",
      "metadata": {
        "id": "RO_BLn37AI38",
        "colab_type": "text"
      },
      "source": [
        "We can easily do image manipulation. For instance we can increase intensity in one of the channels (this will cause an uint8 overflow in some parts of the image)."
      ]
    },
    {
      "cell_type": "code",
      "metadata": {
        "id": "o4C7iJmDAcP2",
        "colab_type": "code",
        "colab": {}
      },
      "source": [
        "img[:,:,0] += 20\n",
        "plt.imshow(img[:,:,::-1])\n",
        "plt.show()"
      ],
      "execution_count": null,
      "outputs": []
    },
    {
      "cell_type": "markdown",
      "metadata": {
        "id": "-fJ1dZRrAwdM",
        "colab_type": "text"
      },
      "source": [
        "It is often useful to convert the image to grayscale. We can do this with cv2.cvtColor"
      ]
    },
    {
      "cell_type": "code",
      "metadata": {
        "id": "U8C5uktYDSF8",
        "colab_type": "code",
        "colab": {}
      },
      "source": [
        "!wget 'https://upload.wikimedia.org/wikipedia/commons/0/0a/Malachite_kingfisher_(Corythornis_cristatus_stuartkeithi).jpg'\n",
        "!mv 'Malachite_kingfisher_(Corythornis_cristatus_stuartkeithi).jpg' bird.jpg\n",
        "!ls -l"
      ],
      "execution_count": null,
      "outputs": []
    },
    {
      "cell_type": "code",
      "metadata": {
        "id": "k1rgwciHBOIV",
        "colab_type": "code",
        "colab": {}
      },
      "source": [
        "img_b = cv2.imread('bird.jpg')\n",
        "plt.imshow(img_b[:,:,::-1])\n",
        "plt.show()\n",
        "img_g = cv2.cvtColor(img_b, cv2.COLOR_BGR2GRAY)\n",
        "plt.imshow(img_g, cmap='gray')\n",
        "plt.show()"
      ],
      "execution_count": null,
      "outputs": []
    },
    {
      "cell_type": "markdown",
      "metadata": {
        "id": "Da3UbtAGFKeh",
        "colab_type": "text"
      },
      "source": [
        "### Exercise 2\n",
        "Try to crop the head from the image of the bird and display it."
      ]
    },
    {
      "cell_type": "code",
      "metadata": {
        "id": "dQ39KNXQFh1c",
        "colab_type": "code",
        "colab": {}
      },
      "source": [
        "# kód pre úlohu 2"
      ],
      "execution_count": null,
      "outputs": []
    },
    {
      "cell_type": "markdown",
      "metadata": {
        "id": "f1AAdndHDexq",
        "colab_type": "text"
      },
      "source": [
        "### Exercise 3\n",
        "\n",
        "Download an image from the internet using wget or Google Drive. Convert it to grayscale and apply gamma correction to it in the form:\n",
        "\n",
        "$$ O = I^{\\frac{1}{G}}, $$ where $I$ is the original image intensity for a given pixel, $O$ is the new intensity for a pixel and $G$ is the gamma factor. In order for this to make sense you have to convert the image from uint8 to floats. Display the image after performing the gamma correction. Implement the gamma correction as a function of two parameters.\n"
      ]
    },
    {
      "cell_type": "code",
      "metadata": {
        "id": "5wEl1dP3Elss",
        "colab_type": "code",
        "colab": {}
      },
      "source": [
        "# kód pre úlohu 3"
      ],
      "execution_count": null,
      "outputs": []
    },
    {
      "cell_type": "markdown",
      "metadata": {
        "id": "5Zu7FrFuGVyX",
        "colab_type": "text"
      },
      "source": [
        "Často je dôležité obrázky zväčsovať a zmenšovať. V kurzoch spracovania obrazu sa preberajú rôzne metódy interpolácie. Nám bude stačiť použiť defualtné nastavenie. Zmena veľkosti sa volá pomocou cv2.resize(img, (width, height))"
      ]
    },
    {
      "cell_type": "code",
      "metadata": {
        "id": "QWbZFe6fG0xv",
        "colab_type": "code",
        "colab": {}
      },
      "source": [
        "img_r = cv2.resize(img_b, (400,200))\n",
        "print(img_r.shape)\n",
        "plt.imshow(img_r[:,:,::-1])\n",
        "plt.show()"
      ],
      "execution_count": null,
      "outputs": []
    },
    {
      "cell_type": "markdown",
      "metadata": {
        "id": "2vxxRs6XHOQC",
        "colab_type": "text"
      },
      "source": [
        "### Úloha 4\n",
        "One of the most common preprocessing steps when using deep learning is to prepare a batch of images to feed the neural network. In order to do that the images have to be resized to the same size and stacked so they create a tensor with shape n_img, height, width, 3 where n_img is the number of images. The following code downloads a zip with images. Write a function which creates the desired tensor from these images. The argument of this function will be the name of the folder where the images are as well as width and height of the resized images."
      ]
    },
    {
      "cell_type": "code",
      "metadata": {
        "id": "jhNbm6NoIQqn",
        "colab_type": "code",
        "colab": {}
      },
      "source": [
        "!wget https://github.com/kocurvik/edu/raw/master/PNNPPV/supplementary/cv01_images.zip"
      ],
      "execution_count": null,
      "outputs": []
    },
    {
      "cell_type": "code",
      "metadata": {
        "id": "y3fAHh87IHdz",
        "colab_type": "code",
        "colab": {}
      },
      "source": [
        "def load_img_tensor(path, width, heigth):\n",
        "  ..."
      ],
      "execution_count": null,
      "outputs": []
    },
    {
      "cell_type": "markdown",
      "metadata": {
        "id": "OunDLW1lIU7F",
        "colab_type": "text"
      },
      "source": [
        "The following code should work and display the images in a sequence."
      ]
    },
    {
      "cell_type": "code",
      "metadata": {
        "id": "DoALE6w-IfBR",
        "colab_type": "code",
        "colab": {}
      },
      "source": [
        "t = load_img_tensor('imgs', 227, 227)\n",
        "for i in range(t.shape[0]):\n",
        "  pls.imshow(t[i,:,:,::-1])\n",
        "  plt.show()"
      ],
      "execution_count": null,
      "outputs": []
    },
    {
      "cell_type": "markdown",
      "metadata": {
        "id": "Wym2gAwtKkwv",
        "colab_type": "text"
      },
      "source": [
        "### OpenCV documentation\n",
        "When looking for documentation for OpenCV you may run into older versions that what you are actually using. All of them are here: https://docs.opencv.org/\n",
        "\n",
        "You can check the version of the library easily:\n"
      ]
    },
    {
      "cell_type": "code",
      "metadata": {
        "id": "BQd4OY9LLXCp",
        "colab_type": "code",
        "colab": {}
      },
      "source": [
        "print(cv2.__version__)"
      ],
      "execution_count": null,
      "outputs": []
    }
  ]
}
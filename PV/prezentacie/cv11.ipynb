{
  "nbformat": 4,
  "nbformat_minor": 0,
  "metadata": {
    "colab": {
      "name": "PVcv11.ipynb",
      "provenance": [],
      "collapsed_sections": [],
      "toc_visible": true,
      "include_colab_link": true
    },
    "kernelspec": {
      "name": "python3",
      "display_name": "Python 3"
    }
  },
  "cells": [
    {
      "cell_type": "markdown",
      "metadata": {
        "id": "view-in-github",
        "colab_type": "text"
      },
      "source": [
        "<a href=\"https://colab.research.google.com/github/kocurvik/edu/blob/master/PV/prezentacie/cv11.ipynb\" target=\"_parent\"><img src=\"https://colab.research.google.com/assets/colab-badge.svg\" alt=\"Open In Colab\"/></a>"
      ]
    },
    {
      "cell_type": "markdown",
      "metadata": {
        "id": "NtnZ03uJJ7I7"
      },
      "source": [
        "# **11. cvičenie** - Deep Learning\n",
        "\n",
        "V tomto cvičení si ukážeme ako použiť hlbokú konvolučnú neurónovú sieť na detekciu objektov.\n",
        "\n",
        "Najprv si však prejdeme základy používania Google Colabu, NumPy a OpenCV."
      ]
    },
    {
      "cell_type": "markdown",
      "metadata": {
        "id": "liIqeL0nKsvN"
      },
      "source": [
        "## Google Colab\n",
        "\n",
        "Google Colab (http://colab.research.google.com) je nespoplatnená služba na ktorej je možné spúštať tzv. ipython noteboky. Služba poskytuje k dispozícii aj výpočty na GPU a CPU. Pre využitie tejto služby je nutné mať Google účet. Tieto notebooky môžeme spúšťať aj lokálne pomocou príkazu `jupyter notebook` v zložke kde máme uložené ipynb súbory.\n",
        "\n",
        "V notebookoch máme dva druhy buniek. Textové, ako napr. tento a kód. Bunky s kódom môžeme spúštať tlačidlom play naľavo od bunky, alebo v prostredí Colab naraz od prvej až po poslednú výberom Runtime -> Run All. Defaultne notebook nemá pripojené GPU, to môžeme zmeniť zavolaním Runtime -> Change runtime type. Bunky majú spoločný scope ale je treba dávať pozor na poradie spúštania jednotlivých buniek. Preto je často vhodné použiť Runtime -> Restart and run all.\n",
        "\n",
        "V nasledujúcej bunke si môžete otestovať spustenie python kódu."
      ]
    },
    {
      "cell_type": "code",
      "metadata": {
        "id": "424nbIp_J0Z3"
      },
      "source": [
        "a = [5,'Hello']\n",
        "s = '{} World!'\n",
        "print(s.format(a[1]))\n",
        "\n",
        "def najlepsia_funkcia(arg):\n",
        "  return arg + 5\n",
        "\n",
        "print(najlepsia_funkcia(8))"
      ],
      "execution_count": null,
      "outputs": []
    },
    {
      "cell_type": "markdown",
      "metadata": {
        "id": "yCMavlzMNpOL"
      },
      "source": [
        "Keď sme v Google Colab chceli by sme mať prístup k súborom. To je najjednoduchšie pomocou pripojenia Google Drive k našej inštancii. To sa robí následovne:\n",
        "(V Google Drive si vyrobte zložku Colab, alebo upravte na drive)"
      ]
    },
    {
      "cell_type": "code",
      "metadata": {
        "id": "xh_BmJNtPBU6"
      },
      "source": [
        "from google.colab import drive\n",
        "drive.mount('/content/gdrive')\n",
        "root_path = 'gdrive/My Drive/Colab/'"
      ],
      "execution_count": null,
      "outputs": []
    },
    {
      "cell_type": "markdown",
      "metadata": {
        "id": "K__Gehv1QGY6"
      },
      "source": [
        "Môžeme potom k zložke pristupovať."
      ]
    },
    {
      "cell_type": "code",
      "metadata": {
        "id": "6W-0ycWOQmTo"
      },
      "source": [
        "import os\n",
        "os.listdir(root_path)"
      ],
      "execution_count": null,
      "outputs": []
    },
    {
      "cell_type": "markdown",
      "metadata": {
        "id": "sDNeHwtTQvji"
      },
      "source": [
        "Takisto môžeme volať unixové príkazy pomocou výkričníka."
      ]
    },
    {
      "cell_type": "code",
      "metadata": {
        "id": "G7S_k5yqQz0o"
      },
      "source": [
        "!pwd\n",
        "!ls\n",
        "!mkdir random_dir\n",
        "!ls\n",
        "!wget https://www.google.com/images/branding/googlelogo/1x/googlelogo_color_272x92dp.png\n",
        "!ls"
      ],
      "execution_count": null,
      "outputs": []
    },
    {
      "cell_type": "markdown",
      "metadata": {
        "id": "5KFKjuQZNY0S"
      },
      "source": [
        "Najpohodlnejšia možnosť je použiť inferface naľovo a pozrieť si záložku Files\n",
        "\n",
        "**<----**"
      ]
    },
    {
      "cell_type": "markdown",
      "metadata": {
        "id": "IyiVk1I0Sq0_"
      },
      "source": [
        "## NumPy\n",
        "Pri práci s neurónovými sieťami je základnou štruktúrou tzv. tenzor. Tenzor je zobecnenie vektorov a matíc. Vektor je tenzor prvého rádu, matica je tenzor druhého rádu. Tenzor tretieho rádu vieme indexovať navyše ešte jedným indexom. Niekedy sa za rád tensoru označuje aj dimenzia, to je ale mätúce, ale väčšinou je to z kontextu zrejmé. Správne napríklad tenzor rádu 3 má dimenzie 20 x 24 x 6.\n",
        "\n",
        "Podľa konvencie numpy väčšinou importuje ako np. Vektor, teda tenzor prvého rádu, vieme vyrobiť z jednuchého listu. Pomocou np.array. Často je dôležité použiť správny dátový typ to urobíme pomocou argumentu dtype. **Vynechanie tejto časti môže viesť na rôzne komplikácie!**"
      ]
    },
    {
      "cell_type": "code",
      "metadata": {
        "id": "3JU8eIp0T5qs"
      },
      "source": [
        "import numpy as np\n",
        "\n",
        "a = np.array([3, 2, 3, 4])\n",
        "print(a)\n",
        "b = np.array([1,5,7], dtype=np.float32)\n",
        "print(b)"
      ],
      "execution_count": null,
      "outputs": []
    },
    {
      "cell_type": "markdown",
      "metadata": {
        "id": "X0Ldg2LCUyyz"
      },
      "source": [
        "Maticu vieme vyrobiť z listu listov, ale treba dať pozor aby nám sedeli dĺžky vnútorných listov. Inak sa vytvorí tenzor prvého rádu, ktorý obsahuje listy."
      ]
    },
    {
      "cell_type": "code",
      "metadata": {
        "id": "69MATLghVAhb"
      },
      "source": [
        "A = np.array([[1,5,8],[50,60,84]])\n",
        "print(A)\n",
        "B = np.array([[7,8],[6,7],[0,9,4]])\n",
        "print(B)"
      ],
      "execution_count": null,
      "outputs": []
    },
    {
      "cell_type": "markdown",
      "metadata": {
        "id": "YD8CtWcQWGFv"
      },
      "source": [
        "Objekt array má metódu shape, ktorá nám umožňuje zistiť jej tvar (teda dimenzie), metódu dtype ktorá vracia typ vnútorných objektov a metódu astype, ktorá vráti tenzor v podľa špecifikovaného typu."
      ]
    },
    {
      "cell_type": "code",
      "metadata": {
        "id": "hC7EtfXBWmIB"
      },
      "source": [
        "print(a.shape)\n",
        "print(A.shape)\n",
        "print(A.dtype)\n",
        "C = A.astype(np.float32)\n",
        "print(C.dtype)\n"
      ],
      "execution_count": null,
      "outputs": []
    },
    {
      "cell_type": "markdown",
      "metadata": {
        "id": "XlKW3-r_9s1E"
      },
      "source": [
        "Numpy má aj funkcie na tvorenie základných matíc. Tieto príkazy sú np.zeros, np.ones a np.empty."
      ]
    },
    {
      "cell_type": "code",
      "metadata": {
        "id": "n0bdDGaQjuYP"
      },
      "source": [
        "z = np.zeros([5,10])\n",
        "print(z)\n",
        "o = np.ones([3,4,5])\n",
        "print(o)\n",
        "e = np.empty([6])\n",
        "print(e)"
      ],
      "execution_count": null,
      "outputs": []
    },
    {
      "cell_type": "markdown",
      "metadata": {
        "id": "FQbG74jFkewe"
      },
      "source": [
        "Je možné tvoriť aj náhodné čísla pomocou np.random.random"
      ]
    },
    {
      "cell_type": "code",
      "metadata": {
        "id": "LrMsw30Gk234"
      },
      "source": [
        "r = np.random.random([6,10,3])\n",
        "print(r)"
      ],
      "execution_count": null,
      "outputs": []
    },
    {
      "cell_type": "markdown",
      "metadata": {
        "id": "U1vO9XhhlAXg"
      },
      "source": [
        "Tieto náhodné čísla použijeme na prácu s indexmi. Indexácia je podobná ako v matlabe, ale platia tu pythonovské konvencie. Indexuje sa viacerými indexmi. Ak sa indexuje menej indexmi, tak sa tie ostatné berú ako :, čo znamená zobartie všetkých prvkov pozdĺž dimenzie."
      ]
    },
    {
      "cell_type": "code",
      "metadata": {
        "id": "oTMiqcZPlwtl"
      },
      "source": [
        "print(r[3,4,1])\n",
        "print(r[:,:,-1])\n",
        "print(r[:,:,1].shape)\n",
        "print(r[0:4,5:6,:])\n",
        "print(r[0:4,5:6,:].shape)"
      ],
      "execution_count": null,
      "outputs": []
    },
    {
      "cell_type": "markdown",
      "metadata": {
        "id": "ybA-W90VmNhG"
      },
      "source": [
        "Indexovať môžeme aj s preskakovaním jednotlivých prvkov, tzv. slicing. To sa robí pomocou ďalšej dvojbodky. Formát je potom \\[začiatok:koniec:skok\\]. Ak niečo z toho vynecháme, tak žačiatok bude defaultne 0, koniec -1 a skok 1."
      ]
    },
    {
      "cell_type": "code",
      "metadata": {
        "id": "1kmxFdtUmTRE"
      },
      "source": [
        "p = np.arange(25)\n",
        "print(p)\n",
        "print(p[4:16:2])\n",
        "print(p[2:-4:6])\n",
        "print(p[:10:])\n",
        "print(p[::3])\n",
        "print(p[1::6])\n",
        "print(p[-6:])\n",
        "print(r[1::2,0::3,:])"
      ],
      "execution_count": null,
      "outputs": []
    },
    {
      "cell_type": "markdown",
      "metadata": {
        "id": "478cxvQtmk9t"
      },
      "source": [
        "Pri deep learningu často potrebujeme vytvoriť tzv. singleton dimenziu. To sa dá urobiť pomocou pridania None indexu, alebo viac pythonic spôsobom pomocou np.newaxis."
      ]
    },
    {
      "cell_type": "code",
      "metadata": {
        "id": "IXKkfdNpmy0h"
      },
      "source": [
        "print(r[None,:,:,:].shape)\n",
        "print(r[None].shape)\n",
        "print(r[np.newaxis,:,:,:].shape)\n",
        "print(r[:,:,:,np.newaxis].shape)\n",
        "print(r[np.newaxis,:,0,:].shape)"
      ],
      "execution_count": null,
      "outputs": []
    },
    {
      "cell_type": "markdown",
      "metadata": {
        "id": "LK7K0RginLDB"
      },
      "source": [
        "Podobne ako v matlabe existuje broadcasting."
      ]
    },
    {
      "cell_type": "code",
      "metadata": {
        "id": "110A-dLgnRaU"
      },
      "source": [
        "r += 10\n",
        "print(r)\n",
        "r[0,:,:] = np.random.random([10,3])\n",
        "print(r.shape)\n",
        "r[0] = np.random.random([10,3])\n",
        "print(r.shape)\n",
        "r[0] = np.zeros([10,1])\n",
        "print(r.shape)\n",
        "r/=500\n",
        "print(r)"
      ],
      "execution_count": null,
      "outputs": []
    },
    {
      "cell_type": "markdown",
      "metadata": {
        "id": "-cUMWPBNoFj2"
      },
      "source": [
        "Je možné polia pretvarovať pomocou np.reshape(arr, shape)"
      ]
    },
    {
      "cell_type": "code",
      "metadata": {
        "id": "Mn62_4cToQs4"
      },
      "source": [
        "q = np.reshape(r, [6,30])\n",
        "print(q.shape)"
      ],
      "execution_count": null,
      "outputs": []
    },
    {
      "cell_type": "markdown",
      "metadata": {
        "id": "PH3_y_ThuEwJ"
      },
      "source": [
        "Indexovať môžeme aj pomocou podmienok."
      ]
    },
    {
      "cell_type": "code",
      "metadata": {
        "id": "O3j-u9yRuVFk"
      },
      "source": [
        "r = np.random.random([5,5])\n",
        "print(r)\n",
        "r[r < 0.5] = -500\n",
        "print(r)"
      ],
      "execution_count": null,
      "outputs": []
    },
    {
      "cell_type": "markdown",
      "metadata": {
        "id": "G9Zqp4-PrLG3"
      },
      "source": [
        "Podmienky môžeme použiť aj np.where(cond, a1, a2), ktorá vráti pole ktoré ma na miestach kde je cond splnená hodnoty z a1 a inde hodnoty z a2. Použijeme tu príkaz np.arange(i), ktorý vráti pole podobne ako range z pythonu."
      ]
    },
    {
      "cell_type": "code",
      "metadata": {
        "id": "SBKZaiIttoXs"
      },
      "source": [
        "a = np.arange(10)\n",
        "print(a)\n",
        "b = np.where(a < 5, a, a**2)\n",
        "print(b)"
      ],
      "execution_count": null,
      "outputs": []
    },
    {
      "cell_type": "markdown",
      "metadata": {
        "id": "Ma67w0Sn4fj9"
      },
      "source": [
        "## OpenCV\n",
        "\n",
        "OpenCV je knižnica na manipuláciu obrazu. Na predmetoch spracovania obrazu a počítačového videnia používame Matlab na prácu s obrazom. V pythone môžeme použiť na väčšinu týchto operácií OpenCV. Ak by ste chceli použiť OpenCV inde ako v Google Colab môžete si ho nainštalovať cez pip ako balík opencv-python."
      ]
    },
    {
      "cell_type": "code",
      "metadata": {
        "id": "69J98ZrA47Nj"
      },
      "source": [
        "import cv2"
      ],
      "execution_count": null,
      "outputs": []
    },
    {
      "cell_type": "markdown",
      "metadata": {
        "id": "p1VIsIaW5JMc"
      },
      "source": [
        "Načítanie obrazu je v OpenCV jednoduché. Načítame si obrázok, ktorý sme stiahli cez v úvodnej časti cvičenia. Vidíme, že tento obrázok je NumPy pole. S rozmermi šírka x výška x 3. Posledný kanál reprezentuje tri RGB zložky. Máme teda tri matice a z nich každá intenzitu jednej z troch zložiek. Je treba si uvedomiť, že **OpenCV defaultne pracuje s obrazom v poradí BGR!**"
      ]
    },
    {
      "cell_type": "code",
      "metadata": {
        "id": "xD05yAvA5UzL"
      },
      "source": [
        "img = cv2.imread('googlelogo_color_272x92dp.png')\n",
        "print(type(img))\n",
        "print(img.shape)\n",
        "print(img.dtype)"
      ],
      "execution_count": null,
      "outputs": []
    },
    {
      "cell_type": "markdown",
      "metadata": {
        "id": "aCfW87aq57H7"
      },
      "source": [
        "Zobrazovať obrázok v OpenCV je trocha komplikované. Keďže sme v notebooku potrebujeme na to inú knižnicu. Konkrétne matplotlib. Pri zobrazovaní obrazu je nutné prekonvertovať obraz z BGR na RGB.\n",
        "\n",
        "\n",
        "Zakomentovaná časť kódu ukazuje ako sa to robí pri spúštaní mimo notebooku. cv2.waitKey zastaví beh programu napočet milisekúnd v jej argumente, alebo dokedy je stlačená klávesa. V prípade, že argument je 0, tak čaká na klávesu donekončna."
      ]
    },
    {
      "cell_type": "code",
      "metadata": {
        "id": "a9JbQ0vR6jrD"
      },
      "source": [
        "import matplotlib.pyplot as plt\n",
        "plt.imshow(img[:,:,::-1])\n",
        "plt.show()\n",
        "\n",
        "# cv2.imshow('Obrazok', img)\n",
        "# if cv2.waitKey(0) & 0xFF == ord('q'):\n",
        "#     return"
      ],
      "execution_count": null,
      "outputs": []
    },
    {
      "cell_type": "markdown",
      "metadata": {
        "id": "HKR2_i399nhD"
      },
      "source": [
        "Môžeme zobraziť aj jednotlivé kanály."
      ]
    },
    {
      "cell_type": "code",
      "metadata": {
        "id": "zWImakv5-FIw"
      },
      "source": [
        "plt.imshow(img[:,:,0],cmap='gray')\n",
        "plt.show()\n",
        "plt.imshow(img[:,:,1],cmap='gray')\n",
        "plt.show()\n",
        "plt.imshow(img[:,:,2],cmap='gray')\n",
        "plt.show()"
      ],
      "execution_count": null,
      "outputs": []
    },
    {
      "cell_type": "markdown",
      "metadata": {
        "id": "2YqbEbCt_E5x"
      },
      "source": [
        "Obrázky sú defualtne v uint8, teda prirodzené čísla od 0 do 255. Niekedy chceme dostať tieto hodnoty do floatov a vtedy sa štandardne očakávajú hodnoty medzi 0 a 1."
      ]
    },
    {
      "cell_type": "code",
      "metadata": {
        "id": "PyiZHgUP-u_x"
      },
      "source": [
        "img_f = img / 255\n",
        "print(img_f.dtype)\n",
        "plt.imshow(img_f[:,:,::-1])\n",
        "plt.show()"
      ],
      "execution_count": null,
      "outputs": []
    },
    {
      "cell_type": "markdown",
      "metadata": {
        "id": "RO_BLn37AI38"
      },
      "source": [
        "S obrazom môžeme jednoducho manipulovať. Napríklad zosíliť jeden kanál."
      ]
    },
    {
      "cell_type": "code",
      "metadata": {
        "id": "o4C7iJmDAcP2"
      },
      "source": [
        "img[:,:,0] += 20\n",
        "plt.imshow(img[:,:,::-1])\n",
        "plt.show()"
      ],
      "execution_count": null,
      "outputs": []
    },
    {
      "cell_type": "markdown",
      "metadata": {
        "id": "G4xqlwUpcCOh"
      },
      "source": [
        "## Tensorflow\n",
        "\n",
        "Teraz si ukážeme prácu s tenforflowom. V prvej časti si ukážeme workflow tréningu siete a v druhej časti si ukážeme ako sa dá pracovať s objektovými detektormi.\n"
      ]
    },
    {
      "cell_type": "markdown",
      "metadata": {
        "id": "iPO1hVbhsZk4"
      },
      "source": [
        "### Tréning neurónovej siete\n",
        "\n",
        "Teraz si ukážeme ako funguje trénovanie neurónovej siete. Sieť nebudeme trénovať priamo pomocou tensroflowu ale využijeme jeho modul keras, ktorý celý proces zjednodušuje.\n",
        "\n",
        "Na tréning použijeme dataset MNIST, ktorý obsahuje ručne písané číslice.\n",
        "\n"
      ]
    },
    {
      "cell_type": "code",
      "metadata": {
        "id": "0jmoRgxf3AY3"
      },
      "source": [
        "from tensorflow import keras\n",
        "from keras.datasets import mnist\n",
        "\n",
        "(x, y), (x_test, y_test) = mnist.load_data()\n",
        "x = np.reshape(x, (-1, 28, 28, 1)) / 255\n",
        "x_test = np.reshape(x_test, (-1, 28, 28, 1)) / 255\n",
        "\n",
        "print(\"Obrazky mame nacitane v tvare {}\".format(x.shape))\n",
        "plt.imshow(x[0, :, :, 0], cmap='gray')\n",
        "plt.show()\n",
        "\n",
        "print(\"Povodne maju tvar: {} a jeden element vyzera takto: {}\".format(y.shape, y[0]))\n",
        "y = keras.utils.to_categorical(y)\n",
        "print(\"Po uprave data maju tvar: {} a jeden element vyzera takto: {}\".format(y.shape, y[0]))\n",
        "y_test = keras.utils.to_categorical(y_test)\n"
      ],
      "execution_count": null,
      "outputs": []
    },
    {
      "cell_type": "markdown",
      "metadata": {
        "id": "RGTYSOk3_6bd"
      },
      "source": [
        "Pre tréning si najprv vytvoríme tzv. model, ktorý budeme trénovať. Bude nám stačit tzv sekvenčný model do ktorého môžeme postupne pridávať vrstvy a tie sa budú vždy na obrázok v tom istom poradí aplikovať.\n",
        "\n",
        "Naša sieť bude mať zopár konvolučných vrstiev po ktorých bude následovať pooling. Toto pár krát zopakujeme až na konci spravíme globálny pooling. Globálny pooling zredukuje rozmery obrázka a ostane nám tak príznakový vektor. Následne pridáme ešte do modelu zopár plne prepojených vrstiev na klasifikáciu. Na konci budeme mať 10 neurónov s aktivačnou funkciou softmax."
      ]
    },
    {
      "cell_type": "code",
      "metadata": {
        "id": "UolekYAu__Mo"
      },
      "source": [
        "model = keras.models.Sequential()\n",
        "model.add(keras.layers.Conv2D(32, 3, activation='relu', input_shape=(28, 28, 1)))\n",
        "model.add(keras.layers.MaxPooling2D(pool_size=(2, 2)))\n",
        "model.add(keras.layers.Conv2D(64, 3, activation='relu'))\n",
        "model.add(keras.layers.MaxPooling2D(pool_size=(2, 2)))\n",
        "model.add(keras.layers.Conv2D(128, 3, activation='relu'))\n",
        "#model.add(keras.layers.MaxPooling2D(pool_size=(2, 2)))\n",
        "#model.add(keras.layers.Conv2D(256, 3, activation='relu'))\n",
        "\n",
        "model.add(keras.layers.GlobalAveragePooling2D())\n",
        "\n",
        "model.add(keras.layers.Dense(128, activation='relu'))\n",
        "model.add(keras.layers.Dense(64, activation='relu'))\n",
        "model.add(keras.layers.Dense(10, activation='softmax'))\n",
        "\n",
        "print(model.summary())"
      ],
      "execution_count": null,
      "outputs": []
    },
    {
      "cell_type": "markdown",
      "metadata": {
        "id": "gquvICWNDYYd"
      },
      "source": [
        "Na to aby sme model natrénovali potrebujeme tzv. cenovú funkciu. Keďže máme 10 kategórií vyberieme categorical crossentropy. Takisto potrebujeme aj vybrať optimalizačný algoritmus. Vyberieme si Adam. Pri kompilácii si ešte vyberieme, metriku ktorá sa nám bude zobrazovať počas trénovanie. Táto metrika nemá vplyv na tréning ale je vhodné použíť nejakú, ktorú dokážeme interpretovať."
      ]
    },
    {
      "cell_type": "code",
      "metadata": {
        "id": "qr7dJd4sDmI8"
      },
      "source": [
        "model.compile(optimizer='adam', loss='categorical_crossentropy', metrics=['accuracy'])"
      ],
      "execution_count": null,
      "outputs": []
    },
    {
      "cell_type": "markdown",
      "metadata": {
        "id": "IT2r6owBG66_"
      },
      "source": [
        "Tréning je potom jednoduchý a realizujeme ho pomocou model.fit\n",
        "\n",
        "Pri tréningu si trénovacie dáta rozdelíme na trénovacie a validačné. Validačné sa používajú na to aby sme overili, že tréning prebieha dobre (nenastala nejaká zásadná chyba, alebo sme sa nedostali do bodu preučenia) a aby sme vedeli nastavovať tzv. hyperparametre tréningu. Tréning sa deje po dávkach (batch) postupnými zmenami v parametroch siete. Jedno prejdenie trénovacích obrázkov nazývame epocha. Na konci každej epochy sa model spustí na validačných dátach, ale bez toho aby sa sieť trénovala."
      ]
    },
    {
      "cell_type": "code",
      "metadata": {
        "id": "PIWamk_AHWez"
      },
      "source": [
        "model.fit(x[:50000], y[:50000], validation_data=(x[50000:], y[50000:]), batch_size=32, epochs=3, shuffle=True)"
      ],
      "execution_count": null,
      "outputs": []
    },
    {
      "cell_type": "markdown",
      "metadata": {
        "id": "mabJbwGJKyiy"
      },
      "source": [
        "Model môžeme vyhodnotiť na testovacích dátach buď rovno naraz, alebo si ho môžeme púštať postupne."
      ]
    },
    {
      "cell_type": "code",
      "metadata": {
        "id": "J-kHkl48KIyh"
      },
      "source": [
        "model.evaluate(x_test, y_test)"
      ],
      "execution_count": null,
      "outputs": []
    },
    {
      "cell_type": "code",
      "metadata": {
        "id": "HUl-FxzOK8Pz"
      },
      "source": [
        "for i in range(10):\n",
        "  img = x_test[i]\n",
        "  plt.imshow(img[:, :, 0], cmap='gray')\n",
        "  plt.show()\n",
        "  pred = model.predict(img[np.newaxis, :, : ,:])\n",
        "  print(pred)\n",
        "  print(np.argmax(pred[0]))"
      ],
      "execution_count": null,
      "outputs": []
    },
    {
      "cell_type": "markdown",
      "metadata": {
        "id": "rofoKV0Lhm_5"
      },
      "source": [
        "### Detekcia chodcov\n",
        "\n",
        "Prvá úloha bude na detekciu chodcov. Budeme pracovať s rovnakým datasetom ako na 9. cvičení. Teraz ho stiahneme. A zobrazíme jeden obrázok."
      ]
    },
    {
      "cell_type": "code",
      "metadata": {
        "id": "dbYQ7bjwiYB1"
      },
      "source": [
        "!wget https://github.com/kocurvik/edu/raw/master/PV/materialy/cv09.zip\n",
        "!unzip cv09.zip\n",
        "\n",
        "img = cv2.imread('pedxing-seq1/00002071.jpg')\n",
        "plt.imshow(img[:, :, ::-1])"
      ],
      "execution_count": null,
      "outputs": []
    },
    {
      "cell_type": "markdown",
      "metadata": {
        "id": "I-lbEHljJ-9C"
      },
      "source": [
        "Model neurónovej siete si stiahneme jednoducho vďaka tensorflow hub. Stiahneme si objektový detektor CenterNet: https://tfhub.dev/tensorflow/centernet/resnet50v2_512x512/1"
      ]
    },
    {
      "cell_type": "code",
      "metadata": {
        "id": "qjKvPMk7J-9E"
      },
      "source": [
        "import tensorflow_hub as hub\n",
        "detector = hub.load(\"https://tfhub.dev/tensorflow/centernet/resnet50v2_512x512/1\")"
      ],
      "execution_count": null,
      "outputs": []
    },
    {
      "cell_type": "markdown",
      "metadata": {
        "id": "bR2tl4eiJ-9F"
      },
      "source": [
        "Sieť očakáva na vstupe obrázok v tvare 1 x výška x šírka x 3 v uint8 v rozsahu 0 .. 255. Sieť aplikujeme tak, že zavoláme detector na obrázok. Výstupom je dict s rôznymi hodnotami. Detection scores určujú pravdepodobnosti, že detegovaný objekt je detegovaný správne. detection_boxes obsahuje bounding boxy v relatívnych súradniciach (0, 1) v poradí ymin, xmin, ymax, xmax. detection_classes označujú triedy detekcií podľa datasetu MS COCO: https://gist.github.com/AruniRC/7b3dadd004da04c80198557db5da4bda\n",
        "\n",
        "Nasledujúci kód spustí neurónovú sieť a zobrazí jej výstup. Chodcov zobrazí zeleným štvoruholníkom a všetky ostatné objekty červeným."
      ]
    },
    {
      "cell_type": "code",
      "metadata": {
        "id": "lKjoNW0uJ-9G"
      },
      "source": [
        "img = cv2.imread('pedxing-seq1/00002150.jpg')\n",
        "detector_output = detector(img[np.newaxis, :, :, :])\n",
        "\n",
        "print(detector_output)\n",
        "\n",
        "scores = detector_output['detection_scores'].numpy()[0]\n",
        "classes = detector_output['detection_classes'].numpy()[0]\n",
        "boxes = detector_output['detection_boxes'].numpy()[0]\n",
        "\n",
        "width = img.shape[1]\n",
        "height = img.shape[0]\n",
        "\n",
        "for i in range(len(scores)):\n",
        "  if scores[i] < 0.3:\n",
        "    break\n",
        "\n",
        "  if classes[i] == 1:\n",
        "    img = cv2.rectangle(img, (int(width * boxes[i, 1]), int(height * boxes[i, 0])), (int(width * boxes[i, 3]), int(height * boxes[i, 2])), (0, 255, 0), thickness=3)\n",
        "  else:\n",
        "    img = cv2.rectangle(img, (int(width * boxes[i, 1]), int(height * boxes[i, 0])), (int(width * boxes[i, 3]), int(height * boxes[i, 2])), (0, 0, 255), thickness=3)\n",
        "\n",
        "plt.imshow(img[:, :, ::-1])\n",
        "plt.show()\n"
      ],
      "execution_count": null,
      "outputs": []
    },
    {
      "cell_type": "code",
      "metadata": {
        "id": "ifZf1eiJJ-Pf"
      },
      "source": [
        ""
      ],
      "execution_count": null,
      "outputs": []
    }
  ]
}
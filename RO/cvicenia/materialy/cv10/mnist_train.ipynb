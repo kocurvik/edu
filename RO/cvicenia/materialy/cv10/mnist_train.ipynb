{
  "nbformat": 4,
  "nbformat_minor": 0,
  "metadata": {
    "colab": {
      "name": "mnist-train.ipynb",
      "version": "0.3.2",
      "provenance": [],
      "collapsed_sections": [],
      "include_colab_link": true
    },
    "kernelspec": {
      "name": "python3",
      "display_name": "Python 3"
    }
  },
  "cells": [
    {
      "cell_type": "markdown",
      "metadata": {
        "id": "view-in-github",
        "colab_type": "text"
      },
      "source": [
        "<a href=\"https://colab.research.google.com/github/kocurvik/edu/blob/master/RO/materialy/cv10/mnist_train.ipynb\" target=\"_parent\"><img src=\"https://colab.research.google.com/assets/colab-badge.svg\" alt=\"Open In Colab\"/></a>"
      ]
    },
    {
      "metadata": {
        "id": "hDkthvy-2LGd",
        "colab_type": "code",
        "outputId": "eed76f26-0945-48a0-cbc4-e18d6cd8ab18",
        "colab": {
          "base_uri": "https://localhost:8080/",
          "height": 34
        }
      },
      "cell_type": "code",
      "source": [
        "import keras\n",
        "from keras.datasets import mnist\n",
        "from keras.models import Sequential\n",
        "from keras.layers import Dense\n",
        "import numpy as np\n",
        "import matplotlib.pyplot as plt"
      ],
      "execution_count": 1,
      "outputs": [
        {
          "output_type": "stream",
          "text": [
            "Using TensorFlow backend.\n"
          ],
          "name": "stderr"
        }
      ]
    },
    {
      "metadata": {
        "id": "rcr0K3w_EBWJ",
        "colab_type": "text"
      },
      "cell_type": "markdown",
      "source": [
        "Ak chceme ukladať súbory do nášho google drive musíme ho mountnúť."
      ]
    },
    {
      "metadata": {
        "id": "0kzqGA8MEK34",
        "colab_type": "code",
        "colab": {
          "base_uri": "https://localhost:8080/",
          "height": 34
        },
        "outputId": "0e58fb09-2ab2-4fa9-f829-23e035867f20"
      },
      "cell_type": "code",
      "source": [
        "from google.colab import drive\n",
        "drive.mount('/content/gdrive')\n",
        "\n",
        "root_path = 'gdrive/My Drive/Colab/'"
      ],
      "execution_count": 2,
      "outputs": [
        {
          "output_type": "stream",
          "text": [
            "Drive already mounted at /content/gdrive; to attempt to forcibly remount, call drive.mount(\"/content/gdrive\", force_remount=True).\n"
          ],
          "name": "stdout"
        }
      ]
    },
    {
      "metadata": {
        "id": "WWl_Gfr15dw_",
        "colab_type": "text"
      },
      "cell_type": "markdown",
      "source": [
        "Keras má predpripravené dáta z Datasetu MNIST. Načítame ich a a zobrazíme si jeden z obrázkov."
      ]
    },
    {
      "metadata": {
        "id": "S4f3SPSR5eyH",
        "colab_type": "code",
        "colab": {
          "base_uri": "https://localhost:8080/",
          "height": 269
        },
        "outputId": "aae2c8ab-f0e6-4524-d0d9-0a1651a3235f"
      },
      "cell_type": "code",
      "source": [
        "num_classes = 10\n",
        "(x, y), (x_test, y_test) = mnist.load_data()\n",
        "\n",
        "plt.imshow(x[0,:,:])\n",
        "plt.show()"
      ],
      "execution_count": 3,
      "outputs": [
        {
          "output_type": "display_data",
          "data": {
            "image/png": "[encoded data removed]",
            "text/plain": [
              "<Figure size 432x288 with 1 Axes>"
            ]
          },
          "metadata": {
            "tags": []
          }
        }
      ]
    },
    {
      "metadata": {
        "id": "C2yNMq_F6R-M",
        "colab_type": "text"
      },
      "cell_type": "markdown",
      "source": [
        "Obrázky sú v rozmeroch 28x28. Ak chceme použiť plne prepojenú sieť je nutné ich upraviť do vektorovej formy. Teda každý obrázok bude vektor s dimenziou 784. Trénovacie dáta si navyše rozdelíme na validačnú a trénovaciu množinu."
      ]
    },
    {
      "metadata": {
        "id": "vzuNwNIE6OiL",
        "colab_type": "code",
        "colab": {}
      },
      "cell_type": "code",
      "source": [
        "y_val = y[0:10000]\n",
        "y_train = y[10000:]\n",
        "x_val = np.reshape(x[0:10000],(10000,784)).\\\n",
        "            astype(np.float32)/255\n",
        "x_train = np.reshape(x[10000:],(50000,784)).\\\n",
        "              astype(np.float32)/255\n",
        "\n",
        "x_test = np.reshape(x_test,(10000,784)).\\\n",
        "              astype(np.float32)/255"
      ],
      "execution_count": 0,
      "outputs": []
    },
    {
      "metadata": {
        "id": "eYdO7Yq96ms_",
        "colab_type": "text"
      },
      "cell_type": "markdown",
      "source": [
        "Hodnoty v y-ových premenných označujú vždy len presne danú číslicu. My však chceme one-hot reprezentáciu."
      ]
    },
    {
      "metadata": {
        "id": "I1I_WWkE7FK2",
        "colab_type": "code",
        "colab": {}
      },
      "cell_type": "code",
      "source": [
        "y_train = keras.utils.to_categorical(y_train, num_classes)\n",
        "y_val = keras.utils.to_categorical(y_val, num_classes)\n",
        "y_test = keras.utils.to_categorical(y_test, num_classes)"
      ],
      "execution_count": 0,
      "outputs": []
    },
    {
      "metadata": {
        "id": "abGv5mRG7Gt5",
        "colab_type": "text"
      },
      "cell_type": "markdown",
      "source": [
        "Konečne môžeme pristúpiť k tvorbe modelu. Keďže použijeme len sekvenčný model, tak nám stačí popridávať plne prepojené vrstvy."
      ]
    },
    {
      "metadata": {
        "id": "lhdUix969T2F",
        "colab_type": "code",
        "colab": {}
      },
      "cell_type": "code",
      "source": [
        "model = Sequential()\n",
        "model.add(Dense(60, activation='sigmoid'))\n",
        "model.add(Dense(30, activation='sigmoid'))\n",
        "model.add(Dense(10, activation='softmax'))"
      ],
      "execution_count": 0,
      "outputs": []
    },
    {
      "metadata": {
        "id": "bOk6nS6S9W4U",
        "colab_type": "text"
      },
      "cell_type": "markdown",
      "source": [
        "Takto sme zatiaľ definovali štruktúru modelu. Je nutné mu pridať cenovú funkciu a trénovací algoritmus (toto vytvorí v tensorflowe štruktúru, ktorá zabezbečuje tréning)."
      ]
    },
    {
      "metadata": {
        "id": "BzTdin2m9ftM",
        "colab_type": "code",
        "colab": {
          "base_uri": "https://localhost:8080/",
          "height": 68
        },
        "outputId": "d2c5511e-0ea4-4ad6-c89c-5c25abb3a637"
      },
      "cell_type": "code",
      "source": [
        "loss = keras.losses.categorical_crossentropy\n",
        "optimizer = keras.optimizers.Adam()\n",
        "model.compile(loss=loss,\n",
        "              optimizer=optimizer,\n",
        "              metrics=['accuracy'])"
      ],
      "execution_count": 7,
      "outputs": [
        {
          "output_type": "stream",
          "text": [
            "WARNING:tensorflow:From /usr/local/lib/python3.6/dist-packages/tensorflow/python/framework/op_def_library.py:263: colocate_with (from tensorflow.python.framework.ops) is deprecated and will be removed in a future version.\n",
            "Instructions for updating:\n",
            "Colocations handled automatically by placer.\n"
          ],
          "name": "stdout"
        }
      ]
    },
    {
      "metadata": {
        "id": "2KuFD2xt9uRb",
        "colab_type": "text"
      },
      "cell_type": "markdown",
      "source": [
        "V prípade, že si chceme ukladať model priebežne pri trénovaní môžeme odkomentovať túto časť."
      ]
    },
    {
      "metadata": {
        "id": "mxcpxsIg9vQD",
        "colab_type": "code",
        "colab": {}
      },
      "cell_type": "code",
      "source": [
        "callbacks = []\n",
        "#checkpoint = keras.callbacks.ModelCheckpoint(\n",
        "#    root_path + 'mnist_{epoch:02d}-{val_loss:.8f}-{val_acc:.4f}.hdf5',\n",
        "#    verbose=1)\n",
        "#callbacks.append(checkpoint)"
      ],
      "execution_count": 0,
      "outputs": []
    },
    {
      "metadata": {
        "id": "XcQOY_VO9_5s",
        "colab_type": "text"
      },
      "cell_type": "markdown",
      "source": [
        "Model natrénujeme!"
      ]
    },
    {
      "metadata": {
        "id": "iMasBJcn-Aiu",
        "colab_type": "code",
        "colab": {
          "base_uri": "https://localhost:8080/",
          "height": 425
        },
        "outputId": "266772f4-0053-4ff0-d748-f457cd625e60"
      },
      "cell_type": "code",
      "source": [
        "batch_size = 128\n",
        "epochs = 10\n",
        "\n",
        "history = model.fit(x_train, y_train,\n",
        "                    batch_size=batch_size,\n",
        "                    epochs=epochs,\n",
        "                    verbose=1,\n",
        "                    validation_data=(x_val, y_val),\n",
        "                    callbacks=callbacks)"
      ],
      "execution_count": 9,
      "outputs": [
        {
          "output_type": "stream",
          "text": [
            "WARNING:tensorflow:From /usr/local/lib/python3.6/dist-packages/tensorflow/python/ops/math_ops.py:3066: to_int32 (from tensorflow.python.ops.math_ops) is deprecated and will be removed in a future version.\n",
            "Instructions for updating:\n",
            "Use tf.cast instead.\n",
            "Train on 50000 samples, validate on 10000 samples\n",
            "Epoch 1/10\n",
            "50000/50000 [==============================] - 1s 29us/step - loss: 1.2204 - acc: 0.7414 - val_loss: 0.5631 - val_acc: 0.8873\n",
            "Epoch 2/10\n",
            "50000/50000 [==============================] - 1s 25us/step - loss: 0.4307 - acc: 0.8989 - val_loss: 0.3327 - val_acc: 0.9145\n",
            "Epoch 3/10\n",
            "50000/50000 [==============================] - 1s 25us/step - loss: 0.3012 - acc: 0.9199 - val_loss: 0.2611 - val_acc: 0.9289\n",
            "Epoch 4/10\n",
            "50000/50000 [==============================] - 1s 25us/step - loss: 0.2447 - acc: 0.9327 - val_loss: 0.2259 - val_acc: 0.9355\n",
            "Epoch 5/10\n",
            "50000/50000 [==============================] - 1s 25us/step - loss: 0.2083 - acc: 0.9423 - val_loss: 0.2006 - val_acc: 0.9435\n",
            "Epoch 6/10\n",
            "50000/50000 [==============================] - 1s 25us/step - loss: 0.1821 - acc: 0.9484 - val_loss: 0.1811 - val_acc: 0.9472\n",
            "Epoch 7/10\n",
            "50000/50000 [==============================] - 1s 25us/step - loss: 0.1610 - acc: 0.9547 - val_loss: 0.1646 - val_acc: 0.9516\n",
            "Epoch 8/10\n",
            "50000/50000 [==============================] - 1s 25us/step - loss: 0.1438 - acc: 0.9599 - val_loss: 0.1534 - val_acc: 0.9549\n",
            "Epoch 9/10\n",
            "50000/50000 [==============================] - 1s 25us/step - loss: 0.1296 - acc: 0.9636 - val_loss: 0.1422 - val_acc: 0.9591\n",
            "Epoch 10/10\n",
            "50000/50000 [==============================] - 1s 25us/step - loss: 0.1172 - acc: 0.9671 - val_loss: 0.1366 - val_acc: 0.9597\n"
          ],
          "name": "stdout"
        }
      ]
    },
    {
      "metadata": {
        "id": "V8FWt42fSGE6",
        "colab_type": "text"
      },
      "cell_type": "markdown",
      "source": [
        "Funkcia fit vracia dict history, ktorý obsahuje informácie o priebehu trénovania."
      ]
    },
    {
      "metadata": {
        "id": "5yov7_iOSLb6",
        "colab_type": "code",
        "colab": {
          "base_uri": "https://localhost:8080/",
          "height": 573
        },
        "outputId": "77f5ff6f-520a-4ccc-eb12-875b6ad4d93c"
      },
      "cell_type": "code",
      "source": [
        "plt.plot(history.history['acc'])\n",
        "plt.plot(history.history['val_acc'])\n",
        "plt.title('model accuracy')\n",
        "plt.ylabel('accuracy')\n",
        "plt.xlabel('epoch')\n",
        "plt.legend(['train', 'val'], loc='upper left')\n",
        "plt.show()\n",
        "\n",
        "plt.plot(history.history['loss'])\n",
        "plt.plot(history.history['val_loss'])\n",
        "plt.title('model loss')\n",
        "plt.ylabel('loss')\n",
        "plt.xlabel('epoch')\n",
        "plt.legend(['train', 'val'], loc='upper left')\n",
        "plt.show()"
      ],
      "execution_count": 10,
      "outputs": [
        {
          "output_type": "display_data",
          "data": {
            "image/png": "[encoded data removed]",
            "text/plain": [
              "<Figure size 432x288 with 1 Axes>"
            ]
          },
          "metadata": {
            "tags": []
          }
        },
        {
          "output_type": "display_data",
          "data": {
            "image/png": "[encoded data removed]",
            "text/plain": [
              "<Figure size 432x288 with 1 Axes>"
            ]
          },
          "metadata": {
            "tags": []
          }
        }
      ]
    },
    {
      "metadata": {
        "id": "W9jzWl22-aGU",
        "colab_type": "text"
      },
      "cell_type": "markdown",
      "source": [
        "Natrénovný model môžeme spustiť na dáta jednotlivo. Je nutné ale pridať jednu singleton dimenziu."
      ]
    },
    {
      "metadata": {
        "id": "2Yc2tKM--nwM",
        "colab_type": "code",
        "colab": {
          "base_uri": "https://localhost:8080/",
          "height": 337
        },
        "outputId": "a7986392-e879-44f5-dd00-1b23d84f1438"
      },
      "cell_type": "code",
      "source": [
        "pred = model.predict(x_test[np.newaxis, 0, :])\n",
        "print(pred)\n",
        "print(y_test[0,:])\n",
        "plt.imshow(np.reshape(x_test[0],(28,28)))\n",
        "plt.show"
      ],
      "execution_count": 11,
      "outputs": [
        {
          "output_type": "stream",
          "text": [
            "[[5.1373794e-05 1.5708584e-04 6.3454418e-04 9.9337951e-04 2.6530748e-05\n",
            "  7.4540279e-05 9.4616649e-07 9.9705410e-01 6.1563328e-06 1.0012928e-03]]\n",
            "[0. 0. 0. 0. 0. 0. 0. 1. 0. 0.]\n"
          ],
          "name": "stdout"
        },
        {
          "output_type": "execute_result",
          "data": {
            "text/plain": [
              "<function matplotlib.pyplot.show>"
            ]
          },
          "metadata": {
            "tags": []
          },
          "execution_count": 11
        },
        {
          "output_type": "display_data",
          "data": {
            "image/png": "[encoded data removed]",
            "text/plain": [
              "<Figure size 432x288 with 1 Axes>"
            ]
          },
          "metadata": {
            "tags": []
          }
        }
      ]
    },
    {
      "metadata": {
        "id": "Xd7OVdYw-4Fr",
        "colab_type": "text"
      },
      "cell_type": "markdown",
      "source": [
        "Môžeme vyhodnotiť presnosť dát na testovacej množine."
      ]
    },
    {
      "metadata": {
        "id": "cK1DmwQA-lxF",
        "colab_type": "code",
        "colab": {
          "base_uri": "https://localhost:8080/",
          "height": 68
        },
        "outputId": "eb01026e-48a6-4af9-b6e6-cd324e8920dd"
      },
      "cell_type": "code",
      "source": [
        "score = model.evaluate(x_test, y_test)\n",
        "print('Test loss:', score[0])\n",
        "print('Test accuracy:', score[1])"
      ],
      "execution_count": 12,
      "outputs": [
        {
          "output_type": "stream",
          "text": [
            "10000/10000 [==============================] - 0s 27us/step\n",
            "Test loss: 0.13237439200505613\n",
            "Test accuracy: 0.9609\n"
          ],
          "name": "stdout"
        }
      ]
    },
    {
      "metadata": {
        "id": "U8lXJQedDTex",
        "colab_type": "text"
      },
      "cell_type": "markdown",
      "source": [
        "Model si môžeme uložiť."
      ]
    },
    {
      "metadata": {
        "id": "HmzcVVfXDWxX",
        "colab_type": "code",
        "colab": {}
      },
      "cell_type": "code",
      "source": [
        "model.save(root_path + 'mnist-fc-trained.h5')"
      ],
      "execution_count": 0,
      "outputs": []
    }
  ]
}
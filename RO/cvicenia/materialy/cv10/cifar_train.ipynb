{
  "nbformat": 4,
  "nbformat_minor": 0,
  "metadata": {
    "colab": {
      "name": "cifar_train.ipynb",
      "version": "0.3.2",
      "provenance": [],
      "include_colab_link": true
    },
    "kernelspec": {
      "name": "python3",
      "display_name": "Python 3"
    },
    "accelerator": "GPU"
  },
  "cells": [
    {
      "cell_type": "markdown",
      "metadata": {
        "id": "view-in-github",
        "colab_type": "text"
      },
      "source": [
        "<a href=\"https://colab.research.google.com/github/kocurvik/edu/blob/master/RO/materialy/cv10/cifar_train.ipynb\" target=\"_parent\"><img src=\"https://colab.research.google.com/assets/colab-badge.svg\" alt=\"Open In Colab\"/></a>"
      ]
    },
    {
      "metadata": {
        "id": "hea5nCaEXVsT",
        "colab_type": "code",
        "colab": {
          "base_uri": "https://localhost:8080/",
          "height": 51
        },
        "outputId": "8ed1b890-f0dc-4cfc-d8ee-6ec04f3a1113"
      },
      "cell_type": "code",
      "source": [
        "import keras\n",
        "from keras.datasets import cifar10\n",
        "from keras.models import Sequential\n",
        "from keras.layers import Dense, Dropout, Flatten\n",
        "from keras.layers import Conv2D, MaxPooling2D\n",
        "from keras import backend as K\n",
        "import matplotlib.pyplot as plt\n",
        "import numpy as np\n",
        "\n",
        "from google.colab import drive\n",
        "drive.mount('/content/gdrive')\n",
        "\n",
        "root_path = 'gdrive/My Drive/Colab/'"
      ],
      "execution_count": 1,
      "outputs": [
        {
          "output_type": "stream",
          "text": [
            "Using TensorFlow backend.\n"
          ],
          "name": "stderr"
        },
        {
          "output_type": "stream",
          "text": [
            "Drive already mounted at /content/gdrive; to attempt to forcibly remount, call drive.mount(\"/content/gdrive\", force_remount=True).\n"
          ],
          "name": "stdout"
        }
      ]
    },
    {
      "metadata": {
        "id": "gHuj9-QRZn79",
        "colab_type": "text"
      },
      "cell_type": "markdown",
      "source": [
        "Načítame si dataset cifar-10"
      ]
    },
    {
      "metadata": {
        "id": "6YNDTAQta3nB",
        "colab_type": "code",
        "colab": {
          "base_uri": "https://localhost:8080/",
          "height": 320
        },
        "outputId": "db696491-46cd-4d5f-996b-bced6923bf5e"
      },
      "cell_type": "code",
      "source": [
        "(x_train, y_train), (x_test, y_test) = cifar10.load_data()\n",
        "print('x_train shape:', x_train.shape)\n",
        "print(x_train.shape[0], 'train samples')\n",
        "print(x_test.shape[0], 'test samples')\n",
        "\n",
        "num_classes = 10\n",
        "\n",
        "x_val = x_train[:10000]\n",
        "y_val = y_train[:10000]\n",
        "x_train = x_train[10000:]\n",
        "y_train = y_train[10000:]\n",
        "\n",
        "y_train = keras.utils.to_categorical(y_train, num_classes)\n",
        "y_val = keras.utils.to_categorical(y_val, num_classes)\n",
        "y_test = keras.utils.to_categorical(y_test, num_classes)\n",
        "\n",
        "\n",
        "plt.imshow(x_train[0])\n",
        "plt.show()"
      ],
      "execution_count": 2,
      "outputs": [
        {
          "output_type": "stream",
          "text": [
            "x_train shape: (50000, 32, 32, 3)\n",
            "50000 train samples\n",
            "10000 test samples\n"
          ],
          "name": "stdout"
        },
        {
          "output_type": "display_data",
          "data": {
            "image/png": "[encoded data removed]",
            "text/plain": [
              "<Figure size 432x288 with 1 Axes>"
            ]
          },
          "metadata": {
            "tags": []
          }
        }
      ]
    },
    {
      "metadata": {
        "id": "pol1NLVFcACI",
        "colab_type": "text"
      },
      "cell_type": "markdown",
      "source": [
        "Dáta si upravíme opäť na floaty."
      ]
    },
    {
      "metadata": {
        "id": "HOtshGubcDKe",
        "colab_type": "code",
        "colab": {}
      },
      "cell_type": "code",
      "source": [
        "x_val = x_val.astype(np.float32)/255\n",
        "x_train = x_train.astype(np.float32)/255\n",
        "x_test = x_test.astype(np.float32)/255"
      ],
      "execution_count": 0,
      "outputs": []
    },
    {
      "metadata": {
        "id": "nf7HlsmfcVzA",
        "colab_type": "text"
      },
      "cell_type": "markdown",
      "source": [
        "Vyrobíme si model."
      ]
    },
    {
      "metadata": {
        "id": "WUCajECzcXl3",
        "colab_type": "code",
        "colab": {}
      },
      "cell_type": "code",
      "source": [
        "model = Sequential()\n",
        "model.add(Conv2D(64, (3,3), activation='relu'))\n",
        "model.add(MaxPooling2D(pool_size=(2,2)))\n",
        "model.add(Conv2D(32, (3,3), activation='relu'))\n",
        "model.add(MaxPooling2D(pool_size=(2,2)))"
      ],
      "execution_count": 0,
      "outputs": []
    },
    {
      "metadata": {
        "id": "lGJSGLGtc37o",
        "colab_type": "text"
      },
      "cell_type": "markdown",
      "source": [
        "Na konci modelu budeme mať už len plne prepojené vrstvy musíme preto použiť vrstvu Flatten"
      ]
    },
    {
      "metadata": {
        "id": "hovp0Fhac8-j",
        "colab_type": "code",
        "colab": {}
      },
      "cell_type": "code",
      "source": [
        "model.add(Flatten())\n",
        "model.add(Dense(30, activation='relu'))\n",
        "model.add(Dense(num_classes, activation='softmax'))"
      ],
      "execution_count": 0,
      "outputs": []
    },
    {
      "metadata": {
        "id": "75uoq8C2c_3w",
        "colab_type": "text"
      },
      "cell_type": "markdown",
      "source": [
        "Model kompilujeme a môžeme trénovať."
      ]
    },
    {
      "metadata": {
        "id": "7v2YkvVVdBzp",
        "colab_type": "code",
        "colab": {
          "base_uri": "https://localhost:8080/",
          "height": 476
        },
        "outputId": "eaacb643-8d88-446b-91f3-1a8a877665f0"
      },
      "cell_type": "code",
      "source": [
        "loss = keras.losses.categorical_crossentropy\n",
        "optimizer = keras.optimizers.Adam()\n",
        "model.compile(loss=loss,\n",
        "              optimizer=optimizer,\n",
        "              metrics=['accuracy'])\n",
        "\n",
        "callbacks = []\n",
        "#checkpoint = keras.callbacks.ModelCheckpoint(\n",
        "#    root_path + 'cifar_{epoch:02d}-{val_loss:.8f}-{val_acc:.4f}.hdf5',\n",
        "#    verbose=1)\n",
        "#callbacks.append(checkpoint)\n",
        "\n",
        "epochs = 10\n",
        "batch_size = 32\n",
        "\n",
        "\n",
        "history = model.fit(x_train, y_train,\n",
        "                   batch_size=batch_size,\n",
        "                   epochs=epochs,\n",
        "                   verbose=1,\n",
        "                   validation_data=(x_val, y_val),\n",
        "                   callbacks = callbacks)"
      ],
      "execution_count": 6,
      "outputs": [
        {
          "output_type": "stream",
          "text": [
            "WARNING:tensorflow:From /usr/local/lib/python3.6/dist-packages/tensorflow/python/framework/op_def_library.py:263: colocate_with (from tensorflow.python.framework.ops) is deprecated and will be removed in a future version.\n",
            "Instructions for updating:\n",
            "Colocations handled automatically by placer.\n",
            "WARNING:tensorflow:From /usr/local/lib/python3.6/dist-packages/tensorflow/python/ops/math_ops.py:3066: to_int32 (from tensorflow.python.ops.math_ops) is deprecated and will be removed in a future version.\n",
            "Instructions for updating:\n",
            "Use tf.cast instead.\n",
            "Train on 40000 samples, validate on 10000 samples\n",
            "Epoch 1/10\n",
            "40000/40000 [==============================] - 10s 242us/step - loss: 1.6232 - acc: 0.4111 - val_loss: 1.4162 - val_acc: 0.4951\n",
            "Epoch 2/10\n",
            "40000/40000 [==============================] - 7s 169us/step - loss: 1.2774 - acc: 0.5492 - val_loss: 1.1876 - val_acc: 0.5817\n",
            "Epoch 3/10\n",
            "40000/40000 [==============================] - 7s 169us/step - loss: 1.1452 - acc: 0.5960 - val_loss: 1.1874 - val_acc: 0.5911\n",
            "Epoch 4/10\n",
            "40000/40000 [==============================] - 7s 168us/step - loss: 1.0640 - acc: 0.6297 - val_loss: 1.0578 - val_acc: 0.6324\n",
            "Epoch 5/10\n",
            "40000/40000 [==============================] - 7s 182us/step - loss: 1.0061 - acc: 0.6490 - val_loss: 1.0144 - val_acc: 0.6486\n",
            "Epoch 6/10\n",
            "40000/40000 [==============================] - 7s 181us/step - loss: 0.9612 - acc: 0.6670 - val_loss: 0.9871 - val_acc: 0.6597\n",
            "Epoch 7/10\n",
            "40000/40000 [==============================] - 7s 168us/step - loss: 0.9236 - acc: 0.6810 - val_loss: 1.0228 - val_acc: 0.6527\n",
            "Epoch 8/10\n",
            "40000/40000 [==============================] - 7s 167us/step - loss: 0.8937 - acc: 0.6902 - val_loss: 0.9535 - val_acc: 0.6724\n",
            "Epoch 9/10\n",
            "40000/40000 [==============================] - 7s 168us/step - loss: 0.8639 - acc: 0.7018 - val_loss: 0.9657 - val_acc: 0.6686\n",
            "Epoch 10/10\n",
            "40000/40000 [==============================] - 7s 167us/step - loss: 0.8436 - acc: 0.7060 - val_loss: 0.9893 - val_acc: 0.6611\n"
          ],
          "name": "stdout"
        }
      ]
    },
    {
      "metadata": {
        "id": "GjJ1sXZjd_k_",
        "colab_type": "text"
      },
      "cell_type": "markdown",
      "source": [
        "Pozrieme priebeh trénovania."
      ]
    },
    {
      "metadata": {
        "id": "BIykOT7JeCxz",
        "colab_type": "code",
        "colab": {
          "base_uri": "https://localhost:8080/",
          "height": 573
        },
        "outputId": "275d3291-0e7e-46ed-8a0c-640cb508b228"
      },
      "cell_type": "code",
      "source": [
        "plt.plot(history.history['acc'])\n",
        "plt.plot(history.history['val_acc'])\n",
        "plt.title('model accuracy')\n",
        "plt.ylabel('accuracy')\n",
        "plt.xlabel('epoch')\n",
        "plt.legend(['train', 'val'], loc='upper left')\n",
        "plt.show()\n",
        "\n",
        "plt.plot(history.history['loss'])\n",
        "plt.plot(history.history['val_loss'])\n",
        "plt.title('model loss')\n",
        "plt.ylabel('loss')\n",
        "plt.xlabel('epoch')\n",
        "plt.legend(['train', 'val'], loc='upper left')\n",
        "plt.show()"
      ],
      "execution_count": 7,
      "outputs": [
        {
          "output_type": "display_data",
          "data": {
            "image/png": "[encoded data removed]",
            "text/plain": [
              "<Figure size 432x288 with 1 Axes>"
            ]
          },
          "metadata": {
            "tags": []
          }
        },
        {
          "output_type": "display_data",
          "data": {
            "image/png": "[encoded data removed]",
            "text/plain": [
              "<Figure size 432x288 with 1 Axes>"
            ]
          },
          "metadata": {
            "tags": []
          }
        }
      ]
    },
    {
      "metadata": {
        "id": "SaE-caZIeQJk",
        "colab_type": "code",
        "colab": {
          "base_uri": "https://localhost:8080/",
          "height": 68
        },
        "outputId": "a26915e6-2f15-4595-ef98-3486ee185749"
      },
      "cell_type": "code",
      "source": [
        "score = model.evaluate(x_test, y_test)\n",
        "print('Test loss:', score[0])\n",
        "print('Test accuracy:', score[1])"
      ],
      "execution_count": 9,
      "outputs": [
        {
          "output_type": "stream",
          "text": [
            "10000/10000 [==============================] - 1s 70us/step\n",
            "Test loss: 1.015272433757782\n",
            "Test accuracy: 0.6622\n"
          ],
          "name": "stdout"
        }
      ]
    },
    {
      "metadata": {
        "id": "TQrm9LDweRQ3",
        "colab_type": "text"
      },
      "cell_type": "markdown",
      "source": [
        "Na koniec model uložíme."
      ]
    },
    {
      "metadata": {
        "id": "MBzwij7ieVbu",
        "colab_type": "code",
        "colab": {}
      },
      "cell_type": "code",
      "source": [
        "model.save(root_path + 'cifar-fc-trained.h5')"
      ],
      "execution_count": 0,
      "outputs": []
    }
  ]
}
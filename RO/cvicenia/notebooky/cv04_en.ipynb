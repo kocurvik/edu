{
  "nbformat": 4,
  "nbformat_minor": 0,
  "metadata": {
    "colab": {
      "name": "cv04_en.ipynb",
      "provenance": [],
      "collapsed_sections": [],
      "toc_visible": true,
      "authorship_tag": "ABX9TyPQINpkkRk63t6nL34hv6Am",
      "include_colab_link": true
    },
    "kernelspec": {
      "name": "python3",
      "display_name": "Python 3"
    },
    "language_info": {
      "name": "python"
    }
  },
  "cells": [
    {
      "cell_type": "markdown",
      "metadata": {
        "id": "view-in-github",
        "colab_type": "text"
      },
      "source": [
        "<a href=\"https://colab.research.google.com/github/kocurvik/edu/blob/master/RO/cvicenia/notebooky/cv04_en.ipynb\" target=\"_parent\"><img src=\"https://colab.research.google.com/assets/colab-badge.svg\" alt=\"Open In Colab\"/></a>"
      ]
    },
    {
      "cell_type": "markdown",
      "metadata": {
        "id": "NtnZ03uJJ7I7"
      },
      "source": [
        "# **4. lab** - Google Colab, NumPy and Pandas Basics, Feature Entropy\n",
        "\n",
        "In this notebook we will cover the basics of working in the Google Colab environment, NumPy and basic image manipulation in OpenCV."
      ]
    },
    {
      "cell_type": "markdown",
      "metadata": {
        "id": "liIqeL0nKsvN"
      },
      "source": [
        "## Google Colab\n",
        "\n",
        "Google Colab (http://colab.research.google.com) is a free service which allows the users to run ipython notebooks in the cloud. The service also allows the users to leverage a free GPU. A Google account is necessary to use this service. The notebooks can also be downloaded and run locally using the jupyter notebook in the directory where the notebooks are saved (provided you have jupyter installed).\n",
        "\n",
        "There are two types of cells in these notbooks. The first type is a text cell such as this one. The other type of a cell is code cell. The cells with code can be run with the play button to the left of the cell. All of the cells can also be run by clicking choosing Runtime -> Run All in the menu at the top of this page. The cells share a scope so it is necessary to be mindful of the order in which the cells run. If you need to restart the notebook you can look into the Runtime tab in the options on top of the page.\n",
        "\n",
        "You can try running a simple python code in the following cell."
      ]
    },
    {
      "cell_type": "code",
      "metadata": {
        "id": "424nbIp_J0Z3",
        "colab": {
          "base_uri": "https://localhost:8080/"
        },
        "outputId": "4b028d66-6c8a-4ea4-93eb-8dba41586c39"
      },
      "source": [
        "a = [5,'Hello']\n",
        "s = '{} World!'\n",
        "print(s.format(a[1]))\n",
        "\n",
        "def najlepsia_funkcia(arg):\n",
        "  return arg + 5\n",
        "\n",
        "print(najlepsia_funkcia(8))"
      ],
      "execution_count": null,
      "outputs": [
        {
          "output_type": "stream",
          "name": "stdout",
          "text": [
            "Hello World!\n",
            "13\n"
          ]
        }
      ]
    },
    {
      "cell_type": "markdown",
      "metadata": {
        "id": "yCMavlzMNpOL"
      },
      "source": [
        "Saving and using files that are stored permanently can be done in different ways, but the easiest option is to connecting Google Drive to our notebook instance. This is done in a following way:\n",
        "(Note: this assumes that you have created a directory named Colab in your Google Drive)"
      ]
    },
    {
      "cell_type": "code",
      "metadata": {
        "id": "xh_BmJNtPBU6",
        "colab": {
          "base_uri": "https://localhost:8080/"
        },
        "outputId": "b73773e8-e1ae-4487-8d49-68525eeee681"
      },
      "source": [
        "from google.colab import drive\n",
        "drive.mount('/content/gdrive')\n",
        "root_path = 'gdrive/My Drive/Colab/'"
      ],
      "execution_count": null,
      "outputs": [
        {
          "output_type": "stream",
          "name": "stdout",
          "text": [
            "Mounted at /content/gdrive\n"
          ]
        }
      ]
    },
    {
      "cell_type": "markdown",
      "metadata": {
        "id": "K__Gehv1QGY6"
      },
      "source": [
        "You can then access the folder (if it exists)."
      ]
    },
    {
      "cell_type": "code",
      "metadata": {
        "id": "6W-0ycWOQmTo",
        "colab": {
          "base_uri": "https://localhost:8080/"
        },
        "outputId": "6aa7e2de-cc30-4f22-f5a6-26ba85465588"
      },
      "source": [
        "import os\n",
        "os.listdir(root_path)"
      ],
      "execution_count": null,
      "outputs": [
        {
          "output_type": "execute_result",
          "data": {
            "text/plain": [
              "['mnist-fc-trained.h5', 'cifar-fc-trained.h5']"
            ]
          },
          "metadata": {},
          "execution_count": 3
        }
      ]
    },
    {
      "cell_type": "markdown",
      "metadata": {
        "id": "sDNeHwtTQvji"
      },
      "source": [
        "You can also use the standard unix commands by preceeding them with an exclamation point."
      ]
    },
    {
      "cell_type": "code",
      "metadata": {
        "id": "G7S_k5yqQz0o",
        "colab": {
          "base_uri": "https://localhost:8080/"
        },
        "outputId": "0087113f-63e5-4b22-b482-cb4f344d0545"
      },
      "source": [
        "!pwd\n",
        "!ls\n",
        "!mkdir random_dir\n",
        "!ls\n",
        "!wget https://www.google.com/images/branding/googlelogo/1x/googlelogo_color_272x92dp.png\n",
        "!ls"
      ],
      "execution_count": null,
      "outputs": [
        {
          "output_type": "stream",
          "name": "stdout",
          "text": [
            "/content\n",
            "gdrive\tsample_data\n",
            "gdrive\trandom_dir  sample_data\n",
            "--2022-03-07 21:46:31--  https://www.google.com/images/branding/googlelogo/1x/googlelogo_color_272x92dp.png\n",
            "Resolving www.google.com (www.google.com)... 74.125.26.105, 74.125.26.147, 74.125.26.106, ...\n",
            "Connecting to www.google.com (www.google.com)|74.125.26.105|:443... connected.\n",
            "HTTP request sent, awaiting response... 200 OK\n",
            "Length: 5969 (5.8K) [image/png]\n",
            "Saving to: ‘googlelogo_color_272x92dp.png’\n",
            "\n",
            "googlelogo_color_27 100%[===================>]   5.83K  --.-KB/s    in 0s      \n",
            "\n",
            "2022-03-07 21:46:31 (55.1 MB/s) - ‘googlelogo_color_272x92dp.png’ saved [5969/5969]\n",
            "\n",
            "gdrive\tgooglelogo_color_272x92dp.png  random_dir  sample_data\n"
          ]
        }
      ]
    },
    {
      "cell_type": "markdown",
      "metadata": {
        "id": "5KFKjuQZNY0S"
      },
      "source": [
        "This is not always necessary as you can access the instance file structure in the panel on the left.\n",
        "\n",
        "**<----**"
      ]
    },
    {
      "cell_type": "markdown",
      "metadata": {
        "id": "IyiVk1I0Sq0_"
      },
      "source": [
        "## NumPy\n",
        "A tensor is a base data structure we will use when dealing with neural networks. Tensor is a generalization of vectors and matrices. Vectors from $\\mathbb{R}^n$ are first order (rank) tensors and matrices are second order (rank) tensors. A third order (rank) tensor can be additionally indexed with one more index. Sometimes the order of tensor is also called its rank. Strictly speaking tensor dimension and order are two different concepts. For example, we can have a third order tensor with dimension $ 20 \\times 24 \\times 6$. However, in many texts authors interchange tensor order (rank) with dimension. This is sometimes confusing, but usually the meaning is evident from context.\n",
        "\n",
        "To conform to standards we import numpy as np. A vector (e.g. first order tensor) can be created from a simple list using the np.array constructor. It might be important to initialize the array with a specific data type which can be done by using the dtype keyword in the constructor. **Not specifying the dtype can cause various complications later in the code.**\n"
      ]
    },
    {
      "cell_type": "code",
      "metadata": {
        "id": "3JU8eIp0T5qs",
        "colab": {
          "base_uri": "https://localhost:8080/"
        },
        "outputId": "25eed52a-1120-4c61-d4aa-fa10487588c7"
      },
      "source": [
        "import numpy as np\n",
        "\n",
        "a = np.array([3, 2, 3, 4])\n",
        "print(a)\n",
        "b = np.array([1,5,7], dtype=np.float32)\n",
        "print(b)"
      ],
      "execution_count": null,
      "outputs": [
        {
          "output_type": "stream",
          "name": "stdout",
          "text": [
            "[3 2 3 4]\n",
            "[1. 5. 7.]\n"
          ]
        }
      ]
    },
    {
      "cell_type": "markdown",
      "metadata": {
        "id": "X0Ldg2LCUyyz"
      },
      "source": [
        "A matrix can be created from a list of lists, but it is necessary for the lengths of the inner lists to be consitent. If they are not consistent we will obtain a vector of lists instead of matrix of values."
      ]
    },
    {
      "cell_type": "code",
      "metadata": {
        "id": "69MATLghVAhb",
        "colab": {
          "base_uri": "https://localhost:8080/"
        },
        "outputId": "ed9b85c0-9781-4e3c-9ab8-8c37880b034d"
      },
      "source": [
        "A = np.array([[1,5,8],[50,60,84]])\n",
        "print(A)\n",
        "B = np.array([[7,8],[6,7],[0,9,4]])\n",
        "print(B)"
      ],
      "execution_count": null,
      "outputs": [
        {
          "output_type": "stream",
          "name": "stdout",
          "text": [
            "[[ 1  5  8]\n",
            " [50 60 84]]\n",
            "[list([7, 8]) list([6, 7]) list([0, 9, 4])]\n"
          ]
        },
        {
          "output_type": "stream",
          "name": "stderr",
          "text": [
            "/usr/local/lib/python3.7/dist-packages/ipykernel_launcher.py:3: VisibleDeprecationWarning: Creating an ndarray from ragged nested sequences (which is a list-or-tuple of lists-or-tuples-or ndarrays with different lengths or shapes) is deprecated. If you meant to do this, you must specify 'dtype=object' when creating the ndarray.\n",
            "  This is separate from the ipykernel package so we can avoid doing imports until\n"
          ]
        }
      ]
    },
    {
      "cell_type": "markdown",
      "metadata": {
        "id": "YD8CtWcQWGFv"
      },
      "source": [
        "The array object has a shape method which tells us its shape (dimensions) and method dtype which returns the data type of the values in the tensor. It also has a method astype which returns an array with the specified type."
      ]
    },
    {
      "cell_type": "code",
      "metadata": {
        "id": "hC7EtfXBWmIB",
        "colab": {
          "base_uri": "https://localhost:8080/"
        },
        "outputId": "4e15c607-c227-4c7e-b31e-2e496433a4c1"
      },
      "source": [
        "print(a.shape)\n",
        "print(A.shape)\n",
        "print(A.dtype)\n",
        "C = A.astype(np.float32)\n",
        "print(C.dtype)\n"
      ],
      "execution_count": null,
      "outputs": [
        {
          "output_type": "stream",
          "name": "stdout",
          "text": [
            "(4,)\n",
            "(2, 3)\n",
            "int64\n",
            "float32\n"
          ]
        }
      ]
    },
    {
      "cell_type": "markdown",
      "metadata": {
        "id": "XlKW3-r_9s1E"
      },
      "source": [
        "Numpy has a few functions to generate basic tensors. The most commnly used onse are: np.zeros, np.ones and np.empty."
      ]
    },
    {
      "cell_type": "code",
      "metadata": {
        "id": "n0bdDGaQjuYP",
        "colab": {
          "base_uri": "https://localhost:8080/"
        },
        "outputId": "396a8a0f-3a44-4873-97be-02ab43e303ef"
      },
      "source": [
        "z = np.zeros([5,10])\n",
        "print(z)\n",
        "o = np.ones([3,4,5])\n",
        "print(o)\n",
        "e = np.empty([6])\n",
        "print(e)"
      ],
      "execution_count": null,
      "outputs": [
        {
          "output_type": "stream",
          "name": "stdout",
          "text": [
            "[[0. 0. 0. 0. 0. 0. 0. 0. 0. 0.]\n",
            " [0. 0. 0. 0. 0. 0. 0. 0. 0. 0.]\n",
            " [0. 0. 0. 0. 0. 0. 0. 0. 0. 0.]\n",
            " [0. 0. 0. 0. 0. 0. 0. 0. 0. 0.]\n",
            " [0. 0. 0. 0. 0. 0. 0. 0. 0. 0.]]\n",
            "[[[1. 1. 1. 1. 1.]\n",
            "  [1. 1. 1. 1. 1.]\n",
            "  [1. 1. 1. 1. 1.]\n",
            "  [1. 1. 1. 1. 1.]]\n",
            "\n",
            " [[1. 1. 1. 1. 1.]\n",
            "  [1. 1. 1. 1. 1.]\n",
            "  [1. 1. 1. 1. 1.]\n",
            "  [1. 1. 1. 1. 1.]]\n",
            "\n",
            " [[1. 1. 1. 1. 1.]\n",
            "  [1. 1. 1. 1. 1.]\n",
            "  [1. 1. 1. 1. 1.]\n",
            "  [1. 1. 1. 1. 1.]]]\n",
            "[4.65503808e-310 4.65503615e-310 4.94065646e-324             nan\n",
            " 0.00000000e+000 0.00000000e+000]\n"
          ]
        }
      ]
    },
    {
      "cell_type": "markdown",
      "metadata": {
        "id": "FQbG74jFkewe"
      },
      "source": [
        "It is also possible the create tensors with random numbers by using np.random.random."
      ]
    },
    {
      "cell_type": "code",
      "metadata": {
        "id": "LrMsw30Gk234",
        "colab": {
          "base_uri": "https://localhost:8080/"
        },
        "outputId": "7c1279e3-f3d1-4324-95e5-0b638a0c65f6"
      },
      "source": [
        "r = np.random.random([6,10,3])\n",
        "print(r)"
      ],
      "execution_count": null,
      "outputs": [
        {
          "output_type": "stream",
          "name": "stdout",
          "text": [
            "[[[0.37609057 0.27399519 0.45095456]\n",
            "  [0.95515759 0.29432465 0.73140622]\n",
            "  [0.48452713 0.97236008 0.6465912 ]\n",
            "  [0.44375435 0.26019661 0.43845583]\n",
            "  [0.60811179 0.6566053  0.8759779 ]\n",
            "  [0.66348412 0.67583621 0.73478718]\n",
            "  [0.62373612 0.29464245 0.73163286]\n",
            "  [0.73504665 0.31342011 0.70098394]\n",
            "  [0.13749185 0.96304362 0.86000473]\n",
            "  [0.114123   0.72868242 0.42138606]]\n",
            "\n",
            " [[0.06776839 0.68421728 0.23709622]\n",
            "  [0.59042062 0.41267923 0.05880186]\n",
            "  [0.81659239 0.23075196 0.61386827]\n",
            "  [0.10831952 0.78947864 0.34207873]\n",
            "  [0.64632223 0.92758779 0.29214563]\n",
            "  [0.62083822 0.67338938 0.76254014]\n",
            "  [0.52657551 0.67532466 0.4418122 ]\n",
            "  [0.79623088 0.68132658 0.80379401]\n",
            "  [0.14112973 0.34945303 0.07610923]\n",
            "  [0.38427983 0.99711358 0.33463559]]\n",
            "\n",
            " [[0.91466172 0.17365396 0.83180722]\n",
            "  [0.61133419 0.07174696 0.3986415 ]\n",
            "  [0.16354495 0.30037022 0.87726443]\n",
            "  [0.67928526 0.76840642 0.54958239]\n",
            "  [0.31345422 0.56903988 0.81312469]\n",
            "  [0.90418554 0.76384634 0.88869074]\n",
            "  [0.10549558 0.05924047 0.27455753]\n",
            "  [0.45223819 0.45544681 0.18365623]\n",
            "  [0.85382703 0.60165142 0.1381183 ]\n",
            "  [0.88526373 0.64752874 0.10256029]]\n",
            "\n",
            " [[0.27066993 0.5145716  0.73980084]\n",
            "  [0.05999191 0.24063103 0.24591847]\n",
            "  [0.6858929  0.29507557 0.01040102]\n",
            "  [0.18811456 0.28365258 0.72170894]\n",
            "  [0.27019579 0.35844852 0.45086515]\n",
            "  [0.88511982 0.44540243 0.44478381]\n",
            "  [0.38513017 0.91050494 0.12310213]\n",
            "  [0.90987861 0.90182277 0.72353175]\n",
            "  [0.66810997 0.50649733 0.2260814 ]\n",
            "  [0.7782701  0.98720414 0.78744722]]\n",
            "\n",
            " [[0.10458314 0.25570129 0.55817117]\n",
            "  [0.3763937  0.27371815 0.28172263]\n",
            "  [0.3867895  0.79450248 0.73339805]\n",
            "  [0.77896181 0.84177222 0.07573307]\n",
            "  [0.44410335 0.41231524 0.22831284]\n",
            "  [0.19562274 0.2536856  0.83501359]\n",
            "  [0.64126199 0.39547908 0.10905797]\n",
            "  [0.98548128 0.56768659 0.05554133]\n",
            "  [0.82835769 0.03718349 0.65639557]\n",
            "  [0.49700232 0.85629237 0.64007553]]\n",
            "\n",
            " [[0.66495657 0.00787319 0.4610274 ]\n",
            "  [0.95201485 0.23992777 0.011317  ]\n",
            "  [0.20249011 0.83132307 0.80696909]\n",
            "  [0.19216521 0.33429736 0.63375063]\n",
            "  [0.2061479  0.07666782 0.40675631]\n",
            "  [0.76062635 0.98003551 0.76649494]\n",
            "  [0.5000918  0.93669946 0.04798971]\n",
            "  [0.92295024 0.5715986  0.3134773 ]\n",
            "  [0.57423036 0.55321597 0.32380675]\n",
            "  [0.33697418 0.8958177  0.3676341 ]]]\n"
          ]
        }
      ]
    },
    {
      "cell_type": "markdown",
      "metadata": {
        "id": "U1vO9XhhlAXg"
      },
      "source": [
        "We can now use these random arrays to work with indices. Indexing is similar to Matlab, but the python conventions are applied. We can use multiple indices (based on tensor order). If we omit one of the indices it is implicitly used as :, which means that all of the elements along that dimesnsions are used."
      ]
    },
    {
      "cell_type": "code",
      "metadata": {
        "id": "oTMiqcZPlwtl",
        "colab": {
          "base_uri": "https://localhost:8080/"
        },
        "outputId": "fa574767-6a8a-44cf-e809-6aad10393d0e"
      },
      "source": [
        "print(r[3,4,1])\n",
        "print(r[:,:,-1])\n",
        "print(r[:,:,1].shape)\n",
        "print(r[0:4,5:6,:])\n",
        "print(r[0:4,5:6,:].shape)"
      ],
      "execution_count": null,
      "outputs": [
        {
          "output_type": "stream",
          "name": "stdout",
          "text": [
            "0.35844851964802005\n",
            "[[0.45095456 0.73140622 0.6465912  0.43845583 0.8759779  0.73478718\n",
            "  0.73163286 0.70098394 0.86000473 0.42138606]\n",
            " [0.23709622 0.05880186 0.61386827 0.34207873 0.29214563 0.76254014\n",
            "  0.4418122  0.80379401 0.07610923 0.33463559]\n",
            " [0.83180722 0.3986415  0.87726443 0.54958239 0.81312469 0.88869074\n",
            "  0.27455753 0.18365623 0.1381183  0.10256029]\n",
            " [0.73980084 0.24591847 0.01040102 0.72170894 0.45086515 0.44478381\n",
            "  0.12310213 0.72353175 0.2260814  0.78744722]\n",
            " [0.55817117 0.28172263 0.73339805 0.07573307 0.22831284 0.83501359\n",
            "  0.10905797 0.05554133 0.65639557 0.64007553]\n",
            " [0.4610274  0.011317   0.80696909 0.63375063 0.40675631 0.76649494\n",
            "  0.04798971 0.3134773  0.32380675 0.3676341 ]]\n",
            "(6, 10)\n",
            "[[[0.66348412 0.67583621 0.73478718]]\n",
            "\n",
            " [[0.62083822 0.67338938 0.76254014]]\n",
            "\n",
            " [[0.90418554 0.76384634 0.88869074]]\n",
            "\n",
            " [[0.88511982 0.44540243 0.44478381]]]\n",
            "(4, 1, 3)\n"
          ]
        }
      ]
    },
    {
      "cell_type": "markdown",
      "metadata": {
        "id": "ybA-W90VmNhG"
      },
      "source": [
        "We can also use steps when indexing this is also called slicing. That can be done by another colon. The format is then [start:stop:step]. If any of that is left empty the start is implicitly assumed to be 0, the end -1 and step 1."
      ]
    },
    {
      "cell_type": "code",
      "metadata": {
        "id": "1kmxFdtUmTRE",
        "colab": {
          "base_uri": "https://localhost:8080/"
        },
        "outputId": "b79d36d9-37bf-4f64-ecbf-7f85eaa434bc"
      },
      "source": [
        "p = np.arange(25)\n",
        "print(p)\n",
        "print(p[4:16:2])\n",
        "print(p[2:-4:6])\n",
        "print(p[:10:])\n",
        "print(p[::3])\n",
        "print(p[1::6])\n",
        "print(p[-6:])\n",
        "print(r[1::2,0::3,:])"
      ],
      "execution_count": null,
      "outputs": [
        {
          "output_type": "stream",
          "name": "stdout",
          "text": [
            "[ 0  1  2  3  4  5  6  7  8  9 10 11 12 13 14 15 16 17 18 19 20 21 22 23\n",
            " 24]\n",
            "[ 4  6  8 10 12 14]\n",
            "[ 2  8 14 20]\n",
            "[0 1 2 3 4 5 6 7 8 9]\n",
            "[ 0  3  6  9 12 15 18 21 24]\n",
            "[ 1  7 13 19]\n",
            "[19 20 21 22 23 24]\n",
            "[[[0.06776839 0.68421728 0.23709622]\n",
            "  [0.10831952 0.78947864 0.34207873]\n",
            "  [0.52657551 0.67532466 0.4418122 ]\n",
            "  [0.38427983 0.99711358 0.33463559]]\n",
            "\n",
            " [[0.27066993 0.5145716  0.73980084]\n",
            "  [0.18811456 0.28365258 0.72170894]\n",
            "  [0.38513017 0.91050494 0.12310213]\n",
            "  [0.7782701  0.98720414 0.78744722]]\n",
            "\n",
            " [[0.66495657 0.00787319 0.4610274 ]\n",
            "  [0.19216521 0.33429736 0.63375063]\n",
            "  [0.5000918  0.93669946 0.04798971]\n",
            "  [0.33697418 0.8958177  0.3676341 ]]]\n"
          ]
        }
      ]
    },
    {
      "cell_type": "markdown",
      "metadata": {
        "id": "478cxvQtmk9t"
      },
      "source": [
        "We will often need to create a so-called singleton dimension. This cane be done by adding a None index, or in a more python way by using np.newaxis."
      ]
    },
    {
      "cell_type": "code",
      "metadata": {
        "id": "IXKkfdNpmy0h",
        "colab": {
          "base_uri": "https://localhost:8080/"
        },
        "outputId": "37323aaf-4683-41a4-ebe9-2903eb2fc061"
      },
      "source": [
        "print(r[None,:,:,:].shape)\n",
        "print(r[None].shape)\n",
        "print(r[np.newaxis,:,:,:].shape)\n",
        "print(r[:,:,:,np.newaxis].shape)\n",
        "print(r[np.newaxis,:,0,:].shape)"
      ],
      "execution_count": null,
      "outputs": [
        {
          "output_type": "stream",
          "name": "stdout",
          "text": [
            "(1, 6, 10, 3)\n",
            "(1, 6, 10, 3)\n",
            "(1, 6, 10, 3)\n",
            "(6, 10, 3, 1)\n",
            "(1, 6, 3)\n"
          ]
        }
      ]
    },
    {
      "cell_type": "markdown",
      "metadata": {
        "id": "LK7K0RginLDB"
      },
      "source": [
        "Similar to Matlab broadcasting is done implicitly (though different rules are applied in Matlab)."
      ]
    },
    {
      "cell_type": "code",
      "metadata": {
        "id": "110A-dLgnRaU",
        "colab": {
          "base_uri": "https://localhost:8080/"
        },
        "outputId": "999d2e7c-04c0-4f17-f909-348c5b246a10"
      },
      "source": [
        "r += 10\n",
        "print(r)\n",
        "r[0,:,:] = np.random.random([10,3])\n",
        "print(r.shape)\n",
        "r[0] = np.random.random([10,3])\n",
        "print(r.shape)\n",
        "r[0] = np.zeros([10,1])\n",
        "print(r.shape)\n",
        "r/=500\n",
        "print(r)"
      ],
      "execution_count": null,
      "outputs": [
        {
          "output_type": "stream",
          "name": "stdout",
          "text": [
            "[[[10.37609057 10.27399519 10.45095456]\n",
            "  [10.95515759 10.29432465 10.73140622]\n",
            "  [10.48452713 10.97236008 10.6465912 ]\n",
            "  [10.44375435 10.26019661 10.43845583]\n",
            "  [10.60811179 10.6566053  10.8759779 ]\n",
            "  [10.66348412 10.67583621 10.73478718]\n",
            "  [10.62373612 10.29464245 10.73163286]\n",
            "  [10.73504665 10.31342011 10.70098394]\n",
            "  [10.13749185 10.96304362 10.86000473]\n",
            "  [10.114123   10.72868242 10.42138606]]\n",
            "\n",
            " [[10.06776839 10.68421728 10.23709622]\n",
            "  [10.59042062 10.41267923 10.05880186]\n",
            "  [10.81659239 10.23075196 10.61386827]\n",
            "  [10.10831952 10.78947864 10.34207873]\n",
            "  [10.64632223 10.92758779 10.29214563]\n",
            "  [10.62083822 10.67338938 10.76254014]\n",
            "  [10.52657551 10.67532466 10.4418122 ]\n",
            "  [10.79623088 10.68132658 10.80379401]\n",
            "  [10.14112973 10.34945303 10.07610923]\n",
            "  [10.38427983 10.99711358 10.33463559]]\n",
            "\n",
            " [[10.91466172 10.17365396 10.83180722]\n",
            "  [10.61133419 10.07174696 10.3986415 ]\n",
            "  [10.16354495 10.30037022 10.87726443]\n",
            "  [10.67928526 10.76840642 10.54958239]\n",
            "  [10.31345422 10.56903988 10.81312469]\n",
            "  [10.90418554 10.76384634 10.88869074]\n",
            "  [10.10549558 10.05924047 10.27455753]\n",
            "  [10.45223819 10.45544681 10.18365623]\n",
            "  [10.85382703 10.60165142 10.1381183 ]\n",
            "  [10.88526373 10.64752874 10.10256029]]\n",
            "\n",
            " [[10.27066993 10.5145716  10.73980084]\n",
            "  [10.05999191 10.24063103 10.24591847]\n",
            "  [10.6858929  10.29507557 10.01040102]\n",
            "  [10.18811456 10.28365258 10.72170894]\n",
            "  [10.27019579 10.35844852 10.45086515]\n",
            "  [10.88511982 10.44540243 10.44478381]\n",
            "  [10.38513017 10.91050494 10.12310213]\n",
            "  [10.90987861 10.90182277 10.72353175]\n",
            "  [10.66810997 10.50649733 10.2260814 ]\n",
            "  [10.7782701  10.98720414 10.78744722]]\n",
            "\n",
            " [[10.10458314 10.25570129 10.55817117]\n",
            "  [10.3763937  10.27371815 10.28172263]\n",
            "  [10.3867895  10.79450248 10.73339805]\n",
            "  [10.77896181 10.84177222 10.07573307]\n",
            "  [10.44410335 10.41231524 10.22831284]\n",
            "  [10.19562274 10.2536856  10.83501359]\n",
            "  [10.64126199 10.39547908 10.10905797]\n",
            "  [10.98548128 10.56768659 10.05554133]\n",
            "  [10.82835769 10.03718349 10.65639557]\n",
            "  [10.49700232 10.85629237 10.64007553]]\n",
            "\n",
            " [[10.66495657 10.00787319 10.4610274 ]\n",
            "  [10.95201485 10.23992777 10.011317  ]\n",
            "  [10.20249011 10.83132307 10.80696909]\n",
            "  [10.19216521 10.33429736 10.63375063]\n",
            "  [10.2061479  10.07666782 10.40675631]\n",
            "  [10.76062635 10.98003551 10.76649494]\n",
            "  [10.5000918  10.93669946 10.04798971]\n",
            "  [10.92295024 10.5715986  10.3134773 ]\n",
            "  [10.57423036 10.55321597 10.32380675]\n",
            "  [10.33697418 10.8958177  10.3676341 ]]]\n",
            "(6, 10, 3)\n",
            "(6, 10, 3)\n",
            "(6, 10, 3)\n",
            "[[[0.         0.         0.        ]\n",
            "  [0.         0.         0.        ]\n",
            "  [0.         0.         0.        ]\n",
            "  [0.         0.         0.        ]\n",
            "  [0.         0.         0.        ]\n",
            "  [0.         0.         0.        ]\n",
            "  [0.         0.         0.        ]\n",
            "  [0.         0.         0.        ]\n",
            "  [0.         0.         0.        ]\n",
            "  [0.         0.         0.        ]]\n",
            "\n",
            " [[0.02013554 0.02136843 0.02047419]\n",
            "  [0.02118084 0.02082536 0.0201176 ]\n",
            "  [0.02163318 0.0204615  0.02122774]\n",
            "  [0.02021664 0.02157896 0.02068416]\n",
            "  [0.02129264 0.02185518 0.02058429]\n",
            "  [0.02124168 0.02134678 0.02152508]\n",
            "  [0.02105315 0.02135065 0.02088362]\n",
            "  [0.02159246 0.02136265 0.02160759]\n",
            "  [0.02028226 0.02069891 0.02015222]\n",
            "  [0.02076856 0.02199423 0.02066927]]\n",
            "\n",
            " [[0.02182932 0.02034731 0.02166361]\n",
            "  [0.02122267 0.02014349 0.02079728]\n",
            "  [0.02032709 0.02060074 0.02175453]\n",
            "  [0.02135857 0.02153681 0.02109916]\n",
            "  [0.02062691 0.02113808 0.02162625]\n",
            "  [0.02180837 0.02152769 0.02177738]\n",
            "  [0.02021099 0.02011848 0.02054912]\n",
            "  [0.02090448 0.02091089 0.02036731]\n",
            "  [0.02170765 0.0212033  0.02027624]\n",
            "  [0.02177053 0.02129506 0.02020512]]\n",
            "\n",
            " [[0.02054134 0.02102914 0.0214796 ]\n",
            "  [0.02011998 0.02048126 0.02049184]\n",
            "  [0.02137179 0.02059015 0.0200208 ]\n",
            "  [0.02037623 0.02056731 0.02144342]\n",
            "  [0.02054039 0.0207169  0.02090173]\n",
            "  [0.02177024 0.0208908  0.02088957]\n",
            "  [0.02077026 0.02182101 0.0202462 ]\n",
            "  [0.02181976 0.02180365 0.02144706]\n",
            "  [0.02133622 0.02101299 0.02045216]\n",
            "  [0.02155654 0.02197441 0.02157489]]\n",
            "\n",
            " [[0.02020917 0.0205114  0.02111634]\n",
            "  [0.02075279 0.02054744 0.02056345]\n",
            "  [0.02077358 0.021589   0.0214668 ]\n",
            "  [0.02155792 0.02168354 0.02015147]\n",
            "  [0.02088821 0.02082463 0.02045663]\n",
            "  [0.02039125 0.02050737 0.02167003]\n",
            "  [0.02128252 0.02079096 0.02021812]\n",
            "  [0.02197096 0.02113537 0.02011108]\n",
            "  [0.02165672 0.02007437 0.02131279]\n",
            "  [0.020994   0.02171258 0.02128015]]\n",
            "\n",
            " [[0.02132991 0.02001575 0.02092205]\n",
            "  [0.02190403 0.02047986 0.02002263]\n",
            "  [0.02040498 0.02166265 0.02161394]\n",
            "  [0.02038433 0.02066859 0.0212675 ]\n",
            "  [0.0204123  0.02015334 0.02081351]\n",
            "  [0.02152125 0.02196007 0.02153299]\n",
            "  [0.02100018 0.0218734  0.02009598]\n",
            "  [0.0218459  0.0211432  0.02062695]\n",
            "  [0.02114846 0.02110643 0.02064761]\n",
            "  [0.02067395 0.02179164 0.02073527]]]\n"
          ]
        }
      ]
    },
    {
      "cell_type": "markdown",
      "metadata": {
        "id": "-cUMWPBNoFj2"
      },
      "source": [
        "An array can be reshaped using np.reshape"
      ]
    },
    {
      "cell_type": "code",
      "metadata": {
        "id": "Mn62_4cToQs4",
        "colab": {
          "base_uri": "https://localhost:8080/"
        },
        "outputId": "d39606ec-507a-4130-9efe-abaadd29b49d"
      },
      "source": [
        "q = np.reshape(r, [6,30])\n",
        "print(q.shape)"
      ],
      "execution_count": null,
      "outputs": [
        {
          "output_type": "stream",
          "name": "stdout",
          "text": [
            "(6, 30)\n"
          ]
        }
      ]
    },
    {
      "cell_type": "markdown",
      "metadata": {
        "id": "uBQ6JlDbo7s2"
      },
      "source": [
        "Arrays can be joined. One way is to use np.concatenate([arr1, arr2, ...], axis = i) which connects the arrays arr1 and arr2 through a given axis i. Note that is usually better (for code comprehension) to explicitly use the keyword axis even if it is redundant."
      ]
    },
    {
      "cell_type": "code",
      "metadata": {
        "id": "RFI3H7dbpXse",
        "colab": {
          "base_uri": "https://localhost:8080/"
        },
        "outputId": "2d689f73-b2db-4917-d139-2d1579bd155c"
      },
      "source": [
        "a = np.ones([3,4])\n",
        "b = np.zeros([6,4])\n",
        "c = np.concatenate([a,b], axis = 0)\n",
        "print(c)                   "
      ],
      "execution_count": null,
      "outputs": [
        {
          "output_type": "stream",
          "name": "stdout",
          "text": [
            "[[1. 1. 1. 1.]\n",
            " [1. 1. 1. 1.]\n",
            " [1. 1. 1. 1.]\n",
            " [0. 0. 0. 0.]\n",
            " [0. 0. 0. 0.]\n",
            " [0. 0. 0. 0.]\n",
            " [0. 0. 0. 0.]\n",
            " [0. 0. 0. 0.]\n",
            " [0. 0. 0. 0.]]\n"
          ]
        }
      ]
    },
    {
      "cell_type": "markdown",
      "metadata": {
        "id": "xLC59P7fp8iC"
      },
      "source": [
        "A different option is to use np.stack([arr1, arr2, ...], axis= i). The difference is that this creates increases the tensor order by one."
      ]
    },
    {
      "cell_type": "code",
      "metadata": {
        "id": "Vj6T89BSq4g_",
        "colab": {
          "base_uri": "https://localhost:8080/"
        },
        "outputId": "bfa49a5a-e859-4500-c4d1-829668f606e8"
      },
      "source": [
        "a = np.ones([6,4,3])\n",
        "b = np.zeros([6,4,3])\n",
        "d = np.stack([a,b], axis = 0)\n",
        "print(d.shape)\n",
        "f = np.stack([a,b], axis = -1)\n",
        "print(f.shape)\n",
        "g = np.stack([a,b], axis = 1)\n",
        "print(g.shape)"
      ],
      "execution_count": null,
      "outputs": [
        {
          "output_type": "stream",
          "name": "stdout",
          "text": [
            "(2, 6, 4, 3)\n",
            "(6, 4, 3, 2)\n",
            "(6, 2, 4, 3)\n"
          ]
        }
      ]
    },
    {
      "cell_type": "markdown",
      "metadata": {
        "id": "PH3_y_ThuEwJ"
      },
      "source": [
        "We can also index using conditions."
      ]
    },
    {
      "cell_type": "code",
      "metadata": {
        "id": "O3j-u9yRuVFk",
        "colab": {
          "base_uri": "https://localhost:8080/"
        },
        "outputId": "3f11ae15-11d6-49f1-fb3d-a66bbc7ce3f3"
      },
      "source": [
        "r = np.random.random([5,5])\n",
        "print(r)\n",
        "r[r < 0.5] = -500\n",
        "print(r)"
      ],
      "execution_count": null,
      "outputs": [
        {
          "output_type": "stream",
          "name": "stdout",
          "text": [
            "[[0.84661986 0.52590421 0.99005208 0.47280933 0.83191307]\n",
            " [0.95619877 0.51263073 0.07720779 0.25490333 0.44293133]\n",
            " [0.07596246 0.56996753 0.03464115 0.38871377 0.55586237]\n",
            " [0.81317365 0.80039007 0.79035552 0.10335248 0.33667092]\n",
            " [0.17062827 0.08063663 0.34987135 0.28444584 0.304514  ]]\n",
            "[[   0.84661986    0.52590421    0.99005208 -500.            0.83191307]\n",
            " [   0.95619877    0.51263073 -500.         -500.         -500.        ]\n",
            " [-500.            0.56996753 -500.         -500.            0.55586237]\n",
            " [   0.81317365    0.80039007    0.79035552 -500.         -500.        ]\n",
            " [-500.         -500.         -500.         -500.         -500.        ]]\n"
          ]
        }
      ]
    },
    {
      "cell_type": "markdown",
      "metadata": {
        "id": "G9Zqp4-PrLG3"
      },
      "source": [
        "The conditions can also be using in np.whare(cond, a1, a2), which returns an array which contans elemnts from a1 where the condition is true and elements from a2 where condition is false. We can also use np.arange(i) which is equivalent to range(i) from python."
      ]
    },
    {
      "cell_type": "code",
      "metadata": {
        "id": "SBKZaiIttoXs",
        "colab": {
          "base_uri": "https://localhost:8080/"
        },
        "outputId": "a20ca73f-d174-45b4-ef29-556d61d879ec"
      },
      "source": [
        "a = np.arange(10)\n",
        "print(a)\n",
        "b = np.where(a < 5, a, a**2)\n",
        "print(b)"
      ],
      "execution_count": null,
      "outputs": [
        {
          "output_type": "stream",
          "name": "stdout",
          "text": [
            "[0 1 2 3 4 5 6 7 8 9]\n",
            "[ 0  1  2  3  4 25 36 49 64 81]\n"
          ]
        }
      ]
    },
    {
      "cell_type": "markdown",
      "metadata": {
        "id": "6mEbjH89sAXH"
      },
      "source": [
        "### Exercise 1\n",
        "Create a funciton chessboard(rows, cols) which returns a numpy array with dimensions rows x cols. The array will contain 1 in spots where a chessboard tile would be white and 0 where a chessboard tile would be black.\n",
        "\n",
        "The simplest way is to use slicing. If you feel adventurous you can check the NumPy documentation and use conditions with np.mgrid or repetition and np.tile."
      ]
    },
    {
      "cell_type": "code",
      "metadata": {
        "id": "qJGmsNBxstBZ"
      },
      "source": [
        "def chessboard(rows, cols):\n",
        "  ..."
      ],
      "execution_count": null,
      "outputs": []
    },
    {
      "cell_type": "code",
      "metadata": {
        "id": "tnMLmXeYM-pz",
        "colab": {
          "base_uri": "https://localhost:8080/"
        },
        "outputId": "605450b5-6e1f-43cb-b15d-f0489b40ee38"
      },
      "source": [
        "print(chessboard(8,8))\n",
        "print(chessboard(5,12))"
      ],
      "execution_count": null,
      "outputs": [
        {
          "output_type": "stream",
          "name": "stdout",
          "text": [
            "[[0. 1. 0. 1. 0. 1. 0. 1.]\n",
            " [1. 0. 1. 0. 1. 0. 1. 0.]\n",
            " [0. 1. 0. 1. 0. 1. 0. 1.]\n",
            " [1. 0. 1. 0. 1. 0. 1. 0.]\n",
            " [0. 1. 0. 1. 0. 1. 0. 1.]\n",
            " [1. 0. 1. 0. 1. 0. 1. 0.]\n",
            " [0. 1. 0. 1. 0. 1. 0. 1.]\n",
            " [1. 0. 1. 0. 1. 0. 1. 0.]]\n",
            "[[0. 1. 0. 1. 0. 1. 0. 1. 0. 1. 0. 1.]\n",
            " [1. 0. 1. 0. 1. 0. 1. 0. 1. 0. 1. 0.]\n",
            " [0. 1. 0. 1. 0. 1. 0. 1. 0. 1. 0. 1.]\n",
            " [1. 0. 1. 0. 1. 0. 1. 0. 1. 0. 1. 0.]\n",
            " [0. 1. 0. 1. 0. 1. 0. 1. 0. 1. 0. 1.]]\n"
          ]
        }
      ]
    },
    {
      "cell_type": "markdown",
      "metadata": {
        "id": "62IrWXs2tLPF"
      },
      "source": [
        "### NumPy Documentation\n",
        "We will go through some basic linear algebra and statistics operations with NumPy during the next lab. \n",
        "\n",
        "If you are curious you can check out the documentation of NumPy: https://docs.scipy.org/doc/numpy/"
      ]
    },
    {
      "cell_type": "markdown",
      "source": [
        "## Introduction to Pandas\n",
        "We will use the pandas library to store our data. If we only used numerical features we would be fine with just NumPy, but this is usually not sufficient for categorical data or more complex structures. More info on Pandas data structures can be found in [this user guide](https://pandas.pydata.org/pandas-docs/stable/user_guide/dsintro.html#dsintro)"
      ],
      "metadata": {
        "id": "pRZUJm8LQRrt"
      }
    },
    {
      "cell_type": "code",
      "execution_count": null,
      "metadata": {
        "id": "wY9l5XCqG8Ah"
      },
      "outputs": [],
      "source": [
        "import pandas as pd\n",
        "import numpy as np"
      ]
    },
    {
      "cell_type": "markdown",
      "source": [
        "### Series\n",
        "\n",
        "One of the basic datatypes is Series. It is essentially a more sophisticated 1-d array of data, which can include named indices."
      ],
      "metadata": {
        "id": "LA7jlFZmQmN1"
      }
    },
    {
      "cell_type": "code",
      "source": [
        "s = pd.Series(np.random.randn(5))\n",
        "print(s)\n",
        "\n",
        "s = pd.Series(np.random.randn(5), index=[\"a\", \"b\", \"c\", \"d\", \"e\"])\n",
        "print(s)\n",
        "\n",
        "d = {\"a\": 0.0, \"b\": 1.0, \"c\": 2.0}\n",
        "print(pd.Series(d))\n",
        "print(pd.Series(d, index=[\"b\", \"c\", \"d\", \"a\"]))"
      ],
      "metadata": {
        "colab": {
          "base_uri": "https://localhost:8080/"
        },
        "id": "_6qptL5nKtOU",
        "outputId": "91d78f72-1290-4eb9-dfdc-9f3568ec3fba"
      },
      "execution_count": null,
      "outputs": [
        {
          "output_type": "stream",
          "name": "stdout",
          "text": [
            "0   -0.041573\n",
            "1    0.093297\n",
            "2    1.596013\n",
            "3   -1.029345\n",
            "4    0.737356\n",
            "dtype: float64\n",
            "a    0.428387\n",
            "b   -0.245977\n",
            "c   -1.351491\n",
            "d    0.238107\n",
            "e    1.170731\n",
            "dtype: float64\n",
            "a    0.0\n",
            "b    1.0\n",
            "c    2.0\n",
            "dtype: float64\n",
            "b    1.0\n",
            "c    2.0\n",
            "d    NaN\n",
            "a    0.0\n",
            "dtype: float64\n"
          ]
        }
      ]
    },
    {
      "cell_type": "markdown",
      "source": [
        "In many cases Series can be used in place of standard NumPy array."
      ],
      "metadata": {
        "id": "c7TicFL1ROmR"
      }
    },
    {
      "cell_type": "code",
      "source": [
        "print(s.dtype)\n",
        "print(s.shape)\n",
        "print(s[0])\n",
        "print(s[:3])\n",
        "print(np.sum(s))\n",
        "print(np.exp(s))"
      ],
      "metadata": {
        "colab": {
          "base_uri": "https://localhost:8080/"
        },
        "id": "03KHxMFlIS3-",
        "outputId": "d45d07cd-61c6-4b96-b5c2-c8bb9ff828a9"
      },
      "execution_count": null,
      "outputs": [
        {
          "output_type": "stream",
          "name": "stdout",
          "text": [
            "float64\n",
            "(5,)\n",
            "0.4283869816460045\n",
            "a    0.428387\n",
            "b   -0.245977\n",
            "c   -1.351491\n",
            "dtype: float64\n",
            "0.23975634205703844\n",
            "a    1.534780\n",
            "b    0.781940\n",
            "c    0.258854\n",
            "d    1.268845\n",
            "e    3.224350\n",
            "dtype: float64\n"
          ]
        }
      ]
    },
    {
      "cell_type": "markdown",
      "source": [
        "We can convert Series to a NumPy array."
      ],
      "metadata": {
        "id": "GXxpFwkNRJRT"
      }
    },
    {
      "cell_type": "code",
      "source": [
        "print(s.to_numpy())"
      ],
      "metadata": {
        "colab": {
          "base_uri": "https://localhost:8080/"
        },
        "id": "3t1CR8mvPMZn",
        "outputId": "9d634483-4b17-43ba-ea14-2b9335ba7be5"
      },
      "execution_count": null,
      "outputs": [
        {
          "output_type": "stream",
          "name": "stdout",
          "text": [
            "[ 0.42838698 -0.24597742 -1.35149132  0.23810671  1.17073139]\n"
          ]
        }
      ]
    },
    {
      "cell_type": "markdown",
      "source": [
        "We can also perform indexing and standard operations on Series."
      ],
      "metadata": {
        "id": "z2HdzvFFRPnF"
      }
    },
    {
      "cell_type": "code",
      "source": [
        "print(2.5 * s + s)\n",
        "print(s[s > s.median()])\n",
        "print(s[[4, 3, 1]])"
      ],
      "metadata": {
        "colab": {
          "base_uri": "https://localhost:8080/"
        },
        "id": "oJlKDGX9Pg_6",
        "outputId": "039b9ae3-380f-4504-b8b5-227ad3928a3a"
      },
      "execution_count": null,
      "outputs": [
        {
          "output_type": "stream",
          "name": "stdout",
          "text": [
            "a    1.499354\n",
            "b   -0.860921\n",
            "c   -4.730220\n",
            "d    0.833373\n",
            "e    4.097560\n",
            "dtype: float64\n",
            "a    0.428387\n",
            "e    1.170731\n",
            "dtype: float64\n",
            "e    1.170731\n",
            "d    0.238107\n",
            "b   -0.245977\n",
            "dtype: float64\n"
          ]
        }
      ]
    },
    {
      "cell_type": "markdown",
      "source": [
        "But beware! Operations rely on the defined indexes! This is different from NumPy."
      ],
      "metadata": {
        "id": "5hlpoOXVRTNR"
      }
    },
    {
      "cell_type": "code",
      "source": [
        "print(s[1:] + s[:-1])\n",
        "n = s.to_numpy()\n",
        "print(n[1:] + n[:-1])"
      ],
      "metadata": {
        "colab": {
          "base_uri": "https://localhost:8080/"
        },
        "id": "gG--g8ExPZM0",
        "outputId": "6ec36621-f991-47eb-87b2-9ba5db281384"
      },
      "execution_count": null,
      "outputs": [
        {
          "output_type": "stream",
          "name": "stdout",
          "text": [
            "a         NaN\n",
            "b   -0.491955\n",
            "c   -2.702983\n",
            "d    0.476213\n",
            "e         NaN\n",
            "dtype: float64\n",
            "[ 0.18240956 -1.59746874 -1.1133846   1.4088381 ]\n"
          ]
        }
      ]
    },
    {
      "cell_type": "markdown",
      "source": [
        "A Series also behaves as a dict!"
      ],
      "metadata": {
        "id": "ThujWH6zRcy0"
      }
    },
    {
      "cell_type": "code",
      "source": [
        "print(s[\"a\"])\n",
        "s[\"c\"] = 0.2\n",
        "print(s)"
      ],
      "metadata": {
        "colab": {
          "base_uri": "https://localhost:8080/"
        },
        "id": "IwxPLcbAQIBZ",
        "outputId": "9d269814-2672-4261-edc2-35b4cd1d482c"
      },
      "execution_count": null,
      "outputs": [
        {
          "output_type": "stream",
          "name": "stdout",
          "text": [
            "0.4283869816460045\n",
            "a    0.428387\n",
            "b   -0.245977\n",
            "c    0.200000\n",
            "d    0.238107\n",
            "e    1.170731\n",
            "dtype: float64\n"
          ]
        }
      ]
    },
    {
      "cell_type": "markdown",
      "source": [
        "### DataFrames\n",
        "\n",
        "DataFrame is a 2-d structure of data. We will mostly use this structure!\n",
        "\n",
        "It can be constructed from:\n",
        "\n",
        "* Dict of 1D ndarrays, lists, dicts, or Series\n",
        "* 2-D numpy.ndarray\n",
        "* Structured or record ndarray\n",
        "* A Series\n",
        "* Another DataFrame"
      ],
      "metadata": {
        "id": "FI9-0r1MRfiX"
      }
    },
    {
      "cell_type": "code",
      "source": [
        "d = {\n",
        "    \"one\": pd.Series([1.0, 2.0, 3.0], index=[\"a\", \"b\", \"c\"]),\n",
        "    \"two\": pd.Series([1.0, 2.0, 3.0, 4.0], index=[\"a\", \"b\", \"c\", \"d\"]),\n",
        "}\n",
        "print(pd.DataFrame(d))\n",
        "print(pd.DataFrame(d, index=[\"d\", \"b\", \"a\"]))\n",
        "print(pd.DataFrame(d, index=[\"d\", \"b\", \"a\"], columns=[\"two\", \"three\"]))\n",
        "print(10 * '*')\n",
        "d = {\"one\": [1.0, 2.0, 3.0, 4.0], \"two\": [4.0, 3.0, 2.0, 1.0]}\n",
        "print(pd.DataFrame(d))\n",
        "print(10 * '*')\n",
        "data2 = [{\"a\": 1, \"b\": 2}, {\"a\": 5, \"b\": 10, \"c\": 20}]\n",
        "print(pd.DataFrame(data2))\n",
        "print(10 * '*')\n",
        "print(pd.DataFrame(np.random.randn(6, 3), index=list('abcdef'), columns=['first', 'second', 'third']))"
      ],
      "metadata": {
        "colab": {
          "base_uri": "https://localhost:8080/"
        },
        "id": "bQmFo8-SR5_R",
        "outputId": "df5d0666-2434-4083-ae86-1748dfd6a546"
      },
      "execution_count": null,
      "outputs": [
        {
          "output_type": "stream",
          "name": "stdout",
          "text": [
            "   one  two\n",
            "a  1.0  1.0\n",
            "b  2.0  2.0\n",
            "c  3.0  3.0\n",
            "d  NaN  4.0\n",
            "   one  two\n",
            "d  NaN  4.0\n",
            "b  2.0  2.0\n",
            "a  1.0  1.0\n",
            "   two three\n",
            "d  4.0   NaN\n",
            "b  2.0   NaN\n",
            "a  1.0   NaN\n",
            "**********\n",
            "   one  two\n",
            "0  1.0  4.0\n",
            "1  2.0  3.0\n",
            "2  3.0  2.0\n",
            "3  4.0  1.0\n",
            "**********\n",
            "   a   b     c\n",
            "0  1   2   NaN\n",
            "1  5  10  20.0\n",
            "**********\n",
            "      first    second     third\n",
            "a  0.564167  0.521180  0.273723\n",
            "b -0.268375  0.103838 -0.680243\n",
            "c  0.930615  0.476973  0.022860\n",
            "d -0.455305 -0.718255 -1.577767\n",
            "e -0.639825 -0.030335 -0.738020\n",
            "f  1.372504 -0.635552 -0.892707\n"
          ]
        }
      ]
    },
    {
      "cell_type": "markdown",
      "source": [
        "We can add new columns."
      ],
      "metadata": {
        "id": "qODioYY7Y226"
      }
    },
    {
      "cell_type": "code",
      "source": [
        "df = pd.DataFrame(np.random.randn(6, 3), index=list('abcdef'), columns=['first', 'second', 'third'])\n",
        "df.insert(1, \"bar\", df[\"first\"])\n",
        "df.insert(4, \"last\", 5.0)\n",
        "df.insert(5, \"actually_last\", ['car', 'tram', 'bus', 'car', 'bike', 'car'])\n",
        "print(df)"
      ],
      "metadata": {
        "colab": {
          "base_uri": "https://localhost:8080/"
        },
        "id": "WofIeAVAY4At",
        "outputId": "16709215-d839-4de2-c42f-b13fdfecab77"
      },
      "execution_count": null,
      "outputs": [
        {
          "output_type": "stream",
          "name": "stdout",
          "text": [
            "      first       bar    second     third  last actually_last\n",
            "a -0.594906 -0.594906  0.745969 -1.837952   5.0           car\n",
            "b -0.724108 -0.724108 -2.305174  1.336821   5.0          tram\n",
            "c  1.264896  1.264896  0.353127 -0.791034   5.0           bus\n",
            "d -0.492862 -0.492862 -0.530776 -0.873550   5.0           car\n",
            "e  1.330198  1.330198  0.934563  0.589562   5.0          bike\n",
            "f -0.512410 -0.512410 -0.587806 -0.681344   5.0           car\n"
          ]
        }
      ]
    },
    {
      "cell_type": "markdown",
      "source": [
        "We can also create a new column from existing columns."
      ],
      "metadata": {
        "id": "hLFMQVIDcc36"
      }
    },
    {
      "cell_type": "code",
      "source": [
        "print(df.assign(new_column=df[\"first\"] / df[\"second\"]))"
      ],
      "metadata": {
        "colab": {
          "base_uri": "https://localhost:8080/"
        },
        "id": "qsJICAAOcSIa",
        "outputId": "68a38f9d-c034-4cc4-8f50-006a5d092cd6"
      },
      "execution_count": null,
      "outputs": [
        {
          "output_type": "stream",
          "name": "stdout",
          "text": [
            "      first       bar    second     third  last actually_last  new_column\n",
            "a -0.594906 -0.594906  0.745969 -1.837952   5.0           car   -0.797494\n",
            "b -0.724108 -0.724108 -2.305174  1.336821   5.0          tram    0.314123\n",
            "c  1.264896  1.264896  0.353127 -0.791034   5.0           bus    3.581983\n",
            "d -0.492862 -0.492862 -0.530776 -0.873550   5.0           car    0.928568\n",
            "e  1.330198  1.330198  0.934563  0.589562   5.0          bike    1.423337\n",
            "f -0.512410 -0.512410 -0.587806 -0.681344   5.0           car    0.871734\n"
          ]
        }
      ]
    },
    {
      "cell_type": "markdown",
      "source": [
        "Indexing can be performed in multiple ways:\n",
        "* Select column `df[col]`\n",
        "* Select row by label `df.loc[label]`\n",
        "* Select row by integer location `df.iloc[loc]`\n",
        "* Slice rows `df[5:10]`\n",
        "* Select rows by boolean vector `df[bool_vec]`\n"
      ],
      "metadata": {
        "id": "9AkZpWrpcqKO"
      }
    },
    {
      "cell_type": "code",
      "source": [
        "print(df['first'])\n",
        "print(df.loc['b'])\n",
        "print(df.iloc[2])"
      ],
      "metadata": {
        "colab": {
          "base_uri": "https://localhost:8080/"
        },
        "id": "qcLnPyLnfiOP",
        "outputId": "f1f57c9b-080c-4926-c345-434bd5958f34"
      },
      "execution_count": null,
      "outputs": [
        {
          "output_type": "stream",
          "name": "stdout",
          "text": [
            "a   -0.594906\n",
            "b   -0.724108\n",
            "c    1.264896\n",
            "d   -0.492862\n",
            "e    1.330198\n",
            "f   -0.512410\n",
            "Name: first, dtype: float64\n",
            "first           -0.724108\n",
            "bar             -0.724108\n",
            "second          -2.305174\n",
            "third            1.336821\n",
            "last                  5.0\n",
            "actually_last        tram\n",
            "Name: b, dtype: object\n",
            "first            1.264896\n",
            "bar              1.264896\n",
            "second           0.353127\n",
            "third           -0.791034\n",
            "last                  5.0\n",
            "actually_last         bus\n",
            "Name: c, dtype: object\n"
          ]
        }
      ]
    },
    {
      "cell_type": "markdown",
      "source": [
        "We can also perform operations on dataframes. Most NumPy functions work as well."
      ],
      "metadata": {
        "id": "_j0K-RQ_mTjt"
      }
    },
    {
      "cell_type": "code",
      "source": [
        "df2 = df[['first', 'bar', 'second']]\n",
        "print(df2)\n",
        "print(2 * df2 + 1.0)\n",
        "print(df2 - df2.iloc[0])\n",
        "print(np.exp(df2))"
      ],
      "metadata": {
        "colab": {
          "base_uri": "https://localhost:8080/"
        },
        "id": "a0_P9xzKmWtl",
        "outputId": "231159f5-ca69-476b-eb22-aa6e979b9638"
      },
      "execution_count": null,
      "outputs": [
        {
          "output_type": "stream",
          "name": "stdout",
          "text": [
            "      first       bar    second\n",
            "a -0.594906 -0.594906  0.745969\n",
            "b -0.724108 -0.724108 -2.305174\n",
            "c  1.264896  1.264896  0.353127\n",
            "d -0.492862 -0.492862 -0.530776\n",
            "e  1.330198  1.330198  0.934563\n",
            "f -0.512410 -0.512410 -0.587806\n",
            "      first       bar    second\n",
            "a -0.189813 -0.189813  2.491939\n",
            "b -0.448215 -0.448215 -3.610349\n",
            "c  3.529792  3.529792  1.706255\n",
            "d  0.014276  0.014276 -0.061552\n",
            "e  3.660397  3.660397  2.869127\n",
            "f -0.024820 -0.024820 -0.175611\n",
            "      first       bar    second\n",
            "a  0.000000  0.000000  0.000000\n",
            "b -0.129201 -0.129201 -3.051144\n",
            "c  1.859802  1.859802 -0.392842\n",
            "d  0.102044  0.102044 -1.276746\n",
            "e  1.925105  1.925105  0.188594\n",
            "f  0.082496  0.082496 -1.333775\n",
            "      first       bar    second\n",
            "a  0.551614  0.551614  2.108484\n",
            "b  0.484757  0.484757  0.099741\n",
            "c  3.542723  3.542723  1.423512\n",
            "d  0.610876  0.610876  0.588148\n",
            "e  3.781794  3.781794  2.546101\n",
            "f  0.599050  0.599050  0.555545\n"
          ]
        }
      ]
    },
    {
      "cell_type": "markdown",
      "source": [
        "We can also load a csv. We will first download one."
      ],
      "metadata": {
        "id": "ePnIdC_gnPd_"
      }
    },
    {
      "cell_type": "code",
      "source": [
        "!wget https://archive.ics.uci.edu/ml/machine-learning-databases/adult/adult.data\n",
        "!wget https://archive.ics.uci.edu/ml/machine-learning-databases/adult/adult.names\n",
        "!tail -n 16 adult.names"
      ],
      "metadata": {
        "colab": {
          "base_uri": "https://localhost:8080/"
        },
        "id": "12lVJsbVnWOd",
        "outputId": "bd5a6cf5-1596-4d74-8244-0f0da846db94"
      },
      "execution_count": null,
      "outputs": [
        {
          "output_type": "stream",
          "name": "stdout",
          "text": [
            "--2022-03-07 21:46:33--  https://archive.ics.uci.edu/ml/machine-learning-databases/adult/adult.data\n",
            "Resolving archive.ics.uci.edu (archive.ics.uci.edu)... 128.195.10.252\n",
            "Connecting to archive.ics.uci.edu (archive.ics.uci.edu)|128.195.10.252|:443... connected.\n",
            "HTTP request sent, awaiting response... 200 OK\n",
            "Length: 3974305 (3.8M) [application/x-httpd-php]\n",
            "Saving to: ‘adult.data’\n",
            "\n",
            "adult.data          100%[===================>]   3.79M  6.60MB/s    in 0.6s    \n",
            "\n",
            "2022-03-07 21:46:34 (6.60 MB/s) - ‘adult.data’ saved [3974305/3974305]\n",
            "\n",
            "--2022-03-07 21:46:34--  https://archive.ics.uci.edu/ml/machine-learning-databases/adult/adult.names\n",
            "Resolving archive.ics.uci.edu (archive.ics.uci.edu)... 128.195.10.252\n",
            "Connecting to archive.ics.uci.edu (archive.ics.uci.edu)|128.195.10.252|:443... connected.\n",
            "HTTP request sent, awaiting response... 200 OK\n",
            "Length: 5229 (5.1K) [application/x-httpd-php]\n",
            "Saving to: ‘adult.names’\n",
            "\n",
            "adult.names         100%[===================>]   5.11K  --.-KB/s    in 0s      \n",
            "\n",
            "2022-03-07 21:46:34 (149 MB/s) - ‘adult.names’ saved [5229/5229]\n",
            "\n",
            ">50K, <=50K.\n",
            "\n",
            "age: continuous.\n",
            "workclass: Private, Self-emp-not-inc, Self-emp-inc, Federal-gov, Local-gov, State-gov, Without-pay, Never-worked.\n",
            "fnlwgt: continuous.\n",
            "education: Bachelors, Some-college, 11th, HS-grad, Prof-school, Assoc-acdm, Assoc-voc, 9th, 7th-8th, 12th, Masters, 1st-4th, 10th, Doctorate, 5th-6th, Preschool.\n",
            "education-num: continuous.\n",
            "marital-status: Married-civ-spouse, Divorced, Never-married, Separated, Widowed, Married-spouse-absent, Married-AF-spouse.\n",
            "occupation: Tech-support, Craft-repair, Other-service, Sales, Exec-managerial, Prof-specialty, Handlers-cleaners, Machine-op-inspct, Adm-clerical, Farming-fishing, Transport-moving, Priv-house-serv, Protective-serv, Armed-Forces.\n",
            "relationship: Wife, Own-child, Husband, Not-in-family, Other-relative, Unmarried.\n",
            "race: White, Asian-Pac-Islander, Amer-Indian-Eskimo, Other, Black.\n",
            "sex: Female, Male.\n",
            "capital-gain: continuous.\n",
            "capital-loss: continuous.\n",
            "hours-per-week: continuous.\n",
            "native-country: United-States, Cambodia, England, Puerto-Rico, Canada, Germany, Outlying-US(Guam-USVI-etc), India, Japan, Greece, South, China, Cuba, Iran, Honduras, Philippines, Italy, Poland, Jamaica, Vietnam, Mexico, Portugal, Ireland, France, Dominican-Republic, Laos, Ecuador, Taiwan, Haiti, Columbia, Hungary, Guatemala, Nicaragua, Scotland, Thailand, Yugoslavia, El-Salvador, Trinadad&Tobago, Peru, Hong, Holand-Netherlands.\n"
          ]
        }
      ]
    },
    {
      "cell_type": "code",
      "source": [
        "data = pd.read_csv('adult.data', header=None)\n",
        "print(data)\n",
        "print(data.iloc[0])"
      ],
      "metadata": {
        "colab": {
          "base_uri": "https://localhost:8080/"
        },
        "id": "XdlzLta8naQ4",
        "outputId": "0cc10e97-4603-4daa-8dd8-4aa52d7a9e21"
      },
      "execution_count": null,
      "outputs": [
        {
          "output_type": "stream",
          "name": "stdout",
          "text": [
            "       0                  1       2            3   4                    5   \\\n",
            "0      39          State-gov   77516    Bachelors  13        Never-married   \n",
            "1      50   Self-emp-not-inc   83311    Bachelors  13   Married-civ-spouse   \n",
            "2      38            Private  215646      HS-grad   9             Divorced   \n",
            "3      53            Private  234721         11th   7   Married-civ-spouse   \n",
            "4      28            Private  338409    Bachelors  13   Married-civ-spouse   \n",
            "...    ..                ...     ...          ...  ..                  ...   \n",
            "32556  27            Private  257302   Assoc-acdm  12   Married-civ-spouse   \n",
            "32557  40            Private  154374      HS-grad   9   Married-civ-spouse   \n",
            "32558  58            Private  151910      HS-grad   9              Widowed   \n",
            "32559  22            Private  201490      HS-grad   9        Never-married   \n",
            "32560  52       Self-emp-inc  287927      HS-grad   9   Married-civ-spouse   \n",
            "\n",
            "                       6               7       8        9      10  11  12  \\\n",
            "0            Adm-clerical   Not-in-family   White     Male   2174   0  40   \n",
            "1         Exec-managerial         Husband   White     Male      0   0  13   \n",
            "2       Handlers-cleaners   Not-in-family   White     Male      0   0  40   \n",
            "3       Handlers-cleaners         Husband   Black     Male      0   0  40   \n",
            "4          Prof-specialty            Wife   Black   Female      0   0  40   \n",
            "...                   ...             ...     ...      ...    ...  ..  ..   \n",
            "32556        Tech-support            Wife   White   Female      0   0  38   \n",
            "32557   Machine-op-inspct         Husband   White     Male      0   0  40   \n",
            "32558        Adm-clerical       Unmarried   White   Female      0   0  40   \n",
            "32559        Adm-clerical       Own-child   White     Male      0   0  20   \n",
            "32560     Exec-managerial            Wife   White   Female  15024   0  40   \n",
            "\n",
            "                   13      14  \n",
            "0       United-States   <=50K  \n",
            "1       United-States   <=50K  \n",
            "2       United-States   <=50K  \n",
            "3       United-States   <=50K  \n",
            "4                Cuba   <=50K  \n",
            "...               ...     ...  \n",
            "32556   United-States   <=50K  \n",
            "32557   United-States    >50K  \n",
            "32558   United-States   <=50K  \n",
            "32559   United-States   <=50K  \n",
            "32560   United-States    >50K  \n",
            "\n",
            "[32561 rows x 15 columns]\n",
            "0                 39\n",
            "1          State-gov\n",
            "2              77516\n",
            "3          Bachelors\n",
            "4                 13\n",
            "5      Never-married\n",
            "6       Adm-clerical\n",
            "7      Not-in-family\n",
            "8              White\n",
            "9               Male\n",
            "10              2174\n",
            "11                 0\n",
            "12                40\n",
            "13     United-States\n",
            "14             <=50K\n",
            "Name: 0, dtype: object\n"
          ]
        }
      ]
    },
    {
      "cell_type": "markdown",
      "source": [
        "## Information Theory Measures\n",
        "\n",
        "We have covered these measures during the lecture. Now we will try to implement them in code."
      ],
      "metadata": {
        "id": "s3cjbXJl_Ttp"
      }
    },
    {
      "cell_type": "markdown",
      "source": [
        "### Exercise 2 - Shannon Entropy\n",
        "\n",
        "Shannon entropy is defined as: $H(Y) = - \\sum_{y \\in \\omega} P(Y = y) \\cdot log_2(P(Y = y))$\n",
        "\n",
        "Implement the Shannon Entropy as the function entropy. Its only input will be a Pandas Series object.\n",
        "\n",
        "*Note:* You can calculate the probabilities by calculating how many times a given value occurs in the given series. In order to do that you may want to use the `value_counts` method of the `Series` class."
      ],
      "metadata": {
        "id": "CC0Vhq8CASzq"
      }
    },
    {
      "cell_type": "code",
      "source": [
        "def entropy(s):\n",
        "  ..."
      ],
      "metadata": {
        "id": "_fAxx3ZfoWJz"
      },
      "execution_count": null,
      "outputs": []
    },
    {
      "cell_type": "markdown",
      "source": [
        "If you implemented these correctly these tests should run."
      ],
      "metadata": {
        "id": "Fju8IEXyBkkp"
      }
    },
    {
      "cell_type": "code",
      "source": [
        "print(entropy(data[0]))\n",
        "print(entropy(data[13]))"
      ],
      "metadata": {
        "colab": {
          "base_uri": "https://localhost:8080/"
        },
        "id": "KTCJlSXpow_n",
        "outputId": "9c7c9745-a52b-4d40-fc3f-97a1f2d901f5"
      },
      "execution_count": null,
      "outputs": [
        {
          "output_type": "stream",
          "name": "stdout",
          "text": [
            "5.68332439640033\n",
            "0.9437954138017222\n"
          ]
        }
      ]
    },
    {
      "cell_type": "markdown",
      "source": [
        "### Exercise 3 - Conditional Entropy\n",
        "\n",
        "We can recap the definition of the conditinal entropy.\n",
        "\n",
        "Specific conditional entropy: $H(Y| X = v) = H(Y),$ only for values of $Y$, where $X = x$\n",
        "\n",
        "Conditional Entropy: $H(Y| X) = \\sum_{x \\in \\Omega_x} P(X = x) \\cdot H(Y | X = x)$\n",
        "\n",
        "Now we will implement the function `conditional_entropy` which will take two `Series` objects as inputs.\n",
        "\n",
        "*Note:* You want to sum over the categories of y. Therefore, it is useful to convert that `Series` object into `category` type using the `astype` method. You can then obtain a list of the categories in the `Series`, try to google how."
      ],
      "metadata": {
        "id": "QMytMsx2CI6z"
      }
    },
    {
      "cell_type": "code",
      "source": [
        "def conditional_entropy(y, x):\n",
        "  ..."
      ],
      "metadata": {
        "id": "wYylz2ViqZoe"
      },
      "execution_count": null,
      "outputs": []
    },
    {
      "cell_type": "markdown",
      "source": [
        "These tests should run successfully if your implementation is correct."
      ],
      "metadata": {
        "id": "skKlg097IRmS"
      }
    },
    {
      "cell_type": "code",
      "source": [
        "print(conditional_entropy(data[13], data[14]))\n",
        "print(conditional_entropy(data[1], data[14]))\n",
        "print(conditional_entropy(data[8], data[14]))\n",
        "print(conditional_entropy(data[3], data[14]))"
      ],
      "metadata": {
        "colab": {
          "base_uri": "https://localhost:8080/"
        },
        "id": "p2B-74FhryrZ",
        "outputId": "aed789ed-1e5d-49e3-c188-e35792e6bd87"
      },
      "execution_count": null,
      "outputs": [
        {
          "output_type": "stream",
          "name": "stdout",
          "text": [
            "0.787688613181352\n",
            "0.7748123650040903\n",
            "0.7880060088737025\n",
            "0.7027931141135986\n"
          ]
        }
      ]
    }
  ]
}
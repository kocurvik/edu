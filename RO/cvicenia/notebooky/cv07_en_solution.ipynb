{
  "nbformat": 4,
  "nbformat_minor": 0,
  "metadata": {
    "colab": {
      "name": "cv07_en_solution.ipynb",
      "provenance": [],
      "collapsed_sections": [],
      "toc_visible": true,
      "authorship_tag": "ABX9TyMF4s03Au8WCiUghSUpAkQ+",
      "include_colab_link": true
    },
    "kernelspec": {
      "name": "python3",
      "display_name": "Python 3"
    },
    "language_info": {
      "name": "python"
    }
  },
  "cells": [
    {
      "cell_type": "markdown",
      "metadata": {
        "id": "view-in-github",
        "colab_type": "text"
      },
      "source": [
        "<a href=\"https://colab.research.google.com/github/kocurvik/edu/blob/master/RO/cvicenia/notebooky/cv07_en_solution.ipynb\" target=\"_parent\"><img src=\"https://colab.research.google.com/assets/colab-badge.svg\" alt=\"Open In Colab\"/></a>"
      ]
    },
    {
      "cell_type": "markdown",
      "source": [
        "# Lab 7 - Feature Selection and Normalization, Naive Bayes Classifier, Numerical vs Categorical Data\n",
        "\n",
        "In the lecture we mainly discussed the Bayes classifier, but in the lab we will focus on some elements of work from earlier lectures. We will cover some methods of features selection and normalization and some transformations of data from categorical type to a numeric version."
      ],
      "metadata": {
        "id": "gh_cuhfLesa2"
      }
    },
    {
      "cell_type": "markdown",
      "source": [
        "## Feature Selection\n",
        "\n",
        "We can easily perform feature selection using scikit-learn. We will work with a database of wines and their respective qualities for simplicity.\n",
        "\n",
        "We can use the `sklearn.feature_selection.SelectKBest` to perform filter-type approach to feature selection. We will also need to select a measure such as `chi2, f_classif, mutual_info_classif` to evaluate the individual features."
      ],
      "metadata": {
        "id": "iiG6IsjP8oOT"
      }
    },
    {
      "cell_type": "code",
      "execution_count": null,
      "metadata": {
        "colab": {
          "base_uri": "https://localhost:8080/"
        },
        "id": "TtnGOj7SXtlV",
        "outputId": "98daae46-a8cc-4908-b74a-62c8fff4f159"
      },
      "outputs": [
        {
          "output_type": "stream",
          "name": "stdout",
          "text": [
            "Loaded wine dataset with features:  ['alcohol', 'malic_acid', 'ash', 'alcalinity_of_ash', 'magnesium', 'total_phenols', 'flavanoids', 'nonflavanoid_phenols', 'proanthocyanins', 'color_intensity', 'hue', 'od280/od315_of_diluted_wines', 'proline']  and classes:  ['class_0' 'class_1' 'class_2']\n",
            "(178, 13)\n",
            "First vector\n",
            "[1.423e+01 1.710e+00 2.430e+00 1.560e+01 1.270e+02 2.800e+00 3.060e+00\n",
            " 2.800e-01 2.290e+00 5.640e+00 1.040e+00 3.920e+00 1.065e+03]\n",
            "Using stat:  <function chi2 at 0x7f34d9a2f8c0>\n",
            "(178, 8)\n",
            "[   1.71   15.6   127.      2.8     3.06    5.64    3.92 1065.  ]\n",
            "Using stat:  <function f_classif at 0x7f34d9a2f320>\n",
            "(178, 8)\n",
            "[1.423e+01 1.710e+00 2.800e+00 3.060e+00 5.640e+00 1.040e+00 3.920e+00\n",
            " 1.065e+03]\n",
            "Using stat:  <function mutual_info_classif at 0x7f34d9375680>\n",
            "(178, 8)\n",
            "[1.423e+01 2.800e+00 3.060e+00 2.290e+00 5.640e+00 1.040e+00 3.920e+00\n",
            " 1.065e+03]\n"
          ]
        }
      ],
      "source": [
        "from sklearn.datasets import load_wine\n",
        "from sklearn.feature_selection import SelectKBest\n",
        "from sklearn.feature_selection import chi2, f_classif, mutual_info_classif\n",
        "X, y = load_wine(return_X_y=True)\n",
        "bunch = load_wine()\n",
        "print(\"Loaded wine dataset with features: \", bunch.feature_names, \" and classes: \", bunch.target_names)\n",
        "print(X.shape)\n",
        "print(\"First vector\")\n",
        "print(X[0, :])\n",
        "\n",
        "for stat in (chi2, f_classif, mutual_info_classif):\n",
        "  print(\"Using stat: \", stat)\n",
        "  X_new = SelectKBest(stat, k=8).fit_transform(X, y)\n",
        "  print(X_new.shape)\n",
        "  print(X_new[0, :])"
      ]
    },
    {
      "cell_type": "markdown",
      "source": [
        "### Exercise - Which features were used\n",
        "\n",
        "Modify the code above so that it also outputs the names of the features which were kept. Check the documentation on how to do this."
      ],
      "metadata": {
        "id": "ZXU2oVPx_-8b"
      }
    },
    {
      "cell_type": "code",
      "source": [
        "X, y = load_wine(return_X_y=True)\n",
        "# we the dataset in a different way to have access to feature and target names\n",
        "bunch = load_wine()\n",
        "print(\"Loaded wine dataset with features: \", bunch.feature_names, \" and classes: \", bunch.target_names)\n",
        "print(X.shape)\n",
        "print(\"First vector\")\n",
        "print(X[0, :])\n",
        "\n",
        "for stat in (chi2, f_classif, mutual_info_classif):\n",
        "  print(\"Using stat: \", stat)\n",
        "  selector = SelectKBest(stat, k=8)\n",
        "  X_new = selector.fit_transform(X, y)\n",
        "  print(\"Features kept: \", selector.get_feature_names_out(bunch.feature_names))\n",
        "  print(X_new.shape)\n",
        "  print(X_new[0, :])\n"
      ],
      "metadata": {
        "colab": {
          "base_uri": "https://localhost:8080/"
        },
        "id": "ko9ntxxRANeG",
        "outputId": "6d0f0b82-252a-4a65-8175-160fef3ac3c8"
      },
      "execution_count": null,
      "outputs": [
        {
          "output_type": "stream",
          "name": "stdout",
          "text": [
            "Loaded wine dataset with features:  ['alcohol', 'malic_acid', 'ash', 'alcalinity_of_ash', 'magnesium', 'total_phenols', 'flavanoids', 'nonflavanoid_phenols', 'proanthocyanins', 'color_intensity', 'hue', 'od280/od315_of_diluted_wines', 'proline']  and classes:  ['class_0' 'class_1' 'class_2']\n",
            "(178, 13)\n",
            "First vector\n",
            "[1.423e+01 1.710e+00 2.430e+00 1.560e+01 1.270e+02 2.800e+00 3.060e+00\n",
            " 2.800e-01 2.290e+00 5.640e+00 1.040e+00 3.920e+00 1.065e+03]\n",
            "Using stat:  <function chi2 at 0x7f34d9a2f8c0>\n",
            "Features kept:  ['malic_acid' 'alcalinity_of_ash' 'magnesium' 'total_phenols' 'flavanoids'\n",
            " 'color_intensity' 'od280/od315_of_diluted_wines' 'proline']\n",
            "(178, 8)\n",
            "[   1.71   15.6   127.      2.8     3.06    5.64    3.92 1065.  ]\n",
            "Using stat:  <function f_classif at 0x7f34d9a2f320>\n",
            "Features kept:  ['alcohol' 'malic_acid' 'total_phenols' 'flavanoids' 'color_intensity'\n",
            " 'hue' 'od280/od315_of_diluted_wines' 'proline']\n",
            "(178, 8)\n",
            "[1.423e+01 1.710e+00 2.800e+00 3.060e+00 5.640e+00 1.040e+00 3.920e+00\n",
            " 1.065e+03]\n",
            "Using stat:  <function mutual_info_classif at 0x7f34d9375680>\n",
            "Features kept:  ['alcohol' 'total_phenols' 'flavanoids' 'proanthocyanins'\n",
            " 'color_intensity' 'hue' 'od280/od315_of_diluted_wines' 'proline']\n",
            "(178, 8)\n",
            "[1.423e+01 2.800e+00 3.060e+00 2.290e+00 5.640e+00 1.040e+00 3.920e+00\n",
            " 1.065e+03]\n"
          ]
        }
      ]
    },
    {
      "cell_type": "markdown",
      "source": [
        "### Exercise - Wrapper\n",
        "\n",
        "Now you should try to use the wrapper approach by checking out the `sklearn.feature_selection.SequentialFeatureSelector`. Try to get 10 features by using an SVM classifier."
      ],
      "metadata": {
        "id": "R5REtxOGBtec"
      }
    },
    {
      "cell_type": "code",
      "source": [
        "from sklearn.feature_selection import SequentialFeatureSelector\n",
        "from sklearn.svm import SVC\n",
        "\n",
        "svc = SVC()\n",
        "\n",
        "sfs_forward = SequentialFeatureSelector(svc, n_features_to_select=10, direction=\"forward\").fit(X, y)\n",
        "print(\"Features kept going forward:\", sfs_forward.get_feature_names_out(bunch.feature_names))\n",
        "\n",
        "sfs_backward = SequentialFeatureSelector(svc, n_features_to_select=10, direction=\"backward\").fit(X, y)\n",
        "print(\"Features kept going backward:\", sfs_backward.get_feature_names_out(bunch.feature_names))"
      ],
      "metadata": {
        "colab": {
          "base_uri": "https://localhost:8080/"
        },
        "id": "k0o05wsnOlyO",
        "outputId": "72fe2edc-0a8f-4b58-eb86-a348c1c645c2"
      },
      "execution_count": null,
      "outputs": [
        {
          "output_type": "stream",
          "name": "stdout",
          "text": [
            "Features kept going forward: ['alcohol' 'malic_acid' 'ash' 'total_phenols' 'flavanoids'\n",
            " 'nonflavanoid_phenols' 'proanthocyanins' 'color_intensity' 'hue'\n",
            " 'od280/od315_of_diluted_wines']\n",
            "Features kept going backward: ['alcalinity_of_ash' 'magnesium' 'total_phenols' 'flavanoids'\n",
            " 'nonflavanoid_phenols' 'proanthocyanins' 'color_intensity' 'hue'\n",
            " 'od280/od315_of_diluted_wines' 'proline']\n"
          ]
        }
      ]
    },
    {
      "cell_type": "markdown",
      "source": [
        "## Feature normalization and Bayes classifier\n",
        "\n",
        "We can use the naive Gaussian Bayes classifier from sklearn as `sklearn.naive_bayes.GaussianNB`. We can try it on the wine dataset."
      ],
      "metadata": {
        "id": "Bf-LmEddh4ez"
      }
    },
    {
      "cell_type": "code",
      "source": [
        "from sklearn.model_selection import train_test_split\n",
        "from sklearn.naive_bayes import GaussianNB\n",
        "import numpy as np\n",
        "\n",
        "X, y = load_wine(return_X_y=True)\n",
        "\n",
        "X_train, X_test, y_train, y_test = train_test_split(X, y, test_size=0.2, random_state=0)\n",
        "\n",
        "gnb = GaussianNB()\n",
        "gnb.fit(X_train, y_train)\n",
        "\n",
        "y_test_pred = gnb.predict(X_test)\n",
        "\n",
        "print('Accuracy: ', np.sum(y_test_pred == y_test)/len(y_test))"
      ],
      "metadata": {
        "colab": {
          "base_uri": "https://localhost:8080/"
        },
        "id": "uOVGmXBIief9",
        "outputId": "61384a60-c80e-4b6d-f2af-66305d97ade2"
      },
      "execution_count": null,
      "outputs": [
        {
          "output_type": "stream",
          "name": "stdout",
          "text": [
            "Accuracy:  0.9166666666666666\n"
          ]
        }
      ]
    },
    {
      "cell_type": "markdown",
      "source": [
        "### Exercise - Importance of feature normalization\n",
        "\n",
        "Now lets use the same classifier, but before it we will apply PCA. First try to only do PCA on the unchanged data and reduce the dimensionality to 2. Check the accuracy. We will see that the accuracy will be way worse 😞\n",
        "\n",
        "However, if we first normalize the data and then apply PCA we will achieve better accuracy accuracy. You can normalize the data using `sklearn.preprocessing.StandardScaler`.\n",
        "\n",
        "Try both of these methods. Since we transform to 2 dimensions you can also visualize the results.\n",
        "\n",
        "*Note:* This exercise was inspired by [this sklearn example](https://scikit-learn.org/stable/auto_examples/preprocessing/plot_scaling_importance.html#). Do not check before working on this as the solution to this exercise is written there directly in the code."
      ],
      "metadata": {
        "id": "ir7H9qiQkKNK"
      }
    },
    {
      "cell_type": "code",
      "source": [
        "import matplotlib.pyplot as plt\n",
        "from sklearn.preprocessing import StandardScaler\n",
        "from sklearn.decomposition import PCA\n",
        "from sklearn.metrics import accuracy_score\n",
        "\n",
        "pca = PCA(2)\n",
        "gnb = GaussianNB()\n",
        "\n",
        "X_train_transformed = pca.fit_transform(X_train)\n",
        "gnb.fit(X_train_transformed, y_train)\n",
        "y_test_pred = gnb.predict(pca.transform(X_test))\n",
        "\n",
        "print('Accuracy of PCA without normalization: ', np.sum(y_test_pred == y_test)/ len(y_test))\n",
        "\n",
        "\n",
        "plt.scatter(X_train_transformed[:, 0], X_train_transformed[:, 1], c=y_train)\n",
        "plt.title(\"PCA without normalization\")\n",
        "plt.show()\n",
        "\n",
        "\n",
        "scaler = StandardScaler()\n",
        "pca = PCA(2)\n",
        "gnb = GaussianNB()\n",
        "\n",
        "X_train_scaled = scaler.fit_transform(X_train)\n",
        "X_train_scaled_transformed = pca.fit_transform(X_train_scaled)\n",
        "gnb.fit(X_train_scaled_transformed, y_train)\n",
        "y_test_pred = gnb.predict(pca.transform(scaler.transform(X_test)))\n",
        "\n",
        "print('Accuracy of PCA with normalization: ', np.sum(y_test_pred == y_test)/ len(y_test))\n",
        "\n",
        "plt.scatter(X_train_scaled_transformed[:, 0], X_train_scaled_transformed[:, 1], c=y_train)\n",
        "plt.title(\"PCA with normalization\")\n",
        "plt.show()\n"
      ],
      "metadata": {
        "colab": {
          "base_uri": "https://localhost:8080/",
          "height": 579
        },
        "id": "BbLl6ZbrkAeD",
        "outputId": "1c367d6e-2a35-4375-aa50-3109de5267a6"
      },
      "execution_count": null,
      "outputs": [
        {
          "output_type": "stream",
          "name": "stdout",
          "text": [
            "Accuracy of PCA without normalization:  0.7777777777777778\n"
          ]
        },
        {
          "output_type": "display_data",
          "data": {
            "text/plain": [
              "<Figure size 432x288 with 1 Axes>"
            ],
            "image/png": "[encoded data removed]"
          },
          "metadata": {
            "needs_background": "light"
          }
        },
        {
          "output_type": "stream",
          "name": "stdout",
          "text": [
            "Accuracy of PCA with normalization:  0.9722222222222222\n"
          ]
        },
        {
          "output_type": "display_data",
          "data": {
            "text/plain": [
              "<Figure size 432x288 with 1 Axes>"
            ],
            "image/png": "[encoded data removed]"
          },
          "metadata": {
            "needs_background": "light"
          }
        }
      ]
    },
    {
      "cell_type": "markdown",
      "source": [
        "### Gaussian classifier decision boundary\n",
        "\n",
        "We can plot the boundaries using the function from the previous lab."
      ],
      "metadata": {
        "id": "VfaxKdwY5Y9Y"
      }
    },
    {
      "cell_type": "code",
      "source": [
        "def plot_clf_boundary(clf, x, y): \n",
        "  x_min, x_max = x[:, 0].min() - 1, x[:, 0].max() + 1\n",
        "  y_min, y_max = x[:, 1].min() - 1, x[:, 1].max() + 1\n",
        "  h_x = (x_max - x_min) / 150\n",
        "  h_y = (y_max - y_min) / 150\n",
        "  xx, yy = np.meshgrid(np.arange(x_min, x_max, h_x), np.arange(y_min, y_max, h_y))\n",
        "  z = clf.predict(np.c_[xx.ravel(), yy.ravel()])\n",
        "\n",
        "  # Put the result into a color plot\n",
        "  z = z.reshape(xx.shape)\n",
        "  plt.contourf(xx, yy, z, cmap=plt.cm.coolwarm, alpha=0.8)\n",
        "\n",
        "  # Plot also the training points\n",
        "  plt.scatter(x[:, 0], x[:, 1], c=y, cmap=plt.cm.coolwarm)\n",
        "  plt.xlim(xx.min(), xx.max())\n",
        "  plt.ylim(yy.min(), yy.max())\n",
        "  # plt.xticks(())\n",
        "  # plt.yticks(())\n",
        "  plt.show()\n",
        "\n",
        "plot_clf_boundary(gnb, X_train_scaled_transformed, y_train)"
      ],
      "metadata": {
        "colab": {
          "base_uri": "https://localhost:8080/",
          "height": 265
        },
        "id": "Pf7BkhYx5k1q",
        "outputId": "6ef5cde5-7cc6-47f0-b35a-9c7d86d05b22"
      },
      "execution_count": null,
      "outputs": [
        {
          "output_type": "display_data",
          "data": {
            "text/plain": [
              "<Figure size 432x288 with 1 Axes>"
            ],
            "image/png": "[encoded data removed]"
          },
          "metadata": {
            "needs_background": "light"
          }
        }
      ]
    },
    {
      "cell_type": "markdown",
      "source": [
        "### Exercise - Sklearn Pipelines\n",
        "\n",
        "Sometimes we group together multiple operations into one by using from `sklearn.pipeline.make_pipeline`.\n",
        "\n",
        "Rewrite the code in the block below using the pipeline."
      ],
      "metadata": {
        "id": "gvB25MC6r6LJ"
      }
    },
    {
      "cell_type": "code",
      "source": [
        "selector = SelectKBest(f_classif, k=8)\n",
        "scaler = StandardScaler()\n",
        "pca = PCA(6)\n",
        "gnb = GaussianNB()\n",
        "\n",
        "X_train_selected = selector.fit_transform(X_train, y_train)\n",
        "X_train_scaled = scaler.fit_transform(X_train_selected)\n",
        "X_train_transformed = pca.fit_transform(X_train_scaled)\n",
        "gnb.fit(X_train_transformed, y_train)\n",
        "\n",
        "y_pred = gnb.predict(pca.transform(scaler.transform(selector.transform(X_test))))\n",
        "print(\"Accuracy with feature selection, normalization and PCA: \", np.sum(y_pred == y_test) / len(y_test))"
      ],
      "metadata": {
        "colab": {
          "base_uri": "https://localhost:8080/"
        },
        "id": "qyAJ6rlP34gV",
        "outputId": "ad967871-3efb-47e4-86fc-f0daa2148351"
      },
      "execution_count": null,
      "outputs": [
        {
          "output_type": "stream",
          "name": "stdout",
          "text": [
            "Accuracy with feature selection, normalization and PCA:  1.0\n"
          ]
        }
      ]
    },
    {
      "cell_type": "code",
      "source": [
        "from sklearn.pipeline import make_pipeline\n",
        "\n",
        "pipeline = make_pipeline(SelectKBest(f_classif, k=8), StandardScaler(), PCA(6), GaussianNB())\n",
        "\n",
        "pipeline.fit(X_train, y_train)\n",
        "y_pred = pipeline.predict(X_test)\n",
        "\n",
        "print(\"Accuracy with feature selection, normalization and PCA: \", np.sum(y_pred == y_test) / len(y_test))\n",
        "\n"
      ],
      "metadata": {
        "colab": {
          "base_uri": "https://localhost:8080/"
        },
        "id": "3qyoxrRHr-Il",
        "outputId": "e81714e3-9dcb-4e68-8e45-690f3f76a580"
      },
      "execution_count": null,
      "outputs": [
        {
          "output_type": "stream",
          "name": "stdout",
          "text": [
            "Accuracy with feature selection, normalization and PCA:  1.0\n"
          ]
        }
      ]
    },
    {
      "cell_type": "markdown",
      "source": [
        "## Categorical Naive Bayes Classifier\n",
        "\n",
        "Now we will work with the Bayes classifier, but we will work with categorical data.\n",
        "\n",
        "We will load a database of cars."
      ],
      "metadata": {
        "id": "lzURWbbg-ipY"
      }
    },
    {
      "cell_type": "code",
      "source": [
        "!wget http://archive.ics.uci.edu/ml/machine-learning-databases/car/car.data\n",
        "\n",
        "import pandas as pd\n",
        "\n",
        "car_data = pd.read_csv('car.data', names=['buying','maint','doors','persons','lug_boot','safety','class'], sep=\",\")\n",
        "print(car_data.head())\n",
        "print(55 * '*')\n",
        "print(car_data.describe())"
      ],
      "metadata": {
        "colab": {
          "base_uri": "https://localhost:8080/"
        },
        "id": "cs_zZ51D6pFh",
        "outputId": "26173533-acf5-4dc4-a349-70171e499475"
      },
      "execution_count": null,
      "outputs": [
        {
          "output_type": "stream",
          "name": "stdout",
          "text": [
            "--2022-03-26 17:11:37--  http://archive.ics.uci.edu/ml/machine-learning-databases/car/car.data\n",
            "Resolving archive.ics.uci.edu (archive.ics.uci.edu)... 128.195.10.252\n",
            "Connecting to archive.ics.uci.edu (archive.ics.uci.edu)|128.195.10.252|:80... connected.\n",
            "HTTP request sent, awaiting response... 200 OK\n",
            "Length: 51867 (51K) [application/x-httpd-php]\n",
            "Saving to: ‘car.data.7’\n",
            "\n",
            "car.data.7          100%[===================>]  50.65K  --.-KB/s    in 0.1s    \n",
            "\n",
            "2022-03-26 17:11:37 (370 KB/s) - ‘car.data.7’ saved [51867/51867]\n",
            "\n",
            "  buying  maint doors persons lug_boot safety  class\n",
            "0  vhigh  vhigh     2       2    small    low  unacc\n",
            "1  vhigh  vhigh     2       2    small    med  unacc\n",
            "2  vhigh  vhigh     2       2    small   high  unacc\n",
            "3  vhigh  vhigh     2       2      med    low  unacc\n",
            "4  vhigh  vhigh     2       2      med    med  unacc\n",
            "*******************************************************\n",
            "       buying  maint doors persons lug_boot safety  class\n",
            "count    1728   1728  1728    1728     1728   1728   1728\n",
            "unique      4      4     4       3        3      3      4\n",
            "top     vhigh  vhigh     2       2    small    low  unacc\n",
            "freq      432    432   432     576      576    576   1210\n"
          ]
        }
      ]
    },
    {
      "cell_type": "markdown",
      "source": [
        "### Exercise - Categorical Naive Bayes\n",
        "\n",
        "We cannot use the categorical naive bayes directly. We have to first convert the data to the appropriate format where each contains contains only integers 0 to $n_{categories} - 1$ representing the various categories with given integers.\n",
        "\n",
        "In order to do that we can use the `sklearn.preprocessing.LabelEncoder` on the target classes and `sklearn.preprocessing.OrdinalEncoder`. \n",
        "\n",
        "\n",
        "*Note:* `LabelEncoder` and `OrdinalEncoder` do essentially the same thing, but the former only works on data with shape (n_samples) and the latter works on data of shape (n_samples, n_features). You could use `LabelEncoder` only, but you would need to apply the transform column by column. To do this you could use the method `apply` of the pandas `DataFrame` class. It applies a given function to every column.\n",
        "\n"
      ],
      "metadata": {
        "id": "C8Pj8QwED9xa"
      }
    },
    {
      "cell_type": "code",
      "source": [
        "from sklearn.preprocessing import LabelEncoder, OrdinalEncoder\n",
        "\n",
        "data_X = car_data.drop('class', axis='columns')\n",
        "data_y = car_data['class']\n",
        "\n",
        "oe = OrdinalEncoder()\n",
        "X = oe.fit_transform(data_X)\n",
        "\n",
        "le = LabelEncoder()\n",
        "y = le.fit_transform(data_y)\n",
        "\n",
        "\n",
        "print(X[:5, :])\n",
        "print(y[:5])\n"
      ],
      "metadata": {
        "colab": {
          "base_uri": "https://localhost:8080/"
        },
        "id": "NsSh1vJHFlwt",
        "outputId": "4fd385b2-4da8-41db-ee56-fc8c419bf73a"
      },
      "execution_count": null,
      "outputs": [
        {
          "output_type": "stream",
          "name": "stdout",
          "text": [
            "[[3. 3. 0. 0. 2. 1.]\n",
            " [3. 3. 0. 0. 2. 2.]\n",
            " [3. 3. 0. 0. 2. 0.]\n",
            " [3. 3. 0. 0. 1. 1.]\n",
            " [3. 3. 0. 0. 1. 2.]]\n",
            "[2 2 2 2 2]\n"
          ]
        }
      ]
    },
    {
      "cell_type": "markdown",
      "source": [
        "Now you can train the `sklearn.naive_bayes.CategoricalNB`."
      ],
      "metadata": {
        "id": "5Z8lKFqf_e2k"
      }
    },
    {
      "cell_type": "code",
      "source": [
        "from sklearn.naive_bayes import CategoricalNB\n",
        "\n",
        "# there is a weird behavior if we select random_state = 0 one of the categories will not be present in the training set, but only in the test set\n",
        "# therefore I just found a different random state where this does not happen, otherwise you might get an error\n",
        "# you can read more at https://github.com/scikit-learn/scikit-learn/issues/16028\n",
        "X_train, X_test, y_train, y_test = train_test_split(X, y, test_size=0.2, random_state=10)\n",
        "\n",
        "cnb = CategoricalNB()\n",
        "cnb.fit(X_train, y_train)\n",
        "\n",
        "y_pred = cnb.predict(X_test)\n",
        "\n",
        "print('Categorical NB accuracy: ', np.sum(y_pred == y_test) / len(y_test))"
      ],
      "metadata": {
        "colab": {
          "base_uri": "https://localhost:8080/"
        },
        "id": "IscMOWc9_ear",
        "outputId": "200f1cf7-2ffd-4217-f421-e74e4f366c08"
      },
      "execution_count": null,
      "outputs": [
        {
          "output_type": "stream",
          "name": "stdout",
          "text": [
            "Categorical NB accuracy:  0.8757225433526011\n"
          ]
        }
      ]
    },
    {
      "cell_type": "markdown",
      "source": [
        "## Converting data from categorical to numeric\n",
        "\n",
        "So far we have mostly worked with numerical data, but what if we have categorical data? We can transform them using different approaches. In case the categorical data has a direct numerical representation e.g. grades A,B,C,D,E,Fx can be converted to integers. We can manually make the change.\n",
        "\n",
        "However, in other cases such as categories: dog, cat and hamster. Assigning them values 0, 1 and 2 would not make sense as that would also mean that in our representation a cat is an average of a dog and a hamster, which is not meaningful for most purposes. \n",
        "\n",
        "Instead, we can use one-hot encoding. Which creates new features. One for each category and the values will only be 0 and 1. 1 will be used when the given category is the one representing the original feature. So in our new representation a dog would be $(1, 0, 0)$, cat would be $(0, 1, 0)$ and a hamster would be $(0, 0, 1)$.\n",
        "\n",
        "We will now try to do this with the car dataset."
      ],
      "metadata": {
        "id": "qh-gwFd2QJC8"
      }
    },
    {
      "cell_type": "markdown",
      "source": [
        "We can then call the function `pd.get_dummies` on a DataFrame while specifying which columnt to use to get the one-hot coded categories. The `prefix` keyword creates a column with a more representative name."
      ],
      "metadata": {
        "id": "nivpIWaMRvVz"
      }
    },
    {
      "cell_type": "code",
      "source": [
        "one_hot = pd.get_dummies(car_data['maint'], prefix='maint')\n",
        "\n",
        "print(one_hot.head())"
      ],
      "metadata": {
        "colab": {
          "base_uri": "https://localhost:8080/"
        },
        "id": "fZyiKdGuR84-",
        "outputId": "d11fc89b-5558-40a8-e8df-b2302775a9f7"
      },
      "execution_count": null,
      "outputs": [
        {
          "output_type": "stream",
          "name": "stdout",
          "text": [
            "   maint_high  maint_low  maint_med  maint_vhigh\n",
            "0           0          0          0            1\n",
            "1           0          0          0            1\n",
            "2           0          0          0            1\n",
            "3           0          0          0            1\n",
            "4           0          0          0            1\n"
          ]
        }
      ]
    },
    {
      "cell_type": "markdown",
      "source": [
        "### Exercise - Converting the car dataset to one-hot encoding\n",
        "\n",
        "Given how the get_dummies function work you should create a new dataframe which will contain all of the original data, but the categorical columns will be transformed to one-hot encoding.\n",
        "\n",
        "Check out the methods `join` and `drop` of the DataFrame class.\n",
        "\n",
        "Alternatively, you can use the `sklearn.preprocessing.OneHotEncoder`.\n",
        "\n",
        "The variable `cat_feats` below contains a list of the names of columns which are categorical in nature. You can use this in your code."
      ],
      "metadata": {
        "id": "uIIIyRiqT7Yv"
      }
    },
    {
      "cell_type": "code",
      "source": [
        "cat_feats = ['buying', 'maint', 'doors', 'persons', 'lug_boot', 'safety']\n",
        "# we first remove the classification class\n",
        "one_hot_data = car_data.drop('class', axis='columns').copy()\n",
        "\n",
        "for cat in cat_feats:\n",
        "  one_hot = pd.get_dummies(car_data[cat], prefix=cat)\n",
        "  one_hot_data = one_hot_data.drop(cat, axis='columns')\n",
        "  one_hot_data = one_hot_data.join(one_hot)\n",
        "\n",
        "print(one_hot_data.shape)\n",
        "print(one_hot_data)"
      ],
      "metadata": {
        "colab": {
          "base_uri": "https://localhost:8080/"
        },
        "id": "D4fx0GHS6MQx",
        "outputId": "234cf001-50c3-41f6-959e-1a59821f2bac"
      },
      "execution_count": null,
      "outputs": [
        {
          "output_type": "stream",
          "name": "stdout",
          "text": [
            "(1728, 21)\n",
            "      buying_high  buying_low  buying_med  buying_vhigh  maint_high  \\\n",
            "0               0           0           0             1           0   \n",
            "1               0           0           0             1           0   \n",
            "2               0           0           0             1           0   \n",
            "3               0           0           0             1           0   \n",
            "4               0           0           0             1           0   \n",
            "...           ...         ...         ...           ...         ...   \n",
            "1723            0           1           0             0           0   \n",
            "1724            0           1           0             0           0   \n",
            "1725            0           1           0             0           0   \n",
            "1726            0           1           0             0           0   \n",
            "1727            0           1           0             0           0   \n",
            "\n",
            "      maint_low  maint_med  maint_vhigh  doors_2  doors_3  ...  doors_5more  \\\n",
            "0             0          0            1        1        0  ...            0   \n",
            "1             0          0            1        1        0  ...            0   \n",
            "2             0          0            1        1        0  ...            0   \n",
            "3             0          0            1        1        0  ...            0   \n",
            "4             0          0            1        1        0  ...            0   \n",
            "...         ...        ...          ...      ...      ...  ...          ...   \n",
            "1723          1          0            0        0        0  ...            1   \n",
            "1724          1          0            0        0        0  ...            1   \n",
            "1725          1          0            0        0        0  ...            1   \n",
            "1726          1          0            0        0        0  ...            1   \n",
            "1727          1          0            0        0        0  ...            1   \n",
            "\n",
            "      persons_2  persons_4  persons_more  lug_boot_big  lug_boot_med  \\\n",
            "0             1          0             0             0             0   \n",
            "1             1          0             0             0             0   \n",
            "2             1          0             0             0             0   \n",
            "3             1          0             0             0             1   \n",
            "4             1          0             0             0             1   \n",
            "...         ...        ...           ...           ...           ...   \n",
            "1723          0          0             1             0             1   \n",
            "1724          0          0             1             0             1   \n",
            "1725          0          0             1             1             0   \n",
            "1726          0          0             1             1             0   \n",
            "1727          0          0             1             1             0   \n",
            "\n",
            "      lug_boot_small  safety_high  safety_low  safety_med  \n",
            "0                  1            0           1           0  \n",
            "1                  1            0           0           1  \n",
            "2                  1            1           0           0  \n",
            "3                  0            0           1           0  \n",
            "4                  0            0           0           1  \n",
            "...              ...          ...         ...         ...  \n",
            "1723               0            0           0           1  \n",
            "1724               0            1           0           0  \n",
            "1725               0            0           1           0  \n",
            "1726               0            0           0           1  \n",
            "1727               0            1           0           0  \n",
            "\n",
            "[1728 rows x 21 columns]\n"
          ]
        }
      ]
    },
    {
      "cell_type": "markdown",
      "source": [
        "Now we can try to apply use a linear SVM on the data and we obtain a much better accuracy."
      ],
      "metadata": {
        "id": "2Or5EM_2IefA"
      }
    },
    {
      "cell_type": "code",
      "source": [
        "from sklearn.svm import SVC\n",
        "\n",
        "X = one_hot_data\n",
        "y = LabelEncoder().fit_transform(car_data['class'])\n",
        "\n",
        "X_train, X_test, y_train, y_test = train_test_split(X, y, test_size=0.2, random_state=10)\n",
        "\n",
        "svm = SVC(kernel='linear')\n",
        "svm.fit(X_train, y_train)\n",
        "y_pred = svm.predict(X_test)\n",
        "print('Accuracy: ', np.sum(y_pred == y_test)/len(y_test))"
      ],
      "metadata": {
        "colab": {
          "base_uri": "https://localhost:8080/"
        },
        "id": "B2yWwyYSI_4H",
        "outputId": "b4ce8f09-ba7f-4a34-e805-ca14087ad288"
      },
      "execution_count": null,
      "outputs": [
        {
          "output_type": "stream",
          "name": "stdout",
          "text": [
            "Accuracy:  0.953757225433526\n"
          ]
        }
      ]
    }
  ]
}
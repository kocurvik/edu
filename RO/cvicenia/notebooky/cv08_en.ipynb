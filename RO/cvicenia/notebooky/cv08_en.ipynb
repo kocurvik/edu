{
  "nbformat": 4,
  "nbformat_minor": 0,
  "metadata": {
    "colab": {
      "name": "cv08_en.ipynb",
      "provenance": [],
      "collapsed_sections": [],
      "toc_visible": true,
      "authorship_tag": "ABX9TyOE6sBEw7l9ctg2qUoGUcbF",
      "include_colab_link": true
    },
    "kernelspec": {
      "name": "python3",
      "display_name": "Python 3"
    },
    "language_info": {
      "name": "python"
    }
  },
  "cells": [
    {
      "cell_type": "markdown",
      "metadata": {
        "id": "view-in-github",
        "colab_type": "text"
      },
      "source": [
        "<a href=\"https://colab.research.google.com/github/kocurvik/edu/blob/master/RO/cvicenia/notebooky/cv08_en.ipynb\" target=\"_parent\"><img src=\"https://colab.research.google.com/assets/colab-badge.svg\" alt=\"Open In Colab\"/></a>"
      ]
    },
    {
      "cell_type": "markdown",
      "source": [
        "# Lab 8 - kNN, Hyperparameter selection, Evaluation\n",
        "\n",
        "In this lab we will cover the k nearest neighbors classifier, hyperparameter tuning and evaluation."
      ],
      "metadata": {
        "id": "03JCdAlknvaA"
      }
    },
    {
      "cell_type": "markdown",
      "source": [
        "## kNN\n",
        "\n",
        "First we will work with kNN. For now we will use the sklearn library and use `sklearn.neighbors.KNeighborsClassifier`. In the last (bonus) exercise you can implement your own version kNN.\n",
        "\n",
        "We will now work with the Fisher Iris database. Below is the standard code for this task. We will use StandardScaler in a pipeline as that is an important step for kNN."
      ],
      "metadata": {
        "id": "xmn7MNsxoZpy"
      }
    },
    {
      "cell_type": "code",
      "execution_count": null,
      "metadata": {
        "colab": {
          "base_uri": "https://localhost:8080/"
        },
        "id": "w5mkZchklsv5",
        "outputId": "85734aa9-710d-41be-d44b-e7ccbbcd33a4"
      },
      "outputs": [
        {
          "output_type": "stream",
          "name": "stdout",
          "text": [
            "Accuracy:  0.9444444444444444\n"
          ]
        }
      ],
      "source": [
        "import numpy as np\n",
        "import sklearn\n",
        "from sklearn import datasets\n",
        "from sklearn.neighbors import KNeighborsClassifier\n",
        "from sklearn.model_selection import train_test_split\n",
        "from sklearn.pipeline import make_pipeline\n",
        "from sklearn.preprocessing import StandardScaler\n",
        "\n",
        "data = datasets.load_wine()\n",
        "X = data.data\n",
        "y = data.target\n",
        "\n",
        "X_train, X_test, y_train, y_test = train_test_split(X, y, test_size=0.2, random_state=456789)\n",
        "\n",
        "knn = make_pipeline(StandardScaler(), KNeighborsClassifier(n_neighbors=3, metric='euclidean'))\n",
        "knn.fit(X_train, y_train)\n",
        "\n",
        "y_pred = knn.predict(X_test)\n",
        "\n",
        "print(\"Accuracy: \", np.sum(y_pred == y_test)/ len(y_pred))"
      ]
    },
    {
      "cell_type": "markdown",
      "source": [
        "### Exercise - Validation\n",
        "\n",
        "Now we will try to find optimal k and metric to use with out data. First we will again split the training set to a proper training set and a validation set. We will then try various values of k and various metrics fitted on the training data. We will then calculate the accuracy on the validation set. The combination that acieved the best results on the validation set can then be used. Finally, we will evaluate the values on test set.\n",
        "\n",
        "You should try various values of k (`n_neighbors`) and also various metrics. You can find the information on metrics in [this part of the documentation](https://scikit-learn.org/stable/modules/generated/sklearn.metrics.DistanceMetric.html#sklearn.metrics.DistanceMetric). Alternatively, you can just get a list of usable metrics by calling `sorted(sklearn.neighbors.VALID_METRICS['brute'])`\n",
        "\n",
        "*Note:* Some metrics also have additional keywords. You can check them out in the docimentation, but you can also \n",
        "\n"
      ],
      "metadata": {
        "id": "tB-jpI2_uwlB"
      }
    },
    {
      "cell_type": "code",
      "source": [
        "# you can try this on various datsets\n",
        "data = datasets.load_breast_cancer()\n",
        "# data = datasets.load_iris()\n",
        "# data = datasets.load_wine()\n",
        "\n",
        "X = data.data\n",
        "y = data.target\n",
        "\n",
        "# you can see how the results may change a bit if we change the random state\n",
        "X_train_all, X_test, y_train_all, y_test = train_test_split(X, y, test_size=0.2, random_state=0)\n",
        "X_train, X_val, y_train, y_val = train_test_split(X_train_all, y_train_all, test_size=0.2, random_state=11)\n",
        "\n",
        "# implement this"
      ],
      "metadata": {
        "colab": {
          "base_uri": "https://localhost:8080/"
        },
        "id": "hCZuwOtk7TkD",
        "outputId": "31b6e328-33f6-49a5-a700-34bb993baa92"
      },
      "execution_count": null,
      "outputs": [
        {
          "output_type": "stream",
          "name": "stdout",
          "text": [
            "Accuracy for k = 1 and chebyshev metric: 1.0\n",
            "Accuracy for k = 3 and chebyshev metric: 1.0\n",
            "Accuracy for k = 5 and chebyshev metric: 0.9166666666666666\n",
            "Accuracy for k = 7 and chebyshev metric: 0.9583333333333334\n",
            "Accuracy for k = 9 and chebyshev metric: 0.9583333333333334\n",
            "Accuracy for k = 11 and chebyshev metric: 1.0\n",
            "Accuracy for k = 15 and chebyshev metric: 0.9166666666666666\n",
            "Accuracy for k = 19 and chebyshev metric: 0.9166666666666666\n",
            "Accuracy for k = 23 and chebyshev metric: 0.9166666666666666\n",
            "Accuracy for k = 29 and chebyshev metric: 0.9166666666666666\n",
            "Accuracy for k = 1 and euclidean metric: 1.0\n",
            "Accuracy for k = 3 and euclidean metric: 1.0\n",
            "Accuracy for k = 5 and euclidean metric: 1.0\n",
            "Accuracy for k = 7 and euclidean metric: 0.9583333333333334\n",
            "Accuracy for k = 9 and euclidean metric: 0.9583333333333334\n",
            "Accuracy for k = 11 and euclidean metric: 1.0\n",
            "Accuracy for k = 15 and euclidean metric: 1.0\n",
            "Accuracy for k = 19 and euclidean metric: 1.0\n",
            "Accuracy for k = 23 and euclidean metric: 0.9583333333333334\n",
            "Accuracy for k = 29 and euclidean metric: 0.9583333333333334\n",
            "Accuracy for k = 1 and manhattan metric: 1.0\n",
            "Accuracy for k = 3 and manhattan metric: 1.0\n",
            "Accuracy for k = 5 and manhattan metric: 1.0\n",
            "Accuracy for k = 7 and manhattan metric: 0.9583333333333334\n",
            "Accuracy for k = 9 and manhattan metric: 0.9583333333333334\n",
            "Accuracy for k = 11 and manhattan metric: 0.9583333333333334\n",
            "Accuracy for k = 15 and manhattan metric: 1.0\n",
            "Accuracy for k = 19 and manhattan metric: 1.0\n",
            "Accuracy for k = 23 and manhattan metric: 1.0\n",
            "Accuracy for k = 29 and manhattan metric: 1.0\n",
            "Best hyperparams: k = 1 with chebyshev metric\n",
            "Accuracy on test data:  0.9666666666666667\n"
          ]
        }
      ]
    },
    {
      "cell_type": "markdown",
      "source": [
        "### Exercise K-fold cross validation\n",
        "\n",
        "Especially with smaller datsets we may not have enough data to perform validation reliably. In that case "
      ],
      "metadata": {
        "id": "N3mDwG-gHRfR"
      }
    },
    {
      "cell_type": "code",
      "source": [
        "from sklearn.model_selection import KFold\n",
        "\n",
        "data = datasets.load_breast_cancer()\n",
        "# data = datasets.load_iris()\n",
        "# data = datasets.load_wine()\n",
        "\n",
        "X = data.data\n",
        "y = data.target\n",
        "\n",
        "# you can see how the results may change a bit if we change the random state\n",
        "X_train_all, X_test, y_train_all, y_test = train_test_split(X, y, test_size=0.2, random_state=10)\n",
        "\n",
        "\n",
        "# implement this"
      ],
      "metadata": {
        "colab": {
          "base_uri": "https://localhost:8080/"
        },
        "id": "AnQqNqyWBoIf",
        "outputId": "069d4e23-8ffa-4eb5-cdc9-1ef8840dda6b"
      },
      "execution_count": null,
      "outputs": [
        {
          "output_type": "stream",
          "name": "stdout",
          "text": [
            "Accuracy for k = 1 and chebyshev metric: 0.8333333333333334 for fold 0\n",
            "Accuracy for k = 1 and chebyshev metric: 0.875 for fold 1\n",
            "Accuracy for k = 1 and chebyshev metric: 0.9583333333333334 for fold 2\n",
            "Accuracy for k = 1 and chebyshev metric: 0.9583333333333334 for fold 3\n",
            "Accuracy for k = 1 and chebyshev metric: 0.9583333333333334 for fold 4\n",
            "Accuracy for k = 1 and chebyshev metric: 0.9166666666666667 for all folds\n",
            "Accuracy for k = 3 and chebyshev metric: 0.875 for fold 0\n",
            "Accuracy for k = 3 and chebyshev metric: 0.875 for fold 1\n",
            "Accuracy for k = 3 and chebyshev metric: 0.9583333333333334 for fold 2\n",
            "Accuracy for k = 3 and chebyshev metric: 0.9583333333333334 for fold 3\n",
            "Accuracy for k = 3 and chebyshev metric: 1.0 for fold 4\n",
            "Accuracy for k = 3 and chebyshev metric: 0.9333333333333333 for all folds\n",
            "Accuracy for k = 5 and chebyshev metric: 0.875 for fold 0\n",
            "Accuracy for k = 5 and chebyshev metric: 0.875 for fold 1\n",
            "Accuracy for k = 5 and chebyshev metric: 0.9583333333333334 for fold 2\n",
            "Accuracy for k = 5 and chebyshev metric: 0.9583333333333334 for fold 3\n",
            "Accuracy for k = 5 and chebyshev metric: 0.9583333333333334 for fold 4\n",
            "Accuracy for k = 5 and chebyshev metric: 0.925 for all folds\n",
            "Accuracy for k = 7 and chebyshev metric: 0.9166666666666666 for fold 0\n",
            "Accuracy for k = 7 and chebyshev metric: 0.875 for fold 1\n",
            "Accuracy for k = 7 and chebyshev metric: 0.9583333333333334 for fold 2\n",
            "Accuracy for k = 7 and chebyshev metric: 0.9583333333333334 for fold 3\n",
            "Accuracy for k = 7 and chebyshev metric: 1.0 for fold 4\n",
            "Accuracy for k = 7 and chebyshev metric: 0.9416666666666668 for all folds\n",
            "Accuracy for k = 9 and chebyshev metric: 0.875 for fold 0\n",
            "Accuracy for k = 9 and chebyshev metric: 0.875 for fold 1\n",
            "Accuracy for k = 9 and chebyshev metric: 0.9166666666666666 for fold 2\n",
            "Accuracy for k = 9 and chebyshev metric: 0.9583333333333334 for fold 3\n",
            "Accuracy for k = 9 and chebyshev metric: 1.0 for fold 4\n",
            "Accuracy for k = 9 and chebyshev metric: 0.925 for all folds\n",
            "Accuracy for k = 11 and chebyshev metric: 0.875 for fold 0\n",
            "Accuracy for k = 11 and chebyshev metric: 0.875 for fold 1\n",
            "Accuracy for k = 11 and chebyshev metric: 0.9166666666666666 for fold 2\n",
            "Accuracy for k = 11 and chebyshev metric: 0.9583333333333334 for fold 3\n",
            "Accuracy for k = 11 and chebyshev metric: 1.0 for fold 4\n",
            "Accuracy for k = 11 and chebyshev metric: 0.925 for all folds\n",
            "Accuracy for k = 15 and chebyshev metric: 0.875 for fold 0\n",
            "Accuracy for k = 15 and chebyshev metric: 0.875 for fold 1\n",
            "Accuracy for k = 15 and chebyshev metric: 0.8333333333333334 for fold 2\n",
            "Accuracy for k = 15 and chebyshev metric: 0.9583333333333334 for fold 3\n",
            "Accuracy for k = 15 and chebyshev metric: 0.9583333333333334 for fold 4\n",
            "Accuracy for k = 15 and chebyshev metric: 0.9 for all folds\n",
            "Accuracy for k = 19 and chebyshev metric: 0.7916666666666666 for fold 0\n",
            "Accuracy for k = 19 and chebyshev metric: 0.9166666666666666 for fold 1\n",
            "Accuracy for k = 19 and chebyshev metric: 0.7916666666666666 for fold 2\n",
            "Accuracy for k = 19 and chebyshev metric: 0.9583333333333334 for fold 3\n",
            "Accuracy for k = 19 and chebyshev metric: 0.8333333333333334 for fold 4\n",
            "Accuracy for k = 19 and chebyshev metric: 0.8583333333333334 for all folds\n",
            "Accuracy for k = 23 and chebyshev metric: 0.7916666666666666 for fold 0\n",
            "Accuracy for k = 23 and chebyshev metric: 0.875 for fold 1\n",
            "Accuracy for k = 23 and chebyshev metric: 0.8333333333333334 for fold 2\n",
            "Accuracy for k = 23 and chebyshev metric: 0.9166666666666666 for fold 3\n",
            "Accuracy for k = 23 and chebyshev metric: 0.9166666666666666 for fold 4\n",
            "Accuracy for k = 23 and chebyshev metric: 0.8666666666666666 for all folds\n",
            "Accuracy for k = 29 and chebyshev metric: 0.7083333333333334 for fold 0\n",
            "Accuracy for k = 29 and chebyshev metric: 0.875 for fold 1\n",
            "Accuracy for k = 29 and chebyshev metric: 0.8333333333333334 for fold 2\n",
            "Accuracy for k = 29 and chebyshev metric: 0.8333333333333334 for fold 3\n",
            "Accuracy for k = 29 and chebyshev metric: 0.875 for fold 4\n",
            "Accuracy for k = 29 and chebyshev metric: 0.825 for all folds\n",
            "Accuracy for k = 1 and euclidean metric: 0.9166666666666666 for fold 0\n",
            "Accuracy for k = 1 and euclidean metric: 0.875 for fold 1\n",
            "Accuracy for k = 1 and euclidean metric: 0.9583333333333334 for fold 2\n",
            "Accuracy for k = 1 and euclidean metric: 0.9583333333333334 for fold 3\n",
            "Accuracy for k = 1 and euclidean metric: 0.875 for fold 4\n",
            "Accuracy for k = 1 and euclidean metric: 0.9166666666666667 for all folds\n",
            "Accuracy for k = 3 and euclidean metric: 0.875 for fold 0\n",
            "Accuracy for k = 3 and euclidean metric: 0.875 for fold 1\n",
            "Accuracy for k = 3 and euclidean metric: 1.0 for fold 2\n",
            "Accuracy for k = 3 and euclidean metric: 0.9166666666666666 for fold 3\n",
            "Accuracy for k = 3 and euclidean metric: 1.0 for fold 4\n",
            "Accuracy for k = 3 and euclidean metric: 0.9333333333333332 for all folds\n",
            "Accuracy for k = 5 and euclidean metric: 0.9166666666666666 for fold 0\n",
            "Accuracy for k = 5 and euclidean metric: 0.875 for fold 1\n",
            "Accuracy for k = 5 and euclidean metric: 1.0 for fold 2\n",
            "Accuracy for k = 5 and euclidean metric: 0.9583333333333334 for fold 3\n",
            "Accuracy for k = 5 and euclidean metric: 1.0 for fold 4\n",
            "Accuracy for k = 5 and euclidean metric: 0.95 for all folds\n",
            "Accuracy for k = 7 and euclidean metric: 0.9166666666666666 for fold 0\n",
            "Accuracy for k = 7 and euclidean metric: 0.875 for fold 1\n",
            "Accuracy for k = 7 and euclidean metric: 0.9583333333333334 for fold 2\n",
            "Accuracy for k = 7 and euclidean metric: 0.9583333333333334 for fold 3\n",
            "Accuracy for k = 7 and euclidean metric: 1.0 for fold 4\n",
            "Accuracy for k = 7 and euclidean metric: 0.9416666666666668 for all folds\n",
            "Accuracy for k = 9 and euclidean metric: 0.9583333333333334 for fold 0\n",
            "Accuracy for k = 9 and euclidean metric: 0.875 for fold 1\n",
            "Accuracy for k = 9 and euclidean metric: 0.9583333333333334 for fold 2\n",
            "Accuracy for k = 9 and euclidean metric: 0.9583333333333334 for fold 3\n",
            "Accuracy for k = 9 and euclidean metric: 1.0 for fold 4\n",
            "Accuracy for k = 9 and euclidean metric: 0.95 for all folds\n",
            "Accuracy for k = 11 and euclidean metric: 0.9166666666666666 for fold 0\n",
            "Accuracy for k = 11 and euclidean metric: 0.875 for fold 1\n",
            "Accuracy for k = 11 and euclidean metric: 0.9583333333333334 for fold 2\n",
            "Accuracy for k = 11 and euclidean metric: 0.9583333333333334 for fold 3\n",
            "Accuracy for k = 11 and euclidean metric: 0.9583333333333334 for fold 4\n",
            "Accuracy for k = 11 and euclidean metric: 0.9333333333333333 for all folds\n",
            "Accuracy for k = 15 and euclidean metric: 0.9166666666666666 for fold 0\n",
            "Accuracy for k = 15 and euclidean metric: 0.875 for fold 1\n",
            "Accuracy for k = 15 and euclidean metric: 0.9583333333333334 for fold 2\n",
            "Accuracy for k = 15 and euclidean metric: 0.9583333333333334 for fold 3\n",
            "Accuracy for k = 15 and euclidean metric: 0.9583333333333334 for fold 4\n",
            "Accuracy for k = 15 and euclidean metric: 0.9333333333333333 for all folds\n",
            "Accuracy for k = 19 and euclidean metric: 0.875 for fold 0\n",
            "Accuracy for k = 19 and euclidean metric: 0.9166666666666666 for fold 1\n",
            "Accuracy for k = 19 and euclidean metric: 0.875 for fold 2\n",
            "Accuracy for k = 19 and euclidean metric: 0.9583333333333334 for fold 3\n",
            "Accuracy for k = 19 and euclidean metric: 0.9583333333333334 for fold 4\n",
            "Accuracy for k = 19 and euclidean metric: 0.9166666666666666 for all folds\n",
            "Accuracy for k = 23 and euclidean metric: 0.875 for fold 0\n",
            "Accuracy for k = 23 and euclidean metric: 0.875 for fold 1\n",
            "Accuracy for k = 23 and euclidean metric: 0.7916666666666666 for fold 2\n",
            "Accuracy for k = 23 and euclidean metric: 0.9166666666666666 for fold 3\n",
            "Accuracy for k = 23 and euclidean metric: 0.9583333333333334 for fold 4\n",
            "Accuracy for k = 23 and euclidean metric: 0.8833333333333332 for all folds\n",
            "Accuracy for k = 29 and euclidean metric: 0.9166666666666666 for fold 0\n",
            "Accuracy for k = 29 and euclidean metric: 0.9166666666666666 for fold 1\n",
            "Accuracy for k = 29 and euclidean metric: 0.7916666666666666 for fold 2\n",
            "Accuracy for k = 29 and euclidean metric: 0.8333333333333334 for fold 3\n",
            "Accuracy for k = 29 and euclidean metric: 0.9166666666666666 for fold 4\n",
            "Accuracy for k = 29 and euclidean metric: 0.875 for all folds\n",
            "Accuracy for k = 1 and manhattan metric: 0.9166666666666666 for fold 0\n",
            "Accuracy for k = 1 and manhattan metric: 0.875 for fold 1\n",
            "Accuracy for k = 1 and manhattan metric: 0.9166666666666666 for fold 2\n",
            "Accuracy for k = 1 and manhattan metric: 0.9583333333333334 for fold 3\n",
            "Accuracy for k = 1 and manhattan metric: 0.9166666666666666 for fold 4\n",
            "Accuracy for k = 1 and manhattan metric: 0.9166666666666666 for all folds\n",
            "Accuracy for k = 3 and manhattan metric: 0.9166666666666666 for fold 0\n",
            "Accuracy for k = 3 and manhattan metric: 0.875 for fold 1\n",
            "Accuracy for k = 3 and manhattan metric: 0.9583333333333334 for fold 2\n",
            "Accuracy for k = 3 and manhattan metric: 0.9166666666666666 for fold 3\n",
            "Accuracy for k = 3 and manhattan metric: 0.9583333333333334 for fold 4\n",
            "Accuracy for k = 3 and manhattan metric: 0.925 for all folds\n",
            "Accuracy for k = 5 and manhattan metric: 0.875 for fold 0\n",
            "Accuracy for k = 5 and manhattan metric: 0.875 for fold 1\n",
            "Accuracy for k = 5 and manhattan metric: 0.9583333333333334 for fold 2\n",
            "Accuracy for k = 5 and manhattan metric: 0.9166666666666666 for fold 3\n",
            "Accuracy for k = 5 and manhattan metric: 1.0 for fold 4\n",
            "Accuracy for k = 5 and manhattan metric: 0.925 for all folds\n",
            "Accuracy for k = 7 and manhattan metric: 0.875 for fold 0\n",
            "Accuracy for k = 7 and manhattan metric: 0.875 for fold 1\n",
            "Accuracy for k = 7 and manhattan metric: 1.0 for fold 2\n",
            "Accuracy for k = 7 and manhattan metric: 0.9583333333333334 for fold 3\n",
            "Accuracy for k = 7 and manhattan metric: 1.0 for fold 4\n",
            "Accuracy for k = 7 and manhattan metric: 0.9416666666666668 for all folds\n",
            "Accuracy for k = 9 and manhattan metric: 0.9583333333333334 for fold 0\n",
            "Accuracy for k = 9 and manhattan metric: 0.875 for fold 1\n",
            "Accuracy for k = 9 and manhattan metric: 0.9583333333333334 for fold 2\n",
            "Accuracy for k = 9 and manhattan metric: 1.0 for fold 3\n",
            "Accuracy for k = 9 and manhattan metric: 0.9583333333333334 for fold 4\n",
            "Accuracy for k = 9 and manhattan metric: 0.95 for all folds\n",
            "Accuracy for k = 11 and manhattan metric: 0.9583333333333334 for fold 0\n",
            "Accuracy for k = 11 and manhattan metric: 0.875 for fold 1\n",
            "Accuracy for k = 11 and manhattan metric: 0.9583333333333334 for fold 2\n",
            "Accuracy for k = 11 and manhattan metric: 1.0 for fold 3\n",
            "Accuracy for k = 11 and manhattan metric: 0.9583333333333334 for fold 4\n",
            "Accuracy for k = 11 and manhattan metric: 0.95 for all folds\n",
            "Accuracy for k = 15 and manhattan metric: 0.9166666666666666 for fold 0\n",
            "Accuracy for k = 15 and manhattan metric: 0.875 for fold 1\n",
            "Accuracy for k = 15 and manhattan metric: 0.9166666666666666 for fold 2\n",
            "Accuracy for k = 15 and manhattan metric: 0.9583333333333334 for fold 3\n",
            "Accuracy for k = 15 and manhattan metric: 0.9583333333333334 for fold 4\n",
            "Accuracy for k = 15 and manhattan metric: 0.925 for all folds\n",
            "Accuracy for k = 19 and manhattan metric: 0.875 for fold 0\n",
            "Accuracy for k = 19 and manhattan metric: 0.875 for fold 1\n",
            "Accuracy for k = 19 and manhattan metric: 0.9583333333333334 for fold 2\n",
            "Accuracy for k = 19 and manhattan metric: 0.9166666666666666 for fold 3\n",
            "Accuracy for k = 19 and manhattan metric: 0.9583333333333334 for fold 4\n",
            "Accuracy for k = 19 and manhattan metric: 0.9166666666666666 for all folds\n",
            "Accuracy for k = 23 and manhattan metric: 0.8333333333333334 for fold 0\n",
            "Accuracy for k = 23 and manhattan metric: 0.875 for fold 1\n",
            "Accuracy for k = 23 and manhattan metric: 0.9583333333333334 for fold 2\n",
            "Accuracy for k = 23 and manhattan metric: 0.875 for fold 3\n",
            "Accuracy for k = 23 and manhattan metric: 0.9583333333333334 for fold 4\n",
            "Accuracy for k = 23 and manhattan metric: 0.9 for all folds\n",
            "Accuracy for k = 29 and manhattan metric: 0.8333333333333334 for fold 0\n",
            "Accuracy for k = 29 and manhattan metric: 0.9166666666666666 for fold 1\n",
            "Accuracy for k = 29 and manhattan metric: 0.8333333333333334 for fold 2\n",
            "Accuracy for k = 29 and manhattan metric: 0.8333333333333334 for fold 3\n",
            "Accuracy for k = 29 and manhattan metric: 0.9583333333333334 for fold 4\n",
            "Accuracy for k = 29 and manhattan metric: 0.875 for all folds\n",
            "Best hyperparams: k = 11 with euclidean metric\n",
            "Accuracy on test data:  0.9333333333333333\n"
          ]
        }
      ]
    },
    {
      "cell_type": "markdown",
      "metadata": {
        "id": "q8ZatBy7BkyL"
      },
      "source": [
        "### Bonus Exercise - Custom kNN\n",
        "\n",
        "We can also implement a custom verion of the kNN classifier. Do this by implementing a function `knn` with arguments `x, k, x_train, y_train`. Where `x` stands for a vector we want to classify, `k` for the number of neighbors, `X_train` is a matrix containing the training data with each row representing one feature vector and `y_train` containing the training labels. You can use the Euclidean metric. You can also add a keyword pair argument to the signature which would enable the use of different metrics in this function.\n",
        "\n",
        "Try to avoid for loops and use broadcasting.\n",
        "\n",
        "The function `numpy.unique(y, return_counts=True)` might be useful look it up in the documentation.\n",
        "\n",
        "*Note:* In oder to get the k neighbors you will need to perform some sort of sorting. Standard sorts usually have $n \\text{log}(n)$ time complexity, but we can use argpartition from NumPy (`np.argpartition`) instead. This partitions the array so that the first k elements are actually the k elements with lowest values."
      ]
    },
    {
      "cell_type": "code",
      "metadata": {
        "id": "cAtP1kt0KhDc"
      },
      "source": [
        "def knn(x, k, x_train, y_train):\n",
        "  ..."
      ],
      "execution_count": null,
      "outputs": []
    },
    {
      "cell_type": "markdown",
      "source": [
        "We should be able to test your implementation"
      ],
      "metadata": {
        "id": "RDU0gA_MrVPy"
      }
    },
    {
      "cell_type": "code",
      "source": [
        "data = datasets.load_breast_cancer()\n",
        "# data = datasets.load_iris()\n",
        "# data = datasets.load_wine()\n",
        "\n",
        "X = data.data\n",
        "y = data.target\n",
        "\n",
        "# you can see how the results may change a bit if we change the random state\n",
        "X_train, X_test, y_train, y_test = train_test_split(X, y, test_size=0.2, random_state=0)\n",
        "\n",
        "y_pred = np.array([knn(x, 5, X_train, y_train) for x in X_test])\n",
        "\n",
        "print(\"Accuracy: \", np.sum(y_pred == y_test)/len(y_pred))\n"
      ],
      "metadata": {
        "colab": {
          "base_uri": "https://localhost:8080/"
        },
        "id": "i8vuMGADrUCE",
        "outputId": "b247aa48-84b8-4b2e-b25c-028fc66d55c9"
      },
      "execution_count": null,
      "outputs": [
        {
          "output_type": "stream",
          "name": "stdout",
          "text": [
            "Accuracy:  0.9385964912280702\n"
          ]
        }
      ]
    },
    {
      "cell_type": "markdown",
      "source": [
        "## Evaluation\n",
        "\n",
        "Now we will dicuss some means of evaluation of the trained classifiers.\n",
        "\n",
        "There are [many ways](https://scikit-learn.org/stable/modules/model_evaluation.html) of evaluating our models. We will only cover some of them now.\n",
        "\n",
        "We will return to the base linear classifier and perform some evaluations. In order to do thes we will work with the breast cancer dataset, but we will only use the first four columns so the results are not so good."
      ],
      "metadata": {
        "id": "3hC11veKrSvc"
      }
    },
    {
      "cell_type": "code",
      "source": [
        "from sklearn.linear_model import LogisticRegression\n",
        "data = datasets.load_breast_cancer()\n",
        "X = data.data[:, :4]\n",
        "y = data.target\n",
        "\n",
        "X_train, X_test, y_train, y_test = train_test_split(X, y, test_size=0.2, random_state=456789)\n",
        "\n",
        "linear = make_pipeline(StandardScaler(), LogisticRegression())\n",
        "linear.fit(X_train, y_train)\n",
        "\n",
        "y_pred = linear.predict(X_test)\n",
        "\n",
        "\n",
        "from sklearn.metrics import accuracy_score, f1_score, classification_report\n",
        "print(\"Accuracy: \", accuracy_score(y_test, y_pred))\n",
        "print(\"F1 score: \", f1_score(y_test, y_pred))\n",
        "print(\"Report: \")\n",
        "print(classification_report(y_test, y_pred))"
      ],
      "metadata": {
        "colab": {
          "base_uri": "https://localhost:8080/"
        },
        "id": "WvEZA83myJNF",
        "outputId": "9c6f1866-cf63-45f5-dfdc-67b9e0316cda"
      },
      "execution_count": null,
      "outputs": [
        {
          "output_type": "stream",
          "name": "stdout",
          "text": [
            "Accuracy:  0.8947368421052632\n",
            "F1 score:  0.918918918918919\n",
            "Report: \n",
            "              precision    recall  f1-score   support\n",
            "\n",
            "           0       0.97      0.76      0.85        45\n",
            "           1       0.86      0.99      0.92        69\n",
            "\n",
            "    accuracy                           0.89       114\n",
            "   macro avg       0.92      0.87      0.88       114\n",
            "weighted avg       0.90      0.89      0.89       114\n",
            "\n"
          ]
        }
      ]
    },
    {
      "cell_type": "markdown",
      "source": [
        "For some types of evaluations we need to get scores not just the prediction. This is not possible with all types of classifiers."
      ],
      "metadata": {
        "id": "QvkXx5bG0hSZ"
      }
    },
    {
      "cell_type": "code",
      "source": [
        "from sklearn.metrics import roc_auc_score\n",
        "\n",
        "y_proba = linear.predict_proba(X_test)[:, 1]\n",
        "\n",
        "print(\"ROC AUC score: \", roc_auc_score(y_test, y_proba))"
      ],
      "metadata": {
        "colab": {
          "base_uri": "https://localhost:8080/"
        },
        "id": "1Nf8NW8o0g1r",
        "outputId": "6403bfc5-d521-46ac-9cfe-7be4803198d3"
      },
      "execution_count": null,
      "outputs": [
        {
          "output_type": "stream",
          "name": "stdout",
          "text": [
            "ROC AUC score:  0.9655394524959743\n"
          ]
        }
      ]
    },
    {
      "cell_type": "markdown",
      "source": [
        "### Exercise - ROC and Precision Recall curve\n",
        "\n",
        "Now try to plot the precision recall or the ROC curve. You can either use `sklearn.metrics.precision_recall_curve`, `sklearn.metrics.roc_curve` and plot them yourself. Or use the `sklearn.metrics.PrecisionRecallDisplay` or use `sklearn.metrics.ROCDisplay`"
      ],
      "metadata": {
        "id": "P8aDNEbB1-0E"
      }
    },
    {
      "cell_type": "code",
      "source": [
        "..."
      ],
      "metadata": {
        "colab": {
          "base_uri": "https://localhost:8080/",
          "height": 573
        },
        "id": "V6Fajhbb1-Px",
        "outputId": "f67142b8-859b-436b-af9e-deed3041c41c"
      },
      "execution_count": null,
      "outputs": [
        {
          "output_type": "display_data",
          "data": {
            "text/plain": [
              "<Figure size 432x288 with 1 Axes>"
            ],
            "image/png": "[encoded data removed]"
          },
          "metadata": {
            "needs_background": "light"
          }
        },
        {
          "output_type": "display_data",
          "data": {
            "text/plain": [
              "<Figure size 432x288 with 1 Axes>"
            ],
            "image/png": "[encoded data removed]"
          },
          "metadata": {
            "needs_background": "light"
          }
        }
      ]
    },
    {
      "cell_type": "markdown",
      "source": [
        "## Multiple classes\n",
        "\n",
        "With multiple classes we sometimes have to specify how they are calculated as for example with the F1 score. We can use different ways of averaging the score. \n",
        "\n",
        "From documentation:\n",
        "`micro`: Calculate metrics globally by counting the total true positives, false negatives and false positives.\n",
        "\n",
        "`macro`: Calculate metrics for each label, and find their unweighted mean. This does not take label imbalance into account.\n",
        "\n",
        "`weighted`: Calculate metrics for each label, and find their average weighted by support (the number of true instances for each label). This alters ‘macro’ to account for label imbalance; it can result in an F-score that is not between precision and recall."
      ],
      "metadata": {
        "id": "tMw954894Kcu"
      }
    },
    {
      "cell_type": "code",
      "source": [
        "from sklearn.linear_model import LogisticRegression\n",
        "data = datasets.load_iris()\n",
        "X = data.data[:, :2]\n",
        "y = data.target\n",
        "\n",
        "X_train, X_test, y_train, y_test = train_test_split(X, y, test_size=0.2, random_state=456789)\n",
        "\n",
        "linear = make_pipeline(StandardScaler(), LogisticRegression())\n",
        "linear.fit(X_train, y_train)\n",
        "\n",
        "y_pred = linear.predict(X_test)\n",
        "\n",
        "\n",
        "from sklearn.metrics import accuracy_score, f1_score, classification_report\n",
        "print(\"Accuracy: \", accuracy_score(y_test, y_pred))\n",
        "print(\"F1 score weighted: \", f1_score(y_test, y_pred, average='weighted'))\n",
        "print(\"F1 score micro: \", f1_score(y_test, y_pred, average='micro'))\n",
        "print(\"F1 score macro: \", f1_score(y_test, y_pred, average='macro'))\n",
        "print(\"Report: \")\n",
        "print(classification_report(y_test, y_pred))"
      ],
      "metadata": {
        "colab": {
          "base_uri": "https://localhost:8080/"
        },
        "id": "de3xbYPC4Y1B",
        "outputId": "2b0a1fbe-066b-4de2-f2ff-a1669735065a"
      },
      "execution_count": null,
      "outputs": [
        {
          "output_type": "stream",
          "name": "stdout",
          "text": [
            "Accuracy:  0.8\n",
            "F1 score weighted:  0.8\n",
            "F1 score micro:  0.8000000000000002\n",
            "F1 score macro:  0.8461538461538461\n",
            "Report: \n",
            "              precision    recall  f1-score   support\n",
            "\n",
            "           0       1.00      1.00      1.00         4\n",
            "           1       0.77      0.77      0.77        13\n",
            "           2       0.77      0.77      0.77        13\n",
            "\n",
            "    accuracy                           0.80        30\n",
            "   macro avg       0.85      0.85      0.85        30\n",
            "weighted avg       0.80      0.80      0.80        30\n",
            "\n"
          ]
        }
      ]
    },
    {
      "cell_type": "markdown",
      "source": [
        "### Exercise - Confusion Matrix\n",
        "\n",
        "From the results it is possible to calculate the confusion matrix. We can use `sklearn.metrics.confusion_matrix`. Or if we also want to diplay it we can use `sklearn.metrics.ConfusionMatrixDisplay`. Try to use these to show the confusion matrix."
      ],
      "metadata": {
        "id": "v8x-n-Hn5lIN"
      }
    },
    {
      "cell_type": "code",
      "source": [
        "..."
      ],
      "metadata": {
        "colab": {
          "base_uri": "https://localhost:8080/",
          "height": 283
        },
        "id": "TeO2BvJf6FQC",
        "outputId": "1983cfa5-7ca9-4678-96c9-f5d46b09da83"
      },
      "execution_count": null,
      "outputs": [
        {
          "output_type": "display_data",
          "data": {
            "text/plain": [
              "<Figure size 432x288 with 2 Axes>"
            ],
            "image/png": "[encoded data removed]"
          },
          "metadata": {
            "needs_background": "light"
          }
        }
      ]
    }
  ]
}